{
 "cells": [
  {
   "cell_type": "code",
   "execution_count": 18,
   "metadata": {},
   "outputs": [],
   "source": [
    "from pynq import Overlay\n",
    "ol = Overlay('matrix.bit')"
   ]
  },
  {
   "cell_type": "code",
   "execution_count": 19,
   "metadata": {},
   "outputs": [],
   "source": [
    "dma = ol.axi_dma_0"
   ]
  },
  {
   "cell_type": "code",
   "execution_count": 20,
   "metadata": {},
   "outputs": [],
   "source": [
    "data_send = dma.sendchannel\n",
    "data_recv = dma.recvchannel"
   ]
  },
  {
   "cell_type": "code",
   "execution_count": 21,
   "metadata": {},
   "outputs": [],
   "source": [
    "import numpy as np\n",
    "import random "
   ]
  },
  {
   "cell_type": "code",
   "execution_count": 22,
   "metadata": {},
   "outputs": [],
   "source": [
    "np.random.seed(2)\n",
    "data_A = np.random.uniform(low=0, high=10, size=(100, 100)).astype(float)\n",
    "data_B = np.random.uniform(low=0, high=10, size=(100, 100)).astype(float)"
   ]
  },
  {
   "cell_type": "code",
   "execution_count": 23,
   "metadata": {},
   "outputs": [
    {
     "data": {
      "text/plain": [
       "(array([[4.35994902, 0.25926232, 5.49662478, ..., 6.61481327, 1.70477133,\n",
       "         8.81652236],\n",
       "        [7.7800816 , 1.33954208, 8.68916626, ..., 5.7027421 , 9.16714612,\n",
       "         7.02264241],\n",
       "        [5.01216452, 5.06086834, 2.18820786, ..., 4.3666988 , 0.15056134,\n",
       "         8.92905883],\n",
       "        ...,\n",
       "        [8.47501085, 1.31358627, 7.48304695, ..., 6.13864418, 3.01381357,\n",
       "         8.35725715],\n",
       "        [5.90558724, 2.81559236, 4.71002749, ..., 6.55505965, 2.18741538,\n",
       "         8.92183124],\n",
       "        [7.20691133, 8.85091351, 7.88750645, ..., 7.34176132, 7.73163186,\n",
       "         1.73273328]]),\n",
       " array([[0.45209358, 2.60834748, 8.56704315, ..., 2.37114778, 9.92721777,\n",
       "         8.10776828],\n",
       "        [1.94367587, 8.3472529 , 1.51141799, ..., 9.86539894, 2.7422922 ,\n",
       "         3.71473337],\n",
       "        [3.30308581, 3.61424772, 1.11340129, ..., 9.76225661, 8.75260893,\n",
       "         8.83062626],\n",
       "        ...,\n",
       "        [4.59408327, 3.78022009, 2.15007284, ..., 5.41924595, 8.7485823 ,\n",
       "         9.21298658],\n",
       "        [1.15957171, 1.2703291 , 3.81098302, ..., 4.96930051, 3.38287824,\n",
       "         6.98791335],\n",
       "        [8.92869972, 5.85914667, 3.55248482, ..., 0.08168716, 8.70860167,\n",
       "         0.38990867]]))"
      ]
     },
     "execution_count": 23,
     "metadata": {},
     "output_type": "execute_result"
    }
   ],
   "source": [
    "data_A, data_B"
   ]
  },
  {
   "cell_type": "code",
   "execution_count": 24,
   "metadata": {},
   "outputs": [],
   "source": [
    "def multiply(matrix_a, matrix_b):\n",
    "    result_matrix = np.zeros((100,100))\n",
    "    for i in range(100):\n",
    "        for j in range(100):\n",
    "            for k in range(100):\n",
    "                result_matrix[i][j] += matrix_a[i][k] * matrix_b[k][j]\n",
    "                \n",
    "    return result_matrix"
   ]
  },
  {
   "cell_type": "code",
   "execution_count": 25,
   "metadata": {},
   "outputs": [
    {
     "name": "stdout",
     "output_type": "stream",
     "text": [
      "19.89862895011902\n"
     ]
    }
   ],
   "source": [
    "import time\n",
    "start_time = time.time()\n",
    "multiply(data_A, data_B) #software\n",
    "end_time = time.time()\n",
    "print(end_time - start_time)"
   ]
  },
  {
   "cell_type": "code",
   "execution_count": 26,
   "metadata": {},
   "outputs": [],
   "source": [
    "from pynq import allocate"
   ]
  },
  {
   "cell_type": "code",
   "execution_count": 27,
   "metadata": {},
   "outputs": [],
   "source": [
    "data_a_f = data_A.flatten()\n",
    "data_b_f = data_B.flatten()\n",
    "\n",
    "data_input = np.concatenate([data_a_f, data_b_f])"
   ]
  },
  {
   "cell_type": "code",
   "execution_count": 28,
   "metadata": {},
   "outputs": [
    {
     "data": {
      "text/plain": [
       "array([4.35994902, 0.25926232, 5.49662478, ..., 0.08168716, 8.70860167,\n",
       "       0.38990867])"
      ]
     },
     "execution_count": 28,
     "metadata": {},
     "output_type": "execute_result"
    }
   ],
   "source": [
    "data_input"
   ]
  },
  {
   "cell_type": "code",
   "execution_count": 29,
   "metadata": {},
   "outputs": [],
   "source": [
    "input_buffer = allocate(20000, np.float32)\n",
    "output_buffer = allocate((100,100), np.float32)"
   ]
  },
  {
   "cell_type": "code",
   "execution_count": 30,
   "metadata": {},
   "outputs": [],
   "source": [
    "np.copyto(input_buffer, data_input)"
   ]
  },
  {
   "cell_type": "code",
   "execution_count": 31,
   "metadata": {},
   "outputs": [
    {
     "name": "stdout",
     "output_type": "stream",
     "text": [
      "0.003995180130004883\n"
     ]
    }
   ],
   "source": [
    "start_time = time.time()\n",
    "data_send.transfer(input_buffer)\n",
    "data_recv.transfer(output_buffer)\n",
    "data_send.wait()\n",
    "data_recv.wait()\n",
    "end_time = time.time()\n",
    "print(end_time - start_time)"
   ]
  },
  {
   "cell_type": "code",
   "execution_count": 32,
   "metadata": {},
   "outputs": [
    {
     "data": {
      "text/plain": [
       "PynqBuffer([[2259.3535, 2410.1992, 2385.4102, ..., 2320.123 , 2582.3887,\n",
       "             2270.7012],\n",
       "            [2405.375 , 2436.127 , 2403.0078, ..., 2403.7441, 2433.9434,\n",
       "             2452.3926],\n",
       "            [2655.0586, 2820.9414, 2809.914 , ..., 2753.498 , 2852.0996,\n",
       "             2560.5645],\n",
       "            ...,\n",
       "            [2328.9238, 2417.623 , 2459.414 , ..., 2453.4453, 2745.0508,\n",
       "             2125.873 ],\n",
       "            [2397.162 , 2525.2227, 2516.1816, ..., 2371.248 , 2661.7344,\n",
       "             2424.3887],\n",
       "            [2578.416 , 2927.5   , 2756.5645, ..., 2537.8926, 2742.3809,\n",
       "             2687.8613]], dtype=float32)"
      ]
     },
     "execution_count": 32,
     "metadata": {},
     "output_type": "execute_result"
    }
   ],
   "source": [
    "output_buffer"
   ]
  },
  {
   "cell_type": "code",
   "execution_count": 33,
   "metadata": {},
   "outputs": [],
   "source": [
    "diff = np.dot(data_A, data_B) - output_buffer"
   ]
  },
  {
   "cell_type": "code",
   "execution_count": 34,
   "metadata": {},
   "outputs": [],
   "source": [
    "#rms error \n",
    "rms_error = np.sqrt(np.mean(diff**2))"
   ]
  },
  {
   "cell_type": "code",
   "execution_count": 35,
   "metadata": {},
   "outputs": [
    {
     "data": {
      "text/plain": [
       "PynqBuffer([[0.93383598, 1.06261225, 1.02964051, ..., 1.01186692,\n",
       "             1.04670748, 1.00848469],\n",
       "            [0.97246493, 1.06856966, 1.03561987, ..., 1.05811233,\n",
       "             1.02598922, 1.04891241],\n",
       "            [1.08255719, 1.20690335, 1.0953939 , ..., 1.07573574,\n",
       "             1.1492385 , 1.13551354],\n",
       "            ...,\n",
       "            [1.03919995, 1.10446107, 1.02353405, ..., 1.07018318,\n",
       "             1.1016384 , 1.06103724],\n",
       "            [1.00137359, 1.04311261, 1.04364932, ..., 1.05399364,\n",
       "             1.07767315, 1.03793857],\n",
       "            [1.00260251, 1.1132308 , 1.05929982, ..., 1.03667905,\n",
       "             1.08202525, 1.04680624]])"
      ]
     },
     "execution_count": 35,
     "metadata": {},
     "output_type": "execute_result"
    }
   ],
   "source": [
    "diff"
   ]
  },
  {
   "cell_type": "code",
   "execution_count": 36,
   "metadata": {},
   "outputs": [
    {
     "data": {
      "text/plain": [
       "PynqBuffer(1.07059775)"
      ]
     },
     "execution_count": 36,
     "metadata": {},
     "output_type": "execute_result"
    }
   ],
   "source": [
    "rms_error"
   ]
  },
  {
   "cell_type": "code",
   "execution_count": 38,
   "metadata": {},
   "outputs": [
    {
     "name": "stdout",
     "output_type": "stream",
     "text": [
      "CPU times: user 0 ns, sys: 8.76 ms, total: 8.76 ms\n",
      "Wall time: 6.19 ms\n"
     ]
    },
    {
     "data": {
      "text/plain": [
       "array([[2260.2873516 , 2411.261831  , 2386.43979676, ..., 2321.13491379,\n",
       "        2583.43537935, 2271.70965656],\n",
       "       [2406.34746493, 2437.19552278, 2404.04343237, ..., 2404.80225296,\n",
       "        2434.96934859, 2453.44149054],\n",
       "       [2656.14115094, 2822.1483096 , 2811.0094564 , ..., 2754.57378261,\n",
       "        2853.24884787, 2561.69996666],\n",
       "       ...,\n",
       "       [2329.96302807, 2418.72750794, 2460.43759655, ..., 2454.51549568,\n",
       "        2746.15241965, 2126.93408412],\n",
       "       [2398.16348297, 2526.26576886, 2517.22528995, ..., 2372.30204052,\n",
       "        2662.81204815, 2425.42661045],\n",
       "       [2579.41861813, 2928.6132308 , 2757.62375294, ..., 2538.92925718,\n",
       "        2743.46288463, 2688.90813436]])"
      ]
     },
     "execution_count": 38,
     "metadata": {},
     "output_type": "execute_result"
    }
   ],
   "source": [
    "%%time\n",
    "\n",
    "np.dot(data_A, data_B)"
   ]
  },
  {
   "cell_type": "code",
   "execution_count": null,
   "metadata": {},
   "outputs": [],
   "source": []
  }
 ],
 "metadata": {
  "kernelspec": {
   "display_name": "Python (myenv)",
   "language": "python",
   "name": "venv"
  },
  "language_info": {
   "codemirror_mode": {
    "name": "ipython",
    "version": 3
   },
   "file_extension": ".py",
   "mimetype": "text/x-python",
   "name": "python",
   "nbconvert_exporter": "python",
   "pygments_lexer": "ipython3",
   "version": "3.6.5"
  }
 },
 "nbformat": 4,
 "nbformat_minor": 2
}
