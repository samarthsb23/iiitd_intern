{
 "cells": [
  {
   "cell_type": "code",
   "execution_count": 1,
   "metadata": {},
   "outputs": [
    {
     "data": {
      "application/javascript": [
       "\n",
       "try {\n",
       "require(['notebook/js/codecell'], function(codecell) {\n",
       "  codecell.CodeCell.options_default.highlight_modes[\n",
       "      'magic_text/x-csrc'] = {'reg':[/^%%microblaze/]};\n",
       "  Jupyter.notebook.events.one('kernel_ready.Kernel', function(){\n",
       "      Jupyter.notebook.get_cells().map(function(cell){\n",
       "          if (cell.cell_type == 'code'){ cell.auto_highlight(); } }) ;\n",
       "  });\n",
       "});\n",
       "} catch (e) {};\n"
      ]
     },
     "metadata": {},
     "output_type": "display_data"
    }
   ],
   "source": [
    "from pynq import Overlay\n",
    "ol = Overlay('matrix.bit')"
   ]
  },
  {
   "cell_type": "code",
   "execution_count": 2,
   "metadata": {},
   "outputs": [],
   "source": [
    "dma = ol.axi_dma_0"
   ]
  },
  {
   "cell_type": "code",
   "execution_count": 3,
   "metadata": {},
   "outputs": [],
   "source": [
    "data_send = dma.sendchannel\n",
    "data_recv = dma.recvchannel"
   ]
  },
  {
   "cell_type": "code",
   "execution_count": 4,
   "metadata": {},
   "outputs": [],
   "source": [
    "import numpy as np\n",
    "import random "
   ]
  },
  {
   "cell_type": "code",
   "execution_count": 5,
   "metadata": {},
   "outputs": [],
   "source": [
    "random.seed(2)\n",
    "data_A = np.random.uniform(low=0, high=10, size=(32, 32)).astype(float)\n",
    "data_B = np.random.uniform(low=0, high=10, size=(32, 32)).astype(float)"
   ]
  },
  {
   "cell_type": "code",
   "execution_count": 6,
   "metadata": {},
   "outputs": [
    {
     "data": {
      "text/plain": [
       "(array([[7.46713664, 1.28009441, 4.44601356, ..., 5.6087702 , 1.5769116 ,\n",
       "         4.41272805],\n",
       "        [6.92401984, 5.6963646 , 2.41438126, ..., 3.07592663, 8.76372156,\n",
       "         7.49377515],\n",
       "        [1.24765405, 9.69368611, 0.93861617, ..., 4.56548003, 8.80471041,\n",
       "         0.29034192],\n",
       "        ...,\n",
       "        [0.36441048, 6.34301879, 0.86991348, ..., 4.34230666, 7.01742382,\n",
       "         0.43338361],\n",
       "        [2.29490331, 1.33691716, 2.16477319, ..., 7.50453154, 0.7113644 ,\n",
       "         5.53221198],\n",
       "        [8.01725648, 6.12393779, 3.54815734, ..., 1.4399024 , 0.59694786,\n",
       "         0.43932485]]),\n",
       " array([[7.30735456, 0.80547148, 8.34309233, ..., 1.30228234, 1.42521682,\n",
       "         5.47922807],\n",
       "        [2.34379101, 4.94618668, 0.58272723, ..., 8.66618838, 6.76139372,\n",
       "         4.62787536],\n",
       "        [8.09996709, 2.04918406, 2.00246559, ..., 5.92873438, 7.2034194 ,\n",
       "         2.88286321],\n",
       "        ...,\n",
       "        [3.28799937, 7.47999015, 6.47438118, ..., 3.34455689, 5.46777963,\n",
       "         3.09009459],\n",
       "        [9.99907592, 8.09629842, 5.06889574, ..., 4.78858729, 1.19197979,\n",
       "         6.91893626],\n",
       "        [0.98392141, 1.67657495, 3.93438724, ..., 6.63239433, 7.21664369,\n",
       "         5.45820054]]))"
      ]
     },
     "execution_count": 6,
     "metadata": {},
     "output_type": "execute_result"
    }
   ],
   "source": [
    "data_A, data_B"
   ]
  },
  {
   "cell_type": "code",
   "execution_count": 7,
   "metadata": {},
   "outputs": [],
   "source": [
    "def multiply(matrix_a, matrix_b):\n",
    "    result_matrix = np.zeros((32,32))\n",
    "    for i in range(32):\n",
    "        for j in range(32):\n",
    "            for k in range(32):\n",
    "                result_matrix[i][j] += matrix_a[i][k] * matrix_b[k][j]\n",
    "                \n",
    "    return result_matrix"
   ]
  },
  {
   "cell_type": "code",
   "execution_count": 8,
   "metadata": {},
   "outputs": [
    {
     "name": "stdout",
     "output_type": "stream",
     "text": [
      "0.6534547805786133\n"
     ]
    }
   ],
   "source": [
    "import time\n",
    "start_time = time.time()\n",
    "multiply(data_A, data_B) #software\n",
    "end_time = time.time()\n",
    "print(end_time - start_time)"
   ]
  },
  {
   "cell_type": "code",
   "execution_count": 10,
   "metadata": {},
   "outputs": [],
   "source": [
    "from pynq import allocate"
   ]
  },
  {
   "cell_type": "code",
   "execution_count": 11,
   "metadata": {},
   "outputs": [],
   "source": [
    "data_a_f = data_A.flatten()\n",
    "data_b_f = data_B.flatten()\n",
    "\n",
    "data_input = np.concatenate([data_a_f, data_b_f])"
   ]
  },
  {
   "cell_type": "code",
   "execution_count": 12,
   "metadata": {},
   "outputs": [
    {
     "data": {
      "text/plain": [
       "array([7.46713664, 1.28009441, 4.44601356, ..., 6.63239433, 7.21664369,\n",
       "       5.45820054])"
      ]
     },
     "execution_count": 12,
     "metadata": {},
     "output_type": "execute_result"
    }
   ],
   "source": [
    "data_input"
   ]
  },
  {
   "cell_type": "code",
   "execution_count": 13,
   "metadata": {},
   "outputs": [],
   "source": [
    "input_buffer = allocate(2048, np.float32)\n",
    "output_buffer = allocate((32,32), np.float32)"
   ]
  },
  {
   "cell_type": "code",
   "execution_count": 14,
   "metadata": {},
   "outputs": [],
   "source": [
    "np.copyto(input_buffer, data_input)"
   ]
  },
  {
   "cell_type": "code",
   "execution_count": 15,
   "metadata": {},
   "outputs": [
    {
     "name": "stdout",
     "output_type": "stream",
     "text": [
      "0.0027790069580078125\n"
     ]
    }
   ],
   "source": [
    "start_time = time.time()\n",
    "data_send.transfer(input_buffer)\n",
    "data_recv.transfer(output_buffer)\n",
    "data_send.wait()\n",
    "data_recv.wait()\n",
    "end_time = time.time()\n",
    "print(end_time - start_time)"
   ]
  },
  {
   "cell_type": "code",
   "execution_count": 16,
   "metadata": {},
   "outputs": [
    {
     "data": {
      "text/plain": [
       "PynqBuffer([[903.2101 , 696.98065, 960.0653 , ..., 890.6255 , 987.86115,\n",
       "             741.74835],\n",
       "            [785.84674, 640.02606, 831.40607, ..., 701.7499 , 814.31586,\n",
       "             747.61847],\n",
       "            [787.9109 , 666.77637, 859.2986 , ..., 880.60187, 805.64874,\n",
       "             729.9307 ],\n",
       "            ...,\n",
       "            [731.228  , 621.3732 , 763.2449 , ..., 670.7744 , 847.6279 ,\n",
       "             685.7108 ],\n",
       "            [820.6272 , 606.94604, 907.74866, ..., 765.6956 , 818.38324,\n",
       "             720.1079 ],\n",
       "            [802.2441 , 624.4669 , 905.74567, ..., 829.118  , 927.43884,\n",
       "             723.16565]], dtype=float32)"
      ]
     },
     "execution_count": 16,
     "metadata": {},
     "output_type": "execute_result"
    }
   ],
   "source": [
    "output_buffer"
   ]
  },
  {
   "cell_type": "code",
   "execution_count": 17,
   "metadata": {},
   "outputs": [],
   "source": [
    "diff = np.dot(data_A, data_B) - output_buffer"
   ]
  },
  {
   "cell_type": "code",
   "execution_count": 18,
   "metadata": {},
   "outputs": [],
   "source": [
    "rms_error = np.sqrt(np.mean(diff**2))"
   ]
  },
  {
   "cell_type": "code",
   "execution_count": 19,
   "metadata": {},
   "outputs": [
    {
     "data": {
      "text/plain": [
       "(PynqBuffer([[-1.11889032e-04,  2.68505721e-06,  2.70032759e-05, ...,\n",
       "              -5.73156627e-05, -9.43749520e-05,  9.98094234e-05],\n",
       "             [ 7.21167686e-05,  2.72816874e-06,  8.38799817e-05, ...,\n",
       "               1.83074641e-04,  2.05738652e-04,  4.04082491e-05],\n",
       "             [ 4.89622682e-05,  1.02489627e-04, -6.41267700e-05, ...,\n",
       "              -5.26360318e-05,  3.32801250e-05,  4.27365846e-05],\n",
       "             ...,\n",
       "             [-1.82989643e-05,  2.08680959e-05,  6.87599783e-05, ...,\n",
       "               6.69503920e-05,  4.47446303e-06, -4.12651664e-05],\n",
       "             [ 1.04660478e-04,  4.81303072e-05,  2.35066569e-05, ...,\n",
       "               1.40895987e-04, -9.64926921e-05,  7.02942774e-05],\n",
       "             [-2.19423789e-05,  4.34030634e-05,  9.53086956e-05, ...,\n",
       "              -5.02120357e-05,  2.43553142e-05, -2.85307189e-05]]),\n",
       " PynqBuffer(6.75104759e-05))"
      ]
     },
     "execution_count": 19,
     "metadata": {},
     "output_type": "execute_result"
    }
   ],
   "source": [
    "diff, rms_error"
   ]
  },
  {
   "cell_type": "code",
   "execution_count": 26,
   "metadata": {},
   "outputs": [
    {
     "name": "stdout",
     "output_type": "stream",
     "text": [
      "CPU times: user 658 µs, sys: 56 µs, total: 714 µs\n",
      "Wall time: 727 µs\n"
     ]
    },
    {
     "data": {
      "text/plain": [
       "array([[903.20997112, 696.98065454, 960.06533462, ..., 890.62543097,\n",
       "        987.86105064, 741.74845186],\n",
       "       [785.84681284, 640.02606474, 831.40615077, ..., 701.750061  ,\n",
       "        814.31606267, 747.61850965],\n",
       "       [787.91093763, 666.77646968, 859.29851986, ..., 880.60181504,\n",
       "        805.64877596, 729.93076783],\n",
       "       ...,\n",
       "       [731.22800904, 621.37325085, 763.24494181, ..., 670.77448101,\n",
       "        847.62793416, 685.71077416],\n",
       "       [820.62730193, 606.94609305, 907.74868073, ..., 765.69575857,\n",
       "        818.38314325, 720.10798045],\n",
       "       [802.24405765, 624.46696235, 905.74576181, ..., 829.11793074,\n",
       "        927.43886713, 723.16562088]])"
      ]
     },
     "execution_count": 26,
     "metadata": {},
     "output_type": "execute_result"
    }
   ],
   "source": [
    "%%time\n",
    "np.dot(data_A, data_B)"
   ]
  },
  {
   "cell_type": "code",
   "execution_count": 23,
   "metadata": {},
   "outputs": [
    {
     "data": {
      "text/plain": [
       "array([[0., 0., 0., ..., 0., 0., 0.],\n",
       "       [0., 0., 0., ..., 0., 0., 0.],\n",
       "       [0., 0., 0., ..., 0., 0., 0.],\n",
       "       ...,\n",
       "       [0., 0., 0., ..., 0., 0., 0.],\n",
       "       [0., 0., 0., ..., 0., 0., 0.],\n",
       "       [0., 0., 0., ..., 0., 0., 0.]])"
      ]
     },
     "execution_count": 23,
     "metadata": {},
     "output_type": "execute_result"
    }
   ],
   "source": [
    "np.dot(data_A, data_B) - multiply(data_A, data_B)"
   ]
  },
  {
   "cell_type": "code",
   "execution_count": null,
   "metadata": {},
   "outputs": [],
   "source": []
  }
 ],
 "metadata": {
  "kernelspec": {
   "display_name": "Python (myenv)",
   "language": "python",
   "name": "venv"
  },
  "language_info": {
   "codemirror_mode": {
    "name": "ipython",
    "version": 3
   },
   "file_extension": ".py",
   "mimetype": "text/x-python",
   "name": "python",
   "nbconvert_exporter": "python",
   "pygments_lexer": "ipython3",
   "version": "3.6.5"
  }
 },
 "nbformat": 4,
 "nbformat_minor": 2
}
