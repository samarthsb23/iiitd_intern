{
 "cells": [
  {
   "cell_type": "code",
   "execution_count": 1,
   "metadata": {},
   "outputs": [
    {
     "data": {
      "application/javascript": [
       "\n",
       "try {\n",
       "require(['notebook/js/codecell'], function(codecell) {\n",
       "  codecell.CodeCell.options_default.highlight_modes[\n",
       "      'magic_text/x-csrc'] = {'reg':[/^%%microblaze/]};\n",
       "  Jupyter.notebook.events.one('kernel_ready.Kernel', function(){\n",
       "      Jupyter.notebook.get_cells().map(function(cell){\n",
       "          if (cell.cell_type == 'code'){ cell.auto_highlight(); } }) ;\n",
       "  });\n",
       "});\n",
       "} catch (e) {};\n"
      ]
     },
     "metadata": {},
     "output_type": "display_data"
    }
   ],
   "source": [
    "from pynq import Overlay\n",
    "ol = Overlay('matrix.bit')"
   ]
  },
  {
   "cell_type": "code",
   "execution_count": 2,
   "metadata": {},
   "outputs": [],
   "source": [
    "dma = ol.axi_dma_0"
   ]
  },
  {
   "cell_type": "code",
   "execution_count": 3,
   "metadata": {},
   "outputs": [],
   "source": [
    "data_send = dma.sendchannel\n",
    "data_recv = dma.recvchannel"
   ]
  },
  {
   "cell_type": "code",
   "execution_count": 4,
   "metadata": {},
   "outputs": [],
   "source": [
    "import numpy as np\n",
    "import random "
   ]
  },
  {
   "cell_type": "code",
   "execution_count": 5,
   "metadata": {},
   "outputs": [],
   "source": [
    "random.seed(2)\n",
    "data_A = np.random.uniform(low=0, high=10, size=(32, 32)).astype(float)\n",
    "data_B = np.random.uniform(low=0, high=10, size=(32, 32)).astype(float)"
   ]
  },
  {
   "cell_type": "code",
   "execution_count": 6,
   "metadata": {},
   "outputs": [
    {
     "data": {
      "text/plain": [
       "(array([[5.58618347, 4.07037211, 2.16574242, ..., 4.65942326, 1.10041576,\n",
       "         1.05938077],\n",
       "        [6.23236979, 2.07108377, 8.91692661, ..., 0.52885557, 6.71617649,\n",
       "         5.60162533],\n",
       "        [7.05050639, 0.63802057, 9.45349588, ..., 3.32068736, 7.0172619 ,\n",
       "         6.65232565],\n",
       "        ...,\n",
       "        [2.73897622, 1.70977656, 0.71568514, ..., 4.24903936, 9.69498441,\n",
       "         1.00512484],\n",
       "        [1.28765722, 3.71547114, 4.53217602, ..., 7.06784307, 4.12045165,\n",
       "         2.76758379],\n",
       "        [8.63692121, 9.16497785, 7.24947851, ..., 0.82535657, 8.72454581,\n",
       "         2.14640396]]),\n",
       " array([[5.47781577, 2.31474974, 0.88850018, ..., 9.6088866 , 6.77647463,\n",
       "         0.91229625],\n",
       "        [6.41750766, 0.95691697, 8.05301308, ..., 5.87940989, 5.36987056,\n",
       "         0.12587154],\n",
       "        [1.58282006, 2.10993426, 4.75495593, ..., 0.24684051, 9.94258454,\n",
       "         1.85665357],\n",
       "        ...,\n",
       "        [6.21785036, 9.23839576, 3.06572681, ..., 9.83515088, 5.74537465,\n",
       "         1.78476514],\n",
       "        [0.04494307, 5.95565086, 0.30581662, ..., 4.22507259, 4.06074502,\n",
       "         8.23383708],\n",
       "        [7.18097134, 7.81807355, 7.60491286, ..., 6.65410536, 2.33227236,\n",
       "         6.1152555 ]]))"
      ]
     },
     "execution_count": 6,
     "metadata": {},
     "output_type": "execute_result"
    }
   ],
   "source": [
    "data_A, data_B"
   ]
  },
  {
   "cell_type": "code",
   "execution_count": 8,
   "metadata": {},
   "outputs": [],
   "source": [
    "def multiply(matrix_a, matrix_b):\n",
    "    result_matrix = np.zeros((32,32))\n",
    "    for i in range(32):\n",
    "        for j in range(32):\n",
    "            for k in range(32):\n",
    "                result_matrix[i][j] += matrix_a[i][k] * matrix_b[k][j]\n",
    "                \n",
    "    return result_matrix"
   ]
  },
  {
   "cell_type": "code",
   "execution_count": 9,
   "metadata": {},
   "outputs": [
    {
     "name": "stdout",
     "output_type": "stream",
     "text": [
      "0.6404907703399658\n"
     ]
    }
   ],
   "source": [
    "import time\n",
    "start_time = time.time()\n",
    "multiply(data_A, data_B) #software\n",
    "end_time = time.time()\n",
    "print(end_time - start_time)"
   ]
  },
  {
   "cell_type": "code",
   "execution_count": 10,
   "metadata": {},
   "outputs": [],
   "source": [
    "from pynq import allocate"
   ]
  },
  {
   "cell_type": "code",
   "execution_count": 11,
   "metadata": {},
   "outputs": [],
   "source": [
    "data_a_f = data_A.flatten()\n",
    "data_b_f = data_B.flatten()\n",
    "\n",
    "data_input = np.concatenate([data_a_f, data_b_f])"
   ]
  },
  {
   "cell_type": "code",
   "execution_count": 12,
   "metadata": {},
   "outputs": [
    {
     "data": {
      "text/plain": [
       "array([5.58618347, 4.07037211, 2.16574242, ..., 6.65410536, 2.33227236,\n",
       "       6.1152555 ])"
      ]
     },
     "execution_count": 12,
     "metadata": {},
     "output_type": "execute_result"
    }
   ],
   "source": [
    "data_input"
   ]
  },
  {
   "cell_type": "code",
   "execution_count": 13,
   "metadata": {},
   "outputs": [],
   "source": [
    "input_buffer = allocate(2048, np.float32)\n",
    "output_buffer = allocate((32,32), np.float32)"
   ]
  },
  {
   "cell_type": "code",
   "execution_count": 14,
   "metadata": {},
   "outputs": [],
   "source": [
    "np.copyto(input_buffer, data_input)"
   ]
  },
  {
   "cell_type": "code",
   "execution_count": 15,
   "metadata": {},
   "outputs": [
    {
     "name": "stdout",
     "output_type": "stream",
     "text": [
      "0.007139921188354492\n"
     ]
    }
   ],
   "source": [
    "start_time = time.time()\n",
    "data_send.transfer(input_buffer)\n",
    "data_recv.transfer(output_buffer)\n",
    "data_send.wait()\n",
    "data_recv.wait()\n",
    "end_time = time.time()\n",
    "print(end_time - start_time)"
   ]
  },
  {
   "cell_type": "code",
   "execution_count": 16,
   "metadata": {},
   "outputs": [
    {
     "data": {
      "text/plain": [
       "PynqBuffer([[ 765.5427 ,  673.472  ,  941.42505, ...,  759.3936 ,\n",
       "              888.3853 ,  751.73584],\n",
       "            [ 926.2644 ,  683.18396, 1002.74615, ...,  825.4156 ,\n",
       "             1051.6072 ,  754.4533 ],\n",
       "            [ 786.41797,  739.4544 ,  995.3097 , ...,  814.84595,\n",
       "              983.7216 ,  774.1037 ],\n",
       "            ...,\n",
       "            [ 589.7141 ,  563.06805,  738.77734, ...,  642.47754,\n",
       "              659.3649 ,  603.89734],\n",
       "            [ 720.4192 ,  704.4468 ,  764.1818 , ...,  662.04407,\n",
       "              816.14404,  653.45294],\n",
       "            [ 737.1899 ,  633.12427,  909.44165, ...,  691.673  ,\n",
       "              936.0558 ,  727.24005]], dtype=float32)"
      ]
     },
     "execution_count": 16,
     "metadata": {},
     "output_type": "execute_result"
    }
   ],
   "source": [
    "output_buffer"
   ]
  },
  {
   "cell_type": "code",
   "execution_count": 17,
   "metadata": {},
   "outputs": [],
   "source": [
    "diff = np.dot(data_A, data_B) - output_buffer"
   ]
  },
  {
   "cell_type": "code",
   "execution_count": 18,
   "metadata": {},
   "outputs": [],
   "source": [
    "rms_error = np.sqrt(np.mean(diff**2))"
   ]
  },
  {
   "cell_type": "code",
   "execution_count": 19,
   "metadata": {},
   "outputs": [
    {
     "data": {
      "text/plain": [
       "(PynqBuffer([[ 3.22306626e-05, -7.09567951e-06, -1.25157352e-04, ...,\n",
       "              -5.28500681e-05,  1.87174629e-05,  4.31549502e-05],\n",
       "             [ 2.79106247e-05, -8.81895420e-05, -9.83259625e-05, ...,\n",
       "               1.36049274e-04,  2.13860858e-08, -3.37322657e-05],\n",
       "             [ 1.48117088e-04,  5.61753136e-05,  3.26576902e-05, ...,\n",
       "              -2.69555735e-05, -5.41617646e-05,  8.84166676e-05],\n",
       "             ...,\n",
       "             [-3.60363637e-05, -1.07490983e-04,  7.40756889e-05, ...,\n",
       "              -2.17863342e-05, -5.79756022e-05, -2.85113272e-05],\n",
       "             [-1.08515069e-04,  3.76699304e-05, -9.17593449e-05, ...,\n",
       "              -8.63710966e-07, -5.08612710e-05, -4.16035823e-05],\n",
       "             [-1.03256434e-04, -8.29566280e-05, -6.83953847e-05, ...,\n",
       "               4.23906929e-05, -3.33300544e-05,  1.72376316e-05]]),\n",
       " PynqBuffer(6.82287336e-05))"
      ]
     },
     "execution_count": 19,
     "metadata": {},
     "output_type": "execute_result"
    }
   ],
   "source": [
    "diff, rms_error"
   ]
  },
  {
   "cell_type": "code",
   "execution_count": null,
   "metadata": {},
   "outputs": [],
   "source": []
  },
  {
   "cell_type": "code",
   "execution_count": null,
   "metadata": {},
   "outputs": [],
   "source": []
  }
 ],
 "metadata": {
  "kernelspec": {
   "display_name": "Python (myenv)",
   "language": "python",
   "name": "venv"
  },
  "language_info": {
   "codemirror_mode": {
    "name": "ipython",
    "version": 3
   },
   "file_extension": ".py",
   "mimetype": "text/x-python",
   "name": "python",
   "nbconvert_exporter": "python",
   "pygments_lexer": "ipython3",
   "version": "3.6.5"
  }
 },
 "nbformat": 4,
 "nbformat_minor": 2
}
