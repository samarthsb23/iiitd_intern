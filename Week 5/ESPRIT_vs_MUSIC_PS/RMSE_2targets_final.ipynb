{
 "cells": [
  {
   "cell_type": "code",
   "execution_count": 1,
   "metadata": {},
   "outputs": [],
   "source": [
    "import numpy as np\n",
    "import matplotlib.pyplot as plt"
   ]
  },
  {
   "cell_type": "code",
   "execution_count": 46,
   "metadata": {},
   "outputs": [
    {
     "name": "stdout",
     "output_type": "stream",
     "text": [
      "(array([  4,   5,   7,  11,  12,  16,  17,  18,  19,  20,  22,  23,  24,\n",
      "        25,  28,  29,  30,  31,  32,  33,  36,  39,  41,  42,  43,  44,\n",
      "        48,  52,  53,  54,  57,  61,  62,  65,  68,  71,  72,  73,  74,\n",
      "        76,  79,  84,  86,  87,  91,  93,  94,  96,  97,  99, 100, 101,\n",
      "       103, 105, 106, 109, 111, 112, 114, 115, 118, 119, 120, 121, 122,\n",
      "       126, 128, 130, 131, 133, 134, 135, 137, 138, 140, 141, 143, 144,\n",
      "       147, 152, 155, 159, 162, 167, 169, 170, 171, 173, 176, 177, 178,\n",
      "       180, 181, 182, 183, 186, 188, 189, 193, 197, 198, 199], dtype=int64),)\n",
      "(array([  5,   7,  11,  12,  16,  17,  18,  19,  20,  22,  24,  25,  28,\n",
      "        30,  32,  33,  36,  39,  41,  43,  44,  48,  52,  54,  57,  61,\n",
      "        62,  65,  68,  71,  73,  74,  76,  79,  84,  86,  87,  89,  91,\n",
      "        93,  96,  99, 100, 101, 103, 105, 106, 109, 111, 114, 115, 118,\n",
      "       119, 120, 121, 122, 126, 130, 131, 133, 134, 135, 137, 140, 141,\n",
      "       143, 144, 147, 155, 157, 159, 162, 164, 166, 167, 169, 170, 171,\n",
      "       173, 176, 177, 178, 180, 181, 182, 183, 186, 188, 189, 193, 197,\n",
      "       198, 199], dtype=int64),)\n",
      "(array([  5,   7,  11,  12,  16,  17,  18,  19,  20,  22,  24,  25,  28,\n",
      "        30,  32,  33,  36,  39,  41,  43,  44,  48,  52,  54,  57,  61,\n",
      "        62,  65,  68,  71,  73,  74,  76,  79,  84,  86,  87,  89,  91,\n",
      "        93,  96,  99, 100, 101, 103, 105, 106, 109, 111, 112, 114, 115,\n",
      "       118, 119, 120, 121, 122, 126, 130, 131, 133, 134, 135, 137, 140,\n",
      "       141, 143, 144, 147, 153, 155, 157, 159, 162, 164, 166, 167, 169,\n",
      "       170, 171, 176, 177, 178, 180, 181, 182, 183, 186, 188, 189, 193,\n",
      "       197, 198, 199], dtype=int64),)\n",
      "(array([  5,   7,  11,  12,  16,  17,  18,  19,  20,  22,  24,  25,  28,\n",
      "        30,  32,  33,  36,  39,  41,  43,  48,  52,  54,  57,  61,  62,\n",
      "        65,  68,  71,  73,  74,  76,  79,  84,  86,  87,  89,  91,  93,\n",
      "        96, 100, 101, 103, 105, 106, 109, 111, 112, 114, 115, 118, 119,\n",
      "       120, 121, 122, 126, 130, 131, 133, 134, 135, 137, 140, 141, 143,\n",
      "       144, 147, 152, 155, 157, 158, 159, 162, 166, 167, 169, 170, 171,\n",
      "       176, 177, 178, 180, 181, 182, 183, 186, 188, 189, 193, 197, 198,\n",
      "       199], dtype=int64),)\n",
      "(array([  5,   7,  10,  11,  12,  16,  17,  18,  19,  20,  24,  25,  28,\n",
      "        30,  32,  33,  36,  39,  41,  43,  48,  52,  54,  57,  61,  62,\n",
      "        65,  68,  71,  73,  74,  76,  79,  84,  86,  87,  89,  91,  93,\n",
      "        96, 100, 101, 103, 105, 106, 109, 111, 112, 114, 115, 118, 120,\n",
      "       121, 122, 126, 128, 129, 130, 131, 133, 134, 135, 137, 140, 141,\n",
      "       143, 144, 147, 152, 155, 157, 159, 162, 166, 167, 169, 170, 171,\n",
      "       176, 177, 178, 180, 181, 182, 183, 186, 188, 189, 193, 197, 198,\n",
      "       199], dtype=int64),)\n",
      "(array([  5,   7,  11,  12,  16,  17,  18,  19,  20,  24,  25,  28,  30,\n",
      "        31,  32,  33,  36,  39,  41,  43,  48,  52,  54,  57,  61,  62,\n",
      "        65,  68,  71,  73,  74,  76,  77,  79,  84,  87,  89,  91,  93,\n",
      "        96, 100, 101, 103, 105, 106, 109, 111, 112, 115, 118, 120, 121,\n",
      "       122, 126, 128, 129, 130, 133, 134, 135, 137, 140, 143, 144, 147,\n",
      "       155, 157, 159, 162, 164, 166, 167, 169, 170, 171, 176, 177, 178,\n",
      "       180, 181, 182, 183, 186, 188, 189, 193, 197, 198, 199], dtype=int64),)\n",
      "(array([  5,   7,  12,  16,  17,  18,  19,  20,  24,  25,  30,  32,  33,\n",
      "        36,  39,  41,  43,  48,  52,  54,  57,  61,  62,  65,  68,  73,\n",
      "        74,  76,  77,  79,  84,  87,  89,  91,  93,  96, 100, 101, 103,\n",
      "       104, 105, 109, 111, 112, 114, 115, 118, 120, 121, 122, 126, 128,\n",
      "       130, 133, 134, 139, 140, 143, 144, 147, 151, 155, 159, 162, 166,\n",
      "       167, 169, 170, 171, 176, 177, 178, 181, 182, 184, 186, 188, 189,\n",
      "       193, 197, 198, 199], dtype=int64),)\n",
      "(array([  5,   7,  12,  13,  16,  17,  18,  19,  20,  23,  24,  25,  27,\n",
      "        30,  31,  32,  33,  36,  39,  41,  48,  52,  54,  55,  57,  60,\n",
      "        61,  62,  67,  68,  69,  71,  72,  73,  74,  76,  77,  78,  79,\n",
      "        81,  84,  89,  91,  93,  94,  96,  99, 103, 106, 111, 112, 114,\n",
      "       115, 117, 118, 120, 122, 126, 130, 133, 134, 140, 147, 148, 152,\n",
      "       155, 159, 160, 162, 164, 166, 167, 168, 169, 170, 171, 172, 176,\n",
      "       177, 179, 181, 182, 184, 186, 188, 189, 193, 196, 197, 198, 199],\n",
      "      dtype=int64),)\n",
      "(array([  2,   5,   7,  13,  16,  17,  18,  19,  20,  21,  25,  26,  30,\n",
      "        31,  32,  35,  36,  37,  39,  40,  41,  42,  48,  50,  52,  55,\n",
      "        57,  61,  62,  63,  68,  73,  74,  76,  84,  89,  90,  91,  92,\n",
      "        93,  96,  99, 103, 105, 111, 112, 115, 118, 120, 121, 122, 126,\n",
      "       128, 132, 134, 140, 147, 155, 157, 159, 162, 163, 164, 165, 166,\n",
      "       167, 169, 170, 171, 172, 173, 176, 177, 180, 181, 185, 187, 188,\n",
      "       189, 191, 193, 195, 197, 198, 199], dtype=int64),)\n",
      "(array([  2,   3,   4,   5,   6,   7,   8,  16,  17,  18,  20,  25,  30,\n",
      "        32,  36,  42,  48,  49,  55,  61,  66,  68,  73,  84,  85,  89,\n",
      "        93,  96,  99, 108, 111, 112, 115, 118, 136, 138, 140, 142, 147,\n",
      "       149, 150, 152, 155, 158, 159, 162, 164, 166, 167, 175, 181, 182,\n",
      "       193, 197, 198], dtype=int64),)\n",
      "(array([ 16,  30,  89,  99, 116, 138, 181], dtype=int64),)\n",
      "(array([], dtype=int64),)\n",
      "[1.0512920458667614, 1.0369956117557866, 1.0437914950233742, 1.0384855621290425, 2.2531977970610284, 3.68155841170199, 2.5112685515890703, 5.168226522923239, 6.6747433195838, 3.1383384662266525, 1.0828997096201802, 0.07828111627594142]\n",
      "[1.031776286627465, 1.1800243852647279, 1.608293792903707, 1.777252201748073, 1.0175712077506949, 3.4486539003244165, 3.1354035428205087, 4.229272031334725, 4.502927376648085, 3.627446013581772, 1.8793380926302459, 0.08337926408618962]\n"
     ]
    }
   ],
   "source": [
    "ex1 = []\n",
    "ex2 = []\n",
    "snr_axis = [-15, -10, -5, 0, 5,10,15,20,25,30,35,40]\n",
    "for snr in snr_axis:\n",
    "    #matrix = np.loadtxt(\"./DPFL/Results_FX/P200_Vd2_snr_\"+str(snr)+\".dat\")\n",
    "    matrix = np.loadtxt(\"./Results_esprit_double/P200_Vd2_snr_\"+str(snr)+\".dat\")\n",
    "    #matrix = np.loadtxt(\"./Results_DPFL/P200_Vd2_snr_\"+str(snr)+\".dat\")\n",
    "    matrix = np.transpose(matrix)\n",
    "    ind1 = np.where(matrix[2] == 30)\n",
    "    diff1 = matrix[0] - matrix[2]\n",
    "    diff2 = matrix[1] - matrix[3]\n",
    "    diff1[ind1] = 0\n",
    "    diff2[ind1] = 0\n",
    "    e1 = np.sum((diff1) ** 2)\n",
    "    e2 = np.sum((diff2) ** 2)\n",
    "    \n",
    "    rmse1 = np.sqrt(e1/len(matrix[0]))\n",
    "    rmse2 = np.sqrt(e2/len(matrix[0]))\n",
    "    print(np.where(np.abs(diff1)>1))\n",
    "    ex1.append(float(rmse1))\n",
    "    ex2.append(float(rmse2))\n",
    "print(ex1)\n",
    "print(ex2)\n"
   ]
  },
  {
   "cell_type": "code",
   "execution_count": 47,
   "metadata": {},
   "outputs": [
    {
     "name": "stdout",
     "output_type": "stream",
     "text": [
      "(array([  4,   5,   7,  11,  12,  16,  17,  18,  19,  20,  22,  23,  24,\n",
      "        25,  28,  29,  30,  31,  32,  33,  36,  39,  41,  42,  43,  44,\n",
      "        48,  52,  53,  54,  57,  61,  62,  65,  68,  71,  72,  73,  74,\n",
      "        76,  79,  84,  86,  87,  91,  93,  94,  96,  97,  99, 100, 101,\n",
      "       103, 105, 106, 109, 111, 112, 114, 115, 118, 119, 120, 121, 122,\n",
      "       126, 128, 130, 131, 133, 134, 135, 137, 138, 140, 141, 143, 144,\n",
      "       152, 155, 159, 162, 167, 169, 170, 171, 173, 174, 176, 177, 178,\n",
      "       180, 181, 182, 183, 186, 188, 189, 193, 197, 198, 199], dtype=int64),)\n",
      "(array([  5,   7,  11,  12,  16,  17,  18,  19,  20,  22,  24,  25,  28,\n",
      "        29,  30,  32,  33,  36,  39,  41,  43,  44,  48,  52,  53,  54,\n",
      "        57,  61,  62,  65,  68,  71,  73,  74,  76,  79,  84,  86,  87,\n",
      "        89,  91,  93,  96,  99, 100, 101, 103, 105, 106, 109, 111, 114,\n",
      "       115, 118, 119, 120, 121, 122, 126, 130, 131, 133, 134, 135, 137,\n",
      "       140, 141, 143, 144, 147, 155, 157, 159, 162, 164, 166, 167, 169,\n",
      "       170, 171, 173, 174, 176, 177, 178, 180, 181, 182, 183, 186, 188,\n",
      "       189, 193, 197, 198, 199], dtype=int64),)\n",
      "(array([  5,   7,  11,  12,  16,  17,  18,  19,  20,  22,  24,  25,  28,\n",
      "        29,  30,  32,  33,  36,  39,  41,  43,  44,  47,  48,  52,  53,\n",
      "        54,  57,  61,  62,  65,  68,  71,  73,  74,  76,  79,  84,  86,\n",
      "        87,  89,  91,  93,  96,  99, 100, 101, 103, 105, 106, 109, 111,\n",
      "       112, 114, 115, 118, 119, 120, 121, 122, 126, 130, 131, 133, 134,\n",
      "       135, 137, 140, 141, 143, 144, 147, 155, 157, 159, 162, 164, 166,\n",
      "       167, 169, 170, 171, 176, 177, 178, 180, 181, 182, 183, 186, 188,\n",
      "       189, 193, 197, 198, 199], dtype=int64),)\n",
      "(array([  5,   7,  11,  12,  16,  17,  18,  19,  20,  22,  24,  25,  28,\n",
      "        29,  30,  32,  33,  36,  39,  41,  43,  44,  48,  52,  53,  54,\n",
      "        57,  61,  62,  65,  68,  71,  73,  74,  76,  79,  84,  86,  87,\n",
      "        89,  91,  93,  96, 100, 101, 103, 105, 106, 109, 111, 112, 114,\n",
      "       115, 118, 119, 120, 121, 122, 126, 130, 131, 133, 134, 135, 137,\n",
      "       140, 141, 143, 144, 147, 152, 153, 155, 157, 158, 159, 161, 162,\n",
      "       166, 167, 169, 170, 171, 174, 176, 177, 178, 180, 181, 182, 183,\n",
      "       186, 188, 189, 193, 197, 198, 199], dtype=int64),)\n",
      "(array([  5,   7,  11,  12,  16,  17,  18,  19,  20,  22,  24,  25,  28,\n",
      "        29,  30,  32,  33,  36,  39,  41,  43,  44,  48,  52,  53,  54,\n",
      "        57,  61,  62,  65,  68,  71,  73,  74,  76,  79,  82,  84,  86,\n",
      "        87,  89,  91,  93,  96, 100, 101, 103, 105, 106, 109, 111, 112,\n",
      "       114, 115, 118, 119, 120, 121, 122, 126, 128, 130, 131, 133, 134,\n",
      "       135, 140, 141, 143, 144, 147, 152, 153, 155, 157, 159, 162, 166,\n",
      "       167, 169, 170, 171, 176, 177, 178, 180, 181, 182, 183, 186, 188,\n",
      "       189, 193, 197, 198, 199], dtype=int64),)\n",
      "(array([  5,   7,  10,  11,  12,  15,  16,  17,  18,  19,  20,  22,  23,\n",
      "        24,  25,  28,  29,  30,  31,  32,  33,  36,  39,  41,  43,  44,\n",
      "        48,  52,  53,  54,  57,  61,  62,  65,  68,  69,  71,  73,  74,\n",
      "        76,  77,  79,  84,  86,  87,  89,  91,  93,  96, 100, 101, 103,\n",
      "       105, 106, 111, 112, 114, 115, 118, 119, 120, 121, 122, 126, 128,\n",
      "       129, 130, 133, 134, 135, 137, 139, 140, 141, 143, 144, 147, 151,\n",
      "       153, 155, 157, 159, 161, 162, 166, 167, 169, 170, 171, 174, 176,\n",
      "       177, 178, 180, 181, 182, 183, 184, 186, 188, 189, 193, 197, 198,\n",
      "       199], dtype=int64),)\n",
      "(array([  5,   7,  10,  11,  12,  15,  16,  17,  18,  19,  20,  22,  24,\n",
      "        25,  28,  29,  30,  32,  33,  35,  36,  38,  39,  41,  43,  44,\n",
      "        48,  52,  53,  54,  57,  61,  62,  65,  68,  73,  74,  76,  79,\n",
      "        84,  86,  87,  89,  91,  93,  96, 100, 101, 103, 104, 105, 106,\n",
      "       109, 111, 112, 115, 118, 119, 120, 122, 123, 126, 128, 130, 131,\n",
      "       133, 134, 135, 137, 139, 140, 141, 143, 144, 147, 153, 155, 157,\n",
      "       159, 161, 162, 166, 167, 169, 170, 171, 176, 177, 178, 180, 181,\n",
      "       182, 183, 186, 188, 189, 193, 197, 198, 199], dtype=int64),)\n",
      "(array([  1,   5,   7,  10,  11,  15,  16,  17,  18,  19,  20,  22,  23,\n",
      "        24,  25,  27,  28,  30,  32,  33,  36,  38,  39,  41,  43,  44,\n",
      "        48,  52,  53,  54,  57,  60,  61,  62,  65,  68,  69,  71,  73,\n",
      "        74,  76,  77,  80,  84,  86,  87,  89,  91,  93,  96,  98,  99,\n",
      "       100, 101, 102, 103, 105, 106, 109, 111, 112, 115, 118, 119, 120,\n",
      "       121, 122, 123, 126, 129, 130, 131, 133, 134, 135, 137, 139, 140,\n",
      "       141, 143, 144, 148, 152, 155, 159, 162, 163, 164, 165, 166, 167,\n",
      "       169, 170, 171, 172, 174, 176, 177, 178, 179, 180, 181, 182, 183,\n",
      "       186, 188, 189, 193, 194, 197, 198, 199], dtype=int64),)\n",
      "(array([  5,   7,  10,  11,  12,  15,  16,  17,  18,  19,  20,  21,  22,\n",
      "        24,  25,  26,  29,  30,  31,  32,  34,  35,  36,  39,  40,  41,\n",
      "        42,  43,  44,  45,  48,  50,  51,  52,  53,  54,  55,  57,  60,\n",
      "        61,  62,  65,  67,  68,  69,  71,  73,  74,  76,  78,  80,  81,\n",
      "        82,  84,  86,  87,  89,  91,  93,  95,  96, 100, 101, 103, 104,\n",
      "       105, 106, 109, 110, 111, 112, 113, 114, 115, 118, 119, 120, 121,\n",
      "       122, 124, 126, 127, 128, 130, 133, 134, 135, 137, 140, 141, 143,\n",
      "       144, 147, 148, 151, 152, 154, 155, 157, 159, 160, 162, 164, 166,\n",
      "       167, 168, 169, 170, 171, 172, 176, 177, 178, 180, 181, 182, 183,\n",
      "       186, 187, 188, 189, 191, 193, 197, 198], dtype=int64),)\n",
      "(array([  1,   4,   5,   7,   8,  10,  11,  12,  16,  17,  18,  20,  22,\n",
      "        23,  24,  25,  27,  28,  29,  30,  31,  32,  33,  35,  36,  37,\n",
      "        39,  41,  43,  44,  45,  46,  48,  49,  50,  52,  53,  54,  55,\n",
      "        58,  59,  60,  61,  62,  64,  65,  69,  71,  73,  74,  76,  77,\n",
      "        78,  84,  86,  87,  89,  90,  91,  92,  93,  96,  97,  99, 100,\n",
      "       101, 103, 105, 106, 109, 110, 111, 112, 114, 115, 118, 119, 120,\n",
      "       122, 123, 125, 126, 129, 130, 131, 132, 133, 134, 135, 136, 137,\n",
      "       141, 143, 144, 147, 152, 155, 156, 157, 159, 162, 164, 165, 166,\n",
      "       167, 169, 170, 171, 172, 173, 174, 176, 177, 178, 180, 182, 183,\n",
      "       184, 185, 188, 189, 193, 194, 197, 198, 199], dtype=int64),)\n",
      "(array([  5,   7,   8,   9,  10,  11,  12,  16,  17,  18,  19,  20,  22,\n",
      "        24,  25,  26,  28,  29,  30,  32,  33,  36,  37,  39,  41,  43,\n",
      "        48,  49,  50,  52,  53,  54,  55,  57,  61,  62,  65,  66,  67,\n",
      "        68,  69,  71,  73,  74,  76,  79,  80,  81,  82,  84,  86,  87,\n",
      "        89,  91,  93,  96,  98, 100, 101, 103, 104, 105, 106, 107, 109,\n",
      "       110, 111, 112, 113, 115, 118, 119, 120, 121, 122, 123, 126, 129,\n",
      "       130, 131, 133, 134, 135, 136, 137, 138, 139, 140, 141, 143, 144,\n",
      "       145, 146, 148, 151, 153, 155, 158, 159, 162, 164, 166, 167, 168,\n",
      "       169, 170, 171, 172, 174, 175, 176, 177, 178, 179, 181, 182, 183,\n",
      "       184, 186, 188, 189, 193, 198], dtype=int64),)\n",
      "(array([  1,   4,   5,   7,  10,  11,  12,  15,  16,  17,  18,  19,  20,\n",
      "        21,  22,  23,  24,  25,  27,  28,  29,  30,  32,  33,  36,  37,\n",
      "        38,  39,  41,  43,  44,  45,  46,  48,  49,  50,  51,  52,  53,\n",
      "        54,  55,  57,  61,  62,  65,  68,  71,  73,  74,  75,  76,  78,\n",
      "        79,  81,  82,  84,  85,  86,  87,  89,  91,  92,  93,  94,  97,\n",
      "        98,  99, 100, 101, 103, 105, 109, 111, 112, 114, 115, 116, 117,\n",
      "       119, 120, 121, 123, 126, 130, 131, 132, 133, 134, 135, 137, 140,\n",
      "       141, 142, 143, 144, 145, 147, 151, 155, 159, 160, 162, 163, 166,\n",
      "       167, 169, 170, 171, 172, 173, 174, 176, 177, 178, 180, 181, 182,\n",
      "       183, 184, 186, 187, 188, 189, 190, 193, 194, 197, 198, 199],\n",
      "      dtype=int64),)\n",
      "[1.0548622723926693, 1.6553977574582441, 1.0485155566628415, 4.388997468763831, 1.551665087964583, 5.137422343862903, 4.1955976311143175, 6.351159444399785, 9.141742590783771, 8.295286630504174, 7.4113335814335315, 10.315273100763518]\n",
      "[2.030725949790704, 1.0394133952157258, 1.9201660341576157, 2.6337157161445495, 1.2577946564907738, 1.5078303506671964, 6.3363398847633485, 4.815247922843399, 7.609260074051776, 8.512361663011045, 10.597646370586403, 7.842410044558614]\n"
     ]
    }
   ],
   "source": [
    "ex3 = []\n",
    "ex4 = []\n",
    "snr_axis = [-15, -10, -5, 0, 5,10,15,20,25,30,35,40]\n",
    "#snr_axis = [0]\n",
    "for snr in snr_axis:\n",
    "    #matrix = np.loadtxt(\"./Results_DPFL/P200_Vd2_snr_\"+str(snr)+\".dat\")\n",
    "    matrix = np.loadtxt(\"./Results_esprit_single/P200_Vd2_snr_\"+str(snr)+\".dat\")\n",
    "    matrix = np.transpose(matrix)\n",
    "    ind1 = np.where(matrix[2] == 30)\n",
    "    diff3 = matrix[0] - matrix[2]\n",
    "    diff4 = matrix[1] - matrix[3]\n",
    "    diff3[ind1] = 0\n",
    "    diff4[ind1] = 0\n",
    "    e1 = np.sum((diff3) ** 2)\n",
    "    e2 = np.sum((diff4) ** 2)\n",
    "    \n",
    "    rmse3 = np.sqrt(e1/len(matrix[0]))\n",
    "    rmse4 = np.sqrt(e2/len(matrix[0]))\n",
    "    print(np.where(np.abs(diff3)>1))\n",
    "    \n",
    "    ex3.append(float(rmse3))\n",
    "    ex4.append(float(rmse4))\n",
    "print(ex3)\n",
    "print(ex4)\n",
    "\n"
   ]
  },
  {
   "cell_type": "code",
   "execution_count": 48,
   "metadata": {},
   "outputs": [
    {
     "name": "stdout",
     "output_type": "stream",
     "text": [
      "(array([  3,   4,   5,  16,  23,  25,  28,  32,  34,  39,  41,  49,  54,\n",
      "        61,  68,  72,  75,  76,  89,  90,  91,  96,  99, 105, 111, 115,\n",
      "       116, 120, 122, 125, 128, 138, 140, 155, 158, 159, 162, 164, 166,\n",
      "       175, 181, 188, 191, 193, 197, 198], dtype=int64),)\n",
      "(array([  5,  32,  34,  39,  49,  61,  68,  75,  84,  89,  97,  99, 105,\n",
      "       118, 140, 158, 159, 160, 162, 166, 175, 181, 191, 198], dtype=int64),)\n",
      "(array([  3,   5,  84,  89, 118, 125, 158, 175, 181, 191], dtype=int64),)\n",
      "(array([ 89, 125, 181], dtype=int64),)\n",
      "(array([], dtype=int64),)\n",
      "(array([], dtype=int64),)\n",
      "(array([], dtype=int64),)\n",
      "(array([], dtype=int64),)\n",
      "(array([], dtype=int64),)\n",
      "(array([], dtype=int64),)\n",
      "(array([], dtype=int64),)\n",
      "(array([], dtype=int64),)\n",
      "[2.472568218699195, 1.2724568700745207, 0.8445294363964937, 0.5130409633006847, 0.15026890200747495, 0.13955200012312566, 0.13299220690627025, 0.13080972464235308, 0.13463398509168398, 0.13356061703687874, 0.13247855262221048, 0.13463398509168398]\n",
      "[1.8662573758770047, 2.1328090686628793, 1.0359047538865567, 0.4390240340484323, 0.4360807378675905, 0.33182499236790486, 0.32478720746525247, 0.32403995724534945, 0.1462285654850088, 0.14720959507518352, 0.14965934399316025, 0.14965934399316025]\n"
     ]
    }
   ],
   "source": [
    "ex5 = []\n",
    "ex6 = []\n",
    "snr_axis = [-15, -10, -5, 0, 5,10,15,20,25,30,35,40]\n",
    "#snr_axis = [0]\n",
    "for snr in snr_axis:\n",
    "    #matrix = np.loadtxt(\"./Results_DPFL/P200_Vd2_snr_\"+str(snr)+\".dat\")\n",
    "    matrix = np.loadtxt(\"./Results_music_double/P200_Vd2_snr_\"+str(snr)+\".dat\")\n",
    "    matrix = np.transpose(matrix)\n",
    "    ind1 = np.where(matrix[2] == 30)\n",
    "    diff5 = matrix[0] - matrix[2]\n",
    "    diff6 = matrix[1] - matrix[3]\n",
    "    diff5[ind1] = 0\n",
    "    diff6[ind1] = 0\n",
    "    e1 = np.sum((diff5) ** 2)\n",
    "    e2 = np.sum((diff6) ** 2)\n",
    "    \n",
    "    rmse5 = np.sqrt(e1/len(matrix[0]))\n",
    "    rmse6 = np.sqrt(e2/len(matrix[0]))\n",
    "    print(np.where(np.abs(diff5)>1))\n",
    "    \n",
    "    ex5.append(float(rmse5))\n",
    "    ex6.append(float(rmse6))\n",
    "print(ex5)\n",
    "print(ex6)\n",
    "\n"
   ]
  },
  {
   "cell_type": "code",
   "execution_count": 49,
   "metadata": {},
   "outputs": [
    {
     "data": {
      "image/png": "[encoded data removed]",
      "text/plain": [
       "<Figure size 640x480 with 1 Axes>"
      ]
     },
     "metadata": {},
     "output_type": "display_data"
    }
   ],
   "source": [
    "plt.title(\"N= 200 Prec.= 0.3 m/s Vdiff= 2 m/s PRI= 2 us   \")\n",
    "\n",
    "plt.plot(snr_axis, ex1,label = \"Target 1 (Esprit DPFL)\",color = \"black\")\n",
    "plt.plot(snr_axis, ex2,label = \"Target 2 (Esprit DPFL)\",color = \"green\")\n",
    "plt.plot(snr_axis, ex3,label = \"Target 1 (Esprit SPFL)\",color = \"blue\")\n",
    "plt.plot(snr_axis, ex4,label = \"Target 2 (Esprit SPFL)\",color = \"purple\")\n",
    "plt.plot(snr_axis, ex5,label = \"Target 1 (Music DPFL)\",color = \"red\")\n",
    "plt.plot(snr_axis, ex6,label = \"Target 2 (Music DPFL)\",color = \"orange\")\n",
    "plt.xlabel(\"SNR\")\n",
    "plt.ylabel(\"RMSE\")\n",
    "\n",
    "plt.grid()\n",
    "plt.tight_layout()\n",
    "plt.legend()\n",
    "plt.show()"
   ]
  },
  {
   "cell_type": "code",
   "execution_count": 26,
   "metadata": {},
   "outputs": [
    {
     "data": {
      "text/plain": [
       "(array([], dtype=int64),)"
      ]
     },
     "execution_count": 26,
     "metadata": {},
     "output_type": "execute_result"
    }
   ],
   "source": [
    "np.where(np.abs(diff2)>1)"
   ]
  },
  {
   "cell_type": "code",
   "execution_count": null,
   "metadata": {},
   "outputs": [
    {
     "data": {
      "text/plain": [
       "(array([], dtype=int64),)"
      ]
     },
     "execution_count": 35,
     "metadata": {},
     "output_type": "execute_result"
    }
   ],
   "source": [
    "np.where(np.abs(diff5)>1)"
   ]
  },
  {
   "cell_type": "code",
   "execution_count": 14,
   "metadata": {},
   "outputs": [
    {
     "data": {
      "text/plain": [
       "[1.0444756767909054,\n",
       " 1.030239163430319,\n",
       " 1.0375547751449308,\n",
       " 1.031963181992526,\n",
       " 2.2501747560601943,\n",
       " 2.3047138846529522,\n",
       " 2.247259054544501,\n",
       " 3.710998546402576,\n",
       " 3.8473562887720387,\n",
       " 2.943264982052174,\n",
       " 1.033762770405025,\n",
       " 0.07828111627594142]"
      ]
     },
     "execution_count": 14,
     "metadata": {},
     "output_type": "execute_result"
    }
   ],
   "source": [
    "ex1"
   ]
  },
  {
   "cell_type": "code",
   "execution_count": 11,
   "metadata": {},
   "outputs": [
    {
     "data": {
      "text/plain": [
       "array([-0.05025126, -0.1959799 , -0.18090452, -0.16080402, -0.1959799 ,\n",
       "        0.06030151, -0.03517588,  0.02512563, -0.05527638,  0.13567839,\n",
       "        0.2361809 , -0.13065327,  0.12562814, -0.16582915, -0.0201005 ,\n",
       "        0.25125628,  0.26633166,  0.17085427,  0.02512563,  0.01005025,\n",
       "        0.28140704, -0.1959799 ,  0.07537688,  0.04020101,  0.18592965,\n",
       "        0.04020101,  0.06030151,  0.07537688,  0.2361809 ,  0.13567839,\n",
       "        0.2160804 , -0.07035176, -0.13065327, -0.1959799 , -0.16080402,\n",
       "       -0.07035176, -0.18090452, -0.1959799 ,  0.10552764,  0.33165829,\n",
       "        0.28140704,  0.33165829, -0.16582915,  0.12562814,  0.28140704,\n",
       "       -0.21105528, -0.00502513,  0.06030151,  0.18592965, -0.00502513,\n",
       "       -0.00502513,  0.17085427,  0.23115578, -0.08542714,  0.06030151,\n",
       "        0.12562814,  0.04522613,  0.24623116,  0.10552764, -0.21105528,\n",
       "        0.10552764,  0.04522613, -0.16582915, -0.05527638, -0.11557789,\n",
       "        0.06030151,  0.17085427, -0.1959799 ,  0.2361809 ,  0.04522613,\n",
       "        0.09045226,  0.2361809 ,  0.04020101, -0.10050251,  0.12562814,\n",
       "       -0.1959799 ,  0.15577889,  0.10552764, -0.21105528,  0.01005025,\n",
       "       -0.11557789,  0.2160804 , -0.00502513, -0.21105528,  0.12562814,\n",
       "       -0.13065327,  0.01005025,  0.09045226, -0.10050251, -0.18090452,\n",
       "        0.17085427,  0.18592965, -0.16582915,  0.18592965, -0.18090452,\n",
       "        0.02512563,  0.09045226, -0.13065327, -0.11557789,  0.04020101,\n",
       "        0.04020101, -0.05025126,  0.04522613,  0.13567839, -0.0201005 ,\n",
       "        0.06030151,  0.2361809 , -0.15075377, -0.08542714,  0.02512563,\n",
       "        0.04020101, -0.13065327, -0.00502513, -0.05025126,  0.23115578,\n",
       "       -0.15075377,  0.17085427,  0.07537688,  0.15577889,  0.2361809 ,\n",
       "        0.02512563,  0.09045226, -0.00502513,  0.04020101, -0.08542714,\n",
       "       -0.03517588,  0.2160804 ,  0.12060302, -0.15075377,  0.24623116,\n",
       "       -0.03517588,  0.04522613,  0.28140704,  0.24623116,  0.13567839,\n",
       "        0.15577889,  0.04522613,  0.20100503, -0.16582915,  0.02512563,\n",
       "       -0.0201005 ,  0.04522613,  0.23115578,  0.04020101,  0.25125628,\n",
       "       -0.10050251,  0.26633166,  0.2160804 ,  0.04522613, -0.14572864,\n",
       "       -0.21105528,  0.02512563,  0.24623116,  0.18592965, -0.03517588,\n",
       "        0.07537688,  0.06030151,  0.23115578, -0.16582915,  0.07537688,\n",
       "       -0.16080402,  0.04020101, -0.16582915,  0.02512563, -0.15075377,\n",
       "       -0.21105528,  0.25125628,  0.04020101,  0.04522613,  0.02512563,\n",
       "        0.09045226, -0.07035176, -0.16582915,  0.04020101, -0.16582915,\n",
       "       -0.0201005 ,  0.01005025,  0.25125628,  0.12060302,  0.26633166,\n",
       "        0.20100503, -0.00502513, -0.16582915, -0.16582915, -0.08542714,\n",
       "       -0.03517588, -0.21105528,  0.02512563, -0.0201005 , -0.05527638,\n",
       "       -0.00502513, -0.03517588,  0.04522613,  0.25125628,  0.18592965,\n",
       "       -0.15075377,  0.20100503, -0.07035176, -0.21105528, -0.14572864])"
      ]
     },
     "execution_count": 11,
     "metadata": {},
     "output_type": "execute_result"
    }
   ],
   "source": [
    "diff2"
   ]
  },
  {
   "cell_type": "code",
   "execution_count": 15,
   "metadata": {},
   "outputs": [
    {
     "data": {
      "text/plain": [
       "(12,)"
      ]
     },
     "execution_count": 15,
     "metadata": {},
     "output_type": "execute_result"
    }
   ],
   "source": [
    "np.shape(ex1)"
   ]
  },
  {
   "cell_type": "code",
   "execution_count": 16,
   "metadata": {},
   "outputs": [
    {
     "data": {
      "text/plain": [
       "(200,)"
      ]
     },
     "execution_count": 16,
     "metadata": {},
     "output_type": "execute_result"
    }
   ],
   "source": [
    "np.shape(diff1)"
   ]
  },
  {
   "cell_type": "code",
   "execution_count": 36,
   "metadata": {},
   "outputs": [
    {
     "data": {
      "text/plain": [
       "(array([  0,   1,   2,   3,   6,   7,   8,   9,  10,  12,  13,  14,  15,\n",
       "         17,  19,  21,  24,  26,  27,  30,  31,  33,  34,  35,  38,  40,\n",
       "         41,  42,  44,  45,  46,  47,  48,  49,  50,  51,  53,  56,  57,\n",
       "         58,  59,  60,  63,  64,  66,  67,  69,  70,  71,  76,  77,  81,\n",
       "         82,  83,  85,  86,  88,  89,  90,  95,  96,  97,  98, 102, 104,\n",
       "        106, 107, 108, 109, 110, 113, 114, 116, 117, 118, 119, 120, 122,\n",
       "        124, 125, 127, 128, 130, 132, 136, 138, 139, 140, 141, 142, 143,\n",
       "        145, 146, 147, 148, 149, 150, 153, 154, 156, 157, 158, 160, 161,\n",
       "        162, 163, 164, 165, 168, 172, 174, 175, 176, 179, 184, 185, 187,\n",
       "        188, 190, 191, 192, 193, 194, 195, 196, 199], dtype=int64),)"
      ]
     },
     "execution_count": 36,
     "metadata": {},
     "output_type": "execute_result"
    }
   ],
   "source": [
    "np.where(np.abs(diff4)>1)"
   ]
  },
  {
   "cell_type": "code",
   "execution_count": 37,
   "metadata": {},
   "outputs": [
    {
     "data": {
      "text/plain": [
       "array([ -1.53992081,  -1.44889069,  -1.70272017,   3.38551712,\n",
       "        -0.60052776,   0.43745804,  -1.73488045, -13.26861763,\n",
       "       -11.98690319,   1.34691191,  -3.44889069,  -0.57573509,\n",
       "         1.39120674,  -1.49932432,  -1.49916458,   1.26380157,\n",
       "         0.63020897, -11.79383087,  -0.53683519,  -6.87328434,\n",
       "         0.4041338 ,  -1.79826832,  -0.83681107,  -0.81455398,\n",
       "        -1.40971661,   0.95791519,  -1.19716644,  -1.29857445,\n",
       "         0.84665108,  -0.49488831,  -5.79460526,  -1.12385035,\n",
       "        -0.52372742, -15.43073654,  -1.0794735 ,  -8.97102737,\n",
       "        -0.66102314,  -0.94894981,   1.31629038,  -0.67086601,\n",
       "         1.35103321,   1.06338501,  -1.02692223,   0.3472805 ,\n",
       "         1.08510399, -16.48566818,   1.09076595,  -1.56382751,\n",
       "         1.0004425 ,  -1.34063053,   1.0309763 ,   1.37449074,\n",
       "         0.70525122,   4.98573375,   0.25206757,   0.71038818,\n",
       "        -1.51241493, -17.9336834 ,   1.43581343,  -1.53165436,\n",
       "         1.19239569,   0.74677467,  -0.73094678,  -1.4915309 ,\n",
       "        -1.11211395,  -0.42896271,   1.56698036,  -1.03374481,\n",
       "         0.61847115,   1.14142227,   1.2941618 ,   1.06059456,\n",
       "        -0.49207759,  -0.64463806,   0.23987198,  -0.10634899,\n",
       "        -8.69459915,   1.15602493,  -0.83425522,   0.97352409,\n",
       "        -0.9977951 ,   1.06658077,   1.09694004,  -1.32170105,\n",
       "         0.89229202,  -1.29290009,  -1.85000896,   0.72869396,\n",
       "        -1.37228584,  -7.88312435,   1.35779095,   0.34633732,\n",
       "        -0.95952988,   0.68787479,  -0.95932245,  -6.06068993,\n",
       "        -1.10484886,   2.65756512,  -1.4365654 ,  -0.98345923,\n",
       "         0.91921139,  -0.99134445,  -1.28528976,   0.49797535,\n",
       "        -1.17737389,   0.72164154,   1.00631905,  -1.20377362,\n",
       "       -22.38386536,   3.14386773,  -1.05458021,  -0.61388779,\n",
       "         0.83684063,  -1.33039665,   1.86745095,  -0.90808505,\n",
       "         1.17201519,   1.25364876,   1.19986916,   1.05654526,\n",
       "        -4.82206154,   0.97923756,   1.09927559,  -0.93949437,\n",
       "        -1.45752239,   4.39605999,  -0.36283684,   1.19416666,\n",
       "        -1.10147071,   0.71958128,   3.37514496,   0.91876793,\n",
       "         1.16656494,   0.57269555,   0.7318511 ,   0.52573967,\n",
       "         1.18022537,   0.78356838,  -1.05810356,   1.35462427,\n",
       "         6.89129305,   4.08472061,   1.29250908,  -1.15172005,\n",
       "         0.81957436,   1.19439888,   1.46069908,   1.10219431,\n",
       "        -1.17594719,  -1.64667511,  -1.14789677,  -0.92452097,\n",
       "         0.93595549,   1.12247086,  -1.19421005,  -0.54828739,\n",
       "        14.72618794,   1.01672578,  -1.06122732,  -0.53453827,\n",
       "         8.45435047,   1.12497306,  -9.84751129,   1.35209131,\n",
       "        -1.09798825,  -1.14895058,   0.84879494,   0.53263295,\n",
       "         1.17360878,   0.32036114,   0.8769846 ,  -0.86475706,\n",
       "       -17.21771049,  -0.96257687, -15.04110336,  -1.01735306,\n",
       "         1.18181705,   0.87026596,   0.70483017,   1.39871311,\n",
       "         0.9848938 ,  -0.6655035 ,  -0.6743989 ,  -0.84779763,\n",
       "         2.19078207,  -1.42961693,  -0.82249832,  -1.68514156,\n",
       "         4.39070892,  -0.639871  ,   1.25567532,  -1.23556137,\n",
       "        -1.64053535,  -8.88640785,   1.28019905,  -1.26561236,\n",
       "         1.32191086,  -0.57474613,  -0.67411137,  16.77013087])"
      ]
     },
     "execution_count": 37,
     "metadata": {},
     "output_type": "execute_result"
    }
   ],
   "source": [
    "diff4"
   ]
  },
  {
   "cell_type": "code",
   "execution_count": 38,
   "metadata": {},
   "outputs": [
    {
     "data": {
      "text/plain": [
       "array([  0.46007919,  -3.92613125,   0.29727983,   0.58239174,\n",
       "        -1.59036255,   3.02849579,   0.26511955,  -1.28458261,\n",
       "         0.83381057,  -0.65308809,  -1.1348896 ,   1.42426491,\n",
       "         1.9468174 ,   0.50067568,  -0.8441906 ,   7.29743004,\n",
       "        -1.36979103,  -1.35130024,   1.46316481,   1.05006027,\n",
       "        -1.5958662 ,  -7.70899773,   1.16318893, -19.21535301,\n",
       "        -1.24296856, -27.35414314,   0.80283356, -10.24448204,\n",
       "         9.66421223,  -1.94650722,  -1.02488232,   0.87614965,\n",
       "         1.47627258,   1.33347607,   0.9205265 ,   0.96300602,\n",
       "         1.33897686, -15.91121101,  -4.17737579,  -2.23571014,\n",
       "        -0.64896679,   7.00168037,   0.97307777,  -1.6527195 ,\n",
       "        -3.86434174,   1.03281689, -11.60430145,   0.43617249,\n",
       "         7.44643927, -15.94599533, -17.66253853, -12.27151108,\n",
       "        -1.29474878,   1.12970257,  -1.74793243,  22.47308946,\n",
       "         0.48758507,   0.91842179,  -0.56418657,   0.46834564,\n",
       "        -0.80760431,  17.48691416,   1.26905322,   0.5084691 ,\n",
       "         0.88788605,  -2.42896271,  -0.43301964,   0.96625519,\n",
       "        -1.38152885,  -0.85857773,  -0.7058382 ,  14.58283806,\n",
       "         0.9948523 ,   1.35536194,  -1.2511158 ,   1.00968647,\n",
       "        -1.62605476,  -0.84397507,   1.16574478, -23.82073784,\n",
       "         0.76216698,  -6.62024975, -18.58157349,   0.67829895,\n",
       "        -1.10770798,  -1.04360008,   1.33377457,  -0.18210411,\n",
       "         0.62771416,   1.14221478,  -0.64220905,  -1.65366268,\n",
       "         1.04047012,  -1.31212521,  -3.02946568,   0.76957798,\n",
       "        -0.98990536,   1.19282532, -13.48838425,   1.01654077,\n",
       "        -1.08078861,   1.00865555,   0.71471024,  -1.50202465,\n",
       "         0.82262611,  -1.27835846,  -0.99368095,   0.79622638,\n",
       "         0.68254375,   1.02651262,   0.94541979,   1.38611221,\n",
       "        -1.16315937,   0.66960335,  -1.76372385,   1.09191495,\n",
       "         6.90711021,   9.81595397,   0.27136803,   9.32403946,\n",
       "         1.12314939,  -1.02076244,   0.458148  , -10.80130005,\n",
       "         0.54247761,   0.97379494,  -1.80469751,  -0.80583334,\n",
       "         0.89852929,   0.71958128,   1.47137451,  -1.08123207,\n",
       "       -15.25669289,   0.57269555,  -1.2681489 ,  -1.47426033,\n",
       "        -0.81977463,   2.34744883,   0.94189644,   0.746387  ,\n",
       "         1.10771942,   1.20635796, -25.79701424, -10.28636169,\n",
       "        -1.18042564,   1.03469086,  -0.53930092,   4.00442147,\n",
       "         0.82405281,   0.35332489,   0.85210323,  -4.24679279,\n",
       "         0.93595549,  -0.87752914,   0.80578995,   1.45171261,\n",
       "         0.82178879,  -0.98327422,   0.93877268,   1.46546173,\n",
       "         1.00937843,  -0.87502694,   1.34820962,  -8.48411465,\n",
       "         0.90201175,   0.85104942,  -1.15120506,  -1.46736705,\n",
       "        -0.82639122,  -1.67963886,  -3.72730446, -11.58971214,\n",
       "         1.04128695,   1.03742313,   1.21932578,   0.98264694,\n",
       "       -12.30671692,  -1.12973404, -25.66089821,  -0.60128689,\n",
       "        -1.70611095,   1.3344965 ,   1.3256011 , -24.82779503,\n",
       "         1.30250692,   0.57038307,   1.17750168,  -3.52887917,\n",
       "         1.06330204,   1.360129  ,  -1.91763973,   0.76443863,\n",
       "         0.35946465,  -1.25841141,   7.94487786,   0.73438764,\n",
       "        -0.67808914,   1.42525387,   1.32588863,   1.09888268])"
      ]
     },
     "execution_count": 38,
     "metadata": {},
     "output_type": "execute_result"
    }
   ],
   "source": [
    "diff3"
   ]
  },
  {
   "cell_type": "code",
   "execution_count": 50,
   "metadata": {},
   "outputs": [
    {
     "data": {
      "text/plain": [
       "(array([], dtype=int64),)"
      ]
     },
     "execution_count": 50,
     "metadata": {},
     "output_type": "execute_result"
    }
   ],
   "source": [
    "ind1"
   ]
  },
  {
   "cell_type": "code",
   "execution_count": 52,
   "metadata": {},
   "outputs": [],
   "source": [
    "matrix = np.loadtxt(\"./Results_esprit_single/P200_Vd2_snr_\"+str(snr)+\".dat\")\n",
    "matrix = np.transpose(matrix)\n",
    "ind = np.where(matrix[2] == 30)"
   ]
  },
  {
   "cell_type": "code",
   "execution_count": 53,
   "metadata": {},
   "outputs": [
    {
     "data": {
      "text/plain": [
       "(array([], dtype=int64),)"
      ]
     },
     "execution_count": 53,
     "metadata": {},
     "output_type": "execute_result"
    }
   ],
   "source": [
    "ind"
   ]
  },
  {
   "cell_type": "code",
   "execution_count": 54,
   "metadata": {},
   "outputs": [
    {
     "data": {
      "text/plain": [
       "(array([], dtype=int64),)"
      ]
     },
     "execution_count": 54,
     "metadata": {},
     "output_type": "execute_result"
    }
   ],
   "source": [
    "np.where(matrix[3] == 30)"
   ]
  },
  {
   "cell_type": "code",
   "execution_count": 55,
   "metadata": {},
   "outputs": [
    {
     "data": {
      "text/plain": [
       "(array([], dtype=int64),)"
      ]
     },
     "execution_count": 55,
     "metadata": {},
     "output_type": "execute_result"
    }
   ],
   "source": [
    "np.where(matrix[0] == 30)"
   ]
  },
  {
   "cell_type": "code",
   "execution_count": 56,
   "metadata": {},
   "outputs": [
    {
     "data": {
      "text/plain": [
       "(array([], dtype=int64),)"
      ]
     },
     "execution_count": 56,
     "metadata": {},
     "output_type": "execute_result"
    }
   ],
   "source": [
    "np.where(matrix[1] == 30)"
   ]
  },
  {
   "cell_type": "code",
   "execution_count": 61,
   "metadata": {},
   "outputs": [],
   "source": [
    "ind3 = np.where(np.abs(diff4)>1)"
   ]
  },
  {
   "cell_type": "code",
   "execution_count": 72,
   "metadata": {},
   "outputs": [
    {
     "name": "stdout",
     "output_type": "stream",
     "text": [
      "[ 20.   9.   6.  22.  17.  -5.   1.  -3. -23. -25.   3.  14. -20. -16.\n",
      "   8.   9. -13.  18.  15.  -7.   4.   9.  22.   4.  -9. -14. -24.   3.\n",
      " -14.  12. -11.  18. -13.  11. -11. -16.   7.  21.  -1.  -9.  12.  -9.\n",
      "   1.  13. -16.   9. -21. -12. -23. -19.  -9.  -7. -11.  12.  16.   8.\n",
      "  10.   6. -16.   5. -12.  16.  13.  21.  14. -23.   0.   7.   5.   2.\n",
      "  20.  -4. -16. -15. -19. -23.   5. -11.   7.  17.  -6.   0.  -1.  17.\n",
      " -14. -21.   3.   5.  14.  21.  -4.   2.  10. -17.  -7.  21.  19.  12.\n",
      "  -1. -13.  17.  18.  -4.   3.  22.  -2.   3.  -5.   0.  12. -21.   3.\n",
      "   3.  14.  -8. -17.   7.  17.   5.  14. -11.  17.  21. -20. -13.   0.\n",
      " -10.  19.] [ 21.53992081  10.44889069   7.70272017  18.61448288  18.73488045\n",
      " -18.26861763 -12.98690319  -1.65308809 -26.44889069 -23.60879326\n",
      "   4.49932432  15.49916458 -18.73619843 -27.79383087 -14.87328434\n",
      "  10.79826832 -14.40971661  19.19716644  16.29857445 -12.79460526\n",
      "   5.12385035 -24.43073654  23.0794735  -12.97102737  -7.68370962\n",
      " -12.64896679 -22.93661499   4.02692223 -12.91489601 -28.48566818\n",
      "  -9.90923405  19.56382751 -11.9995575   12.34063053  -9.9690237\n",
      " -14.62550926   2.01426625  22.51241493 -18.9336834   -7.56418657\n",
      "  13.53165436  -7.80760431   2.4915309   14.11211395 -14.43301964\n",
      "  10.03374481 -19.85857773 -10.7058382  -21.93940544 -27.69459915\n",
      "  -7.84397507  -5.93341923  -9.90305996  13.32170105  17.29290009\n",
      "  -9.85000896  11.37228584 -13.88312435 -14.64220905 -11.06068993\n",
      " -13.10484886  13.34243488  14.4365654   22.28528976  15.17737389\n",
      " -21.99368095   1.20377362 -29.38386536  -1.85613227   3.05458021\n",
      "  21.33039665  -2.13254905 -14.82798481 -13.74635124 -17.80013084\n",
      " -21.94345474  -9.82206154  -9.90072441   8.45752239 -12.60394001\n",
      "  -4.80583334   1.10147071   0.28041872 -13.62485504 -12.83343506\n",
      " -19.81977463   4.05810356  -3.64537573  -7.10870695  16.91527939\n",
      "  -2.70749092   3.15172005  -8.80560112 -15.53930092  -5.89780569\n",
      "  22.17594719  20.64667511  13.14789677   0.06404451 -11.87752914\n",
      "  18.19421005  -3.27381206  -2.98327422   4.06122732  13.54564953\n",
      "  -0.87502694 -12.84751129  -3.64790869   1.09798825  13.14895058\n",
      " -19.82639122 -20.21771049 -18.04110336  15.01735306  -6.81818295\n",
      " -15.60128689  -4.80921793  18.42961693   6.68514156   9.60929108\n",
      "  -9.74432468  18.23556137  22.64053535 -28.88640785 -11.71980095\n",
      "   1.26561236  -8.67808914   2.22986913]\n",
      "[-1.53992081 -1.44889069 -1.70272017  3.38551712 -1.73488045 13.26861763\n",
      " 13.98690319 -1.34691191  3.44889069 -1.39120674 -1.49932432 -1.49916458\n",
      " -1.26380157 11.79383087 22.87328434 -1.79826832  1.40971661 -1.19716644\n",
      " -1.29857445  5.79460526 -1.12385035 33.43073654 -1.0794735  16.97102737\n",
      " -1.31629038 -1.35103321 -1.06338501 -1.02692223 -1.08510399 40.48566818\n",
      " -1.09076595 -1.56382751 -1.0004425  -1.34063053 -1.0309763  -1.37449074\n",
      "  4.98573375 -1.51241493 17.9336834  -1.43581343 -1.53165436 -1.19239569\n",
      " -1.4915309  -1.11211395 -1.56698036 -1.03374481 -1.14142227 -1.2941618\n",
      " -1.06059456  8.69459915 -1.15602493 -1.06658077 -1.09694004 -1.32170105\n",
      " -1.29290009 17.85000896 -1.37228584 19.88312435 -1.35779095 16.06068993\n",
      "  1.10484886  2.65756512 -1.4365654  -1.28528976 -1.17737389 -1.00631905\n",
      " -1.20377362 36.38386536  6.85613227 -1.05458021 -1.33039665 -1.86745095\n",
      " -1.17201519 -1.25364876 -1.19986916 -1.05654526 14.82206154 -1.09927559\n",
      " -1.45752239 29.60394001 -1.19416666 -1.10147071 -1.28041872 30.62485504\n",
      " -1.16656494 -1.18022537 -1.05810356  8.64537573 21.10870695  4.08472061\n",
      " -1.29250908 -1.15172005 18.80560112 -1.46069908 -1.10219431 -1.17594719\n",
      " -1.64667511 -1.14789677 -1.06404451 -1.12247086 -1.19421005 21.27381206\n",
      " -1.01672578 -1.06122732  8.45435047 -1.12497306 15.84751129 -1.35209131\n",
      " -1.09798825 -1.14895058 -1.17360878 23.21771049 21.04110336 -1.01735306\n",
      " -1.18181705 -1.39871311 11.80921793 -1.42961693 -1.68514156  4.39070892\n",
      " -1.25567532 -1.23556137 -1.64053535  8.88640785 -1.28019905 -1.26561236\n",
      " -1.32191086 16.77013087]\n"
     ]
    }
   ],
   "source": [
    "for i in ind3:\n",
    "    print(matrix[1][i], matrix[3][i])\n",
    "    print(matrix[1][i]- matrix[3][i])"
   ]
  },
  {
   "cell_type": "code",
   "execution_count": 66,
   "metadata": {},
   "outputs": [
    {
     "data": {
      "text/plain": [
       "(4, 200)"
      ]
     },
     "execution_count": 66,
     "metadata": {},
     "output_type": "execute_result"
    }
   ],
   "source": [
    "np.shape(matrix)"
   ]
  },
  {
   "cell_type": "code",
   "execution_count": 73,
   "metadata": {},
   "outputs": [
    {
     "data": {
      "text/plain": [
       "array([-1.53992081, -1.44889069, -1.70272017,  3.38551712, -0.60052776,\n",
       "       -0.43745804, -1.73488045, 13.26861763, 13.98690319, -1.34691191,\n",
       "        3.44889069, -0.57573509, -1.39120674, -1.49932432, -1.49916458,\n",
       "       -1.26380157, -0.63020897, 11.79383087, -0.53683519, 22.87328434,\n",
       "       -0.4041338 , -1.79826832, -0.83681107, -0.81455398,  1.40971661,\n",
       "       -0.95791519, -1.19716644, -1.29857445, -0.84665108,  0.49488831,\n",
       "        5.79460526, -1.12385035, -0.52372742, 33.43073654, -1.0794735 ,\n",
       "       16.97102737, -0.66102314, -0.94894981, -1.31629038,  0.67086601,\n",
       "       -1.35103321, -1.06338501, -1.02692223, -0.3472805 , -1.08510399,\n",
       "       40.48566818, -1.09076595, -1.56382751, -1.0004425 , -1.34063053,\n",
       "       -1.0309763 , -1.37449074, -0.70525122,  4.98573375, -0.25206757,\n",
       "       -0.71038818, -1.51241493, 17.9336834 , -1.43581343, -1.53165436,\n",
       "       -1.19239569, -0.74677467, -0.73094678, -1.4915309 , -1.11211395,\n",
       "        0.42896271, -1.56698036, -1.03374481, -0.61847115, -1.14142227,\n",
       "       -1.2941618 , -1.06059456, -0.49207759, -0.64463806, -0.23987198,\n",
       "       -0.10634899,  8.69459915, -1.15602493, -0.83425522, -0.97352409,\n",
       "       -0.9977951 , -1.06658077, -1.09694004, -1.32170105, -0.89229202,\n",
       "       -1.29290009, 17.85000896, -0.72869396, -1.37228584, 19.88312435,\n",
       "       -1.35779095, -0.34633732, -0.95952988, -0.68787479, -0.95932245,\n",
       "       16.06068993,  1.10484886,  2.65756512, -1.4365654 , -0.98345923,\n",
       "       -0.91921139, -0.99134445, -1.28528976, -0.49797535, -1.17737389,\n",
       "       -0.72164154, -1.00631905, -1.20377362, 36.38386536,  6.85613227,\n",
       "       -1.05458021, -0.61388779, -0.83684063, -1.33039665, -1.86745095,\n",
       "       -0.90808505, -1.17201519, -1.25364876, -1.19986916, -1.05654526,\n",
       "       14.82206154, -0.97923756, -1.09927559, -0.93949437, -1.45752239,\n",
       "       29.60394001,  0.36283684, -1.19416666, -1.10147071, -1.28041872,\n",
       "       30.62485504, -0.91876793, -1.16656494, -0.57269555, -0.7318511 ,\n",
       "       -0.52573967, -1.18022537, -0.78356838, -1.05810356,  8.64537573,\n",
       "       21.10870695,  4.08472061, -1.29250908, -1.15172005, -0.81957436,\n",
       "       18.80560112, -1.46069908, -1.10219431, -1.17594719, -1.64667511,\n",
       "       -1.14789677, -0.92452097, -1.06404451, -1.12247086, -1.19421005,\n",
       "       -0.54828739, 21.27381206, -1.01672578, -1.06122732, -0.53453827,\n",
       "        8.45435047, -1.12497306, 15.84751129, -1.35209131, -1.09798825,\n",
       "       -1.14895058, -0.84879494, -0.53263295, -1.17360878, -0.32036114,\n",
       "       -0.8769846 , -0.86475706, 23.21771049, -0.96257687, 21.04110336,\n",
       "       -1.01735306, -1.18181705, -0.87026596, -0.70483017, -1.39871311,\n",
       "       -0.9848938 , -0.6655035 , -0.6743989 , -0.84779763, 11.80921793,\n",
       "       -1.42961693, -0.82249832, -1.68514156,  4.39070892, -0.639871  ,\n",
       "       -1.25567532, -1.23556137, -1.64053535,  8.88640785, -1.28019905,\n",
       "       -1.26561236, -1.32191086, -0.57474613, -0.67411137, 16.77013087])"
      ]
     },
     "execution_count": 73,
     "metadata": {},
     "output_type": "execute_result"
    }
   ],
   "source": [
    "diff4"
   ]
  },
  {
   "cell_type": "code",
   "execution_count": null,
   "metadata": {},
   "outputs": [],
   "source": []
  }
 ],
 "metadata": {
  "kernelspec": {
   "display_name": "base",
   "language": "python",
   "name": "python3"
  },
  "language_info": {
   "codemirror_mode": {
    "name": "ipython",
    "version": 3
   },
   "file_extension": ".py",
   "mimetype": "text/x-python",
   "name": "python",
   "nbconvert_exporter": "python",
   "pygments_lexer": "ipython3",
   "version": "3.12.7"
  }
 },
 "nbformat": 4,
 "nbformat_minor": 4
}
