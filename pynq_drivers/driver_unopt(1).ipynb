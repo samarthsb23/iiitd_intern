{
 "cells": [
  {
   "cell_type": "code",
   "execution_count": 26,
   "metadata": {},
   "outputs": [],
   "source": [
    "from pynq import Overlay\n",
    "ol = Overlay('matrix1.bit')"
   ]
  },
  {
   "cell_type": "code",
   "execution_count": 2,
   "metadata": {},
   "outputs": [],
   "source": [
    "ol?"
   ]
  },
  {
   "cell_type": "code",
   "execution_count": 27,
   "metadata": {},
   "outputs": [],
   "source": [
    "dma = ol.axi_dma_0"
   ]
  },
  {
   "cell_type": "code",
   "execution_count": 4,
   "metadata": {},
   "outputs": [],
   "source": [
    "dma?"
   ]
  },
  {
   "cell_type": "code",
   "execution_count": 28,
   "metadata": {},
   "outputs": [],
   "source": [
    "data_send = dma.sendchannel\n",
    "data_recv = dma.recvchannel"
   ]
  },
  {
   "cell_type": "code",
   "execution_count": 29,
   "metadata": {},
   "outputs": [],
   "source": [
    "import numpy as np\n",
    "import matplotlib as plt\n",
    "import random"
   ]
  },
  {
   "cell_type": "code",
   "execution_count": 30,
   "metadata": {},
   "outputs": [],
   "source": [
    "MAT_SIZE = 8\n",
    "data_A = np.random.randint(low=0, high=10, size=(8, 8)).astype(np.float32)\n",
    "data_B = np.random.randint(low=0, high=10, size=(8, 8)).astype(np.float32)"
   ]
  },
  {
   "cell_type": "code",
   "execution_count": 31,
   "metadata": {},
   "outputs": [
    {
     "data": {
      "text/plain": [
       "array([[0., 3., 6., 8., 6., 1., 6., 2.],\n",
       "       [2., 5., 5., 5., 1., 2., 4., 4.],\n",
       "       [2., 5., 5., 9., 4., 6., 6., 7.],\n",
       "       [1., 3., 3., 7., 0., 4., 3., 1.],\n",
       "       [2., 2., 5., 2., 7., 1., 9., 0.],\n",
       "       [0., 8., 9., 0., 9., 2., 9., 0.],\n",
       "       [3., 7., 0., 6., 3., 4., 1., 7.],\n",
       "       [2., 2., 7., 4., 4., 9., 4., 1.]], dtype=float32)"
      ]
     },
     "execution_count": 31,
     "metadata": {},
     "output_type": "execute_result"
    }
   ],
   "source": [
    "data_A"
   ]
  },
  {
   "cell_type": "code",
   "execution_count": 32,
   "metadata": {},
   "outputs": [
    {
     "data": {
      "text/plain": [
       "array([[7., 7., 1., 5., 2., 8., 0., 2.],\n",
       "       [8., 4., 0., 6., 9., 1., 1., 0.],\n",
       "       [5., 6., 9., 6., 3., 8., 7., 2.],\n",
       "       [9., 4., 3., 3., 2., 5., 8., 5.],\n",
       "       [4., 2., 0., 6., 9., 0., 2., 1.],\n",
       "       [8., 1., 8., 7., 6., 7., 4., 9.],\n",
       "       [5., 1., 0., 1., 3., 1., 6., 1.],\n",
       "       [9., 6., 2., 0., 7., 7., 0., 4.]], dtype=float32)"
      ]
     },
     "execution_count": 32,
     "metadata": {},
     "output_type": "execute_result"
    }
   ],
   "source": [
    "data_B"
   ]
  },
  {
   "cell_type": "code",
   "execution_count": 37,
   "metadata": {},
   "outputs": [
    {
     "name": "stdout",
     "output_type": "stream",
     "text": [
      "CPU times: user 922 µs, sys: 66 µs, total: 988 µs\n",
      "Wall time: 796 µs\n"
     ]
    },
    {
     "data": {
      "text/plain": [
       "array([[206., 111.,  90., 127., 153., 118., 161.,  81.],\n",
       "       [200., 116.,  86., 109., 135., 132., 114.,  78.],\n",
       "       [317., 162., 136., 169., 221., 203., 180., 151.],\n",
       "       [165.,  78.,  83.,  93.,  92., 108., 114.,  86.],\n",
       "       [154.,  84.,  61., 116., 137.,  84., 125.,  49.],\n",
       "       [206., 115.,  97., 179., 219., 103., 151.,  54.],\n",
       "       [243., 126.,  67., 122., 184., 139.,  83., 104.],\n",
       "       [218., 107., 151., 167., 160., 168., 151., 131.]], dtype=float32)"
      ]
     },
     "execution_count": 37,
     "metadata": {},
     "output_type": "execute_result"
    }
   ],
   "source": [
    "%%time\n",
    "np.dot(data_A, data_B) #software"
   ]
  },
  {
   "cell_type": "code",
   "execution_count": 38,
   "metadata": {},
   "outputs": [],
   "source": [
    "from pynq import allocate"
   ]
  },
  {
   "cell_type": "code",
   "execution_count": 10,
   "metadata": {},
   "outputs": [],
   "source": [
    "allocate?"
   ]
  },
  {
   "cell_type": "code",
   "execution_count": 39,
   "metadata": {},
   "outputs": [],
   "source": [
    "#combining inputs for buffer \n",
    "data_a_f = data_A.flatten()\n",
    "data_b_f = data_B.flatten()\n",
    "\n",
    "data_input = np.concatenate([data_a_f, data_b_f])"
   ]
  },
  {
   "cell_type": "code",
   "execution_count": 40,
   "metadata": {},
   "outputs": [
    {
     "data": {
      "text/plain": [
       "array([[0., 3., 6., 8., 6., 1., 6., 2.],\n",
       "       [2., 5., 5., 5., 1., 2., 4., 4.],\n",
       "       [2., 5., 5., 9., 4., 6., 6., 7.],\n",
       "       [1., 3., 3., 7., 0., 4., 3., 1.],\n",
       "       [2., 2., 5., 2., 7., 1., 9., 0.],\n",
       "       [0., 8., 9., 0., 9., 2., 9., 0.],\n",
       "       [3., 7., 0., 6., 3., 4., 1., 7.],\n",
       "       [2., 2., 7., 4., 4., 9., 4., 1.]], dtype=float32)"
      ]
     },
     "execution_count": 40,
     "metadata": {},
     "output_type": "execute_result"
    }
   ],
   "source": [
    "data_A"
   ]
  },
  {
   "cell_type": "code",
   "execution_count": 41,
   "metadata": {},
   "outputs": [
    {
     "data": {
      "text/plain": [
       "array([0., 3., 6., 8., 6., 1., 6., 2., 2., 5., 5., 5., 1., 2., 4., 4., 2.,\n",
       "       5., 5., 9., 4., 6., 6., 7., 1., 3., 3., 7., 0., 4., 3., 1., 2., 2.,\n",
       "       5., 2., 7., 1., 9., 0., 0., 8., 9., 0., 9., 2., 9., 0., 3., 7., 0.,\n",
       "       6., 3., 4., 1., 7., 2., 2., 7., 4., 4., 9., 4., 1.], dtype=float32)"
      ]
     },
     "execution_count": 41,
     "metadata": {},
     "output_type": "execute_result"
    }
   ],
   "source": [
    "data_a_f"
   ]
  },
  {
   "cell_type": "code",
   "execution_count": 42,
   "metadata": {},
   "outputs": [
    {
     "data": {
      "text/plain": [
       "array([[7., 7., 1., 5., 2., 8., 0., 2.],\n",
       "       [8., 4., 0., 6., 9., 1., 1., 0.],\n",
       "       [5., 6., 9., 6., 3., 8., 7., 2.],\n",
       "       [9., 4., 3., 3., 2., 5., 8., 5.],\n",
       "       [4., 2., 0., 6., 9., 0., 2., 1.],\n",
       "       [8., 1., 8., 7., 6., 7., 4., 9.],\n",
       "       [5., 1., 0., 1., 3., 1., 6., 1.],\n",
       "       [9., 6., 2., 0., 7., 7., 0., 4.]], dtype=float32)"
      ]
     },
     "execution_count": 42,
     "metadata": {},
     "output_type": "execute_result"
    }
   ],
   "source": [
    "data_B"
   ]
  },
  {
   "cell_type": "code",
   "execution_count": 43,
   "metadata": {},
   "outputs": [
    {
     "data": {
      "text/plain": [
       "array([7., 7., 1., 5., 2., 8., 0., 2., 8., 4., 0., 6., 9., 1., 1., 0., 5.,\n",
       "       6., 9., 6., 3., 8., 7., 2., 9., 4., 3., 3., 2., 5., 8., 5., 4., 2.,\n",
       "       0., 6., 9., 0., 2., 1., 8., 1., 8., 7., 6., 7., 4., 9., 5., 1., 0.,\n",
       "       1., 3., 1., 6., 1., 9., 6., 2., 0., 7., 7., 0., 4.], dtype=float32)"
      ]
     },
     "execution_count": 43,
     "metadata": {},
     "output_type": "execute_result"
    }
   ],
   "source": [
    "data_b_f"
   ]
  },
  {
   "cell_type": "code",
   "execution_count": 44,
   "metadata": {},
   "outputs": [
    {
     "data": {
      "text/plain": [
       "array([0., 3., 6., 8., 6., 1., 6., 2., 2., 5., 5., 5., 1., 2., 4., 4., 2.,\n",
       "       5., 5., 9., 4., 6., 6., 7., 1., 3., 3., 7., 0., 4., 3., 1., 2., 2.,\n",
       "       5., 2., 7., 1., 9., 0., 0., 8., 9., 0., 9., 2., 9., 0., 3., 7., 0.,\n",
       "       6., 3., 4., 1., 7., 2., 2., 7., 4., 4., 9., 4., 1., 7., 7., 1., 5.,\n",
       "       2., 8., 0., 2., 8., 4., 0., 6., 9., 1., 1., 0., 5., 6., 9., 6., 3.,\n",
       "       8., 7., 2., 9., 4., 3., 3., 2., 5., 8., 5., 4., 2., 0., 6., 9., 0.,\n",
       "       2., 1., 8., 1., 8., 7., 6., 7., 4., 9., 5., 1., 0., 1., 3., 1., 6.,\n",
       "       1., 9., 6., 2., 0., 7., 7., 0., 4.], dtype=float32)"
      ]
     },
     "execution_count": 44,
     "metadata": {},
     "output_type": "execute_result"
    }
   ],
   "source": [
    "data_input"
   ]
  },
  {
   "cell_type": "code",
   "execution_count": 45,
   "metadata": {},
   "outputs": [],
   "source": [
    "input_buffer = allocate(128, np.float32)\n",
    "output_buffer = allocate((8,8), np.float32)"
   ]
  },
  {
   "cell_type": "code",
   "execution_count": 46,
   "metadata": {},
   "outputs": [],
   "source": [
    "np.copyto(input_buffer, data_input)"
   ]
  },
  {
   "cell_type": "code",
   "execution_count": 62,
   "metadata": {},
   "outputs": [
    {
     "name": "stdout",
     "output_type": "stream",
     "text": [
      "CPU times: user 690 µs, sys: 55 µs, total: 745 µs\n",
      "Wall time: 795 µs\n"
     ]
    }
   ],
   "source": [
    "%%time \n",
    "data_send.transfer(input_buffer)\n",
    "data_recv.transfer(output_buffer)\n",
    "data_send.wait()\n",
    "data_recv.wait()"
   ]
  },
  {
   "cell_type": "code",
   "execution_count": 60,
   "metadata": {},
   "outputs": [
    {
     "data": {
      "text/plain": [
       "PynqBuffer([[206., 111.,  90., 127., 153., 118., 161.,  81.],\n",
       "            [200., 116.,  86., 109., 135., 132., 114.,  78.],\n",
       "            [317., 162., 136., 169., 221., 203., 180., 151.],\n",
       "            [165.,  78.,  83.,  93.,  92., 108., 114.,  86.],\n",
       "            [154.,  84.,  61., 116., 137.,  84., 125.,  49.],\n",
       "            [206., 115.,  97., 179., 219., 103., 151.,  54.],\n",
       "            [243., 126.,  67., 122., 184., 139.,  83., 104.],\n",
       "            [218., 107., 151., 167., 160., 168., 151., 131.]],\n",
       "           dtype=float32)"
      ]
     },
     "execution_count": 60,
     "metadata": {},
     "output_type": "execute_result"
    }
   ],
   "source": [
    "output_buffer"
   ]
  },
  {
   "cell_type": "code",
   "execution_count": 49,
   "metadata": {},
   "outputs": [
    {
     "data": {
      "text/plain": [
       "PynqBuffer([0., 3., 6., 8., 6., 1., 6., 2., 2., 5., 5., 5., 1., 2., 4.,\n",
       "            4., 2., 5., 5., 9., 4., 6., 6., 7., 1., 3., 3., 7., 0., 4.,\n",
       "            3., 1., 2., 2., 5., 2., 7., 1., 9., 0., 0., 8., 9., 0., 9.,\n",
       "            2., 9., 0., 3., 7., 0., 6., 3., 4., 1., 7., 2., 2., 7., 4.,\n",
       "            4., 9., 4., 1., 7., 7., 1., 5., 2., 8., 0., 2., 8., 4., 0.,\n",
       "            6., 9., 1., 1., 0., 5., 6., 9., 6., 3., 8., 7., 2., 9., 4.,\n",
       "            3., 3., 2., 5., 8., 5., 4., 2., 0., 6., 9., 0., 2., 1., 8.,\n",
       "            1., 8., 7., 6., 7., 4., 9., 5., 1., 0., 1., 3., 1., 6., 1.,\n",
       "            9., 6., 2., 0., 7., 7., 0., 4.], dtype=float32)"
      ]
     },
     "execution_count": 49,
     "metadata": {},
     "output_type": "execute_result"
    }
   ],
   "source": [
    "input_buffer"
   ]
  },
  {
   "cell_type": "code",
   "execution_count": 50,
   "metadata": {},
   "outputs": [
    {
     "data": {
      "text/plain": [
       "PynqBuffer([[0., 0., 0., 0., 0., 0., 0., 0.],\n",
       "            [0., 0., 0., 0., 0., 0., 0., 0.],\n",
       "            [0., 0., 0., 0., 0., 0., 0., 0.],\n",
       "            [0., 0., 0., 0., 0., 0., 0., 0.],\n",
       "            [0., 0., 0., 0., 0., 0., 0., 0.],\n",
       "            [0., 0., 0., 0., 0., 0., 0., 0.],\n",
       "            [0., 0., 0., 0., 0., 0., 0., 0.],\n",
       "            [0., 0., 0., 0., 0., 0., 0., 0.]], dtype=float32)"
      ]
     },
     "execution_count": 50,
     "metadata": {},
     "output_type": "execute_result"
    }
   ],
   "source": [
    "np.dot(data_A, data_B) - output_buffer"
   ]
  },
  {
   "cell_type": "code",
   "execution_count": null,
   "metadata": {},
   "outputs": [],
   "source": []
  },
  {
   "cell_type": "code",
   "execution_count": null,
   "metadata": {},
   "outputs": [],
   "source": []
  }
 ],
 "metadata": {
  "kernelspec": {
   "display_name": "Python (myenv)",
   "language": "python",
   "name": "venv"
  },
  "language_info": {
   "codemirror_mode": {
    "name": "ipython",
    "version": 3
   },
   "file_extension": ".py",
   "mimetype": "text/x-python",
   "name": "python",
   "nbconvert_exporter": "python",
   "pygments_lexer": "ipython3",
   "version": "3.6.5"
  }
 },
 "nbformat": 4,
 "nbformat_minor": 2
}
