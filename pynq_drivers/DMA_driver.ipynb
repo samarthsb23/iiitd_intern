{
 "cells": [
  {
   "cell_type": "code",
   "execution_count": null,
   "id": "b3a5dd3a-5a80-4b39-b51b-aa15ef8e902c",
   "metadata": {},
   "outputs": [],
   "source": [
    "from pynq import DefaultHierarchy\n",
    "from pynq import allocate\n",
    "from math import log\n",
    "import numpy as np\n",
    "class FFT_Block_Driver(DefaultHierarchy):\n",
    "    def __init__(self, description):\n",
    "        super().__init__(description)\n",
    "        self.configuration = 0\n",
    "        self.fft_size = 0\n",
    "\n",
    "    def _convert_to_data(self,self,fft_direction,size):\n",
    "        fft_direction.zfill(8)\n",
    "        byte2 = '0'*8\n",
    "        x = int(log(size,2))\n",
    "        fft_size = bin(x)[2:]\n",
    "        fft_size.zfill(8)\n",
    "        tdata = fft_direction+byte2+fft_size\n",
    "        return int(tdata,2)\n",
    "\n",
    "    def configure(self,fft_direction,fft_size):\n",
    "        self.configuration = self._convert_to_data(fft_direction,fft_size)\n",
    "        temp = allocate(1,np.uint32)\n",
    "        temp[0] = self.configuration\n",
    "        self.config_dma.sendchannel.transfer(temp)\n",
    "        self.config_dma.sendchannel.wait()\n",
    "        del temp\n",
    "\n",
    "    def stream_fft(self,input_buffer):\n",
    "        out_buffer = allocate(SAMPLES,np.csingle)\n",
    "        self.data_dma.sendchannel.transfer(input_buffer)\n",
    "        self.data_dma.recvchannel.transfer(out_buffer)\n",
    "        self.data_dma.sendchannel.wait()\n",
    "        self.data_dma.recvchannel.wait()\n",
    "\n",
    "        return out_buffer\n",
    "\n",
    "    @staticmethod\n",
    "    def check_hierarchy(description):\n",
    "        if 'data_dma' in description['ip'] \\\n",
    "            and 'config_dma' in desciption['ip']:\n",
    "            return True\n",
    "        return False"
   ]
  },
  {
   "cell_type": "code",
   "execution_count": null,
   "id": "6c7638c8-49cc-4664-a8bb-cbe71491d761",
   "metadata": {},
   "outputs": [],
   "source": []
  }
 ],
 "metadata": {
  "kernelspec": {
   "display_name": "Python 3 (ipykernel)",
   "language": "python",
   "name": "python3"
  },
  "language_info": {
   "codemirror_mode": {
    "name": "ipython",
    "version": 3
   },
   "file_extension": ".py",
   "mimetype": "text/x-python",
   "name": "python",
   "nbconvert_exporter": "python",
   "pygments_lexer": "ipython3",
   "version": "3.12.7"
  }
 },
 "nbformat": 4,
 "nbformat_minor": 5
}
