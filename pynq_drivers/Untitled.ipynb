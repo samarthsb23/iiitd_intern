{
 "cells": [
  {
   "cell_type": "code",
   "execution_count": 17,
   "id": "7d99512d-86a9-4aa3-b25f-26bdc81a0393",
   "metadata": {},
   "outputs": [
    {
     "ename": "ModuleNotFoundError",
     "evalue": "No module named 'pynq'",
     "output_type": "error",
     "traceback": [
      "\u001b[1;31m---------------------------------------------------------------------------\u001b[0m",
      "\u001b[1;31mModuleNotFoundError\u001b[0m                       Traceback (most recent call last)",
      "Cell \u001b[1;32mIn[17], line 1\u001b[0m\n\u001b[1;32m----> 1\u001b[0m \u001b[38;5;28;01mfrom\u001b[39;00m \u001b[38;5;21;01mpynq\u001b[39;00m \u001b[38;5;28;01mimport\u001b[39;00m Overlay\n\u001b[0;32m      3\u001b[0m overlay \u001b[38;5;241m=\u001b[39m Overlay(\u001b[38;5;124m\"\u001b[39m\u001b[38;5;124m./design_1_wrapper.bit\u001b[39m\u001b[38;5;124m\"\u001b[39m)\n",
      "\u001b[1;31mModuleNotFoundError\u001b[0m: No module named 'pynq'"
     ]
    }
   ],
   "source": [
    "from pynq import Overlay\n",
    "\n",
    "overlay = Overlay(\"./design_1_wrapper.bit\")"
   ]
  },
  {
   "cell_type": "code",
   "execution_count": 11,
   "id": "2f271779-4c14-4d30-9eb0-ba43b1fdbd44",
   "metadata": {},
   "outputs": [
    {
     "name": "stdout",
     "output_type": "stream",
     "text": [
      "Object `overlay` not found.\n"
     ]
    }
   ],
   "source": [
    "overlay?"
   ]
  },
  {
   "cell_type": "code",
   "execution_count": 13,
   "id": "0c77af2f-b813-46fa-90e8-066a736e0146",
   "metadata": {},
   "outputs": [
    {
     "ename": "NameError",
     "evalue": "name 'overlay' is not defined",
     "output_type": "error",
     "traceback": [
      "\u001b[1;31m---------------------------------------------------------------------------\u001b[0m",
      "\u001b[1;31mNameError\u001b[0m                                 Traceback (most recent call last)",
      "Cell \u001b[1;32mIn[13], line 1\u001b[0m\n\u001b[1;32m----> 1\u001b[0m top_func \u001b[38;5;241m=\u001b[39m \u001b[43moverlay\u001b[49m\u001b[38;5;241m.\u001b[39mlab_1_0\n",
      "\u001b[1;31mNameError\u001b[0m: name 'overlay' is not defined"
     ]
    }
   ],
   "source": [
    "top_func = overlay.lab_1_0"
   ]
  },
  {
   "cell_type": "code",
   "execution_count": 19,
   "id": "c8fb6d5a-91d8-4f2d-8987-2cbabbb41f88",
   "metadata": {},
   "outputs": [
    {
     "ename": "NameError",
     "evalue": "name 'top_func' is not defined",
     "output_type": "error",
     "traceback": [
      "\u001b[1;31m---------------------------------------------------------------------------\u001b[0m",
      "\u001b[1;31mNameError\u001b[0m                                 Traceback (most recent call last)",
      "Cell \u001b[1;32mIn[19], line 1\u001b[0m\n\u001b[1;32m----> 1\u001b[0m \u001b[43mtop_func\u001b[49m\u001b[38;5;241m.\u001b[39mregister_map\n",
      "\u001b[1;31mNameError\u001b[0m: name 'top_func' is not defined"
     ]
    }
   ],
   "source": [
    "top_func.register_map"
   ]
  },
  {
   "cell_type": "code",
   "execution_count": 21,
   "id": "8b6841e5-bfce-4e3b-9c65-64774f8919d6",
   "metadata": {},
   "outputs": [],
   "source": [
    "a = 1979\n",
    "b = 9023\n",
    "c = 112"
   ]
  },
  {
   "cell_type": "code",
   "execution_count": 23,
   "id": "85b45496-49aa-4adf-96eb-73d1d54cd246",
   "metadata": {},
   "outputs": [
    {
     "ename": "NameError",
     "evalue": "name 'top_func' is not defined",
     "output_type": "error",
     "traceback": [
      "\u001b[1;31m---------------------------------------------------------------------------\u001b[0m",
      "\u001b[1;31mNameError\u001b[0m                                 Traceback (most recent call last)",
      "Cell \u001b[1;32mIn[23], line 1\u001b[0m\n\u001b[1;32m----> 1\u001b[0m \u001b[43mtop_func\u001b[49m\u001b[38;5;241m.\u001b[39mregister_map\u001b[38;5;241m.\u001b[39mA_V \u001b[38;5;241m=\u001b[39m a\n\u001b[0;32m      2\u001b[0m top_func\u001b[38;5;241m.\u001b[39mregister_map\u001b[38;5;241m.\u001b[39mB_V \u001b[38;5;241m=\u001b[39m b\n\u001b[0;32m      3\u001b[0m top_func\u001b[38;5;241m.\u001b[39mregister_map\u001b[38;5;241m.\u001b[39mC_V \u001b[38;5;241m=\u001b[39m c\n",
      "\u001b[1;31mNameError\u001b[0m: name 'top_func' is not defined"
     ]
    }
   ],
   "source": [
    "top_func.register_map.A_V = a\n",
    "top_func.register_map.B_V = b\n",
    "top_func.register_map.C_V = c"
   ]
  },
  {
   "cell_type": "code",
   "execution_count": 25,
   "id": "8b0582ce-46c0-4c47-bbf8-5d7ca11aca14",
   "metadata": {},
   "outputs": [
    {
     "ename": "NameError",
     "evalue": "name 'top_func' is not defined",
     "output_type": "error",
     "traceback": [
      "\u001b[1;31m---------------------------------------------------------------------------\u001b[0m",
      "\u001b[1;31mNameError\u001b[0m                                 Traceback (most recent call last)",
      "Cell \u001b[1;32mIn[25], line 1\u001b[0m\n\u001b[1;32m----> 1\u001b[0m \u001b[43mtop_func\u001b[49m\u001b[38;5;241m.\u001b[39mregister_map\n",
      "\u001b[1;31mNameError\u001b[0m: name 'top_func' is not defined"
     ]
    }
   ],
   "source": [
    "top_func.register_map"
   ]
  },
  {
   "cell_type": "code",
   "execution_count": 27,
   "id": "9dc3b477-1450-48c8-b021-5bf02bf64c9b",
   "metadata": {},
   "outputs": [
    {
     "name": "stdout",
     "output_type": "stream",
     "text": [
      "19913\n"
     ]
    }
   ],
   "source": [
    "print(a + 2*b - c)"
   ]
  },
  {
   "cell_type": "code",
   "execution_count": 29,
   "id": "3e71cbce-c452-4e06-a89c-d44ae0550b74",
   "metadata": {},
   "outputs": [
    {
     "ename": "NameError",
     "evalue": "name 'top_func' is not defined",
     "output_type": "error",
     "traceback": [
      "\u001b[1;31m---------------------------------------------------------------------------\u001b[0m",
      "\u001b[1;31mNameError\u001b[0m                                 Traceback (most recent call last)",
      "Cell \u001b[1;32mIn[29], line 1\u001b[0m\n\u001b[1;32m----> 1\u001b[0m \u001b[43mtop_func\u001b[49m\u001b[38;5;241m.\u001b[39mregister_map\u001b[38;5;241m.\u001b[39mY_V\n\u001b[0;32m      2\u001b[0m val \u001b[38;5;241m=\u001b[39m top_func\u001b[38;5;241m.\u001b[39mread(\u001b[38;5;241m0x28\u001b[39m)\n\u001b[0;32m      3\u001b[0m val\n",
      "\u001b[1;31mNameError\u001b[0m: name 'top_func' is not defined"
     ]
    }
   ],
   "source": [
    "top_func.register_map.Y_V\n",
    "val = top_func.read(0x28)\n",
    "val"
   ]
  },
  {
   "cell_type": "code",
   "execution_count": null,
   "id": "0385d102-a047-4f6b-a641-d6f4cdc2b529",
   "metadata": {},
   "outputs": [],
   "source": [
    "bin(val)"
   ]
  },
  {
   "cell_type": "code",
   "execution_count": null,
   "id": "620ab01f-4d42-4dc3-ad92-65adb0a18dea",
   "metadata": {},
   "outputs": [],
   "source": [
    "def uint_to_int(num, bits):\n",
    "    if (num & ( 1 << (bits - 1))) != 0:\n",
    "        num = num - (1 << bits)\n",
    "    return num"
   ]
  },
  {
   "cell_type": "code",
   "execution_count": null,
   "id": "0e65ceaf-15bd-4bac-b27f-f11478a2f40d",
   "metadata": {},
   "outputs": [],
   "source": [
    "print(uint_to_int(val, 32))"
   ]
  },
  {
   "cell_type": "code",
   "execution_count": null,
   "id": "e92a4ab2-bd9e-4ba5-93ff-48c24f5652e7",
   "metadata": {},
   "outputs": [],
   "source": [
    "import random\n",
    "\n",
    "for i in range(10):\n",
    "    val_A = random.randint(1, 999)\n",
    "    val_B = random.randint(1, 999)\n",
    "    val_C = random.randint(1, 9999)\n",
    "    top_func.register_map.A_V = val_A\n",
    "    top_func.register_map.B_V = val_B\n",
    "    top_func.register_map.C_V = val_C\n",
    "\n",
    "    ground_truth = val_A + 2*val_B - val_C\n",
    "    val = top_func.read(0x28)\n",
    "\n",
    "    ival = uint_to_int(val, 32)\n",
    "\n",
    "    if (ival != ground_truth):\n",
    "        print(f\"Error!\")"
   ]
  }
 ],
 "metadata": {
  "kernelspec": {
   "display_name": "Python 3 (ipykernel)",
   "language": "python",
   "name": "python3"
  },
  "language_info": {
   "codemirror_mode": {
    "name": "ipython",
    "version": 3
   },
   "file_extension": ".py",
   "mimetype": "text/x-python",
   "name": "python",
   "nbconvert_exporter": "python",
   "pygments_lexer": "ipython3",
   "version": "3.12.7"
  }
 },
 "nbformat": 4,
 "nbformat_minor": 5
}
