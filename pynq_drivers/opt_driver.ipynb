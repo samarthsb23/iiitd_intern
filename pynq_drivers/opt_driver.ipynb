{
 "cells": [
  {
   "cell_type": "code",
   "execution_count": 46,
   "metadata": {},
   "outputs": [],
   "source": [
    "from pynq import Overlay\n",
    "ol = Overlay('matrix.bit')"
   ]
  },
  {
   "cell_type": "code",
   "execution_count": 47,
   "metadata": {},
   "outputs": [],
   "source": [
    "dma = ol.axi_dma_0"
   ]
  },
  {
   "cell_type": "code",
   "execution_count": 48,
   "metadata": {},
   "outputs": [],
   "source": [
    "data_send = dma.sendchannel\n",
    "data_recv = dma.recvchannel"
   ]
  },
  {
   "cell_type": "code",
   "execution_count": 49,
   "metadata": {},
   "outputs": [],
   "source": [
    "import numpy as np\n",
    "import random "
   ]
  },
  {
   "cell_type": "code",
   "execution_count": 50,
   "metadata": {},
   "outputs": [],
   "source": [
    "data_A = np.random.randint(low=0, high=10, size=(8, 8)).astype(np.float32)\n",
    "data_B = np.random.randint(low=0, high=10, size=(8, 8)).astype(np.float32)"
   ]
  },
  {
   "cell_type": "code",
   "execution_count": 51,
   "metadata": {},
   "outputs": [
    {
     "data": {
      "text/plain": [
       "(array([[4., 8., 6., 4., 4., 3., 3., 3.],\n",
       "        [9., 5., 0., 1., 7., 0., 5., 0.],\n",
       "        [2., 0., 7., 0., 2., 3., 8., 5.],\n",
       "        [6., 8., 5., 7., 4., 0., 3., 1.],\n",
       "        [0., 9., 0., 2., 1., 1., 7., 9.],\n",
       "        [0., 6., 4., 0., 2., 9., 8., 7.],\n",
       "        [5., 3., 3., 7., 4., 7., 4., 8.],\n",
       "        [2., 0., 3., 9., 3., 1., 7., 6.]], dtype=float32),\n",
       " array([[6., 1., 2., 3., 5., 3., 3., 8.],\n",
       "        [8., 5., 0., 0., 6., 7., 5., 3.],\n",
       "        [2., 7., 5., 6., 6., 3., 5., 1.],\n",
       "        [4., 4., 4., 0., 0., 4., 7., 3.],\n",
       "        [3., 4., 1., 1., 4., 8., 9., 2.],\n",
       "        [6., 7., 1., 2., 6., 8., 4., 7.],\n",
       "        [5., 8., 3., 8., 3., 3., 1., 9.],\n",
       "        [2., 4., 2., 9., 6., 2., 9., 6.]], dtype=float32))"
      ]
     },
     "execution_count": 51,
     "metadata": {},
     "output_type": "execute_result"
    }
   ],
   "source": [
    "data_A, data_B"
   ]
  },
  {
   "cell_type": "code",
   "execution_count": 52,
   "metadata": {},
   "outputs": [
    {
     "name": "stdout",
     "output_type": "stream",
     "text": [
      "CPU times: user 194 µs, sys: 18 µs, total: 212 µs\n",
      "Wall time: 203 µs\n"
     ]
    },
    {
     "data": {
      "text/plain": [
       "array([[167., 175.,  76., 109., 165., 173., 188., 148.],\n",
       "       [144., 106.,  44.,  74., 118., 137., 127., 149.],\n",
       "       [100., 164.,  78., 165., 132., 101., 124., 150.],\n",
       "       [167., 153.,  80.,  85., 139., 160., 180., 139.],\n",
       "       [142., 156.,  49., 140., 139., 126., 160., 159.],\n",
       "       [170., 221.,  69., 171., 188., 180., 175., 203.],\n",
       "       [178., 198.,  92., 155., 179., 189., 234., 214.],\n",
       "       [116., 158.,  92., 139., 103., 116., 176., 158.]], dtype=float32)"
      ]
     },
     "execution_count": 52,
     "metadata": {},
     "output_type": "execute_result"
    }
   ],
   "source": [
    "%%time \n",
    "np.dot(data_A, data_B) #software"
   ]
  },
  {
   "cell_type": "code",
   "execution_count": 53,
   "metadata": {},
   "outputs": [],
   "source": [
    "from pynq import allocate"
   ]
  },
  {
   "cell_type": "code",
   "execution_count": 54,
   "metadata": {},
   "outputs": [],
   "source": [
    "data_a_f = data_A.flatten()\n",
    "data_b_f = data_B.flatten()\n",
    "\n",
    "data_input = np.concatenate([data_a_f, data_b_f])"
   ]
  },
  {
   "cell_type": "code",
   "execution_count": 55,
   "metadata": {},
   "outputs": [
    {
     "data": {
      "text/plain": [
       "array([4., 8., 6., 4., 4., 3., 3., 3., 9., 5., 0., 1., 7., 0., 5., 0., 2.,\n",
       "       0., 7., 0., 2., 3., 8., 5., 6., 8., 5., 7., 4., 0., 3., 1., 0., 9.,\n",
       "       0., 2., 1., 1., 7., 9., 0., 6., 4., 0., 2., 9., 8., 7., 5., 3., 3.,\n",
       "       7., 4., 7., 4., 8., 2., 0., 3., 9., 3., 1., 7., 6., 6., 1., 2., 3.,\n",
       "       5., 3., 3., 8., 8., 5., 0., 0., 6., 7., 5., 3., 2., 7., 5., 6., 6.,\n",
       "       3., 5., 1., 4., 4., 4., 0., 0., 4., 7., 3., 3., 4., 1., 1., 4., 8.,\n",
       "       9., 2., 6., 7., 1., 2., 6., 8., 4., 7., 5., 8., 3., 8., 3., 3., 1.,\n",
       "       9., 2., 4., 2., 9., 6., 2., 9., 6.], dtype=float32)"
      ]
     },
     "execution_count": 55,
     "metadata": {},
     "output_type": "execute_result"
    }
   ],
   "source": [
    "data_input"
   ]
  },
  {
   "cell_type": "code",
   "execution_count": 56,
   "metadata": {},
   "outputs": [],
   "source": [
    "input_buffer = allocate(128, np.float32)\n",
    "output_buffer = allocate((8,8), np.float32)"
   ]
  },
  {
   "cell_type": "code",
   "execution_count": 57,
   "metadata": {},
   "outputs": [],
   "source": [
    "np.copyto(input_buffer, data_input)"
   ]
  },
  {
   "cell_type": "code",
   "execution_count": 58,
   "metadata": {},
   "outputs": [
    {
     "name": "stdout",
     "output_type": "stream",
     "text": [
      "CPU times: user 1.09 ms, sys: 103 µs, total: 1.19 ms\n",
      "Wall time: 927 µs\n"
     ]
    }
   ],
   "source": [
    "%%time \n",
    "data_send.transfer(input_buffer)\n",
    "data_recv.transfer(output_buffer)\n",
    "data_send.wait()\n",
    "data_recv.wait()"
   ]
  },
  {
   "cell_type": "code",
   "execution_count": 59,
   "metadata": {},
   "outputs": [
    {
     "data": {
      "text/plain": [
       "PynqBuffer([[167., 175.,  76., 109., 165., 173., 188., 148.],\n",
       "            [144., 106.,  44.,  74., 118., 137., 127., 149.],\n",
       "            [100., 164.,  78., 165., 132., 101., 124., 150.],\n",
       "            [167., 153.,  80.,  85., 139., 160., 180., 139.],\n",
       "            [142., 156.,  49., 140., 139., 126., 160., 159.],\n",
       "            [170., 221.,  69., 171., 188., 180., 175., 203.],\n",
       "            [178., 198.,  92., 155., 179., 189., 234., 214.],\n",
       "            [116., 158.,  92., 139., 103., 116., 176., 158.]],\n",
       "           dtype=float32)"
      ]
     },
     "execution_count": 59,
     "metadata": {},
     "output_type": "execute_result"
    }
   ],
   "source": [
    "output_buffer"
   ]
  },
  {
   "cell_type": "code",
   "execution_count": 60,
   "metadata": {},
   "outputs": [
    {
     "data": {
      "text/plain": [
       "PynqBuffer([[0., 0., 0., 0., 0., 0., 0., 0.],\n",
       "            [0., 0., 0., 0., 0., 0., 0., 0.],\n",
       "            [0., 0., 0., 0., 0., 0., 0., 0.],\n",
       "            [0., 0., 0., 0., 0., 0., 0., 0.],\n",
       "            [0., 0., 0., 0., 0., 0., 0., 0.],\n",
       "            [0., 0., 0., 0., 0., 0., 0., 0.],\n",
       "            [0., 0., 0., 0., 0., 0., 0., 0.],\n",
       "            [0., 0., 0., 0., 0., 0., 0., 0.]], dtype=float32)"
      ]
     },
     "execution_count": 60,
     "metadata": {},
     "output_type": "execute_result"
    }
   ],
   "source": [
    "np.dot(data_A, data_B) - output_buffer"
   ]
  },
  {
   "cell_type": "code",
   "execution_count": null,
   "metadata": {},
   "outputs": [],
   "source": []
  }
 ],
 "metadata": {
  "kernelspec": {
   "display_name": "Python (myenv)",
   "language": "python",
   "name": "venv"
  },
  "language_info": {
   "codemirror_mode": {
    "name": "ipython",
    "version": 3
   },
   "file_extension": ".py",
   "mimetype": "text/x-python",
   "name": "python",
   "nbconvert_exporter": "python",
   "pygments_lexer": "ipython3",
   "version": "3.6.5"
  }
 },
 "nbformat": 4,
 "nbformat_minor": 2
}
