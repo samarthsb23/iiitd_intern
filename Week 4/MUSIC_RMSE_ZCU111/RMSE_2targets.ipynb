{
 "cells": [
  {
   "cell_type": "code",
   "execution_count": 63,
   "metadata": {},
   "outputs": [],
   "source": [
    "import numpy as np\n",
    "import matplotlib.pyplot as plt"
   ]
  },
  {
   "cell_type": "code",
   "execution_count": 72,
   "metadata": {},
   "outputs": [
    {
     "name": "stdout",
     "output_type": "stream",
     "text": [
      "(array([  3,   4,   5,  16,  23,  25,  28,  32,  34,  39,  41,  49,  54,\n",
      "        61,  68,  72,  75,  76,  89,  90,  91,  96,  99, 105, 111, 115,\n",
      "       116, 120, 122, 125, 128, 138, 140, 155, 158, 159, 162, 164, 166,\n",
      "       175, 181, 188, 191, 193, 197, 198]),)\n",
      "(array([  5,  32,  34,  39,  49,  61,  68,  75,  84,  89,  97,  99, 105,\n",
      "       118, 140, 158, 159, 160, 162, 166, 175, 181, 191, 198]),)\n",
      "(array([  3,   5,  84,  89, 118, 125, 158, 175, 181, 191]),)\n",
      "(array([ 89, 125, 181]),)\n",
      "(array([], dtype=int64),)\n",
      "(array([], dtype=int64),)\n",
      "(array([], dtype=int64),)\n",
      "(array([], dtype=int64),)\n",
      "(array([], dtype=int64),)\n",
      "(array([], dtype=int64),)\n",
      "(array([], dtype=int64),)\n",
      "(array([], dtype=int64),)\n",
      "[2.472568218699194, 1.2724568700745191, 0.8445294363964925, 0.5130409633006845, 0.15026890200747794, 0.13955200012312846, 0.13299220690627336, 0.13080972464235605, 0.13463398509168711, 0.13356061703688185, 0.13247855262221356, 0.13463398509168711]\n",
      "[1.8662573758770071, 2.1328090686628807, 1.0359047538865587, 0.43902403404843443, 0.43608073786759255, 0.33182499236790697, 0.32478720746525463, 0.32403995724535156, 0.1462285654850126, 0.14720959507518735, 0.14965934399316408, 0.14965934399316408]\n"
     ]
    }
   ],
   "source": [
    "ex1 = []\n",
    "ex2 = []\n",
    "snr_axis = [-15, -10, -5, 0, 5,10,15,20,25,30,35,40]\n",
    "for snr in snr_axis:\n",
    "    #matrix = np.loadtxt(\"./DPFL/Results_FX/P200_Vd2_snr_\"+str(snr)+\".dat\")\n",
    "    matrix = np.loadtxt(\"./DPFL/Results_FX/P200_Vd2_snr_\"+str(snr)+\".dat\")\n",
    "    #matrix = np.loadtxt(\"./Results_DPFL/P200_Vd2_snr_\"+str(snr)+\".dat\")\n",
    "    matrix = np.transpose(matrix)\n",
    "    ind1 = np.where(matrix[2] == 30)\n",
    "    diff1 = matrix[0] + matrix[3]\n",
    "    diff2 = matrix[1] + matrix[2]\n",
    "    diff1[ind1] = 0\n",
    "    diff2[ind1] = 0\n",
    "    e1 = np.sum((diff1) ** 2)\n",
    "    e2 = np.sum((diff2) ** 2)\n",
    "    \n",
    "    rmse1 = np.sqrt(e1/len(matrix[0]))\n",
    "    rmse2 = np.sqrt(e2/len(matrix[0]))\n",
    "    print(np.where(np.abs(diff1)>1))\n",
    "    ex1.append(float(rmse1))\n",
    "    ex2.append(float(rmse2))\n",
    "print(ex1)\n",
    "print(ex2)\n"
   ]
  },
  {
   "cell_type": "code",
   "execution_count": 73,
   "metadata": {},
   "outputs": [
    {
     "name": "stdout",
     "output_type": "stream",
     "text": [
      "(array([  5,  16,  17,  18,  19,  20,  23,  24,  25,  26,  34,  39,  42,\n",
      "        54,  61,  67,  68,  72,  73,  76,  84,  89,  91,  93,  97, 111,\n",
      "       115, 118, 125, 128, 155, 158, 159, 160, 162, 166, 173, 175, 176,\n",
      "       177, 181, 182, 191, 193, 197, 198, 199]),)\n",
      "(array([  5,  16,  19,  23,  24,  32,  34,  73,  89, 118, 125, 128, 158,\n",
      "       162, 166, 175, 181, 191, 193, 198]),)\n",
      "(array([ 32,  89,  99, 125, 158, 162, 175, 181, 191]),)\n",
      "(array([ 89, 125, 158]),)\n",
      "(array([89]),)\n",
      "(array([], dtype=int64),)\n",
      "(array([], dtype=int64),)\n",
      "(array([], dtype=int64),)\n",
      "(array([], dtype=int64),)\n",
      "(array([], dtype=int64),)\n",
      "(array([], dtype=int64),)\n",
      "(array([], dtype=int64),)\n",
      "[1.7554298048203234, 1.1298983521113233, 0.8069797912120603, 0.4812228852268239, 0.3005604891888204, 0.1344087252059179, 0.1341266183452941, 0.13356061703688185, 0.13356061703688185, 0.13356061703688185, 0.13247855262221356, 0.13463398509168711]\n",
      "[2.3507641885985104, 1.8536923555723446, 0.9731760059709199, 0.5831566816565892, 0.3274354275936774, 0.3260675427318273, 0.14925384478828996, 0.14782583831240914, 0.14808184944652164, 0.14965934399316408, 0.14965934399316408, 0.14965934399316408]\n"
     ]
    }
   ],
   "source": [
    "ex3 = []\n",
    "ex4 = []\n",
    "snr_axis = [-15, -10, -5, 0, 5,10,15,20,25,30,35,40]\n",
    "#snr_axis = [0]\n",
    "for snr in snr_axis:\n",
    "    #matrix = np.loadtxt(\"./Results_DPFL/P200_Vd2_snr_\"+str(snr)+\".dat\")\n",
    "    matrix = np.loadtxt(\"./DPFL/Results_FX/P200_Vd2_snr_\"+str(snr)+\".dat\")\n",
    "    matrix = np.transpose(matrix)\n",
    "    ind1 = np.where(matrix[4] == 30)\n",
    "    diff3 = matrix[0] + matrix[5]\n",
    "    diff4 = matrix[1] + matrix[4]\n",
    "    diff3[ind1] = 0\n",
    "    diff4[ind1] = 0\n",
    "    e1 = np.sum((diff3) ** 2)\n",
    "    e2 = np.sum((diff4) ** 2)\n",
    "    print(np.where(np.abs(diff3)>1))\n",
    "    rmse3 = np.sqrt(e1/len(matrix[0]))\n",
    "    rmse4 = np.sqrt(e2/len(matrix[0]))\n",
    "    \n",
    "    ex3.append(float(rmse3))\n",
    "    ex4.append(float(rmse4))\n",
    "print(ex3)\n",
    "print(ex4)\n",
    "\n"
   ]
  },
  {
   "cell_type": "code",
   "execution_count": 74,
   "metadata": {},
   "outputs": [
    {
     "data": {
      "image/png": "[encoded data removed]",
      "text/plain": [
       "<Figure size 432x288 with 1 Axes>"
      ]
     },
     "metadata": {
      "needs_background": "light"
     },
     "output_type": "display_data"
    }
   ],
   "source": [
    "plt.title(\"N= 200 Prec.= 0.3 m/s Vdiff= 8 m/s PRI= 2 us   \")\n",
    "\n",
    "plt.plot(snr_axis, ex1,label = \"Target 1 (PS)\",color = \"black\")\n",
    "plt.plot(snr_axis, ex2,label = \"Target 2 (PS)\",color = \"green\")\n",
    "plt.plot(snr_axis, ex3,label = \"Target 1 (PL)\",color = \"blue\")\n",
    "plt.plot(snr_axis, ex4,label = \"Target 2 (PL)\",color = \"purple\")\n",
    "plt.xlabel(\"SNR\")\n",
    "plt.ylabel(\"RMSE\")\n",
    "\n",
    "plt.grid()\n",
    "plt.tight_layout()\n",
    "plt.legend()\n",
    "plt.show()"
   ]
  },
  {
   "cell_type": "code",
   "execution_count": 75,
   "metadata": {},
   "outputs": [
    {
     "data": {
      "text/plain": [
       "(array([], dtype=int64),)"
      ]
     },
     "execution_count": 75,
     "metadata": {},
     "output_type": "execute_result"
    }
   ],
   "source": [
    "np.where(np.abs(diff2)>1)"
   ]
  },
  {
   "cell_type": "code",
   "execution_count": 76,
   "metadata": {},
   "outputs": [
    {
     "data": {
      "text/plain": [
       "(array([], dtype=int64),)"
      ]
     },
     "execution_count": 76,
     "metadata": {},
     "output_type": "execute_result"
    }
   ],
   "source": [
    "np.where(np.abs(diff4)>1)"
   ]
  },
  {
   "cell_type": "code",
   "execution_count": 77,
   "metadata": {},
   "outputs": [
    {
     "data": {
      "text/plain": [
       "array([], dtype=float64)"
      ]
     },
     "execution_count": 77,
     "metadata": {},
     "output_type": "execute_result"
    }
   ],
   "source": [
    "diff4[np.abs(diff4)>0.5]"
   ]
  },
  {
   "cell_type": "code",
   "execution_count": 78,
   "metadata": {},
   "outputs": [
    {
     "data": {
      "text/plain": [
       "array([-0.05025126, -0.1959799 , -0.18090452, -0.16080402, -0.1959799 ,\n",
       "       -0.06030151, -0.03517588, -0.02512563, -0.05527638, -0.13567839,\n",
       "       -0.2361809 , -0.13065327, -0.12562814, -0.16582915, -0.0201005 ,\n",
       "       -0.25125628, -0.26633166, -0.17085427,  0.02512563,  0.01005025,\n",
       "       -0.28140704, -0.1959799 ,  0.07537688,  0.04020101, -0.18592965,\n",
       "       -0.04020101,  0.06030151,  0.07537688, -0.2361809 , -0.13567839,\n",
       "       -0.2160804 , -0.07035176, -0.13065327, -0.1959799 , -0.16080402,\n",
       "       -0.07035176, -0.18090452, -0.1959799 , -0.10552764, -0.33165829,\n",
       "       -0.28140704, -0.33165829, -0.16582915, -0.12562814, -0.28140704,\n",
       "       -0.21105528,  0.00502513,  0.06030151, -0.18592965, -0.00502513,\n",
       "        0.00502513, -0.17085427, -0.23115578, -0.08542714, -0.06030151,\n",
       "       -0.12562814,  0.04522613, -0.24623116, -0.10552764, -0.21105528,\n",
       "       -0.10552764, -0.04522613, -0.16582915, -0.05527638, -0.11557789,\n",
       "       -0.06030151, -0.17085427, -0.1959799 , -0.2361809 , -0.04522613,\n",
       "       -0.09045226, -0.2361809 ,  0.04020101, -0.10050251, -0.12562814,\n",
       "       -0.1959799 , -0.15577889, -0.10552764, -0.21105528, -0.01005025,\n",
       "       -0.11557789, -0.2160804 ,  0.00502513, -0.21105528, -0.12562814,\n",
       "       -0.13065327,  0.01005025, -0.09045226, -0.10050251, -0.18090452,\n",
       "       -0.17085427, -0.18592965, -0.16582915, -0.18592965, -0.18090452,\n",
       "        0.02512563, -0.09045226, -0.13065327, -0.11557789,  0.04020101,\n",
       "       -0.04020101, -0.05025126,  0.04522613, -0.13567839, -0.0201005 ,\n",
       "       -0.06030151, -0.2361809 , -0.15075377, -0.08542714,  0.02512563,\n",
       "        0.04020101, -0.13065327,  0.00502513, -0.05025126, -0.23115578,\n",
       "       -0.15075377, -0.17085427, -0.07537688, -0.15577889, -0.2361809 ,\n",
       "        0.02512563, -0.09045226,  0.00502513,  0.04020101, -0.08542714,\n",
       "       -0.03517588, -0.2160804 , -0.12060302, -0.15075377, -0.24623116,\n",
       "       -0.03517588, -0.04522613, -0.28140704, -0.24623116, -0.13567839,\n",
       "       -0.15577889, -0.04522613, -0.20100503, -0.16582915,  0.02512563,\n",
       "       -0.0201005 ,  0.04522613, -0.23115578,  0.04020101, -0.25125628,\n",
       "       -0.10050251, -0.26633166, -0.2160804 ,  0.04522613, -0.14572864,\n",
       "       -0.21105528,  0.02512563, -0.24623116, -0.18592965, -0.03517588,\n",
       "        0.07537688,  0.06030151, -0.23115578, -0.16582915,  0.07537688,\n",
       "       -0.16080402, -0.04020101, -0.16582915, -0.02512563, -0.15075377,\n",
       "       -0.21105528, -0.25125628, -0.04020101, -0.04522613, -0.02512563,\n",
       "       -0.09045226, -0.07035176, -0.16582915,  0.04020101, -0.16582915,\n",
       "       -0.0201005 , -0.01005025, -0.25125628, -0.12060302, -0.26633166,\n",
       "       -0.20100503, -0.00502513, -0.16582915, -0.16582915, -0.08542714,\n",
       "       -0.03517588, -0.21105528,  0.02512563, -0.0201005 , -0.05527638,\n",
       "        0.00502513, -0.03517588,  0.04522613, -0.25125628, -0.18592965,\n",
       "       -0.15075377, -0.20100503, -0.07035176, -0.21105528, -0.14572864])"
      ]
     },
     "execution_count": 78,
     "metadata": {},
     "output_type": "execute_result"
    }
   ],
   "source": [
    "diff2"
   ]
  },
  {
   "cell_type": "code",
   "execution_count": null,
   "metadata": {},
   "outputs": [],
   "source": []
  }
 ],
 "metadata": {
  "kernelspec": {
   "display_name": "Python 3",
   "language": "python",
   "name": "python3"
  },
  "language_info": {
   "codemirror_mode": {
    "name": "ipython",
    "version": 3
   },
   "file_extension": ".py",
   "mimetype": "text/x-python",
   "name": "python",
   "nbconvert_exporter": "python",
   "pygments_lexer": "ipython3",
   "version": "3.8.2"
  },
  "vscode": {
   "interpreter": {
    "hash": "0e5142556829b94a7c63b02feb8fd00d087c3ae6e67d27cca8dfc86e0da3a36f"
   }
  }
 },
 "nbformat": 4,
 "nbformat_minor": 4
}
