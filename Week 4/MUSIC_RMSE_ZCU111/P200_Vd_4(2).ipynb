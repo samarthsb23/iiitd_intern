{
 "cells": [
  {
   "cell_type": "code",
   "execution_count": 55,
   "metadata": {
    "scrolled": true
   },
   "outputs": [],
   "source": [
    "import numpy as np\n",
    "import scipy.io as sio\n",
    "import numpy.matlib as npm\n",
    "from scipy import signal\n",
    "import pandas as pd\n",
    "from numpy import linalg as LA\n",
    "from scipy import linalg\n",
    "import ipywidgets as widgets\n",
    "from IPython.display import display\n",
    "from scipy.signal import argrelextrema\n",
    "from pynq import Overlay\n",
    "from pynq import allocate"
   ]
  },
  {
   "cell_type": "code",
   "execution_count": 56,
   "metadata": {
    "scrolled": true
   },
   "outputs": [],
   "source": [
    "nop=200\n",
    "dim_r = 1024\n",
    "Nu_elements = 32 # Variable Number of Antenna\n",
    "dim_c = Nu_elements\n",
    "angles = 181\n",
    "buffer_size = 2*dim_r*dim_c \n",
    "y_buffer_size = 2*angles*dim_r\n",
    "angle_prec=1"
   ]
  },
  {
   "cell_type": "code",
   "execution_count": 57,
   "metadata": {
    "scrolled": true
   },
   "outputs": [],
   "source": [
    "class radar1:\n",
    "    def __init__(self):\n",
    "        self.fc = 60*(10**9)\n",
    "        self.fs = 1.76*(10**9)\n",
    "        self.L = 512\n",
    "        self.PRI = 2*(10**-6)\n",
    "        self.c = 3*(10**8)\n",
    "        self.ts = 1/self.fs\n",
    "        self.PTM_len = nop\n",
    "        self.Lambda = self.c/self.fc\n",
    "        self.dfd = 121\n",
    "        self.im_fdmax = 12*(10**3)\n",
    "        self.im_fdmin = -12*(10**3)\n",
    "        \n",
    "class target:\n",
    "    def __init__(self, range_t, doppler_velocity, rcs_amp):\n",
    "        self.range = range_t\n",
    "        self.doppler_velocity = doppler_velocity\n",
    "        self.rcs_amp = rcs_amp\n",
    "        self.n_bodypart = 1\n",
    "\n",
    "class antenna:\n",
    "    def __init__(self, Lambda, Nelements, DOA):\n",
    "        self.d_m = Lambda * 0.5\n",
    "        self.Nelements = Nelements\n",
    "        self.spacing = np.arange(0, (self.Nelements) * self.d_m, self.d_m)\n",
    "        self.DOA = DOA # Angle for azimuth\n",
    "\n",
    "def get_received_signal(target, radar1, xmat1, fs, fc, antenna, n_frame):\n",
    "    Mvec = radar1.PRI * np.arange(0,radar1.PTM_len)\n",
    "    Marray = npm.repmat(Mvec, radar1.L, 1)\n",
    "    radar1.ptx = 40\n",
    "    radar1.gt = 0\n",
    "    radar1.gr = 0\n",
    "    rxmat = np.zeros((2*radar1.L, radar1.PTM_len), dtype=np.complex128)\n",
    "    rxmat_temp = np.zeros((2*radar1.L-1, radar1.PTM_len), dtype=np.complex128)\n",
    "    range_to_delay_symbols = np.floor(((2*target.range)/radar1.c)/radar1.ts)\n",
    "    delay_zero = np.zeros((int(range_to_delay_symbols) - 1, int(radar1.PTM_len)))\n",
    "    suffix_zero = np.zeros((int(radar1.L - range_to_delay_symbols), int(radar1.PTM_len)))\n",
    "    \n",
    "    # Range and doppler delay\n",
    "    radar1.ptx_linear = (10**(radar1.ptx//10))*0.001\n",
    "    radar1.gt_linear = (10**(radar1.gt//10))\n",
    "    radar1.gr_linear = (10**(radar1.gr//10))\n",
    "    radar1.radar_coeff=(np.sqrt(radar1.ptx_linear*radar1.gt_linear*radar1.gr_linear)*radar1.Lambda)/np.sqrt((4*np.pi)**3)   \n",
    "    for nb in range(0,target.n_bodypart):\n",
    "        velvec = target.doppler_velocity\n",
    "        Doppler_ele = 2*np.pi*2*velvec/radar1.Lambda\n",
    "        Doppler_Delay = np.exp(1j*(Doppler_ele*Marray))   \n",
    "        temp = np.multiply(xmat1,Doppler_Delay)      \n",
    "        amp = np.sqrt(target.rcs_amp)/(target.range ** 2)\n",
    "        rxmat_temp = (amp*radar1.radar_coeff )*np.concatenate((delay_zero, temp, suffix_zero), dtype = np.complex128)\n",
    "        rxmat[0:1023,:] = rxmat_temp\n",
    "\n",
    "    # azimuth delay\n",
    "    srx = np.zeros((2 * radar1.L, radar1.PTM_len, antenna.Nelements), dtype=np.complex128)\n",
    "    lambda_m = radar1.Lambda\n",
    "    antenna_matrix = np.exp(1j * 2 * np.pi * (1 / lambda_m) * np.sin(np.deg2rad(antenna.DOA)) * antenna.spacing)\n",
    "    for p in range(radar1.PTM_len):\n",
    "            srx[:, p, :] = np.matmul(np.transpose(rxmat[:, p][np.newaxis]),antenna_matrix[np.newaxis])\n",
    "    srx_volts = np.transpose(srx, (0, 2, 1))\n",
    "    return srx_volts\n",
    "\n",
    "\n",
    "def get_max_y(y_res):\n",
    "    y_antenna = np.transpose(y_res[0])\n",
    "    win_hamm_col = np.hamming(181)\n",
    "    awin_col = np.sum(win_hamm_col)\n",
    "    power_music = 10*np.log10(np.abs(y_antenna[511:])/awin_col) + 18.706\n",
    "\n",
    "    index_max = np.unravel_index(np.argmax(power_music, axis=None), power_music.shape)\n",
    "    max_power = power_music[index_max]\n",
    "    power_music[index_max] = power_music[index_max] + 5\n",
    "    return max_power, power_music"
   ]
  },
  {
   "cell_type": "code",
   "execution_count": 58,
   "metadata": {},
   "outputs": [],
   "source": [
    "def write_hardware_target(array, snr_db):\n",
    "    #golden_data_t1 = open(\"./Results_FX/P200_Vd2_snr_\"+str(snr_db)+\".dat\", \"a\")\n",
    "    golden_data_t1 = open(\"./DPFL/Results_FX/P200_Vd2_snr_\"+str(snr_db)+\".dat\", \"a\")\n",
    "    array_line = ' '.join(map(str, array))\n",
    "    golden_data_t1.write(array_line + \"\\n\")\n",
    "    golden_data_t1.close()"
   ]
  },
  {
   "cell_type": "code",
   "execution_count": 59,
   "metadata": {
    "scrolled": true
   },
   "outputs": [],
   "source": [
    "radar1_in = radar1()\n",
    "doppler_axis = np.arange(radar1_in.im_fdmin, radar1_in.im_fdmax + radar1_in.dfd, radar1_in.dfd)\n",
    "velocity_axis = doppler_axis * radar1_in.Lambda/2\n",
    "delay_axis = np.arange(-radar1_in.L + 1, radar1_in.L)\n",
    "range_axis = ((radar1_in.c * radar1_in.ts) / 2) * delay_axis\n",
    "theta_axis = np.arange(-90, 91, 1)\n",
    "# Load XMAT\n",
    "tx = sio.loadmat(\"/home/xilinx/jupyter_notebooks/Aakanksha/V4/tx_freq_domain.mat\")[\"xmat\"]\n",
    "xmat = np.transpose(np.transpose(tx)[:nop])\n",
    "xmat1=xmat*np.squeeze(np.tile(np.exp(1j * np.pi * np.arange(4)/ 2),(1,int(xmat.shape[0] / 4)))).reshape(-1,1)\n",
    "xmat_padded1 = np.zeros((1024, nop),np.complex128)\n",
    "xmat_padded1[0:radar1_in.L,:] = xmat1\n",
    "xmat_padded = np.zeros((Nu_elements, 1024, nop), dtype=np.complex128)\n",
    "for i in range(Nu_elements):\n",
    "    xmat_padded[i] = xmat_padded1\n",
    "xmat_padded = np.transpose(xmat_padded, (2, 0, 1))\n",
    "xmat_fft_conj_tran = np.zeros(shape=np.shape(xmat_padded), dtype=np.complex128)\n",
    "for i in range(radar1_in.PTM_len):\n",
    "    xmat_fft_conj_tran[i] = np.conj(np.fft.fft(xmat_padded[i]))\n",
    "n_frame = 1"
   ]
  },
  {
   "cell_type": "code",
   "execution_count": 60,
   "metadata": {},
   "outputs": [],
   "source": [
    "   # Adding doppler delay \n",
    "def add_doppler_delay(rxmat_fft, doppler_delay):\n",
    "    return np.transpose([a*b for a,b in zip(rxmat_fft, doppler_delay)])\n",
    "\n",
    "def select_theta(avg_pre):\n",
    "    return np.arange(-90, 91, avg_pre)\n",
    "    \n",
    "    # Method for multiplication for Diagonal elements of matrix\n",
    "def diag_mat_mul(rxmat_dd, xmat_conj):\n",
    "    xmat_conj_trans = np.transpose(xmat_conj)\n",
    "    diag_res2 = np.sum(np.multiply(rxmat_dd, xmat_conj_trans), axis = 1)\n",
    "    return diag_res2\n",
    "    \n",
    "def dbf(rxmat_fft, azi_delay):\n",
    "    rxmat_dd=np.transpose([a*b for a,b in zip(rxmat_fft, azi_delay)])\n",
    "    diag_res2_sum=np.sum(rxmat_dd,axis=1)\n",
    "    return diag_res2_sum\n",
    "    \n",
    "def matchedfiltering_angle_v4(rxmat_fft, xmat_fft_conj_tran,k,r_in,IDFT,avg_pre=1):\n",
    "    if(r_in>=1024):\n",
    "        r_in=1023\n",
    "    theta = select_theta(avg_pre)\n",
    "    y = np.zeros(shape=(radar1_in.PTM_len-1,), dtype=np.complex128)\n",
    "    temp = np.zeros(shape=(1, 2 * radar1_in.L), dtype=np.complex128)\n",
    "    for i in range(radar1_in.PTM_len-1):\n",
    "        theta_k = (2 * np.pi * np.sin(np.pi * theta[k] / 180)) / radar1_in.Lambda\n",
    "        azi_delay = np.exp(-1j * theta_k * antenna_param.spacing)\n",
    "        out=dbf(rxmat_fft[i], azi_delay)\n",
    "        out1=np.multiply(out,xmat_fft_conj_tran[i+1])\n",
    "        y[i]=np.matmul(IDFT[r_in,:][np.newaxis],np.transpose(out1[np.newaxis]))/1024 \n",
    "    return y\n",
    "\n",
    "def matchedfiltering2D(total_srx_noise, xmat_fft_conj_tran, avg_pre=1):\n",
    "    rxmat_fft = np.zeros(shape=np.shape(total_srx_noise), dtype=np.complex128)\n",
    "    rxmat_fft = np.fft.fft(total_srx_noise)\n",
    "\n",
    "    theta = select_theta(avg_pre)\n",
    "    y = np.zeros(shape=( len(theta), 2 * radar1_in.L), dtype=np.complex128)\n",
    "    for k in range(len(theta)):\n",
    "        theta_k = (2 * np.pi * np.sin(np.pi * theta[k] / 180)) / radar1_in.Lambda\n",
    "        azi_delay = np.exp(-1j * theta_k * antenna_param.spacing)\n",
    "        out=dbf(rxmat_fft, azi_delay)\n",
    "        out1=np.multiply(out,xmat_fft_conj_tran)\n",
    "        y[k][:] = np.fft.ifftshift(np.fft.ifft(out1))\n",
    "    return y, theta"
   ]
  },
  {
   "cell_type": "code",
   "execution_count": 61,
   "metadata": {},
   "outputs": [],
   "source": [
    "def get_points_2d(N, Rmax):\n",
    "    D = 2\n",
    "    x = np.random.randn(N, D)\n",
    "    Rmin = 1\n",
    "    Rad = Rmax\n",
    "    \n",
    "    y = np.zeros((N, D))\n",
    "    r = np.zeros(N)\n",
    "    \n",
    "    for n in range(N):\n",
    "        dr = np.linalg.norm(x[n, :])\n",
    "        U = np.random.random() ** (1 / D)\n",
    "        y[n, :] = U * Rad * x[n, :] / dr\n",
    "        r[n] = np.linalg.norm(y[n, :])\n",
    "        \n",
    "        if r[n] < Rmin:\n",
    "            y[n, :] = np.full(D, np.finfo(float).tiny)\n",
    "    \n",
    "    x_coordinate = y[:, 0]\n",
    "    y_coordinate = y[:, 1]\n",
    "    \n",
    "    return x_coordinate, y_coordinate"
   ]
  },
  {
   "cell_type": "code",
   "execution_count": 62,
   "metadata": {},
   "outputs": [],
   "source": [
    "# Single Target SNR Performance\n",
    "Nu_elements = 32 # Variable Number of Antenna\n",
    "np.random.seed(1)\n",
    "radar_pos = np.array([0, 0])\n",
    "snr_db = 10\n",
    "N = 200\n",
    "Rmax = 40\n",
    "x_coordinate, y_coordinate = get_points_2d(N, Rmax)\n",
    "\n",
    "range1 = np.round(np.sqrt((radar_pos[0] - x_coordinate) ** 2 + (radar_pos[1] - y_coordinate) ** 2))\n",
    "theta1 = np.round(np.rad2deg(np.arctan2(y_coordinate, x_coordinate)))\n",
    "range1[range1 == 0] = 1\n",
    "x_coordinate, y_coordinate = get_points_2d(N, Rmax)\n",
    "theta1[(np.where(np.logical_and(theta1>=90, theta1<=180)))]=theta1[(np.where(np.logical_and(theta1>=90, theta1<=180)))]-180\n",
    "theta1[(np.where(np.logical_and(theta1>=-180, theta1<=-90)))]=theta1[(np.where(np.logical_and(theta1>=-180, theta1<=-90)))]+180\n",
    "vel1 = np.random.randint(-25, 23, size=N)\n",
    "rcs1 = np.random.exponential(10, size=N)\n",
    "vel2 = vel1 + 4 #### velocity difference for super-resolution\n",
    "rcs2 = np.random.exponential(10, size=N)\n",
    "theta1[theta1 > 85] = 85\n",
    "theta1[theta1 < -85] = -85\n",
    "rcs1[rcs1 == 0] = 1\n",
    "rcs2[rcs2 == 0] = 1\n",
    "r = np.transpose(np.vstack((range1)))\n",
    "r1=range1\n",
    "o1=theta1\n",
    "v1=vel1\n",
    "v2=vel2\n",
    "sigma1=rcs1\n",
    "sigma2=rcs2"
   ]
  },
  {
   "cell_type": "code",
   "execution_count": 63,
   "metadata": {
    "scrolled": true
   },
   "outputs": [],
   "source": [
    "ol = Overlay(\"music_unopt.bit\")\n",
    "#ol = Overlay(\"MUSIC_FX_Givens.bit\")\n",
    "#ol = Overlay(\"/home/xilinx/jupyter_notebooks/AnkitKumarPal/SuperResolution/MUSIC/design_P200.bit\")\n",
    "data_channel = ol.axi_dma_0\n",
    "import time\n",
    "pltime = 0\n",
    "\n",
    "pstime = 0\n",
    "\n",
    "# Function to find peaks in spectrum\n",
    "def findPeaks(arr):\n",
    "    maxima_indices = argrelextrema(arr, np.greater)\n",
    "    local_maxima = list(zip(maxima_indices[0], arr[maxima_indices]))\n",
    "    threshold = 0.50 * np.min(arr)\n",
    "    local_maxima = [tup for tup in local_maxima if tup[1] >= threshold]\n",
    "    if len(local_maxima)==1:\n",
    "        local_maxima.append(local_maxima[0])\n",
    "    sorted_maxima = sorted(local_maxima, key=lambda x: x[1], reverse=True)\n",
    "    top_two_indices = [index for index, value in sorted_maxima[:2]]\n",
    "    return np.array(top_two_indices)\n",
    "    \n",
    "# Function to perfrom Autocorrelation\n",
    "def autocorrelation_func(rec_sig):\n",
    "    conj_sig = np.conj(rec_sig)\n",
    "    autocorrelation_matrix = []\n",
    "    for i in range(len(conj_sig)):\n",
    "        dat1 = np.conj(conj_sig[i]) * rec_sig\n",
    "        autocorrelation_matrix.append(dat1)\n",
    "    return np.array(autocorrelation_matrix)\n",
    "    \n",
    "def subspace_gen(doppler_axis,N):\n",
    "    subspace = np.zeros((1, N), dtype=np.complex128)\n",
    "    for jj in range(N):\n",
    "        subspace[0, jj] = np.exp(-1j*doppler_axis*jj)\n",
    "    return subspace\n",
    "        \n",
    "# Function to generate rotation matrix\n",
    "def givensrotation(a, b):\n",
    "    z = a*a + b*b\n",
    "    r = np.sqrt(z.real**2 + z.imag**2)\n",
    "    theta = np.arctan2(z.imag, z.real)\n",
    "    hypo = np.sqrt(r) * (np.cos(theta / 2) + 1j * np.sin(theta / 2))\n",
    "    if hypo == 0:\n",
    "        return 1, 0\n",
    "    else:\n",
    "        cos1 = a/ hypo\n",
    "        sin1 = -b / hypo\n",
    "        return cos1, sin1\n",
    "    \n",
    "# QR using Givens Rotation\n",
    "def qr_givens(A):\n",
    "    m, n = A.shape\n",
    "    R = A.copy()\n",
    "    Q = np.identity(m,dtype=np.complex128)\n",
    "    for i in range(0, n - 1):\n",
    "        for j in range(i + 1, m):\n",
    "            cos, sin = givensrotation(R[i, i], R[j, i])\n",
    "            R[i], R[j] = (R[i]*cos) + (R[j]*(-sin)), (R[i]*sin) + (R[j] * cos)\n",
    "            Q[i], Q[j] = (Q[i]*cos) + (Q[j]*(-sin)), (Q[i]*sin) + (Q[j] * cos)\n",
    "    return Q.T, R\n",
    "    \n",
    "# MUSIC using Given's Rotation\n",
    "def music_PS(rec_signal):\n",
    "    rec_signal = rec_signal.astype(np.complex128)\n",
    "    N = len(rec_signal)\n",
    "    l = N//2\n",
    "    subarr=N+1-l\n",
    "    autocorrelation_matrix = np.zeros((l, l), dtype=np.complex128)\n",
    "    for i in range(subarr):\n",
    "        sub1 = rec_signal[i:(l+i)]\n",
    "        sub2 = autocorrelation_func(np.array(sub1))\n",
    "        autocorrelation_matrix = autocorrelation_matrix+sub2\n",
    "    autocorrelation_matrix = autocorrelation_matrix/subarr\n",
    "    eign_vec, eign_val = qr_givens(autocorrelation_matrix)\n",
    "    noise_subspace_est = np.delete(eign_vec, [0,1], axis=1)\n",
    "    doppler_axis1=[-0.15079644737231,\t-0.149275916527973,\t-0.147755385683635,\t-0.146234854839298,\t-0.14471432399496,\t-0.143193793150623,\t-0.141673262306285,\t-0.140152731461948,\t-0.13863220061761,\t-0.137111669773273,\t-0.135591138928935,\t-0.134070608084598,\t-0.132550077240261,\t-0.131029546395923,\t-0.129509015551586,\t-0.127988484707248,\t-0.126467953862911,\t-0.124947423018573,\t-0.123426892174236,\t-0.121906361329898,\t-0.120385830485561,\t-0.118865299641223,\t-0.117344768796886,\t-0.115824237952548,\t-0.114303707108211,\t-0.112783176263874,\t-0.111262645419536,\t-0.109742114575199,\t-0.108221583730861,\t-0.106701052886524,\t-0.105180522042186,\t-0.103659991197849,\t-0.102139460353511,\t-0.100618929509174,\t-0.0990983986648364,\t-0.097577867820499,\t-0.0960573369761615,\t-0.0945368061318241,\t-0.0930162752874866,\t-0.0914957444431491,\t-0.0899752135988117,\t-0.0884546827544742,\t-0.0869341519101368,\t-0.0854136210657993,\t-0.0838930902214618,\t-0.0823725593771244,\t-0.0808520285327869,\t-0.0793314976884495,\t-0.077810966844112,\t-0.0762904359997745,\t-0.0747699051554371,\t-0.0732493743110996,\t-0.0717288434667622,\t-0.0702083126224247,\t-0.0686877817780872,\t-0.0671672509337498,\t-0.0656467200894123,\t-0.0641261892450749,\t-0.0626056584007374,\t-0.0610851275563999,\t-0.0595645967120625,\t-0.058044065867725,\t-0.0565235350233876,\t-0.0550030041790501,\t-0.0534824733347126,\t-0.0519619424903752,\t-0.0504414116460377,\t-0.0489208808017003,\t-0.0474003499573628,\t-0.0458798191130253,\t-0.0443592882686879,\t-0.0428387574243504,\t-0.041318226580013,\t-0.0397976957356755,\t-0.038277164891338,\t-0.0367566340470006,\t-0.0352361032026631,\t-0.0337155723583257,\t-0.0321950415139882,\t-0.0306745106696507,\t-0.0291539798253133,\t-0.0276334489809758,\t-0.0261129181366384,\t-0.0245923872923009,\t-0.0230718564479634,\t-0.021551325603626,\t-0.0200307947592885,\t-0.0185102639149511,\t-0.0169897330706136,\t-0.0154692022262761,\t-0.0139486713819387,\t-0.0124281405376012,\t-0.0109076096932638,\t-0.0093870788489263,\t-0.00786654800458884,\t-0.00634601716025138,\t-0.00482548631591392,\t-0.00330495547157646,\t-0.001784424627239,\t-0.000263893782901543,\t0.00125663706143592,\t0.00277716790577338,\t0.00429769875011084,\t0.0058182295944483,\t0.00733876043878576,\t0.00885929128312322,\t0.0103798221274607,\t0.0119003529717981,\t0.0134208838161356,\t0.0149414146604731,\t0.0164619455048105,\t0.017982476349148,\t0.0195030071934854,\t0.0210235380378229,\t0.0225440688821604,\t0.0240645997264978,\t0.0255851305708353,\t0.0271056614151727,\t0.0286261922595102,\t0.0301467231038477,\t0.0316672539481851,\t0.0331877847925226,\t0.03470831563686,\t0.0362288464811975,\t0.037749377325535,\t0.0392699081698724,\t0.0407904390142099,\t0.0423109698585473,\t0.0438315007028848,\t0.0453520315472223,\t0.0468725623915597,\t0.0483930932358972,\t0.0499136240802346,\t0.0514341549245721,\t0.0529546857689096,\t0.054475216613247,\t0.0559957474575845,\t0.0575162783019219,\t0.0590368091462594,\t0.0605573399905969,\t0.0620778708349343,\t0.0635984016792718,\t0.0651189325236092,\t0.0666394633679467,\t0.0681599942122841,\t0.0696805250566216,\t0.0712010559009591,\t0.0727215867452965,\t0.074242117589634,\t0.0757626484339714,\t0.0772831792783089,\t0.0788037101226464,\t0.0803242409669838,\t0.0818447718113213,\t0.0833653026556587,\t0.0848858334999962,\t0.0864063643443337,\t0.0879268951886711,\t0.0894474260330086,\t0.0909679568773461,\t0.0924884877216835,\t0.094009018566021,\t0.0955295494103584,\t0.0970500802546959,\t0.0985706110990334,\t0.100091141943371,\t0.101611672787708,\t0.103132203632046,\t0.104652734476383,\t0.106173265320721,\t0.107693796165058,\t0.109214327009396,\t0.110734857853733,\t0.11225538869807,\t0.113775919542408,\t0.115296450386745,\t0.116816981231083,\t0.11833751207542,\t0.119858042919758,\t0.121378573764095,\t0.122899104608433,\t0.12441963545277,\t0.125940166297108,\t0.127460697141445,\t0.128981227985783,\t0.13050175883012,\t0.132022289674457,\t0.133542820518795,\t0.135063351363132,\t0.13658388220747,\t0.138104413051807,\t0.139624943896145,\t0.141145474740482,\t0.14266600558482,\t0.144186536429157,\t0.145707067273495,\t0.147227598117832,\t0.14874812896217,\t0.150268659806507,\t0.151789190650844]\n",
    "    p_music = []\n",
    "    for i in range(len(doppler_axis)):\n",
    "        subspace = subspace_gen(doppler_axis1[i],l)\n",
    "        ss1_nn1 = np.matmul(subspace, noise_subspace_est)\n",
    "        peak1 = np.sum(ss1_nn1.real**2) + np.sum(ss1_nn1.imag**2)\n",
    "        p_music.append(peak1)\n",
    "    #print(\"PS output\")\n",
    "    t=np.min(p_music)/p_music\n",
    "    #for i in range(len(t)):\n",
    "    #    print(t[i],\",\")\n",
    "    p_music = np.flip(np.array(p_music))\n",
    "    p_music = 10*np.log10(np.min(p_music)/p_music)\n",
    "    A1 = findPeaks(p_music)\n",
    "    if len(A1) == 0:\n",
    "        velx1 = [30.0, 30.0]\n",
    "    else:\n",
    "        velocity_axis = np.linspace(-30,30,200)\n",
    "        velx1 = velocity_axis[A1].tolist()\n",
    "        velx1.sort(reverse=True)\n",
    "    return velx1[0], velx1[1], t\n",
    "\n",
    "# MUSIC using QR Library\n",
    "def music_PS_QR(rec_signal):\n",
    "    rec_signal = rec_signal.astype(np.complex64)\n",
    "    N = len(rec_signal)\n",
    "    l = N//2\n",
    "    subarr=N+1-l\n",
    "    autocorrelation_matrix = np.zeros((l, l), dtype=np.complex64)\n",
    "    for i in range(subarr):\n",
    "        sub1 = rec_signal[i:(l+i)]\n",
    "        sub2 = autocorrelation_func(np.array(sub1))\n",
    "        autocorrelation_matrix = autocorrelation_matrix+sub2\n",
    "    autocorrelation_matrix = autocorrelation_matrix/subarr\n",
    "    eign_vec, eign_val = np.linalg.qr(autocorrelation_matrix,mode='complete')\n",
    "    noise_subspace_est = np.delete(eign_vec, [0,1], axis=1)\n",
    "    print(sub1.dtype,sub2.dtype,autocorrelation_matrix.dtype,noise_subspace_est.dtype,eign_vec.dtype,eign_val.dtype,noise_subspace_est.shape )\n",
    "    doppler_axis1=[-0.15079644737231,\t-0.149275916527973,\t-0.147755385683635,\t-0.146234854839298,\t-0.14471432399496,\t-0.143193793150623,\t-0.141673262306285,\t-0.140152731461948,\t-0.13863220061761,\t-0.137111669773273,\t-0.135591138928935,\t-0.134070608084598,\t-0.132550077240261,\t-0.131029546395923,\t-0.129509015551586,\t-0.127988484707248,\t-0.126467953862911,\t-0.124947423018573,\t-0.123426892174236,\t-0.121906361329898,\t-0.120385830485561,\t-0.118865299641223,\t-0.117344768796886,\t-0.115824237952548,\t-0.114303707108211,\t-0.112783176263874,\t-0.111262645419536,\t-0.109742114575199,\t-0.108221583730861,\t-0.106701052886524,\t-0.105180522042186,\t-0.103659991197849,\t-0.102139460353511,\t-0.100618929509174,\t-0.0990983986648364,\t-0.097577867820499,\t-0.0960573369761615,\t-0.0945368061318241,\t-0.0930162752874866,\t-0.0914957444431491,\t-0.0899752135988117,\t-0.0884546827544742,\t-0.0869341519101368,\t-0.0854136210657993,\t-0.0838930902214618,\t-0.0823725593771244,\t-0.0808520285327869,\t-0.0793314976884495,\t-0.077810966844112,\t-0.0762904359997745,\t-0.0747699051554371,\t-0.0732493743110996,\t-0.0717288434667622,\t-0.0702083126224247,\t-0.0686877817780872,\t-0.0671672509337498,\t-0.0656467200894123,\t-0.0641261892450749,\t-0.0626056584007374,\t-0.0610851275563999,\t-0.0595645967120625,\t-0.058044065867725,\t-0.0565235350233876,\t-0.0550030041790501,\t-0.0534824733347126,\t-0.0519619424903752,\t-0.0504414116460377,\t-0.0489208808017003,\t-0.0474003499573628,\t-0.0458798191130253,\t-0.0443592882686879,\t-0.0428387574243504,\t-0.041318226580013,\t-0.0397976957356755,\t-0.038277164891338,\t-0.0367566340470006,\t-0.0352361032026631,\t-0.0337155723583257,\t-0.0321950415139882,\t-0.0306745106696507,\t-0.0291539798253133,\t-0.0276334489809758,\t-0.0261129181366384,\t-0.0245923872923009,\t-0.0230718564479634,\t-0.021551325603626,\t-0.0200307947592885,\t-0.0185102639149511,\t-0.0169897330706136,\t-0.0154692022262761,\t-0.0139486713819387,\t-0.0124281405376012,\t-0.0109076096932638,\t-0.0093870788489263,\t-0.00786654800458884,\t-0.00634601716025138,\t-0.00482548631591392,\t-0.00330495547157646,\t-0.001784424627239,\t-0.000263893782901543,\t0.00125663706143592,\t0.00277716790577338,\t0.00429769875011084,\t0.0058182295944483,\t0.00733876043878576,\t0.00885929128312322,\t0.0103798221274607,\t0.0119003529717981,\t0.0134208838161356,\t0.0149414146604731,\t0.0164619455048105,\t0.017982476349148,\t0.0195030071934854,\t0.0210235380378229,\t0.0225440688821604,\t0.0240645997264978,\t0.0255851305708353,\t0.0271056614151727,\t0.0286261922595102,\t0.0301467231038477,\t0.0316672539481851,\t0.0331877847925226,\t0.03470831563686,\t0.0362288464811975,\t0.037749377325535,\t0.0392699081698724,\t0.0407904390142099,\t0.0423109698585473,\t0.0438315007028848,\t0.0453520315472223,\t0.0468725623915597,\t0.0483930932358972,\t0.0499136240802346,\t0.0514341549245721,\t0.0529546857689096,\t0.054475216613247,\t0.0559957474575845,\t0.0575162783019219,\t0.0590368091462594,\t0.0605573399905969,\t0.0620778708349343,\t0.0635984016792718,\t0.0651189325236092,\t0.0666394633679467,\t0.0681599942122841,\t0.0696805250566216,\t0.0712010559009591,\t0.0727215867452965,\t0.074242117589634,\t0.0757626484339714,\t0.0772831792783089,\t0.0788037101226464,\t0.0803242409669838,\t0.0818447718113213,\t0.0833653026556587,\t0.0848858334999962,\t0.0864063643443337,\t0.0879268951886711,\t0.0894474260330086,\t0.0909679568773461,\t0.0924884877216835,\t0.094009018566021,\t0.0955295494103584,\t0.0970500802546959,\t0.0985706110990334,\t0.100091141943371,\t0.101611672787708,\t0.103132203632046,\t0.104652734476383,\t0.106173265320721,\t0.107693796165058,\t0.109214327009396,\t0.110734857853733,\t0.11225538869807,\t0.113775919542408,\t0.115296450386745,\t0.116816981231083,\t0.11833751207542,\t0.119858042919758,\t0.121378573764095,\t0.122899104608433,\t0.12441963545277,\t0.125940166297108,\t0.127460697141445,\t0.128981227985783,\t0.13050175883012,\t0.132022289674457,\t0.133542820518795,\t0.135063351363132,\t0.13658388220747,\t0.138104413051807,\t0.139624943896145,\t0.141145474740482,\t0.14266600558482,\t0.144186536429157,\t0.145707067273495,\t0.147227598117832,\t0.14874812896217,\t0.150268659806507,\t0.151789190650844]\n",
    "    p_music = []\n",
    "    for i in range(len(doppler_axis)):\n",
    "        subspace = subspace_gen(doppler_axis1[i],l)\n",
    "        ss1_nn1 = np.matmul(subspace, noise_subspace_est)\n",
    "        peak1 = np.sum(ss1_nn1.real**2) + np.sum(ss1_nn1.imag**2)\n",
    "        p_music.append(peak1)\n",
    "    #print(\"PS output\")\n",
    "    t=np.min(p_music)/p_music\n",
    "    #for i in range(len(t)):\n",
    "    #    print(t[i],\",\")\n",
    "    p_music = np.array(p_music)\n",
    "    p_music = 10*np.log10(np.min(p_music)/p_music)\n",
    "    A1 = findPeaks(p_music)\n",
    "    if len(A1) == 0:\n",
    "        velx1 = [30.0, 30.0]\n",
    "    else:\n",
    "        velocity_axis = np.linspace(-30,30,200)\n",
    "        velx1 = velocity_axis[A1].tolist()\n",
    "        velx1.sort(reverse=True)\n",
    "    return velx1[0], velx1[1], t\n",
    "\n",
    "\n",
    "def music1(rec_signal1):\n",
    "    input_buffer = allocate((nop,),np.cdouble)\n",
    "    output_buffer = allocate((200,),np.single)\n",
    "    \n",
    "    send_channel = data_channel.sendchannel\n",
    "    recv_channel = data_channel.recvchannel\n",
    "    \n",
    "    np.copyto(input_buffer,rec_signal1)\n",
    "\n",
    "    send_channel.transfer(input_buffer)\n",
    "    recv_channel.transfer(output_buffer)\n",
    "    send_channel.wait()\n",
    "    recv_channel.wait()\n",
    "    #print(\"PL output\")\n",
    "    #print(output_buffer)\n",
    "    peaks1 = 10*np.log10(np.abs(np.flip(output_buffer)))\n",
    "    return peaks1,output_buffer\n",
    "\n",
    "\n",
    "def music_PL(rec_signal1):\n",
    "    p_music,ob = music1(rec_signal1)\n",
    "    \n",
    "    while(np.isnan(p_music[0])):\n",
    "        rec_signal1 = rec_signal1 * 3.1622776602/2\n",
    "        p_music,ob = music1(rec_signal1)\n",
    "        print(\"nan detected\")\n",
    "        \n",
    "    A1 = findPeaks(p_music)\n",
    "    if len(A1) == 0:\n",
    "        velx1 = [30.0, 30.0]\n",
    "    else:\n",
    "        velocity_axis = np.linspace(-30,30,200)\n",
    "        velx1 = velocity_axis[A1].tolist()\n",
    "        velx1.sort(reverse=True)\n",
    "        \n",
    "    return velx1[0], velx1[1], ob\n",
    "\n",
    "def MUSIC_F(rec_signal1):\n",
    "    #print(\"INPUT\")\n",
    "    #print(np.real(rec_signal1))\n",
    "    #print(np.imag(rec_signal1))\n",
    "    \n",
    "    start_time = time.time()\n",
    "    vx1, vx2, p_music_PS = music_PS(rec_signal1)\n",
    "    finish_time = time.time()\n",
    "    pstime = finish_time - start_time\n",
    "    print(f\"PS Time = {pstime}\")\n",
    "    \n",
    "    start_time = time.time()\n",
    "    vx3, vx4, p_music_PL = music_PL(rec_signal1)\n",
    "    finish_time = time.time()\n",
    "    pltime = finish_time - start_time\n",
    "    print(f\"PL Time = {pltime}\") \n",
    "    \n",
    "    acc_fac = pstime/pltime\n",
    "    \n",
    "    print(f\"Acceleration factor = {acc_fac}\")\n",
    "    #vx3, vx4, p_music_PL = music_PS_QR(rec_signal1)\n",
    "    return vx1, vx2, vx3, vx4, p_music_PL, p_music_PS, acc_fac"
   ]
  },
  {
   "cell_type": "code",
   "execution_count": 64,
   "metadata": {},
   "outputs": [
    {
     "name": "stdout",
     "output_type": "stream",
     "text": [
      "Round: 0\n",
      "SNR: -15\n",
      "PS Time = 2.161036491394043\n",
      "PL Time = 0.16310834884643555\n",
      "Acceleration factor = 13.249085694740442\n",
      "PS Time = 2.2392752170562744\n",
      "PL Time = 0.16170001029968262\n",
      "Acceleration factor = 13.848330701440096\n",
      "PS Time = 2.1598668098449707\n",
      "PL Time = 0.16158294677734375\n",
      "Acceleration factor = 13.366923013362292\n",
      "PS Time = 2.689256191253662\n",
      "PL Time = 0.162184476852417\n",
      "Acceleration factor = 16.581464782852212\n",
      "PS Time = 2.173096179962158\n",
      "PL Time = 0.1919231414794922\n",
      "Acceleration factor = 11.322741818470925\n",
      "Average acceleration factor over 5 runs for SNR = -15 is 13.673709202173194\n",
      "SNR: -10\n",
      "PS Time = 2.1471102237701416\n",
      "PL Time = 0.16229486465454102\n",
      "Acceleration factor = 13.2296867700679\n",
      "PS Time = 2.2463319301605225\n",
      "PL Time = 0.161484956741333\n",
      "Acceleration factor = 13.91047175842331\n",
      "PS Time = 2.1655075550079346\n",
      "PL Time = 0.16156816482543945\n",
      "Acceleration factor = 13.403058438817943\n",
      "PS Time = 2.164322853088379\n",
      "PL Time = 0.16136455535888672\n",
      "Acceleration factor = 13.412628617695903\n",
      "PS Time = 2.8547797203063965\n",
      "PL Time = 0.1634995937347412\n",
      "Acceleration factor = 17.460469809716713\n",
      "Average acceleration factor over 5 runs for SNR = -10 is 17.018004919378992\n",
      "SNR: -5\n",
      "PS Time = 2.1491897106170654\n",
      "PL Time = 0.17666125297546387\n",
      "Acceleration factor = 12.165597573994123\n",
      "PS Time = 2.139639377593994\n",
      "PL Time = 0.1616687774658203\n",
      "Acceleration factor = 13.234709949151142\n",
      "PS Time = 2.1572821140289307\n",
      "PL Time = 0.169783353805542\n",
      "Acceleration factor = 12.706087291099992\n",
      "PS Time = 2.1619555950164795\n",
      "PL Time = 0.1613600254058838\n",
      "Acceleration factor = 13.398334498140494\n",
      "PS Time = 2.1876909732818604\n",
      "PL Time = 0.16953372955322266\n",
      "Acceleration factor = 12.904163549325247\n",
      "Average acceleration factor over 5 runs for SNR = -5 is 16.285379556217997\n",
      "SNR: 0\n",
      "PS Time = 2.159400224685669\n",
      "PL Time = 0.16605019569396973\n",
      "Acceleration factor = 13.004502738831096\n",
      "PS Time = 2.1416118144989014\n",
      "PL Time = 0.1617419719696045\n",
      "Acceleration factor = 13.240915690711164\n",
      "PS Time = 2.159888505935669\n",
      "PL Time = 0.16306543350219727\n",
      "Acceleration factor = 13.245532542042794\n",
      "PS Time = 2.1444666385650635\n",
      "PL Time = 0.16225528717041016\n",
      "Acceleration factor = 13.216621017180273\n",
      "PS Time = 2.1458044052124023\n",
      "PL Time = 0.16164064407348633\n",
      "Acceleration factor = 13.275153767865834\n",
      "Average acceleration factor over 5 runs for SNR = 0 is 16.45362106256983\n",
      "SNR: 5\n",
      "PS Time = 2.2071962356567383\n",
      "PL Time = 0.1616654396057129\n",
      "Acceleration factor = 13.652863846718795\n",
      "PS Time = 2.160987377166748\n",
      "PL Time = 0.16158056259155273\n",
      "Acceleration factor = 13.37405528553174\n",
      "PS Time = 2.1495211124420166\n",
      "PL Time = 0.16207027435302734\n",
      "Acceleration factor = 13.262895500255969\n",
      "PS Time = 2.1445536613464355\n",
      "PL Time = 0.1619093418121338\n",
      "Acceleration factor = 13.245397932843172\n",
      "PS Time = 2.1368682384490967\n",
      "PL Time = 0.16185665130615234\n",
      "Acceleration factor = 13.202226916255693\n",
      "Average acceleration factor over 5 runs for SNR = 5 is 16.63821210883504\n",
      "SNR: 10\n",
      "PS Time = 2.1934337615966797\n",
      "PL Time = 0.1617603302001953\n",
      "Acceleration factor = 13.559775495525239\n",
      "PS Time = 2.1387715339660645\n",
      "PL Time = 0.16176843643188477\n",
      "Acceleration factor = 13.221191853867174\n",
      "PS Time = 2.211177110671997\n",
      "PL Time = 0.16217422485351562\n",
      "Acceleration factor = 13.634577952626255\n",
      "PS Time = 2.14406156539917\n",
      "PL Time = 0.1620626449584961\n",
      "Acceleration factor = 13.229831994586165\n",
      "PS Time = 2.157045602798462\n",
      "PL Time = 0.16202592849731445\n",
      "Acceleration factor = 13.312965540785125\n",
      "Average acceleration factor over 5 runs for SNR = 10 is 16.719310989245\n",
      "SNR: 15\n",
      "PS Time = 2.1347477436065674\n",
      "PL Time = 0.162184476852417\n",
      "Acceleration factor = 13.162466501335537\n",
      "PS Time = 2.131441593170166\n",
      "PL Time = 0.1618046760559082\n",
      "Acceleration factor = 13.172929516781648\n",
      "PS Time = 2.1638777256011963\n",
      "PL Time = 0.16218829154968262\n",
      "Acceleration factor = 13.341762866639128\n",
      "PS Time = 2.144491672515869\n",
      "PL Time = 0.16205811500549316\n",
      "Acceleration factor = 13.23285583349639\n",
      "PS Time = 2.1512794494628906\n",
      "PL Time = 0.18636846542358398\n",
      "Acceleration factor = 11.543151597956212\n",
      "Average acceleration factor over 5 runs for SNR = 15 is 16.23449546109078\n",
      "SNR: 20\n",
      "PS Time = 2.639418840408325\n",
      "PL Time = 0.16188573837280273\n",
      "Acceleration factor = 16.304208554369822\n",
      "PS Time = 2.1395225524902344\n",
      "PL Time = 0.1623244285583496\n",
      "Acceleration factor = 13.180533401484642\n",
      "PS Time = 2.1441330909729004\n",
      "PL Time = 0.16229701042175293\n",
      "Acceleration factor = 13.211168125654634\n",
      "PS Time = 2.552623987197876\n",
      "PL Time = 0.16293025016784668\n",
      "Acceleration factor = 15.666973963203434\n",
      "PS Time = 2.247929334640503\n",
      "PL Time = 0.16428899765014648\n",
      "Acceleration factor = 13.6827746641164\n",
      "Average acceleration factor over 5 runs for SNR = 20 is 17.65603083398394\n",
      "SNR: 25\n",
      "PS Time = 2.1389873027801514\n",
      "PL Time = 0.1618812084197998\n",
      "Acceleration factor = 13.213314402949134\n",
      "PS Time = 2.8770532608032227\n",
      "PL Time = 0.16634869575500488\n",
      "Acceleration factor = 17.295316009212904\n",
      "PS Time = 2.140873908996582\n",
      "PL Time = 0.16133499145507812\n",
      "Acceleration factor = 13.26974321991819\n",
      "PS Time = 2.150036573410034\n",
      "PL Time = 0.16167879104614258\n",
      "Acceleration factor = 13.298197985636973\n",
      "PS Time = 2.717494487762451\n",
      "PL Time = 0.16414475440979004\n",
      "Acceleration factor = 16.555475668617362\n",
      "Average acceleration factor over 5 runs for SNR = 25 is 18.2576156240637\n",
      "SNR: 30\n",
      "PS Time = 2.162198305130005\n",
      "PL Time = 0.1620168685913086\n",
      "Acceleration factor = 13.345513488377568\n",
      "PS Time = 2.144127607345581\n",
      "PL Time = 0.16210484504699707\n",
      "Acceleration factor = 13.226795329429915\n",
      "PS Time = 2.1888842582702637\n",
      "PL Time = 0.16263151168823242\n",
      "Acceleration factor = 13.459164435896007\n",
      "PS Time = 2.2186965942382812\n",
      "PL Time = 0.163621187210083\n",
      "Acceleration factor = 13.559959025291537\n",
      "PS Time = 2.191993474960327\n",
      "PL Time = 0.16245698928833008\n",
      "Acceleration factor = 13.492761896934812\n",
      "Average acceleration factor over 5 runs for SNR = 30 is 17.068361959998708\n",
      "SNR: 35\n",
      "PS Time = 2.149977445602417\n",
      "PL Time = 0.1630547046661377\n",
      "Acceleration factor = 13.185620433366818\n",
      "PS Time = 2.3256630897521973\n",
      "PL Time = 0.16202926635742188\n",
      "Acceleration factor = 14.353351971748086\n",
      "PS Time = 2.1459271907806396\n",
      "PL Time = 0.16263699531555176\n",
      "Acceleration factor = 13.194582122087697\n",
      "PS Time = 2.179586172103882\n",
      "PL Time = 0.16448688507080078\n",
      "Acceleration factor = 13.250820399241638\n",
      "PS Time = 2.179776430130005\n",
      "PL Time = 0.16344690322875977\n",
      "Acceleration factor = 13.336296907866139\n",
      "Average acceleration factor over 5 runs for SNR = 35 is 16.877806758861816\n",
      "SNR: 40\n",
      "PS Time = 2.1593379974365234\n",
      "PL Time = 0.16267919540405273\n",
      "Acceleration factor = 13.273596491999426\n",
      "PS Time = 2.162719964981079\n",
      "PL Time = 0.1605057716369629\n",
      "Acceleration factor = 13.474406203116413\n",
      "PS Time = 2.143364191055298\n",
      "PL Time = 0.1605219841003418\n",
      "Acceleration factor = 13.352465103567917\n",
      "PS Time = 2.1689436435699463\n",
      "PL Time = 0.16513562202453613\n",
      "Acceleration factor = 13.134317217442527\n",
      "PS Time = 2.1535022258758545\n",
      "PL Time = 0.16222381591796875\n",
      "Acceleration factor = 13.27488330668297\n",
      "Average acceleration factor over 5 runs for SNR = 40 is 16.677495016334213\n"
     ]
    }
   ],
   "source": [
    "p_music_PL=np.zeros((12,200,200))\n",
    "p_music_PS=np.zeros((12,200,200))\n",
    "p_acc_fac = np.zeros((12, 5))\n",
    "music_input=np.zeros((12,200,nop),'complex128')\n",
    "acc_fac_avg = 0\n",
    "for j in range(1):\n",
    "    N=5\n",
    "    snr_db = 10\n",
    "    signal_power = np.zeros(N)\n",
    "    srx_volts = np.zeros((N, radar1_in.PTM_len, Nu_elements, 2 * radar1_in.L), dtype=np.complex128)\n",
    "    srx_noise = np.zeros((N, radar1_in.PTM_len, Nu_elements, 2 * radar1_in.L), dtype=np.complex128)\n",
    "    rxmat_fft = np.zeros(shape=np.shape(srx_noise[1:,:,:]), dtype=np.complex128)\n",
    "    n1 = 1024\n",
    "    w1 = np.exp(-1j * 2 * np.pi / n1)\n",
    "    I, J = np.meshgrid(np.arange(1, n1 + 1), np.arange(1, n1 + 1))\n",
    "    DFT1 = w1**((I - 1) * (J - 1))\n",
    "    IDFT = np.transpose(np.conj(DFT1))\n",
    "    mean_signal_power=(10*32*1*(0.005**2)*1)/(((4*np.pi)**3)*(40**4))\n",
    "    print(\"Round: \" + str(j))\n",
    "    s = 0\n",
    "    for snr_db in [-15,-10,-5,0,5,10,15,20,25,30,35,40]:\n",
    "        l = 0\n",
    "    #for snr_db in [40]:\n",
    "        print(\"SNR:\", snr_db)\n",
    "        snr_linear = 10 ** (snr_db/10)\n",
    "        noise_power = mean_signal_power/snr_linear\n",
    "        for i in range(j*N,(j+1)*N):\n",
    "            range_t=r1[i];\n",
    "            velocity1=v1[i];\n",
    "            velocity2=v2[i];\n",
    "            rcs_amp1=sigma1[i];\n",
    "            rcs_amp2=sigma2[i];\n",
    "            DOA_angle=o1[i];\n",
    "            t1 = target(range_t, velocity1, rcs_amp1)\n",
    "            t2 = target(range_t, velocity2, rcs_amp2) \n",
    "            antenna_param = antenna(radar1_in.Lambda, Nu_elements, DOA_angle)\n",
    "            rxmat_t1 = get_received_signal(t1, \n",
    "                                            radar1_in, \n",
    "                                            xmat1, \n",
    "                                            radar1_in.fs, \n",
    "                                            radar1_in.fc, \n",
    "                                            antenna_param, \n",
    "                                            n_frame)\n",
    "\n",
    "            rxmat_t2 = get_received_signal(t2, \n",
    "                                            radar1_in, \n",
    "                                            xmat1, \n",
    "                                            radar1_in.fs, \n",
    "                                            radar1_in.fc, \n",
    "                                            antenna_param, \n",
    "                                            n_frame)\n",
    "            rxmat_t12 = rxmat_t1 + rxmat_t2\n",
    "            srx_volts = np.transpose(rxmat_t12, (2, 1, 0))\n",
    "            noise = np.sqrt(noise_power) * (np.random.randn(srx_volts.shape[0],srx_volts.shape[1],srx_volts.shape[2]) + (1j * np.random.randn(srx_volts.shape[0],srx_volts.shape[1],srx_volts.shape[2])))\n",
    "            srx_noise = srx_volts + noise\n",
    "            rxmat_fft = np.fft.fft(srx_noise[1:,:,:])\n",
    "            \n",
    "            y_pack1 = np.zeros(shape=(radar1_in.PTM_len,), dtype=np.complex128)\n",
    "            y_p1 = np.zeros(shape=(radar1_in.PTM_len-1,), dtype=np.complex128)\n",
    "            \n",
    "            y_res, theta = matchedfiltering2D(srx_noise[0,:,:], xmat_fft_conj_tran[0,0,:], avg_pre=angle_prec) \n",
    "            [a1, b1] = np.unravel_index(np.argmax(np.abs(y_res)), y_res.shape)\n",
    "            mf_t1=y_res[a1,b1]\n",
    "            if(b1<=512):\n",
    "                b1_new=b1+512\n",
    "            else:\n",
    "                b1_new=b1-512\n",
    "            y_p1 = matchedfiltering_angle_v4(rxmat_fft, xmat_fft_conj_tran[:,0,:],a1,b1_new,IDFT)\n",
    "            y_pack1[1:radar1_in.PTM_len]=y_p1\n",
    "            y_pack1[0]=mf_t1\n",
    "            music_in1=y_pack1\n",
    "            music_in = music_in1.flatten()\n",
    "            music_input[s,i,:]=music_in\n",
    "            vx1, vx2, vx3, vx4, p_music_PL[s,i,:], p_music_PS[s,i,:], p_acc_fac[s,i] = MUSIC_F(music_in)\n",
    "            l+=1\n",
    "            #print(p_acc_fac[s,i])\n",
    "            acc_fac_avg += p_acc_fac[s,i]\n",
    "            #print(acc_fac_avg)\n",
    "            hw = np.array([velocity2,velocity1,vx1, vx2, vx3, vx4])\n",
    "            write_hardware_target(hw, snr_db)\n",
    "            #print(s,i)\n",
    "         \n",
    "        s=s+1\n",
    "        #print(np.mean(p_acc_fac[s]))\n",
    "        \n",
    "        acc_fac_avg /= 5\n",
    "        \n",
    "        print(f\"Average acceleration factor over 5 runs for SNR = {snr_db} is {acc_fac_avg}\")\n",
    "    s=0"
   ]
  },
  {
   "cell_type": "code",
   "execution_count": 65,
   "metadata": {},
   "outputs": [
    {
     "data": {
      "text/plain": [
       "(12, 5)"
      ]
     },
     "execution_count": 65,
     "metadata": {},
     "output_type": "execute_result"
    }
   ],
   "source": [
    "np.shape(p_acc_fac)"
   ]
  },
  {
   "cell_type": "code",
   "execution_count": 66,
   "metadata": {},
   "outputs": [
    {
     "data": {
      "text/plain": [
       "array([[13.24908569, 13.8483307 , 13.36692301, 16.58146478, 11.32274182],\n",
       "       [13.22968677, 13.91047176, 13.40305844, 13.41262862, 17.46046981],\n",
       "       [12.16559757, 13.23470995, 12.70608729, 13.3983345 , 12.90416355],\n",
       "       [13.00450274, 13.24091569, 13.24553254, 13.21662102, 13.27515377],\n",
       "       [13.65286385, 13.37405529, 13.2628955 , 13.24539793, 13.20222692],\n",
       "       [13.5597755 , 13.22119185, 13.63457795, 13.22983199, 13.31296554],\n",
       "       [13.1624665 , 13.17292952, 13.34176287, 13.23285583, 11.5431516 ],\n",
       "       [16.30420855, 13.1805334 , 13.21116813, 15.66697396, 13.68277466],\n",
       "       [13.2133144 , 17.29531601, 13.26974322, 13.29819799, 16.55547567],\n",
       "       [13.34551349, 13.22679533, 13.45916444, 13.55995903, 13.4927619 ],\n",
       "       [13.18562043, 14.35335197, 13.19458212, 13.2508204 , 13.33629691],\n",
       "       [13.27359649, 13.4744062 , 13.3524651 , 13.13431722, 13.27488331]])"
      ]
     },
     "execution_count": 66,
     "metadata": {},
     "output_type": "execute_result"
    }
   ],
   "source": [
    "p_acc_fac"
   ]
  },
  {
   "cell_type": "code",
   "execution_count": 67,
   "metadata": {},
   "outputs": [
    {
     "name": "stdout",
     "output_type": "stream",
     "text": [
      "Average acc factor for SNR = -15 over all runs is 13.673709202173194\n",
      "Average acc factor for SNR = -10 over all runs is 14.283263078944353\n",
      "Average acc factor for SNR = -5 over all runs is 12.8817785723422\n",
      "Average acc factor for SNR = 0 over all runs is 13.196545151326234\n",
      "Average acc factor for SNR = 5 over all runs is 13.347487896321075\n",
      "Average acc factor for SNR = 10 over all runs is 13.391668567477993\n",
      "Average acc factor for SNR = 15 over all runs is 12.890633263241785\n",
      "Average acc factor for SNR = 20 over all runs is 14.409131741765785\n",
      "Average acc factor for SNR = 25 over all runs is 14.726409457266914\n",
      "Average acc factor for SNR = 30 over all runs is 13.416838835185967\n",
      "Average acc factor for SNR = 35 over all runs is 13.464134366862075\n",
      "Average acc factor for SNR = 40 over all runs is 13.30193366456185\n",
      "Net avg acc factor over all runs and SNRs is 13.581961149789118\n"
     ]
    }
   ],
   "source": [
    "snr_db = [-15,-10,-5,0,5,10,15,20,25,30,35,40]\n",
    "aa = 0\n",
    "\n",
    "for _ in range(12):\n",
    "    avg = np.mean(p_acc_fac[_])\n",
    "    \n",
    "    print(f\"Average acc factor for SNR = {snr_db[_]} over all runs is {avg}\")\n",
    "    aa += avg\n",
    "\n",
    "aa /= 12\n",
    "\n",
    "print(f\"Net avg acc factor over all runs and SNRs is {aa}\")\n"
   ]
  },
  {
   "cell_type": "code",
   "execution_count": 27,
   "metadata": {},
   "outputs": [],
   "source": [
    "import scipy.io as sio\n",
    "sio.savemat('FX_p_music_PL_unopt.mat',{'FX_p_music_PL':p_music_PL})\n",
    "sio.savemat('FX_p_music_PS_unopt.mat',{'FX_p_music_PS':p_music_PS})\n",
    "sio.savemat('FX_music_input_unopt.mat',{'FX_music_input':music_input})"
   ]
  },
  {
   "cell_type": "code",
   "execution_count": 28,
   "metadata": {},
   "outputs": [],
   "source": [
    "p_music_PL=sio.loadmat(\"FX_p_music_PL_unopt.mat\")[\"FX_p_music_PL\"]"
   ]
  },
  {
   "cell_type": "code",
   "execution_count": 29,
   "metadata": {},
   "outputs": [
    {
     "data": {
      "text/plain": [
       "array([2.03881450e-06, 2.11637780e-06, 2.20067523e-06, 2.29225043e-06,\n",
       "       2.39170231e-06, 2.49969048e-06, 2.61694777e-06, 2.74427885e-06,\n",
       "       2.88258070e-06, 3.03285242e-06, 3.19620722e-06, 3.37388860e-06,\n",
       "       3.56729129e-06, 3.77799506e-06, 4.00777253e-06, 4.25864937e-06,\n",
       "       4.53292159e-06, 4.83322628e-06, 5.16258706e-06, 5.52450592e-06,\n",
       "       5.92303786e-06, 6.36290633e-06, 6.84965880e-06, 7.38981225e-06,\n",
       "       7.99108420e-06, 8.66266055e-06, 9.41549933e-06, 1.02628146e-05,\n",
       "       1.12205744e-05, 1.23082164e-05, 1.35495711e-05, 1.49740308e-05,\n",
       "       1.66181671e-05, 1.85278350e-05, 2.07609992e-05, 2.33917217e-05,\n",
       "       2.65155268e-05, 3.02571243e-05, 3.47812493e-05, 4.03086524e-05,\n",
       "       4.71396343e-05, 5.56895175e-05, 6.65440530e-05, 8.05470190e-05,\n",
       "       9.89437831e-05, 1.23625097e-04, 1.57556671e-04, 2.05573087e-04,\n",
       "       2.75928585e-04, 3.83537088e-04, 5.57336258e-04, 8.58907937e-04,\n",
       "       1.43688591e-03, 2.72178627e-03, 6.38656830e-03, 2.40580086e-02,\n",
       "       1.00000000e+00, 6.92582726e-02, 1.59282330e-02, 7.77051225e-03,\n",
       "       5.07543283e-03, 3.91757768e-03, 3.40285269e-03, 3.26002482e-03,\n",
       "       3.43054673e-03, 4.00343351e-03, 5.33186831e-03, 8.67966563e-03,\n",
       "       2.09254585e-02, 2.01484784e-01, 9.04697925e-02, 1.05351573e-02,\n",
       "       3.45073408e-03, 1.57973834e-03, 8.57838430e-04, 5.17487235e-04,\n",
       "       3.35513265e-04, 2.29369049e-04, 1.63350298e-04, 1.20202923e-04,\n",
       "       9.08655056e-05, 7.02606776e-05, 5.53911559e-05, 4.44098259e-05,\n",
       "       3.61367274e-05, 2.97944498e-05, 2.48571159e-05, 2.09606078e-05,\n",
       "       1.78475984e-05, 1.53328983e-05, 1.32810374e-05, 1.15914545e-05,\n",
       "       1.01884943e-05, 9.01454223e-06, 8.02522391e-06, 7.18602587e-06,\n",
       "       6.46983517e-06, 5.85516773e-06, 5.32486592e-06, 4.86511226e-06,\n",
       "       4.46471222e-06, 4.11452402e-06, 3.80704182e-06, 3.53606788e-06,\n",
       "       3.29645059e-06, 3.08388871e-06, 2.89477202e-06, 2.72605871e-06,\n",
       "       2.57517058e-06, 2.43991667e-06, 2.31842228e-06, 2.20908328e-06,\n",
       "       2.11052020e-06, 2.02154001e-06, 1.94111067e-06, 1.86833392e-06,\n",
       "       1.80242671e-06, 1.74270690e-06, 1.68857468e-06, 1.63950210e-06,\n",
       "       1.59502622e-06, 1.55473697e-06, 1.51827169e-06, 1.48530819e-06,\n",
       "       1.45556169e-06, 1.42877616e-06, 1.40472639e-06, 1.38320797e-06,\n",
       "       1.36404094e-06, 1.34706227e-06, 1.33212689e-06, 1.31910292e-06,\n",
       "       1.30787384e-06, 1.29833370e-06, 1.29038688e-06, 1.28394754e-06,\n",
       "       1.27893895e-06, 1.27528904e-06, 1.27293595e-06, 1.27182034e-06,\n",
       "       1.27188923e-06, 1.27309261e-06, 1.27538658e-06, 1.27872670e-06,\n",
       "       1.28307272e-06, 1.28838644e-06, 1.29462819e-06, 1.30176056e-06,\n",
       "       1.30974365e-06, 1.31853733e-06, 1.32810146e-06, 1.33838796e-06,\n",
       "       1.34935124e-06, 1.36093809e-06, 1.37309200e-06, 1.38575115e-06,\n",
       "       1.39884673e-06, 1.41230521e-06, 1.42604540e-06, 1.43997988e-06,\n",
       "       1.45401361e-06, 1.46804462e-06, 1.48196546e-06, 1.49566199e-06,\n",
       "       1.50901360e-06, 1.52189705e-06, 1.53418648e-06, 1.54575412e-06,\n",
       "       1.55646978e-06, 1.56621013e-06, 1.57485283e-06, 1.58228238e-06,\n",
       "       1.58839021e-06, 1.59308081e-06, 1.59626893e-06, 1.59788237e-06,\n",
       "       1.59786430e-06, 1.59617298e-06, 1.59278284e-06, 1.58768455e-06,\n",
       "       1.58088244e-06, 1.57239856e-06, 1.56226690e-06, 1.55053203e-06,\n",
       "       1.53725443e-06, 1.52249766e-06, 1.50633662e-06, 1.48884897e-06,\n",
       "       1.47011917e-06, 1.45023171e-06, 1.42927365e-06, 1.40733130e-06,\n",
       "       1.38448979e-06, 1.36083406e-06, 1.33644585e-06, 1.31140700e-06,\n",
       "       1.28579416e-06, 1.25968290e-06, 1.23314749e-06, 1.20625930e-06])"
      ]
     },
     "execution_count": 29,
     "metadata": {},
     "output_type": "execute_result"
    }
   ],
   "source": [
    "np.shape(p_music_PL)\n",
    "p_music_PL[11,4,:]\n",
    "#p_music_PS[6,3,:]\n",
    "#np.imag(music_input[11,5,:])"
   ]
  },
  {
   "cell_type": "code",
   "execution_count": 30,
   "metadata": {},
   "outputs": [
    {
     "data": {
      "text/plain": [
       "array([1.17263812e-05, 1.11480464e-05, 1.06365339e-05, 1.01859480e-05,\n",
       "       9.79101795e-06, 9.44709269e-06, 9.15011923e-06, 8.89661291e-06,\n",
       "       8.68362478e-06, 8.50870989e-06, 8.36989888e-06, 8.26567455e-06,\n",
       "       8.19495446e-06, 8.15708056e-06, 8.15181644e-06, 8.17935313e-06,\n",
       "       8.24032444e-06, 8.33583284e-06, 8.46748771e-06, 8.63745787e-06,\n",
       "       8.84854120e-06, 9.10425492e-06, 9.40895127e-06, 9.76796483e-06,\n",
       "       1.01877997e-05, 1.06763675e-05, 1.12432904e-05, 1.19002898e-05,\n",
       "       1.26616855e-05, 1.35450427e-05, 1.45720170e-05, 1.57694647e-05,\n",
       "       1.71709194e-05, 1.88185704e-05, 2.07659477e-05, 2.30816050e-05,\n",
       "       2.58542412e-05, 2.91999217e-05, 3.32724203e-05, 3.82782844e-05,\n",
       "       4.44992001e-05, 5.23258934e-05, 6.23107377e-05, 7.52515646e-05,\n",
       "       9.23292388e-05, 1.15341353e-04, 1.47115258e-04, 1.92272843e-04,\n",
       "       2.58727390e-04, 3.60817539e-04, 5.26442492e-04, 8.15150547e-04,\n",
       "       1.37108315e-03, 2.61303575e-03, 6.17402620e-03, 2.34554233e-02,\n",
       "       1.00000000e+00, 6.78743456e-02, 1.57855167e-02, 7.77189506e-03,\n",
       "       5.12219431e-03, 3.98970485e-03, 3.49751516e-03, 3.38211614e-03,\n",
       "       3.59266251e-03, 4.23224400e-03, 5.68893424e-03, 9.34100657e-03,\n",
       "       2.26614447e-02, 2.15119142e-01, 1.03657662e-01, 1.20163346e-02,\n",
       "       3.96579818e-03, 1.83316007e-03, 1.00593052e-03, 6.13478998e-04,\n",
       "       4.02230014e-04, 2.78140040e-04, 2.00399916e-04, 1.49216844e-04,\n",
       "       1.14156313e-04, 8.93476055e-05, 7.13103222e-05, 5.78903306e-05,\n",
       "       4.77052952e-05, 3.98403959e-05, 3.36738828e-05, 2.87732519e-05,\n",
       "       2.48314140e-05, 2.16263181e-05, 1.89947625e-05, 1.68150218e-05,\n",
       "       1.49950895e-05, 1.34645747e-05, 1.21690246e-05, 1.10658864e-05,\n",
       "       1.01215961e-05, 9.30945177e-06, 8.60804302e-06, 8.00007772e-06,\n",
       "       7.47149718e-06, 7.01080245e-06, 6.60853707e-06, 6.25688665e-06,\n",
       "       5.94936678e-06, 5.68057799e-06, 5.44601229e-06, 5.24189957e-06,\n",
       "       5.06508508e-06, 4.91293141e-06, 4.78323979e-06, 4.67418691e-06,\n",
       "       4.58427421e-06, 4.51228734e-06, 4.45726404e-06, 4.41846897e-06,\n",
       "       4.39537453e-06, 4.38764675e-06, 4.39513578e-06, 4.41787037e-06,\n",
       "       4.45605621e-06, 4.51007779e-06, 4.58050378e-06, 4.66809588e-06,\n",
       "       4.77382113e-06, 4.89886790e-06, 5.04466543e-06, 5.21290721e-06,\n",
       "       5.40557804e-06, 5.62498465e-06, 5.87378942e-06, 6.15504625e-06,\n",
       "       6.47223710e-06, 6.82930635e-06, 7.23068893e-06, 7.68132571e-06,\n",
       "       8.18665665e-06, 8.75257785e-06, 9.38534344e-06, 1.00913860e-05,\n",
       "       1.08770222e-05, 1.17480016e-05, 1.27088545e-05, 1.37619941e-05,\n",
       "       1.49065492e-05, 1.61369450e-05, 1.74413253e-05, 1.88000303e-05,\n",
       "       2.01844874e-05, 2.15570034e-05, 2.28719919e-05, 2.40790139e-05,\n",
       "       2.51276100e-05, 2.59732993e-05, 2.65835327e-05, 2.69421372e-05,\n",
       "       2.70510822e-05, 2.69291879e-05, 2.66083128e-05, 2.61281955e-05,\n",
       "       2.55312444e-05, 2.48582543e-05, 2.41455166e-05, 2.34233295e-05,\n",
       "       2.27156355e-05, 2.20404148e-05, 2.14104884e-05, 2.08344731e-05,\n",
       "       2.03177197e-05, 1.98631459e-05, 1.94719267e-05, 1.91440392e-05,\n",
       "       1.88786742e-05, 1.86745353e-05, 1.85300457e-05, 1.84434811e-05,\n",
       "       1.84130445e-05, 1.84368948e-05, 1.85131380e-05, 1.86397879e-05,\n",
       "       1.88147004e-05, 1.90354866e-05, 1.92994066e-05, 1.96032503e-05,\n",
       "       1.99432082e-05, 2.03147414e-05, 2.07124605e-05, 2.11300270e-05,\n",
       "       2.15600926e-05, 2.19942965e-05, 2.24233380e-05, 2.28371426e-05,\n",
       "       2.32251306e-05, 2.35765894e-05, 2.38811346e-05, 2.41292298e-05,\n",
       "       2.43127197e-05, 2.44253217e-05, 2.44630167e-05, 2.44242912e-05])"
      ]
     },
     "execution_count": 30,
     "metadata": {},
     "output_type": "execute_result"
    }
   ],
   "source": [
    "p_music_PS[11,4,:]"
   ]
  },
  {
   "cell_type": "code",
   "execution_count": 31,
   "metadata": {},
   "outputs": [
    {
     "name": "stdout",
     "output_type": "stream",
     "text": [
      "0\n"
     ]
    },
    {
     "data": {
      "image/png": "[encoded data removed]",
      "text/plain": [
       "<Figure size 432x288 with 1 Axes>"
      ]
     },
     "metadata": {
      "needs_background": "light"
     },
     "output_type": "display_data"
    },
    {
     "name": "stdout",
     "output_type": "stream",
     "text": [
      "[-24.27135678  22.16080402]\n",
      "1\n"
     ]
    },
    {
     "data": {
      "image/png": "[encoded data removed]",
      "text/plain": [
       "<Figure size 432x288 with 1 Axes>"
      ]
     },
     "metadata": {
      "needs_background": "light"
     },
     "output_type": "display_data"
    },
    {
     "name": "stdout",
     "output_type": "stream",
     "text": [
      "[-13.11557789  -9.1959799 ]\n",
      "2\n"
     ]
    },
    {
     "data": {
      "image/png": "[encoded data removed]",
      "text/plain": [
       "<Figure size 432x288 with 1 Axes>"
      ]
     },
     "metadata": {
      "needs_background": "light"
     },
     "output_type": "display_data"
    },
    {
     "name": "stdout",
     "output_type": "stream",
     "text": [
      "[-10.10050251 -10.10050251]\n",
      "3\n"
     ]
    },
    {
     "data": {
      "image/png": "[encoded data removed]",
      "text/plain": [
       "<Figure size 432x288 with 1 Axes>"
      ]
     },
     "metadata": {
      "needs_background": "light"
     },
     "output_type": "display_data"
    },
    {
     "name": "stdout",
     "output_type": "stream",
     "text": [
      "[-25.77889447  -4.67336683]\n",
      "4\n"
     ]
    },
    {
     "data": {
      "image/png": "[encoded data removed]",
      "text/plain": [
       "<Figure size 432x288 with 1 Axes>"
      ]
     },
     "metadata": {
      "needs_background": "light"
     },
     "output_type": "display_data"
    },
    {
     "name": "stdout",
     "output_type": "stream",
     "text": [
      "[-13.41708543  25.47738693]\n"
     ]
    }
   ],
   "source": [
    "#Display PL\n",
    "import matplotlib.pyplot as plt\n",
    "velocity_axis = np.linspace(-30,30,200)\n",
    "for i in range(5):\n",
    "    print(i);\n",
    "    vec=p_music_PL[0,i,:]\n",
    "    peaks=findPeaks(vec)\n",
    "    plt.figure()\n",
    "    plt.plot(velocity_axis,vec)\n",
    "    plt.scatter(velocity_axis[peaks],vec[peaks])\n",
    "    plt.show()\n",
    "    print(velocity_axis[peaks])\n",
    "    a=p_music_PL[2,i,:]\n",
    "    for j in range(199):\n",
    "        if(a[j]==a[j+1] and a[j]>0.005):\n",
    "            print(a[j],a[j+1],velocity_axis[j],velocity_axis[j+1])\n",
    "            print(p_music_PL[10,i,:])"
   ]
  },
  {
   "cell_type": "code",
   "execution_count": 32,
   "metadata": {},
   "outputs": [
    {
     "name": "stdout",
     "output_type": "stream",
     "text": [
      "0\n"
     ]
    },
    {
     "data": {
      "image/png": "[encoded data removed]",
      "text/plain": [
       "<Figure size 432x288 with 1 Axes>"
      ]
     },
     "metadata": {
      "needs_background": "light"
     },
     "output_type": "display_data"
    },
    {
     "name": "stdout",
     "output_type": "stream",
     "text": [
      "[-24.27135678   2.86432161]\n",
      "1\n"
     ]
    },
    {
     "data": {
      "image/png": "[encoded data removed]",
      "text/plain": [
       "<Figure size 432x288 with 1 Axes>"
      ]
     },
     "metadata": {
      "needs_background": "light"
     },
     "output_type": "display_data"
    },
    {
     "name": "stdout",
     "output_type": "stream",
     "text": [
      "[-12.51256281  -9.49748744]\n",
      "2\n"
     ]
    },
    {
     "data": {
      "image/png": "[encoded data removed]",
      "text/plain": [
       "<Figure size 432x288 with 1 Axes>"
      ]
     },
     "metadata": {
      "needs_background": "light"
     },
     "output_type": "display_data"
    },
    {
     "name": "stdout",
     "output_type": "stream",
     "text": [
      "[-10.10050251  -6.48241206]\n",
      "3\n"
     ]
    },
    {
     "data": {
      "image/png": "[encoded data removed]",
      "text/plain": [
       "<Figure size 432x288 with 1 Axes>"
      ]
     },
     "metadata": {
      "needs_background": "light"
     },
     "output_type": "display_data"
    },
    {
     "name": "stdout",
     "output_type": "stream",
     "text": [
      "[-24.57286432   4.3718593 ]\n",
      "4\n"
     ]
    },
    {
     "data": {
      "image/png": "[encoded data removed]",
      "text/plain": [
       "<Figure size 432x288 with 1 Axes>"
      ]
     },
     "metadata": {
      "needs_background": "light"
     },
     "output_type": "display_data"
    },
    {
     "name": "stdout",
     "output_type": "stream",
     "text": [
      "[-11.30653266  24.27135678]\n"
     ]
    }
   ],
   "source": [
    "#Display PS\n",
    "velocity_axis = np.linspace(-30,30,200)\n",
    "for i in range(5):\n",
    "    print(i);\n",
    "    vec=p_music_PS[0,i,:]\n",
    "    peaks=findPeaks(vec)\n",
    "    plt.figure()\n",
    "    plt.plot(velocity_axis,vec)\n",
    "    plt.scatter(velocity_axis[peaks],vec[peaks])\n",
    "    plt.show()\n",
    "    print(velocity_axis[peaks])"
   ]
  },
  {
   "cell_type": "code",
   "execution_count": 34,
   "metadata": {},
   "outputs": [
    {
     "data": {
      "text/plain": [
       "array([56, 68])"
      ]
     },
     "execution_count": 34,
     "metadata": {},
     "output_type": "execute_result"
    }
   ],
   "source": [
    "findPeaks(p_music_PS[1,i,:])"
   ]
  },
  {
   "cell_type": "code",
   "execution_count": null,
   "metadata": {},
   "outputs": [],
   "source": []
  }
 ],
 "metadata": {
  "kernelspec": {
   "display_name": "Python 3",
   "language": "python",
   "name": "python3"
  },
  "language_info": {
   "codemirror_mode": {
    "name": "ipython",
    "version": 3
   },
   "file_extension": ".py",
   "mimetype": "text/x-python",
   "name": "python",
   "nbconvert_exporter": "python",
   "pygments_lexer": "ipython3",
   "version": "3.8.2"
  },
  "vscode": {
   "interpreter": {
    "hash": "0e5142556829b94a7c63b02feb8fd00d087c3ae6e67d27cca8dfc86e0da3a36f"
   }
  }
 },
 "nbformat": 4,
 "nbformat_minor": 4
}
