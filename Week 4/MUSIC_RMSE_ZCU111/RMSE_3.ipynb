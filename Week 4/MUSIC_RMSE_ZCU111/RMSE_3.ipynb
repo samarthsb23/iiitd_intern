{
 "cells": [
  {
   "cell_type": "code",
   "execution_count": 1,
   "metadata": {},
   "outputs": [],
   "source": [
    "import numpy as np\n",
    "import matplotlib.pyplot as plt"
   ]
  },
  {
   "cell_type": "code",
   "execution_count": 2,
   "metadata": {},
   "outputs": [],
   "source": [
    "def read_text_file(file_path):\n",
    "    matrix = []\n",
    "    with open(file_path, 'r') as file:\n",
    "        for line in file:\n",
    "            # Split the line into columns based on the delimiter (assuming space here)\n",
    "            columns = line.strip().split()\n",
    "            # Convert columns to numbers (assuming all are numeric)\n",
    "            numeric_columns = [float(col) for col in columns]\n",
    "            matrix.append(numeric_columns)\n",
    "    return matrix"
   ]
  },
  {
   "cell_type": "code",
   "execution_count": 3,
   "metadata": {},
   "outputs": [],
   "source": [
    "def read_golden_file1(file_path):\n",
    "    column1 = []\n",
    "    column2 = [] \n",
    "    column3 = []\n",
    "    with open(file_path, \"r\") as file:\n",
    "        for line in file:\n",
    "            columns = line.split()\n",
    "            if len(columns) == 3:\n",
    "                value1 = int(columns[0])\n",
    "                value2 = int(columns[1])\n",
    "                value3 = int(columns[2])\n",
    "                column1.append(value1)\n",
    "                column2.append(value2)\n",
    "                column3.append(value3)\n",
    "                \n",
    "    smaller_arrays1 = np.array_split(np.array(column1), 4)\n",
    "    final1 = [subarray[:50] for subarray in smaller_arrays1]\n",
    "    gold_data1 = np.array(final1).flatten()\n",
    "\n",
    "    smaller_arrays2 = np.array_split(np.array(column2), 4)\n",
    "    final2 = [subarray[:50] for subarray in smaller_arrays2]\n",
    "    gold_data2 = np.array(final2).flatten()\n",
    "\n",
    "    smaller_arrays3 = np.array_split(np.array(column3), 4)\n",
    "    final3 = [subarray[:50] for subarray in smaller_arrays3]\n",
    "    gold_data3 = np.array(final3).flatten()\n",
    "    \n",
    "    return np.stack((gold_data1, gold_data2, gold_data3),axis= 1)"
   ]
  },
  {
   "cell_type": "code",
   "execution_count": 4,
   "metadata": {},
   "outputs": [],
   "source": [
    "def cal_diff(gold_vx,vd_x):\n",
    "    gold_vx = np.array(gold_vx)\n",
    "    vd_x = np.array(vd_x)\n",
    "\n",
    "    x2 = np.array([0.0, 0.0, 0.0])  \n",
    "\n",
    "    for i in range(5): \n",
    "        x1 = []\n",
    "        d1 = vd_x[i]  \n",
    "        for j in range(3):  \n",
    "            a1 = d1 - gold_vx[i][j]     \n",
    "            ex1 = np.min(np.abs(a1))    \n",
    "            ex1 = ex1 ** 2             \n",
    "            x1.append(ex1)\n",
    "        x2 = x2 + np.array(x1)\n",
    "\n",
    "    rmse1 = np.sqrt(x2 / len(gold_vx)) \n",
    "    return rmse1.tolist()"
   ]
  },
  {
   "cell_type": "code",
   "execution_count": 5,
   "metadata": {},
   "outputs": [],
   "source": [
    "gold_vx  = read_golden_file1(\"./DPFL/Results_FX/V8_golden.dat\")\n",
    "\n",
    "def write_golden_target(array):\n",
    "    golden_data_t1 = open(\"./DPFL/Results_FX/V8_golden.dat\", \"a\") # File to store all golden data\n",
    "    array_line = ' '.join(map(str, array))\n",
    "    golden_data_t1.write(array_line + \"\\n\")\n",
    "    golden_data_t1.close()\n",
    "# for i in range(200):\n",
    "#     write_golden_target(gold_vx[i])"
   ]
  },
  {
   "cell_type": "code",
   "execution_count": 6,
   "metadata": {},
   "outputs": [
    {
     "data": {
      "text/plain": [
       "(200, 3)"
      ]
     },
     "execution_count": 6,
     "metadata": {},
     "output_type": "execute_result"
    }
   ],
   "source": [
    "vx_d = read_text_file(\"./DPFL/Results_FX/P200_Vd2_snr_\"+\"40\"+\".dat\")\n",
    "vx_d = np.array(vx_d)\n",
    "cols = vx_d[:, [0, 3, 6]]\n",
    "np.shape(cols)"
   ]
  },
  {
   "cell_type": "code",
   "execution_count": 8,
   "metadata": {},
   "outputs": [
    {
     "data": {
      "text/plain": [
       "array([[0.12424464, 0.11240005, 0.12832384, 0.13381467, 0.04812329,\n",
       "        0.04042338, 0.04652246, 0.01499981, 0.05797654, 0.01499981,\n",
       "        0.01499981, 0.01499981],\n",
       "       [0.61059288, 0.46725536, 0.56904284, 0.5536172 , 0.49504476,\n",
       "        0.38201499, 0.24887261, 0.05586484, 0.0417388 , 0.01740029,\n",
       "        0.01984129, 0.02639507],\n",
       "       [1.07523657, 0.92967337, 1.06038784, 0.99451223, 0.93976769,\n",
       "        0.72454662, 0.51639493, 0.51046348, 0.43632301, 0.04560146,\n",
       "        0.29562733, 0.42121675]])"
      ]
     },
     "execution_count": 8,
     "metadata": {},
     "output_type": "execute_result"
    }
   ],
   "source": [
    "ex1 = []\n",
    "ex2 = []\n",
    "snr_axis = [-15, -10, -5, 0, 5,10,15,20,25,30,35,40]\n",
    "for snr in snr_axis:  \n",
    "    vx_d = read_text_file(\"./DPFL/Results_FX/P200_Vd2_snr_\"+str(snr)+\".dat\")\n",
    "    vx_d = np.array(vx_d)\n",
    "    ps = vx_d[:, [3, 4, 5]]\n",
    "    rmse1 = cal_diff(gold_vx,ps)\n",
    "    pl = vx_d[:, [6, 7, 8]]\n",
    "    rmse2 = cal_diff(gold_vx,pl)\n",
    "    ex1.append(rmse1)\n",
    "    ex2.append(rmse2)\n",
    "ex1 = np.array(ex1)\n",
    "ex1 = np.transpose(ex1)\n",
    "ex2 = np.array(ex2)\n",
    "ex2 = np.transpose(ex2)\n",
    "ex1"
   ]
  },
  {
   "cell_type": "code",
   "execution_count": 9,
   "metadata": {},
   "outputs": [
    {
     "data": {
      "text/plain": [
       "array([[0.12424464, 0.11240005, 0.12832384, 0.13381467, 0.04812329,\n",
       "        0.04042338, 0.04652246, 0.01499981, 0.05797654, 0.01499981,\n",
       "        0.01499981, 0.01499981],\n",
       "       [0.61059288, 0.46725536, 0.56904284, 0.5536172 , 0.49504476,\n",
       "        0.38201499, 0.24887261, 0.05586484, 0.0417388 , 0.01740029,\n",
       "        0.01984129, 0.02639507],\n",
       "       [1.07523657, 0.92967337, 1.06038784, 0.99451223, 0.93976769,\n",
       "        0.72454662, 0.51639493, 0.51046348, 0.43632301, 0.04560146,\n",
       "        0.29562733, 0.42121675]])"
      ]
     },
     "execution_count": 9,
     "metadata": {},
     "output_type": "execute_result"
    }
   ],
   "source": [
    "ex1"
   ]
  },
  {
   "cell_type": "code",
   "execution_count": 10,
   "metadata": {},
   "outputs": [
    {
     "data": {
      "image/png": "[encoded data removed]",
      "text/plain": [
       "<Figure size 432x288 with 1 Axes>"
      ]
     },
     "metadata": {
      "needs_background": "light"
     },
     "output_type": "display_data"
    }
   ],
   "source": [
    "plt.title(\"200 Packets Velocity Difference: 8 m/s\")\n",
    "plt.plot(snr_axis, ex1[0], label = \"Target 1 PS\")\n",
    "plt.plot(snr_axis, ex1[1],label = \"Target 2 PS\")\n",
    "plt.plot(snr_axis, ex1[2],label = \"Target 3 PS\")\n",
    "plt.plot(snr_axis, ex2[0], label = \"Target 1 PL\")\n",
    "plt.plot(snr_axis, ex2[1],label = \"Target 2 PL\")\n",
    "plt.plot(snr_axis, ex2[2],label = \"Target 3 PL\")\n",
    "plt.xlabel(\"SNR\")\n",
    "plt.ylabel(\"RMSE\")\n",
    "\n",
    "plt.grid()\n",
    "plt.tight_layout()\n",
    "plt.legend()\n",
    "plt.show()"
   ]
  },
  {
   "cell_type": "code",
   "execution_count": null,
   "metadata": {},
   "outputs": [],
   "source": []
  }
 ],
 "metadata": {
  "kernelspec": {
   "display_name": "Python 3",
   "language": "python",
   "name": "python3"
  },
  "language_info": {
   "codemirror_mode": {
    "name": "ipython",
    "version": 3
   },
   "file_extension": ".py",
   "mimetype": "text/x-python",
   "name": "python",
   "nbconvert_exporter": "python",
   "pygments_lexer": "ipython3",
   "version": "3.8.2"
  },
  "vscode": {
   "interpreter": {
    "hash": "0e5142556829b94a7c63b02feb8fd00d087c3ae6e67d27cca8dfc86e0da3a36f"
   }
  }
 },
 "nbformat": 4,
 "nbformat_minor": 4
}
