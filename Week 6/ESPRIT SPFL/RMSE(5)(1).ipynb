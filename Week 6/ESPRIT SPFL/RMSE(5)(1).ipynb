{
 "cells": [
  {
   "cell_type": "code",
   "execution_count": 1,
   "metadata": {},
   "outputs": [],
   "source": [
    "import numpy as np\n",
    "import matplotlib.pyplot as plt"
   ]
  },
  {
   "cell_type": "code",
   "execution_count": 5,
   "metadata": {},
   "outputs": [
    {
     "name": "stdout",
     "output_type": "stream",
     "text": [
      "(array([  2,   3,   5,   6,  10,  12,  13,  14,  16,  17,  18,  19,  20,\n",
      "        21,  23,  24,  25,  26,  27,  28,  30,  31,  33,  35,  36,  37,\n",
      "        38,  39,  40,  41,  42,  43,  45,  46,  48,  49,  51,  54,  55,\n",
      "        56,  58,  59,  61,  62,  63,  65,  66,  67,  68,  69,  70,  71,\n",
      "        72,  73,  74,  77,  78,  80,  81,  83,  85,  87,  88,  90,  91,\n",
      "        92,  93,  94,  95,  97,  98,  99, 100, 101, 103, 104, 105, 108,\n",
      "       109, 110, 112, 113, 114, 116, 117, 120, 121, 122, 123, 124, 125,\n",
      "       126, 127, 128, 129, 130, 132, 133, 134, 135, 137, 138, 139, 142,\n",
      "       144, 146, 148, 149, 150, 152, 154, 155, 156, 157, 158, 159, 160,\n",
      "       162, 163, 164, 165, 166, 167, 169, 170, 171, 172, 175, 176, 177,\n",
      "       178, 179, 180, 182, 185, 187, 188, 191, 192, 193, 194, 195, 196,\n",
      "       197, 198]),)\n",
      "(array([  1,   4,   5,   6,   8,  12,  13,  14,  16,  18,  19,  20,  21,\n",
      "        24,  25,  26,  27,  28,  30,  31,  33,  35,  36,  37,  38,  39,\n",
      "        40,  41,  42,  45,  46,  48,  49,  50,  51,  52,  54,  55,  56,\n",
      "        57,  58,  59,  61,  62,  63,  66,  67,  68,  69,  70,  72,  74,\n",
      "        75,  76,  77,  78,  80,  81,  84,  85,  87,  89,  90,  91,  92,\n",
      "        93,  95,  97,  98,  99, 100, 101, 102, 103, 105, 106, 107, 108,\n",
      "       109, 110, 112, 113, 114, 115, 116, 117, 118, 120, 121, 125, 126,\n",
      "       127, 128, 130, 132, 134, 138, 139, 142, 144, 145, 146, 147, 149,\n",
      "       150, 152, 154, 155, 156, 157, 158, 159, 160, 162, 163, 164, 165,\n",
      "       166, 167, 168, 169, 170, 171, 172, 175, 176, 177, 182, 183, 185,\n",
      "       186, 187, 188, 189, 192, 193, 195, 197]),)\n",
      "(array([  3,   4,   5,   7,   8,  12,  13,  14,  16,  17,  18,  19,  20,\n",
      "        24,  25,  26,  27,  30,  31,  32,  34,  35,  36,  37,  39,  41,\n",
      "        42,  45,  46,  48,  49,  51,  52,  54,  55,  56,  58,  59,  61,\n",
      "        62,  66,  68,  69,  70,  73,  75,  76,  84,  85,  90,  91,  93,\n",
      "        95,  97,  99, 105, 107, 108, 110, 112, 115, 116, 117, 118, 120,\n",
      "       125, 127, 128, 132, 134, 136, 138, 140, 142, 144, 145, 147, 149,\n",
      "       150, 152, 154, 155, 156, 157, 158, 159, 162, 163, 164, 165, 166,\n",
      "       167, 168, 169, 170, 171, 172, 173, 175, 176, 183, 185, 187, 188,\n",
      "       189, 191, 193, 195, 197, 199]),)\n",
      "(array([  2,   3,   4,   5,   6,  14,  16,  17,  18,  19,  24,  30,  37,\n",
      "        42,  48,  51,  52,  55,  56,  59,  61,  62,  64,  66,  68,  69,\n",
      "        73,  76,  85,  89,  90,  91,  93,  95,  96,  99, 107, 110, 112,\n",
      "       116, 117, 118, 120, 125, 128, 132, 138, 142, 144, 145, 147, 149,\n",
      "       152, 154, 158, 159, 162, 163, 164, 165, 167, 169, 171, 173, 175,\n",
      "       176, 182, 190, 193, 195, 197, 198]),)\n",
      "(array([  3,  14,  16,  17,  18,  20,  25,  32,  42,  55,  66,  68,  85,\n",
      "        93,  95, 115, 116, 120, 152, 154, 158, 164, 167, 176]),)\n",
      "(array([], dtype=int64),)\n",
      "(array([], dtype=int64),)\n",
      "(array([], dtype=int64),)\n",
      "(array([], dtype=int64),)\n",
      "(array([], dtype=int64),)\n",
      "(array([], dtype=int64),)\n",
      "(array([], dtype=int64),)\n"
     ]
    }
   ],
   "source": [
    "ex1 = []\n",
    "ex2 = []\n",
    "snr_axis = [-15, -10, -5, 0, 5,10,15,20,25,30,35,40]\n",
    "#snr_axis = [-15]\n",
    "for snr in snr_axis:\n",
    "    #matrix = np.loadtxt(\"./DPFL/Results_FX/P200_Vd2_snr_\"+str(snr)+\".dat\")\n",
    "    matrix = np.loadtxt(\"./Results/P200_Vd2_snr_\"+str(snr)+\".dat\")\n",
    "    #matrix = np.loadtxt(\"./Results_DPFL/P200_Vd2_snr_\"+str(snr)+\".dat\")\n",
    "    matrix = np.transpose(matrix)\n",
    "    ind1 = np.where(matrix[2] == 30)\n",
    "    diff1 = matrix[0] - matrix[2]\n",
    "    diff2 = matrix[1] - matrix[3]\n",
    "    diff1[ind1] = 0\n",
    "    diff2[ind1] = 0\n",
    "    e1 = np.sum((diff1) ** 2)\n",
    "    e2 = np.sum((diff2) ** 2)\n",
    "    \n",
    "    rmse1 = np.sqrt(e1/len(matrix[0]))\n",
    "    rmse2 = np.sqrt(e2/len(matrix[0]))\n",
    "    print(np.where(np.abs(diff1)>1))\n",
    "    ex1.append(float(rmse1))\n",
    "    ex2.append(float(rmse2))\n"
   ]
  },
  {
   "cell_type": "code",
   "execution_count": 6,
   "metadata": {},
   "outputs": [
    {
     "name": "stdout",
     "output_type": "stream",
     "text": [
      "(array([  2,   3,   5,   6,  10,  12,  13,  14,  16,  17,  18,  19,  20,\n",
      "        21,  23,  24,  25,  26,  27,  28,  30,  31,  33,  35,  36,  37,\n",
      "        38,  39,  40,  41,  42,  43,  45,  46,  48,  49,  51,  54,  55,\n",
      "        56,  58,  59,  61,  62,  63,  65,  66,  67,  68,  69,  70,  71,\n",
      "        72,  73,  74,  77,  78,  80,  81,  83,  85,  87,  88,  90,  91,\n",
      "        92,  93,  94,  95,  97,  98,  99, 100, 101, 103, 104, 105, 108,\n",
      "       109, 110, 112, 113, 114, 116, 117, 120, 121, 122, 123, 124, 125,\n",
      "       126, 127, 128, 129, 130, 132, 133, 134, 135, 137, 138, 139, 142,\n",
      "       144, 146, 148, 149, 150, 152, 154, 155, 156, 157, 158, 159, 160,\n",
      "       162, 163, 164, 165, 166, 167, 169, 170, 171, 172, 175, 176, 177,\n",
      "       178, 179, 180, 182, 185, 187, 188, 191, 192, 193, 194, 195, 196,\n",
      "       197, 198]),)\n",
      "(array([  1,   4,   5,   6,   8,  12,  13,  14,  16,  18,  19,  20,  21,\n",
      "        24,  25,  26,  27,  28,  30,  31,  33,  35,  36,  37,  38,  39,\n",
      "        40,  41,  42,  45,  46,  48,  49,  50,  51,  52,  54,  55,  56,\n",
      "        57,  58,  59,  61,  62,  63,  66,  67,  68,  69,  70,  71,  72,\n",
      "        74,  75,  76,  77,  78,  80,  81,  84,  85,  87,  89,  90,  91,\n",
      "        92,  93,  95,  97,  98,  99, 100, 101, 102, 103, 105, 106, 107,\n",
      "       108, 109, 110, 112, 113, 114, 115, 116, 117, 118, 120, 121, 125,\n",
      "       126, 127, 128, 130, 132, 134, 138, 139, 142, 144, 145, 146, 147,\n",
      "       149, 150, 152, 154, 155, 156, 157, 158, 159, 160, 162, 163, 164,\n",
      "       165, 166, 167, 168, 169, 170, 171, 172, 175, 176, 177, 182, 183,\n",
      "       185, 186, 187, 188, 189, 192, 193, 195, 197]),)\n",
      "(array([  3,   4,   5,   7,   8,  12,  13,  14,  16,  17,  18,  19,  20,\n",
      "        24,  25,  26,  27,  30,  31,  32,  34,  35,  36,  37,  39,  41,\n",
      "        42,  45,  46,  48,  49,  51,  52,  54,  55,  56,  58,  59,  61,\n",
      "        62,  66,  68,  69,  70,  73,  75,  76,  84,  85,  90,  91,  93,\n",
      "        95,  97,  99, 105, 107, 108, 110, 112, 115, 116, 117, 118, 120,\n",
      "       125, 127, 128, 132, 134, 136, 138, 140, 142, 144, 145, 147, 149,\n",
      "       150, 152, 154, 155, 156, 157, 158, 159, 162, 163, 164, 165, 166,\n",
      "       167, 168, 169, 170, 171, 172, 173, 175, 176, 183, 185, 187, 188,\n",
      "       189, 191, 193, 195, 197, 199]),)\n",
      "(array([  2,   3,   4,   5,   6,  14,  16,  17,  18,  19,  24,  30,  37,\n",
      "        42,  48,  51,  52,  55,  56,  59,  61,  62,  64,  66,  68,  69,\n",
      "        73,  76,  85,  89,  90,  91,  93,  95,  96,  99, 107, 110, 112,\n",
      "       116, 117, 118, 120, 125, 128, 132, 138, 142, 144, 145, 147, 149,\n",
      "       152, 154, 158, 159, 162, 163, 164, 165, 167, 169, 171, 173, 175,\n",
      "       176, 182, 190, 193, 195, 197, 198]),)\n",
      "(array([  3,  14,  16,  17,  18,  20,  25,  32,  42,  55,  66,  68,  85,\n",
      "        93,  95, 115, 116, 120, 152, 154, 158, 164, 167, 176]),)\n",
      "(array([], dtype=int64),)\n",
      "(array([], dtype=int64),)\n",
      "(array([], dtype=int64),)\n",
      "(array([], dtype=int64),)\n",
      "(array([], dtype=int64),)\n",
      "(array([], dtype=int64),)\n",
      "(array([], dtype=int64),)\n",
      "[7.007883361800379, 7.410180468436992, 7.051180882685647, 3.1066765202732647, 1.3874802030792144, 0.08509270649940033, 0.0752579481976395, 0.07534711681539161, 0.07540650606670336, 0.07543575034265225, 0.07547367482392878, 0.07539779618357416]\n",
      "[7.622974897627438, 8.159941506969073, 5.612918331205027, 3.0014790789833463, 1.7007686936151065, 0.09493517800704362, 0.07677955263625738, 0.0761512205126903, 0.07577006455035107, 0.07573972527209963, 0.07576657688302252, 0.07576493870516897]\n"
     ]
    }
   ],
   "source": [
    "ex3 = []\n",
    "ex4 = []\n",
    "snr_axis = [-15, -10, -5, 0, 5,10,15,20,25,30,35,40]\n",
    "#snr_axis = [0]\n",
    "for snr in snr_axis:\n",
    "    #matrix = np.loadtxt(\"./Results_DPFL/P200_Vd2_snr_\"+str(snr)+\".dat\")\n",
    "    matrix = np.loadtxt(\"./Results/P200_Vd2_snr_\"+str(snr)+\".dat\")\n",
    "    matrix = np.transpose(matrix)\n",
    "    ind1 = np.where(matrix[4] == 30)\n",
    "    diff4 = matrix[0] - matrix[4]\n",
    "    diff5 = matrix[1] - matrix[5]\n",
    "    diff4[ind1] = 0\n",
    "    diff5[ind1] = 0\n",
    "    e1 = np.sum((diff4) ** 2)\n",
    "    e2 = np.sum((diff5) ** 2)\n",
    "    print(np.where(np.abs(diff4)>1))\n",
    "    rmse4 = np.sqrt(e1/len(matrix[0]))\n",
    "    rmse5 = np.sqrt(e2/len(matrix[0]))\n",
    "    \n",
    "    ex3.append(float(rmse4))\n",
    "    ex4.append(float(rmse5))\n",
    "    #ex6.append(float(rmse6))\n",
    "print(ex3)\n",
    "print(ex4)\n",
    "\n"
   ]
  },
  {
   "cell_type": "code",
   "execution_count": 16,
   "metadata": {},
   "outputs": [
    {
     "data": {
      "image/png": "[encoded data removed]",
      "text/plain": [
       "<Figure size 432x288 with 1 Axes>"
      ]
     },
     "metadata": {
      "needs_background": "light"
     },
     "output_type": "display_data"
    }
   ],
   "source": [
    "plt.title(\"N= 200 Prec.= 0.3 m/s Vdiff= 12 m/s PRI= 2 us  ESPRIT_SPFL \")\n",
    "\n",
    "plt.plot(snr_axis, ex1,label = \"Target 1 (PS)\",color = \"black\")\n",
    "plt.plot(snr_axis, ex2,label = \"Target 2 (PS)\",color = \"green\")\n",
    "#plt.plot(snr_axis, ex3,label = \"Target 3 (PS)\",color = \"blue\")\n",
    "#plt.plot(snr_axis, ex3,label = \"Target 1 (PL)\",color = \"purple\")\n",
    "#plt.plot(snr_axis, ex4,label = \"Target 2 (PL)\",color = \"red\")\n",
    "#plt.plot(snr_axis, ex6,label = \"Target 3 (PL)\",color = \"yellow\")\n",
    "plt.xlabel(\"SNR\")\n",
    "plt.ylabel(\"RMSE\")\n",
    "\n",
    "plt.grid()\n",
    "plt.tight_layout()\n",
    "plt.legend()\n",
    "plt.show()"
   ]
  },
  {
   "cell_type": "code",
   "execution_count": 11,
   "metadata": {},
   "outputs": [
    {
     "data": {
      "image/png": "[encoded data removed]",
      "text/plain": [
       "<Figure size 432x288 with 1 Axes>"
      ]
     },
     "metadata": {
      "needs_background": "light"
     },
     "output_type": "display_data"
    }
   ],
   "source": [
    "plt.title(\"N= 200 Prec.= 0.3 m/s Vdiff= 12 m/s PRI= 2 us  ESPRIT_SPFL \")\n",
    "\n",
    "#plt.plot(snr_axis, ex1,label = \"Target 1 (PS)\",color = \"black\")\n",
    "#plt.plot(snr_axis, ex2,label = \"Target 2 (PS)\",color = \"green\")\n",
    "#plt.plot(snr_axis, ex3,label = \"Target 3 (PS)\",color = \"blue\")\n",
    "plt.plot(snr_axis, ex3,label = \"Target 1 (PL)\",color = \"purple\")\n",
    "plt.plot(snr_axis, ex4,label = \"Target 2 (PL)\",color = \"red\")\n",
    "#plt.plot(snr_axis, ex6,label = \"Target 3 (PL)\",color = \"yellow\")\n",
    "plt.xlabel(\"SNR\")\n",
    "plt.ylabel(\"RMSE\")\n",
    "\n",
    "plt.grid()\n",
    "plt.tight_layout()\n",
    "plt.legend()\n",
    "plt.show()"
   ]
  },
  {
   "cell_type": "code",
   "execution_count": 18,
   "metadata": {},
   "outputs": [
    {
     "data": {
      "text/plain": [
       "(array([], dtype=int64),)"
      ]
     },
     "execution_count": 18,
     "metadata": {},
     "output_type": "execute_result"
    }
   ],
   "source": [
    "np.where(np.abs(diff2)>1)"
   ]
  },
  {
   "cell_type": "code",
   "execution_count": 19,
   "metadata": {},
   "outputs": [
    {
     "data": {
      "text/plain": [
       "(array([], dtype=int64),)"
      ]
     },
     "execution_count": 19,
     "metadata": {},
     "output_type": "execute_result"
    }
   ],
   "source": [
    "np.where(np.abs(diff4)>1)"
   ]
  },
  {
   "cell_type": "code",
   "execution_count": 20,
   "metadata": {},
   "outputs": [
    {
     "data": {
      "text/plain": [
       "array([], dtype=float64)"
      ]
     },
     "execution_count": 20,
     "metadata": {},
     "output_type": "execute_result"
    }
   ],
   "source": [
    "diff4[np.abs(diff4)>0.5]"
   ]
  },
  {
   "cell_type": "code",
   "execution_count": 21,
   "metadata": {},
   "outputs": [
    {
     "data": {
      "text/plain": [
       "array([-0.05025126, -0.1959799 , -0.18090452, -0.16080402, -0.1959799 ])"
      ]
     },
     "execution_count": 21,
     "metadata": {},
     "output_type": "execute_result"
    }
   ],
   "source": [
    "diff2"
   ]
  },
  {
   "cell_type": "code",
   "execution_count": 23,
   "metadata": {},
   "outputs": [
    {
     "data": {
      "text/plain": [
       "array([ 0.03015075, -0.11557789, -0.10050251, -0.08040201, -0.11557789])"
      ]
     },
     "execution_count": 23,
     "metadata": {},
     "output_type": "execute_result"
    }
   ],
   "source": [
    "diff4"
   ]
  },
  {
   "cell_type": "code",
   "execution_count": 9,
   "metadata": {},
   "outputs": [
    {
     "data": {
      "text/plain": [
       "[7.008093791194038,\n",
       " 7.411223650752364,\n",
       " 7.0512310092177435,\n",
       " 3.1066313262356537,\n",
       " 1.3878964689542197,\n",
       " 0.08507853422007365,\n",
       " 0.0752612425692707,\n",
       " 0.07533299896300556,\n",
       " 0.07541476735166011,\n",
       " 0.07545746447386173,\n",
       " 0.07548628617186491,\n",
       " 0.07536694026896991]"
      ]
     },
     "execution_count": 9,
     "metadata": {},
     "output_type": "execute_result"
    }
   ],
   "source": [
    "ex1"
   ]
  },
  {
   "cell_type": "code",
   "execution_count": 20,
   "metadata": {},
   "outputs": [
    {
     "data": {
      "text/plain": [
       "array([ 2.10429394e-04,  1.04318232e-03,  5.01265321e-05, -4.51940376e-05,\n",
       "        4.16265875e-04, -1.41722793e-05,  3.29437163e-06, -1.41178524e-05,\n",
       "        8.26128496e-06,  2.17141312e-05,  1.26113479e-05, -3.08559146e-05])"
      ]
     },
     "execution_count": 20,
     "metadata": {},
     "output_type": "execute_result"
    }
   ],
   "source": [
    "np.array(ex1) - np.array(ex3)"
   ]
  },
  {
   "cell_type": "code",
   "execution_count": 21,
   "metadata": {},
   "outputs": [
    {
     "data": {
      "text/plain": [
       "array([-4.26905014e-04,  5.60841854e-04, -1.50797184e-03,  2.73818324e-04,\n",
       "        1.53101602e-03, -2.57680569e-06,  1.63951972e-06, -9.99466701e-06,\n",
       "       -2.51588321e-05, -1.23537949e-05, -1.80373963e-05,  2.46990663e-05])"
      ]
     },
     "execution_count": 21,
     "metadata": {},
     "output_type": "execute_result"
    }
   ],
   "source": [
    "np.array(ex2) - np.array(ex4)"
   ]
  },
  {
   "cell_type": "code",
   "execution_count": 17,
   "metadata": {},
   "outputs": [
    {
     "data": {
      "text/plain": [
       "[7.008093791194038,\n",
       " 7.411223650752364,\n",
       " 7.0512310092177435,\n",
       " 3.1066313262356537,\n",
       " 1.3878964689542197,\n",
       " 0.08507853422007365,\n",
       " 0.0752612425692707,\n",
       " 0.07533299896300556,\n",
       " 0.07541476735166011,\n",
       " 0.07545746447386173,\n",
       " 0.07548628617186491,\n",
       " 0.07536694026896991]"
      ]
     },
     "execution_count": 17,
     "metadata": {},
     "output_type": "execute_result"
    }
   ],
   "source": [
    "ex1"
   ]
  },
  {
   "cell_type": "code",
   "execution_count": 18,
   "metadata": {},
   "outputs": [
    {
     "data": {
      "text/plain": [
       "[7.007883361800379,\n",
       " 7.410180468436992,\n",
       " 7.051180882685647,\n",
       " 3.1066765202732647,\n",
       " 1.3874802030792144,\n",
       " 0.08509270649940033,\n",
       " 0.0752579481976395,\n",
       " 0.07534711681539161,\n",
       " 0.07540650606670336,\n",
       " 0.07543575034265225,\n",
       " 0.07547367482392878,\n",
       " 0.07539779618357416]"
      ]
     },
     "execution_count": 18,
     "metadata": {},
     "output_type": "execute_result"
    }
   ],
   "source": [
    "ex3"
   ]
  },
  {
   "cell_type": "code",
   "execution_count": null,
   "metadata": {},
   "outputs": [],
   "source": []
  }
 ],
 "metadata": {
  "kernelspec": {
   "display_name": "Python 3",
   "language": "python",
   "name": "python3"
  },
  "language_info": {
   "codemirror_mode": {
    "name": "ipython",
    "version": 3
   },
   "file_extension": ".py",
   "mimetype": "text/x-python",
   "name": "python",
   "nbconvert_exporter": "python",
   "pygments_lexer": "ipython3",
   "version": "3.8.2"
  },
  "vscode": {
   "interpreter": {
    "hash": "0e5142556829b94a7c63b02feb8fd00d087c3ae6e67d27cca8dfc86e0da3a36f"
   }
  }
 },
 "nbformat": 4,
 "nbformat_minor": 4
}
