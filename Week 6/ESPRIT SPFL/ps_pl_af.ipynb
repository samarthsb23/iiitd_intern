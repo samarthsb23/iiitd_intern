{
 "cells": [
  {
   "cell_type": "code",
   "execution_count": 1,
   "id": "356e427d",
   "metadata": {},
   "outputs": [],
   "source": [
    "import numpy as np\n",
    "import matplotlib as plt"
   ]
  },
  {
   "cell_type": "code",
   "execution_count": 2,
   "id": "537db2b4",
   "metadata": {},
   "outputs": [],
   "source": [
    "ps_times = []\n",
    "pl_times = []\n",
    "acc_facs = []"
   ]
  },
  {
   "cell_type": "code",
   "execution_count": 6,
   "id": "48e72cbc",
   "metadata": {},
   "outputs": [],
   "source": [
    "with open(\"200runs.txt\", \"r\") as file:\n",
    "    for line in file:\n",
    "        line = line.strip()\n",
    "        \n",
    "        if line.startswith(\"PS Time =\"):\n",
    "            ps_time = float(line.split('=')[1].strip())\n",
    "            ps_times.append(ps_time)\n",
    "\n",
    "        elif line.startswith(\"PL Time =\"):\n",
    "            pl_time = float(line.split('=')[1].strip())\n",
    "            pl_times.append(pl_time)\n",
    "\n",
    "        elif line.startswith(\"Acceleration factor =\"):\n",
    "            acc_fac = float(line.split('=')[1].strip())\n",
    "            acc_facs.append(acc_fac)\n",
    "\n",
    "        elif \"Average acceleration factor\" in line:\n",
    "            continue"
   ]
  },
  {
   "cell_type": "code",
   "execution_count": 7,
   "id": "d3b8b1dd",
   "metadata": {},
   "outputs": [
    {
     "name": "stdout",
     "output_type": "stream",
     "text": [
      "PS Times: 2400 entries\n",
      "PL Times: 2400 entries\n",
      "Acceleration Factors: 2400 entries\n"
     ]
    }
   ],
   "source": [
    "print(f\"PS Times: {len(ps_times)} entries\")\n",
    "print(f\"PL Times: {len(pl_times)} entries\")\n",
    "print(f\"Acceleration Factors: {len(acc_facs)} entries\")"
   ]
  },
  {
   "cell_type": "code",
   "execution_count": 8,
   "id": "525c3334",
   "metadata": {},
   "outputs": [],
   "source": [
    "ps = np.array(ps_times)\n",
    "pl = np.array(pl_times)\n",
    "af = np.array(acc_facs)"
   ]
  },
  {
   "cell_type": "code",
   "execution_count": 12,
   "id": "9f11c5aa",
   "metadata": {},
   "outputs": [
    {
     "name": "stdout",
     "output_type": "stream",
     "text": [
      "Average PS time over 200 runs: 2.285995613237222\n"
     ]
    }
   ],
   "source": [
    "print(f\"Average PS time over 200 runs: {np.mean(ps)}\")"
   ]
  },
  {
   "cell_type": "code",
   "execution_count": 13,
   "id": "e1292027",
   "metadata": {},
   "outputs": [
    {
     "name": "stdout",
     "output_type": "stream",
     "text": [
      "Average PL time over 200 runs: 0.07557557364304861\n"
     ]
    }
   ],
   "source": [
    "print(f\"Average PL time over 200 runs: {np.mean(pl)}\")"
   ]
  },
  {
   "cell_type": "code",
   "execution_count": 14,
   "id": "14b9ee31",
   "metadata": {},
   "outputs": [
    {
     "name": "stdout",
     "output_type": "stream",
     "text": [
      "Average acceleration factor over 200 runs: 30.266827857205122\n"
     ]
    }
   ],
   "source": [
    "print(f\"Average acceleration factor over 200 runs: {np.mean(af)}\")"
   ]
  },
  {
   "cell_type": "code",
   "execution_count": 15,
   "id": "878a6553",
   "metadata": {},
   "outputs": [
    {
     "data": {
      "text/plain": [
       "30.247810278413766"
      ]
     },
     "execution_count": 15,
     "metadata": {},
     "output_type": "execute_result"
    }
   ],
   "source": [
    "np.mean(ps)/np.mean(pl)"
   ]
  },
  {
   "cell_type": "code",
   "execution_count": null,
   "id": "0fa02450",
   "metadata": {},
   "outputs": [],
   "source": []
  }
 ],
 "metadata": {
  "kernelspec": {
   "display_name": "Python 3",
   "language": "python",
   "name": "python3"
  },
  "language_info": {
   "codemirror_mode": {
    "name": "ipython",
    "version": 3
   },
   "file_extension": ".py",
   "mimetype": "text/x-python",
   "name": "python",
   "nbconvert_exporter": "python",
   "pygments_lexer": "ipython3",
   "version": "3.8.2"
  }
 },
 "nbformat": 4,
 "nbformat_minor": 5
}
