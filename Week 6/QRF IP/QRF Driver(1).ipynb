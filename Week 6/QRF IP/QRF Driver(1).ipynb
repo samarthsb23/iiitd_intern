{
 "cells": [
  {
   "cell_type": "code",
   "execution_count": 144,
   "id": "16c2152e",
   "metadata": {},
   "outputs": [],
   "source": [
    "import numpy as np\n",
    "from pynq import Overlay\n",
    "import time"
   ]
  },
  {
   "cell_type": "code",
   "execution_count": 145,
   "id": "3d1fbbf2",
   "metadata": {},
   "outputs": [],
   "source": [
    "ol = Overlay('qrf.bit')"
   ]
  },
  {
   "cell_type": "code",
   "execution_count": 146,
   "id": "5397357c",
   "metadata": {},
   "outputs": [],
   "source": [
    "ol?"
   ]
  },
  {
   "cell_type": "code",
   "execution_count": 147,
   "id": "0293ff44",
   "metadata": {},
   "outputs": [],
   "source": [
    "dma_main = ol.axi_dma_1\n",
    "dma2 = ol.axi_dma_0"
   ]
  },
  {
   "cell_type": "code",
   "execution_count": 148,
   "id": "74f31af3",
   "metadata": {},
   "outputs": [],
   "source": [
    "dma_main?"
   ]
  },
  {
   "cell_type": "code",
   "execution_count": 149,
   "id": "3fc14ff6",
   "metadata": {},
   "outputs": [],
   "source": [
    "A_channel = dma_main.sendchannel\n",
    "Q_channel = dma_main.recvchannel\n",
    "R_channel = dma2.recvchannel"
   ]
  },
  {
   "cell_type": "code",
   "execution_count": 150,
   "id": "691e203c",
   "metadata": {},
   "outputs": [],
   "source": [
    "import random"
   ]
  },
  {
   "cell_type": "code",
   "execution_count": 151,
   "id": "d5c8f403",
   "metadata": {},
   "outputs": [],
   "source": [
    "np.random.seed(1)\n",
    "data_A = np.random.uniform(low=1, high=2, size=(50, 50)).astype(np.float32)"
   ]
  },
  {
   "cell_type": "code",
   "execution_count": 152,
   "id": "9e117820",
   "metadata": {},
   "outputs": [
    {
     "data": {
      "text/plain": [
       "array([[1.417022 , 1.7203245, 1.0001143, ..., 1.2936141, 1.2877754,\n",
       "        1.1300286],\n",
       "       [1.019367 , 1.6788355, 1.2116281, ..., 1.5736794, 1.0028703,\n",
       "        1.617145 ],\n",
       "       [1.3266449, 1.5270581, 1.8859421, ..., 1.712989 , 1.5597169,\n",
       "        1.012556 ],\n",
       "       ...,\n",
       "       [1.1466087, 1.6124611, 1.2793204, ..., 1.0070467, 1.0595286,\n",
       "        1.4814005],\n",
       "       [1.9257041, 1.4055574, 1.0750326, ..., 1.1667219, 1.5208484,\n",
       "        1.7402936],\n",
       "       [1.4624745, 1.8696141, 1.660412 , ..., 1.5681397, 1.3434201,\n",
       "        1.3506172]], dtype=float32)"
      ]
     },
     "execution_count": 152,
     "metadata": {},
     "output_type": "execute_result"
    }
   ],
   "source": [
    "data_A"
   ]
  },
  {
   "cell_type": "code",
   "execution_count": 153,
   "id": "f84f0a66",
   "metadata": {},
   "outputs": [
    {
     "data": {
      "text/plain": [
       "(50, 50)"
      ]
     },
     "execution_count": 153,
     "metadata": {},
     "output_type": "execute_result"
    }
   ],
   "source": [
    "np.shape(data_A)"
   ]
  },
  {
   "cell_type": "code",
   "execution_count": 154,
   "id": "abb44782",
   "metadata": {},
   "outputs": [],
   "source": [
    "def givensrotation_complex(a, b):\n",
    "    z = a*a + b*b\n",
    "    r = np.sqrt(z.real**2 + z.imag**2)\n",
    "    theta = np.arctan2(z.imag, z.real)\n",
    "    hypo = np.sqrt(r) * (np.cos(theta / 2) + 1j * np.sin(theta / 2))\n",
    "    if hypo == 0:\n",
    "        return 1, 0\n",
    "    else:\n",
    "        cos1 = a/ hypo\n",
    "        sin1 = -b / hypo\n",
    "        return cos1, sin1"
   ]
  },
  {
   "cell_type": "code",
   "execution_count": 155,
   "id": "d18123c2",
   "metadata": {},
   "outputs": [],
   "source": [
    "def givensrotation_R(a, b):\n",
    "    if b == 0:\n",
    "        return 1.0, 0.0\n",
    "    r = np.hypot(a, b)\n",
    "    c = a / r\n",
    "    s = -b / r\n",
    "    return c, s\n"
   ]
  },
  {
   "cell_type": "code",
   "execution_count": 156,
   "id": "92c1cfd1",
   "metadata": {},
   "outputs": [],
   "source": [
    "def qr_givens(A):\n",
    "    m, n = A.shape\n",
    "    R = A.copy()\n",
    "    Q = np.identity(m,dtype=np.float64)\n",
    "    for i in range(0, n - 1):\n",
    "        for j in range(i + 1, m):\n",
    "            cos, sin = givensrotation_R(R[i, i], R[j, i])\n",
    "            R[i], R[j] = (R[i]*cos) + (R[j]*(-sin)), (R[i]*sin) + (R[j] * cos)\n",
    "            Q[i], Q[j] = (Q[i]*cos) + (Q[j]*(-sin)), (Q[i]*sin) + (Q[j] * cos)\n",
    "    return np.transpose(Q), R"
   ]
  },
  {
   "cell_type": "code",
   "execution_count": null,
   "id": "3afb9142",
   "metadata": {},
   "outputs": [],
   "source": []
  },
  {
   "cell_type": "code",
   "execution_count": 157,
   "id": "964c39aa",
   "metadata": {},
   "outputs": [
    {
     "name": "stdout",
     "output_type": "stream",
     "text": [
      "0.2488996982574463\n"
     ]
    }
   ],
   "source": [
    "start = time.time()\n",
    "q1,r1 = qr_givens(data_A)\n",
    "fin = time.time()\n",
    "pstime = fin-start\n",
    "print(pstime)"
   ]
  },
  {
   "cell_type": "code",
   "execution_count": 158,
   "id": "49677bc0",
   "metadata": {},
   "outputs": [
    {
     "name": "stdout",
     "output_type": "stream",
     "text": [
      "0.0035393238067626953\n"
     ]
    }
   ],
   "source": [
    "start = time.time()\n",
    "q2,r2 = np.linalg.qr(data_A, mode='complete')\n",
    "fin = time.time()\n",
    "nptime = fin-start\n",
    "print(nptime)"
   ]
  },
  {
   "cell_type": "code",
   "execution_count": 159,
   "id": "5965f4b1",
   "metadata": {},
   "outputs": [
    {
     "data": {
      "text/plain": [
       "array([[-10.455804  , -11.123794  , -10.483212  , ..., -10.693069  ,\n",
       "        -10.598006  , -10.4267845 ],\n",
       "       [  0.        ,  -3.0491242 ,  -1.6812412 , ...,  -1.5855619 ,\n",
       "         -1.7610041 ,  -1.9999844 ],\n",
       "       [  0.        ,   0.        ,  -2.4841995 , ...,  -0.8498958 ,\n",
       "         -1.0891759 ,  -1.0219033 ],\n",
       "       ...,\n",
       "       [  0.        ,   0.        ,   0.        , ...,  -0.3806929 ,\n",
       "         -0.01374719,   0.47284105],\n",
       "       [  0.        ,   0.        ,   0.        , ...,   0.        ,\n",
       "         -0.29349664,  -0.41122508],\n",
       "       [  0.        ,   0.        ,   0.        , ...,   0.        ,\n",
       "          0.        ,  -0.22761676]], dtype=float32)"
      ]
     },
     "execution_count": 159,
     "metadata": {},
     "output_type": "execute_result"
    }
   ],
   "source": [
    "r2"
   ]
  },
  {
   "cell_type": "code",
   "execution_count": 160,
   "id": "265a9f0e",
   "metadata": {},
   "outputs": [],
   "source": [
    "from pynq import allocate"
   ]
  },
  {
   "cell_type": "code",
   "execution_count": 161,
   "id": "2fba7c2d",
   "metadata": {},
   "outputs": [],
   "source": [
    "input_buffer = allocate(2500, np.float32)\n",
    "out1_buff = allocate(2500, np.float32)\n",
    "out2_buff = allocate(2500,np.float32)"
   ]
  },
  {
   "cell_type": "code",
   "execution_count": 162,
   "id": "a0489cda",
   "metadata": {},
   "outputs": [],
   "source": [
    "np.copyto(input_buffer, data_A.flatten())"
   ]
  },
  {
   "cell_type": "code",
   "execution_count": 163,
   "id": "87e0fd9d",
   "metadata": {},
   "outputs": [
    {
     "name": "stdout",
     "output_type": "stream",
     "text": [
      "0.004578828811645508\n"
     ]
    }
   ],
   "source": [
    "start_time = time.time()\n",
    "R_channel.transfer(out2_buff)\n",
    "A_channel.transfer(input_buffer)\n",
    "Q_channel.transfer(out1_buff)\n",
    "R_channel.wait()\n",
    "A_channel.wait()\n",
    "Q_channel.wait()\n",
    "end_time = time.time()\n",
    "pltime = end_time - start_time\n",
    "print(pltime)"
   ]
  },
  {
   "cell_type": "code",
   "execution_count": 164,
   "id": "7fa9166f",
   "metadata": {},
   "outputs": [
    {
     "name": "stdout",
     "output_type": "stream",
     "text": [
      "0.24099016189575195\n"
     ]
    }
   ],
   "source": [
    "start = time.time()\n",
    "q3,r3 = qr_givens(data_A)\n",
    "fin = time.time()\n",
    "pstime = fin-start\n",
    "print(pstime)"
   ]
  },
  {
   "cell_type": "code",
   "execution_count": 165,
   "id": "9265799f",
   "metadata": {},
   "outputs": [
    {
     "data": {
      "text/plain": [
       "52.63139807341838"
      ]
     },
     "execution_count": 165,
     "metadata": {},
     "output_type": "execute_result"
    }
   ],
   "source": [
    "pstime/pltime"
   ]
  },
  {
   "cell_type": "code",
   "execution_count": 167,
   "id": "10c124f7",
   "metadata": {},
   "outputs": [
    {
     "data": {
      "text/plain": [
       "2.4019364e-05"
      ]
     },
     "execution_count": 167,
     "metadata": {},
     "output_type": "execute_result"
    }
   ],
   "source": [
    "np.linalg.norm(np.abs(r2)- np.abs(r3))"
   ]
  },
  {
   "cell_type": "code",
   "execution_count": 168,
   "id": "90ada03f",
   "metadata": {},
   "outputs": [
    {
     "data": {
      "text/plain": [
       "1.3316370646134687e-05"
      ]
     },
     "execution_count": 168,
     "metadata": {},
     "output_type": "execute_result"
    }
   ],
   "source": [
    "np.linalg.norm(np.abs(q2)- np.abs(q3))"
   ]
  },
  {
   "cell_type": "code",
   "execution_count": 135,
   "id": "b8e58468",
   "metadata": {},
   "outputs": [
    {
     "data": {
      "text/plain": [
       "0.0"
      ]
     },
     "execution_count": 135,
     "metadata": {},
     "output_type": "execute_result"
    }
   ],
   "source": [
    "np.sqrt(np.mean((r1 - r3) ** 2))"
   ]
  },
  {
   "cell_type": "code",
   "execution_count": 137,
   "id": "12068ea6",
   "metadata": {},
   "outputs": [
    {
     "data": {
      "text/plain": [
       "0.0"
      ]
     },
     "execution_count": 137,
     "metadata": {},
     "output_type": "execute_result"
    }
   ],
   "source": [
    "np.linalg.norm(r1-r3)"
   ]
  },
  {
   "cell_type": "code",
   "execution_count": 82,
   "id": "832608a8",
   "metadata": {},
   "outputs": [
    {
     "data": {
      "text/plain": [
       "0.0"
      ]
     },
     "execution_count": 82,
     "metadata": {},
     "output_type": "execute_result"
    }
   ],
   "source": [
    "np.linalg.norm(r1-r3)"
   ]
  },
  {
   "cell_type": "code",
   "execution_count": 138,
   "id": "e7795d9f",
   "metadata": {},
   "outputs": [
    {
     "data": {
      "text/plain": [
       "array([[ 1.0455805e+01,  1.1123792e+01,  1.0483209e+01, ...,\n",
       "         1.0693065e+01,  1.0598007e+01,  1.0426781e+01],\n",
       "       [ 2.5344441e-08,  3.0491240e+00,  1.6812406e+00, ...,\n",
       "         1.5855618e+00,  1.7610041e+00,  1.9999850e+00],\n",
       "       [-6.7215296e-08, -6.0782832e-09,  2.4841998e+00, ...,\n",
       "         8.4989578e-01,  1.0891758e+00,  1.0219033e+00],\n",
       "       ...,\n",
       "       [-5.6869709e-09,  6.8870567e-09,  9.1332284e-09, ...,\n",
       "         3.8069314e-01,  1.3749514e-02, -4.7284028e-01],\n",
       "       [-4.9106674e-10, -3.3279708e-09, -1.8858923e-08, ...,\n",
       "         0.0000000e+00,  2.9349566e-01,  4.1122642e-01],\n",
       "       [-1.3463685e-07, -3.5253322e-08,  2.0073497e-08, ...,\n",
       "        -0.0000000e+00, -7.4505806e-09,  2.2761682e-01]], dtype=float32)"
      ]
     },
     "execution_count": 138,
     "metadata": {},
     "output_type": "execute_result"
    }
   ],
   "source": [
    "r1"
   ]
  },
  {
   "cell_type": "code",
   "execution_count": null,
   "id": "621813ae",
   "metadata": {},
   "outputs": [],
   "source": []
  },
  {
   "cell_type": "code",
   "execution_count": null,
   "id": "6f807073",
   "metadata": {},
   "outputs": [],
   "source": []
  },
  {
   "cell_type": "code",
   "execution_count": null,
   "id": "0d629554",
   "metadata": {},
   "outputs": [],
   "source": []
  },
  {
   "cell_type": "code",
   "execution_count": 48,
   "id": "1cee089f",
   "metadata": {},
   "outputs": [
    {
     "data": {
      "text/plain": [
       "10.00000033210277"
      ]
     },
     "execution_count": 48,
     "metadata": {},
     "output_type": "execute_result"
    }
   ],
   "source": []
  },
  {
   "cell_type": "code",
   "execution_count": 86,
   "id": "d75f563f",
   "metadata": {},
   "outputs": [
    {
     "name": "stdout",
     "output_type": "stream",
     "text": [
      "True\n",
      "True\n"
     ]
    }
   ],
   "source": [
    "A = np.random.randn(4, 3)\n",
    "Q1, R1 = qr_givens(A)\n",
    "print(np.allclose(Q1 @ R1, A))         \n",
    "print(np.allclose(Q1.T @ Q1, np.eye(4)))  "
   ]
  },
  {
   "cell_type": "code",
   "execution_count": 87,
   "id": "2fb2ce47",
   "metadata": {},
   "outputs": [
    {
     "data": {
      "text/plain": [
       "array([[ 0.1212576 , -0.23572615,  0.64929111, -0.71284699],\n",
       "       [-0.80051699,  0.0459382 ,  0.5093003 ,  0.31253069],\n",
       "       [-0.58242548, -0.22955276, -0.56483117, -0.53763541],\n",
       "       [ 0.07245483, -0.94320114,  0.        ,  0.32422508]])"
      ]
     },
     "execution_count": 87,
     "metadata": {},
     "output_type": "execute_result"
    }
   ],
   "source": [
    "Q1"
   ]
  },
  {
   "cell_type": "code",
   "execution_count": 88,
   "id": "d6ffd3dd",
   "metadata": {},
   "outputs": [
    {
     "data": {
      "text/plain": [
       "array([[ 2.62766788e+00,  7.54431531e-01,  1.71512512e+00],\n",
       "       [-3.88040098e-17,  1.54780321e+00, -2.12279071e-01],\n",
       "       [ 3.98705411e-17,  0.00000000e+00,  2.03014100e+00],\n",
       "       [-2.75036119e-17, -5.55111512e-17,  1.39932135e-01]])"
      ]
     },
     "execution_count": 88,
     "metadata": {},
     "output_type": "execute_result"
    }
   ],
   "source": [
    "R1"
   ]
  },
  {
   "cell_type": "code",
   "execution_count": 89,
   "id": "dae4b8a1",
   "metadata": {},
   "outputs": [
    {
     "data": {
      "text/plain": [
       "array([[ 0.3186247 , -0.27337714,  1.47641399],\n",
       "       [-2.10349278, -0.53283196, -0.30505399],\n",
       "       [-1.53042074, -0.79470265, -2.17212271],\n",
       "       [ 0.19038724, -1.40522754,  0.36986047]])"
      ]
     },
     "execution_count": 89,
     "metadata": {},
     "output_type": "execute_result"
    }
   ],
   "source": [
    "Q1 @ R1"
   ]
  },
  {
   "cell_type": "code",
   "execution_count": 90,
   "id": "c55180c6",
   "metadata": {},
   "outputs": [
    {
     "data": {
      "text/plain": [
       "array([[ 0.3186247 , -0.27337714,  1.47641399],\n",
       "       [-2.10349278, -0.53283196, -0.30505399],\n",
       "       [-1.53042074, -0.79470265, -2.17212271],\n",
       "       [ 0.19038724, -1.40522754,  0.36986047]])"
      ]
     },
     "execution_count": 90,
     "metadata": {},
     "output_type": "execute_result"
    }
   ],
   "source": [
    "A"
   ]
  },
  {
   "cell_type": "code",
   "execution_count": 98,
   "id": "a7ce1d8d",
   "metadata": {},
   "outputs": [],
   "source": [
    "Q2, R2 = np.linalg.qr(A, mode='complete')"
   ]
  },
  {
   "cell_type": "code",
   "execution_count": 99,
   "id": "2e67728c",
   "metadata": {},
   "outputs": [
    {
     "data": {
      "text/plain": [
       "array([[-0.1212576 , -0.23572615,  0.59873589, -0.75580759],\n",
       "       [ 0.80051699,  0.0459382 ,  0.52958567,  0.27676931],\n",
       "       [ 0.58242548, -0.22955276, -0.60046422, -0.49752267],\n",
       "       [-0.07245483, -0.94320114,  0.02229506,  0.32345762]])"
      ]
     },
     "execution_count": 99,
     "metadata": {},
     "output_type": "execute_result"
    }
   ],
   "source": [
    "Q2"
   ]
  },
  {
   "cell_type": "code",
   "execution_count": 100,
   "id": "eb81b4c5",
   "metadata": {},
   "outputs": [
    {
     "data": {
      "text/plain": [
       "array([[-2.62766788, -0.75443153, -1.71512512],\n",
       "       [ 0.        ,  1.54780321, -0.21227907],\n",
       "       [ 0.        ,  0.        ,  2.03495786],\n",
       "       [ 0.        ,  0.        ,  0.        ]])"
      ]
     },
     "execution_count": 100,
     "metadata": {},
     "output_type": "execute_result"
    }
   ],
   "source": [
    "R2"
   ]
  },
  {
   "cell_type": "code",
   "execution_count": 101,
   "id": "4943f16e",
   "metadata": {},
   "outputs": [
    {
     "data": {
      "text/plain": [
       "array([[ 2.42515196e-01, -2.77555756e-17,  5.05552205e-02,\n",
       "         4.29605994e-02],\n",
       "       [-1.60103398e+00, -1.38777878e-17, -2.02853633e-02,\n",
       "         3.57613768e-02],\n",
       "       [-1.16485097e+00, -2.77555756e-17,  3.56330523e-02,\n",
       "        -4.01127443e-02],\n",
       "       [ 1.44909666e-01,  2.22044605e-16, -2.22950603e-02,\n",
       "         7.67458673e-04]])"
      ]
     },
     "execution_count": 101,
     "metadata": {},
     "output_type": "execute_result"
    }
   ],
   "source": [
    "Q1 - Q2"
   ]
  },
  {
   "cell_type": "code",
   "execution_count": 139,
   "id": "e8631a62",
   "metadata": {},
   "outputs": [
    {
     "data": {
      "text/plain": [
       "array([[0.1212576 , 0.23572615, 0.64929111, 0.71284699],\n",
       "       [0.80051699, 0.0459382 , 0.5093003 , 0.31253069],\n",
       "       [0.58242548, 0.22955276, 0.56483117, 0.53763541],\n",
       "       [0.07245483, 0.94320114, 0.        , 0.32422508]])"
      ]
     },
     "execution_count": 139,
     "metadata": {},
     "output_type": "execute_result"
    }
   ],
   "source": [
    "np.abs(Q1)"
   ]
  },
  {
   "cell_type": "code",
   "execution_count": 140,
   "id": "1db959ac",
   "metadata": {},
   "outputs": [
    {
     "data": {
      "text/plain": [
       "array([[0.1212576 , 0.23572615, 0.59873589, 0.75580759],\n",
       "       [0.80051699, 0.0459382 , 0.52958567, 0.27676931],\n",
       "       [0.58242548, 0.22955276, 0.60046422, 0.49752267],\n",
       "       [0.07245483, 0.94320114, 0.02229506, 0.32345762]])"
      ]
     },
     "execution_count": 140,
     "metadata": {},
     "output_type": "execute_result"
    }
   ],
   "source": [
    "np.abs(Q2)"
   ]
  },
  {
   "cell_type": "code",
   "execution_count": 143,
   "id": "9a2d35ce",
   "metadata": {},
   "outputs": [
    {
     "data": {
      "text/plain": [
       "array([[ 8.32667268e-17,  2.77555756e-17,  5.05552205e-02,\n",
       "        -4.29605994e-02],\n",
       "       [ 2.22044605e-16, -1.38777878e-17, -2.02853633e-02,\n",
       "         3.57613768e-02],\n",
       "       [ 0.00000000e+00,  2.77555756e-17, -3.56330523e-02,\n",
       "         4.01127443e-02],\n",
       "       [ 0.00000000e+00, -2.22044605e-16, -2.22950603e-02,\n",
       "         7.67458673e-04]])"
      ]
     },
     "execution_count": 143,
     "metadata": {},
     "output_type": "execute_result"
    }
   ],
   "source": [
    "np.abs(Q1) - np.abs(Q2)"
   ]
  },
  {
   "cell_type": "code",
   "execution_count": 175,
   "id": "ef96ebbc",
   "metadata": {},
   "outputs": [
    {
     "data": {
      "text/plain": [
       "-0.40111072544187304"
      ]
     },
     "execution_count": 175,
     "metadata": {},
     "output_type": "execute_result"
    }
   ],
   "source": [
    "np.min(q3)"
   ]
  },
  {
   "cell_type": "code",
   "execution_count": 176,
   "id": "a09d6663",
   "metadata": {},
   "outputs": [
    {
     "data": {
      "text/plain": [
       "-0.8391445"
      ]
     },
     "execution_count": 176,
     "metadata": {},
     "output_type": "execute_result"
    }
   ],
   "source": [
    "np.min(r3)"
   ]
  },
  {
   "cell_type": "code",
   "execution_count": 177,
   "id": "4f75ad6b",
   "metadata": {},
   "outputs": [
    {
     "data": {
      "text/plain": [
       "0.4363235715965186"
      ]
     },
     "execution_count": 177,
     "metadata": {},
     "output_type": "execute_result"
    }
   ],
   "source": [
    "np.max(q3)"
   ]
  },
  {
   "cell_type": "code",
   "execution_count": 178,
   "id": "15f90fed",
   "metadata": {},
   "outputs": [
    {
     "data": {
      "text/plain": [
       "11.195493"
      ]
     },
     "execution_count": 178,
     "metadata": {},
     "output_type": "execute_result"
    }
   ],
   "source": [
    "np.max(r3)"
   ]
  },
  {
   "cell_type": "code",
   "execution_count": null,
   "id": "4643e2d4",
   "metadata": {},
   "outputs": [],
   "source": []
  }
 ],
 "metadata": {
  "kernelspec": {
   "display_name": "Python 3",
   "language": "python",
   "name": "python3"
  },
  "language_info": {
   "codemirror_mode": {
    "name": "ipython",
    "version": 3
   },
   "file_extension": ".py",
   "mimetype": "text/x-python",
   "name": "python",
   "nbconvert_exporter": "python",
   "pygments_lexer": "ipython3",
   "version": "3.8.2"
  }
 },
 "nbformat": 4,
 "nbformat_minor": 5
}
