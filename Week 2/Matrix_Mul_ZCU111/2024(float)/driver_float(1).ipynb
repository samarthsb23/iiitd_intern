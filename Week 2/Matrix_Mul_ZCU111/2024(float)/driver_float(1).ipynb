{
 "cells": [
  {
   "cell_type": "code",
   "execution_count": 22,
   "id": "28cb770f",
   "metadata": {},
   "outputs": [],
   "source": [
    "from pynq import Overlay\n",
    "ol = Overlay('matrix.bit')"
   ]
  },
  {
   "cell_type": "code",
   "execution_count": 23,
   "id": "0fb2a014",
   "metadata": {},
   "outputs": [],
   "source": [
    "ol?"
   ]
  },
  {
   "cell_type": "code",
   "execution_count": 24,
   "id": "cbe94b22",
   "metadata": {},
   "outputs": [],
   "source": [
    "dma = ol.axi_dma_0"
   ]
  },
  {
   "cell_type": "code",
   "execution_count": 25,
   "id": "5c6199ad",
   "metadata": {},
   "outputs": [],
   "source": [
    "data_send = dma.sendchannel\n",
    "data_recv = dma.recvchannel"
   ]
  },
  {
   "cell_type": "code",
   "execution_count": 26,
   "id": "c5e5c50d",
   "metadata": {},
   "outputs": [],
   "source": [
    "import numpy as np\n",
    "import random "
   ]
  },
  {
   "cell_type": "code",
   "execution_count": 27,
   "id": "5da50a90",
   "metadata": {},
   "outputs": [],
   "source": [
    "np.random.seed(2)\n",
    "data_A = np.random.uniform(low=0, high=1, size=(100, 100)).astype(np.float32)\n",
    "data_B = np.random.uniform(low=0, high=1, size=(100, 100)).astype(np.float32)"
   ]
  },
  {
   "cell_type": "code",
   "execution_count": 28,
   "id": "4fd9d107",
   "metadata": {},
   "outputs": [
    {
     "data": {
      "text/plain": [
       "(array([[0.4359949 , 0.02592623, 0.5496625 , ..., 0.6614813 , 0.17047714,\n",
       "         0.88165224],\n",
       "        [0.77800816, 0.13395421, 0.86891663, ..., 0.57027423, 0.9167146 ,\n",
       "         0.70226425],\n",
       "        [0.5012165 , 0.5060868 , 0.21882078, ..., 0.4366699 , 0.01505613,\n",
       "         0.8929059 ],\n",
       "        ...,\n",
       "        [0.8475011 , 0.13135862, 0.7483047 , ..., 0.6138644 , 0.30138135,\n",
       "         0.8357257 ],\n",
       "        [0.5905587 , 0.28155923, 0.47100276, ..., 0.65550596, 0.21874154,\n",
       "         0.8921831 ],\n",
       "        [0.72069114, 0.88509136, 0.78875065, ..., 0.73417616, 0.7731632 ,\n",
       "         0.17327332]], dtype=float32),\n",
       " array([[0.04520936, 0.26083475, 0.8567043 , ..., 0.23711477, 0.9927218 ,\n",
       "         0.8107768 ],\n",
       "        [0.19436759, 0.83472526, 0.15114179, ..., 0.9865399 , 0.27422923,\n",
       "         0.37147334],\n",
       "        [0.3303086 , 0.36142477, 0.11134013, ..., 0.9762257 , 0.8752609 ,\n",
       "         0.8830626 ],\n",
       "        ...,\n",
       "        [0.4594083 , 0.37802202, 0.21500729, ..., 0.5419246 , 0.8748582 ,\n",
       "         0.9212987 ],\n",
       "        [0.11595717, 0.1270329 , 0.3810983 , ..., 0.49693006, 0.33828783,\n",
       "         0.6987913 ],\n",
       "        [0.89286995, 0.5859147 , 0.35524848, ..., 0.00816872, 0.87086016,\n",
       "         0.03899087]], dtype=float32))"
      ]
     },
     "execution_count": 28,
     "metadata": {},
     "output_type": "execute_result"
    }
   ],
   "source": [
    "data_A, data_B"
   ]
  },
  {
   "cell_type": "code",
   "execution_count": 29,
   "id": "a5869065",
   "metadata": {},
   "outputs": [],
   "source": [
    "def multiply(matrix_a, matrix_b):\n",
    "    result_matrix = np.zeros((100,100))\n",
    "    for i in range(100):\n",
    "        for j in range(100):\n",
    "            for k in range(100):\n",
    "                result_matrix[i][j] += matrix_a[i][k] * matrix_b[k][j]\n",
    "                \n",
    "    return result_matrix"
   ]
  },
  {
   "cell_type": "code",
   "execution_count": 30,
   "id": "74c9f1c8",
   "metadata": {},
   "outputs": [
    {
     "name": "stdout",
     "output_type": "stream",
     "text": [
      "6.890790700912476\n"
     ]
    }
   ],
   "source": [
    "import time\n",
    "start_time = time.time()\n",
    "ans = multiply(data_A, data_B) #software\n",
    "end_time = time.time()\n",
    "print(end_time - start_time)"
   ]
  },
  {
   "cell_type": "code",
   "execution_count": 31,
   "id": "e2d3ba34",
   "metadata": {},
   "outputs": [],
   "source": [
    "from pynq import allocate"
   ]
  },
  {
   "cell_type": "code",
   "execution_count": 32,
   "id": "ea35010e",
   "metadata": {},
   "outputs": [],
   "source": [
    "data_a_f = data_A.flatten()\n",
    "data_b_f = data_B.flatten()\n",
    "\n",
    "data_input = np.concatenate([data_a_f, data_b_f])"
   ]
  },
  {
   "cell_type": "code",
   "execution_count": 33,
   "id": "7a3e3b23",
   "metadata": {},
   "outputs": [
    {
     "data": {
      "text/plain": [
       "array([0.4359949 , 0.02592623, 0.5496625 , ..., 0.00816872, 0.87086016,\n",
       "       0.03899087], dtype=float32)"
      ]
     },
     "execution_count": 33,
     "metadata": {},
     "output_type": "execute_result"
    }
   ],
   "source": [
    "data_input"
   ]
  },
  {
   "cell_type": "code",
   "execution_count": 34,
   "id": "d56f88e8",
   "metadata": {},
   "outputs": [],
   "source": [
    "input_buffer = allocate(20000, np.float32)\n",
    "output_buffer = allocate((100,100), np.float32)"
   ]
  },
  {
   "cell_type": "code",
   "execution_count": 35,
   "id": "02985793",
   "metadata": {},
   "outputs": [],
   "source": [
    "np.copyto(input_buffer, data_input)"
   ]
  },
  {
   "cell_type": "code",
   "execution_count": 36,
   "id": "ce08ccd0",
   "metadata": {},
   "outputs": [
    {
     "name": "stdout",
     "output_type": "stream",
     "text": [
      "0.002061128616333008\n"
     ]
    }
   ],
   "source": [
    "start_time = time.time()\n",
    "data_send.transfer(input_buffer)\n",
    "data_recv.transfer(output_buffer)\n",
    "data_send.wait()\n",
    "data_recv.wait()\n",
    "end_time = time.time()\n",
    "print(end_time - start_time)"
   ]
  },
  {
   "cell_type": "code",
   "execution_count": 37,
   "id": "1a86fc76",
   "metadata": {},
   "outputs": [
    {
     "data": {
      "text/plain": [
       "(PynqBuffer([[22.602877, 24.11262 , 23.864393, ..., 23.211348, 25.834352,\n",
       "              22.717093],\n",
       "             [24.063475, 24.371958, 24.040434, ..., 24.048021, 24.349699,\n",
       "              24.534414],\n",
       "             [26.561407, 28.221485, 28.110092, ..., 27.545736, 28.532488,\n",
       "              25.616997],\n",
       "             ...,\n",
       "             [23.29963 , 24.187273, 24.604368, ..., 24.545145, 27.46152 ,\n",
       "              21.26934 ],\n",
       "             [23.98164 , 25.262651, 25.172256, ..., 23.723015, 26.628115,\n",
       "              24.254265],\n",
       "             [25.794188, 29.286129, 27.576231, ..., 25.389294, 27.434633,\n",
       "              26.889084]], dtype=float32),\n",
       " array([[22.60287335, 24.11261823, 23.86439793, ..., 23.21134907,\n",
       "         25.83435382, 22.7170966 ],\n",
       "        [24.0634748 , 24.3719555 , 24.04043433, ..., 24.04802274,\n",
       "         24.34969362, 24.53441502],\n",
       "        [26.56141167, 28.22148338, 28.11009454, ..., 27.54573791,\n",
       "         28.53248852, 25.61699982],\n",
       "        ...,\n",
       "        [23.29963047, 24.1872752 , 24.60437588, ..., 24.54515501,\n",
       "         27.46152431, 21.26934104],\n",
       "        [23.98163502, 25.26265778, 25.17225287, ..., 23.72302056,\n",
       "         26.62812059, 24.25426623],\n",
       "        [25.79418612, 29.28613222, 27.57623741, ..., 25.38929249,\n",
       "         27.43462867, 26.88908156]]))"
      ]
     },
     "execution_count": 37,
     "metadata": {},
     "output_type": "execute_result"
    }
   ],
   "source": [
    "output_buffer, ans"
   ]
  },
  {
   "cell_type": "code",
   "execution_count": 38,
   "id": "510e6221",
   "metadata": {},
   "outputs": [],
   "source": [
    "diff = np.dot(data_A, data_B) - output_buffer"
   ]
  },
  {
   "cell_type": "code",
   "execution_count": 39,
   "id": "a0f8132c",
   "metadata": {},
   "outputs": [],
   "source": [
    "#rms error \n",
    "rms_error = np.sqrt(np.mean(diff**2))"
   ]
  },
  {
   "cell_type": "code",
   "execution_count": 40,
   "id": "8788aabe",
   "metadata": {},
   "outputs": [
    {
     "data": {
      "text/plain": [
       "PynqBuffer([[ 0.0000000e+00,  1.9073486e-06,  1.9073486e-06, ...,\n",
       "              0.0000000e+00,  0.0000000e+00,  1.9073486e-06],\n",
       "            [ 1.9073486e-06,  1.9073486e-06,  0.0000000e+00, ...,\n",
       "              0.0000000e+00,  0.0000000e+00,  0.0000000e+00],\n",
       "            [ 0.0000000e+00, -1.9073486e-06,  0.0000000e+00, ...,\n",
       "              0.0000000e+00,  0.0000000e+00,  1.9073486e-06],\n",
       "            ...,\n",
       "            [-1.9073486e-06, -1.9073486e-06,  0.0000000e+00, ...,\n",
       "              0.0000000e+00,  0.0000000e+00,  0.0000000e+00],\n",
       "            [ 0.0000000e+00,  0.0000000e+00,  0.0000000e+00, ...,\n",
       "              0.0000000e+00,  1.9073486e-06,  0.0000000e+00],\n",
       "            [-1.9073486e-06,  0.0000000e+00,  0.0000000e+00, ...,\n",
       "              0.0000000e+00,  0.0000000e+00,  0.0000000e+00]],\n",
       "           dtype=float32)"
      ]
     },
     "execution_count": 40,
     "metadata": {},
     "output_type": "execute_result"
    }
   ],
   "source": [
    "diff"
   ]
  },
  {
   "cell_type": "code",
   "execution_count": 41,
   "id": "70230b60",
   "metadata": {},
   "outputs": [
    {
     "data": {
      "text/plain": [
       "PynqBuffer(1.2574043e-06, dtype=float32)"
      ]
     },
     "execution_count": 41,
     "metadata": {},
     "output_type": "execute_result"
    }
   ],
   "source": [
    "rms_error"
   ]
  },
  {
   "cell_type": "code",
   "execution_count": 42,
   "id": "15070fcb",
   "metadata": {},
   "outputs": [
    {
     "name": "stdout",
     "output_type": "stream",
     "text": [
      "CPU times: user 1.89 ms, sys: 104 µs, total: 1.99 ms\n",
      "Wall time: 1.18 ms\n"
     ]
    },
    {
     "data": {
      "text/plain": [
       "array([[22.602877, 24.112621, 23.864395, ..., 23.211348, 25.834352,\n",
       "        22.717094],\n",
       "       [24.063477, 24.37196 , 24.040434, ..., 24.048021, 24.349699,\n",
       "        24.534414],\n",
       "       [26.561407, 28.221483, 28.110092, ..., 27.545736, 28.532488,\n",
       "        25.616999],\n",
       "       ...,\n",
       "       [23.299627, 24.187271, 24.604368, ..., 24.545145, 27.46152 ,\n",
       "        21.26934 ],\n",
       "       [23.98164 , 25.262651, 25.172256, ..., 23.723015, 26.628117,\n",
       "        24.254265],\n",
       "       [25.794186, 29.286129, 27.576231, ..., 25.389294, 27.434633,\n",
       "        26.889084]], dtype=float32)"
      ]
     },
     "execution_count": 42,
     "metadata": {},
     "output_type": "execute_result"
    }
   ],
   "source": [
    "%%time\n",
    "\n",
    "np.dot(data_A, data_B)"
   ]
  },
  {
   "cell_type": "code",
   "execution_count": null,
   "id": "02b9cd7e",
   "metadata": {},
   "outputs": [],
   "source": []
  }
 ],
 "metadata": {
  "kernelspec": {
   "display_name": "Python 3",
   "language": "python",
   "name": "python3"
  },
  "language_info": {
   "codemirror_mode": {
    "name": "ipython",
    "version": 3
   },
   "file_extension": ".py",
   "mimetype": "text/x-python",
   "name": "python",
   "nbconvert_exporter": "python",
   "pygments_lexer": "ipython3",
   "version": "3.8.2"
  }
 },
 "nbformat": 4,
 "nbformat_minor": 5
}
