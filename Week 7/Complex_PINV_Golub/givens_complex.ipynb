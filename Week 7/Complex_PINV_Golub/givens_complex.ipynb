{
 "cells": [
  {
   "cell_type": "code",
   "execution_count": 1,
   "id": "2aa4e1c8",
   "metadata": {},
   "outputs": [],
   "source": [
    "import numpy as np"
   ]
  },
  {
   "cell_type": "code",
   "execution_count": 29,
   "id": "4b9e50be",
   "metadata": {},
   "outputs": [],
   "source": [
    "def givensrotation(a, b):\n",
    "    z = a*a + b*b\n",
    "    r = np.sqrt(z.real**2 + z.imag**2)\n",
    "    theta = np.arctan2(z.imag, z.real)\n",
    "    hypo = np.sqrt(r) * (np.cos(theta / 2) + 1j * np.sin(theta / 2))\n",
    "    if hypo == 0:\n",
    "        return 1, 0\n",
    "    else:\n",
    "        cos1 = a/ hypo\n",
    "        sin1 = b / hypo\n",
    "        return cos1, sin1\n",
    "\n",
    "def QR_givens(A):\n",
    "    m, n = A.shape\n",
    "    R = A.copy()\n",
    "    Q = np.identity(m,dtype=np.complex128)\n",
    "    for i in range(0, n - 1):\n",
    "        for j in range(i + 1, m):\n",
    "            cos, sin = givensrotation(R[i, i], R[j, i])\n",
    "            R[i], R[j] = (R[i]*cos) + (R[j]*(-sin)), (R[i]*sin) + (R[j] * cos)\n",
    "            Q[i], Q[j] = (Q[i]*cos) + (Q[j]*(-sin)), (Q[i]*sin) + (Q[j] * cos)\n",
    "    return np.transpose(np.conj(Q)), R\n",
    "\n",
    "def givensrotation2(a, b):\n",
    "    if b == 0:\n",
    "        c = 1\n",
    "        s = 0\n",
    "    elif np.abs(b) > np.abs(a):\n",
    "        tau = -a / b\n",
    "        s = 1 / np.sqrt(1 + np.abs(tau)**2)\n",
    "        c = s * tau\n",
    "    else:\n",
    "        tau = -b / a\n",
    "        c = 1 / np.sqrt(1 + np.abs(tau)**2)\n",
    "        s = c * tau\n",
    "    return c, s\n",
    "\n",
    "\n",
    "def QR_givens2(A):\n",
    "    m, n = A.shape\n",
    "    R = A.copy().astype(np.complex128)\n",
    "    Q = np.identity(m, dtype=np.complex128)\n",
    "\n",
    "    for j in range(n):\n",
    "        for i in range(m-1, j, -1):\n",
    "            a = R[i-1, j]\n",
    "            b = R[i, j]\n",
    "            if np.abs(b) > 1e-12:  \n",
    "                c, s = givensrotation2(a, b)\n",
    "\n",
    "                G = np.array([[c, s], [-np.conj(s), np.conj(c)]])\n",
    "                R[[i-1, i], :] = G @ R[[i-1, i], :]\n",
    "\n",
    "                Q[:, [i-1, i]] = Q[:, [i-1, i]] @ G.conj().T\n",
    "\n",
    "    return Q, R\n"
   ]
  },
  {
   "cell_type": "code",
   "execution_count": 30,
   "id": "a996b2f0",
   "metadata": {},
   "outputs": [],
   "source": [
    "A = np.random.randn(5,6) + 1j* np.random.randn(5,6)"
   ]
  },
  {
   "cell_type": "code",
   "execution_count": 42,
   "id": "7d985049",
   "metadata": {},
   "outputs": [],
   "source": [
    "q,r = QR_givens(A)\n",
    "q2,r2 = QR_givens2(A)"
   ]
  },
  {
   "cell_type": "code",
   "execution_count": 43,
   "id": "36db2c0c",
   "metadata": {},
   "outputs": [],
   "source": [
    "def RMSE(A, B):\n",
    "    return np.sqrt(np.mean(np.abs(A - B)**2))\n"
   ]
  },
  {
   "cell_type": "code",
   "execution_count": 44,
   "id": "246b483b",
   "metadata": {},
   "outputs": [
    {
     "data": {
      "text/plain": [
       "((0.3514312795788968+0.6566553524938088j),\n",
       " (1.1606986685301617-0.19881924312144073j))"
      ]
     },
     "execution_count": 44,
     "metadata": {},
     "output_type": "execute_result"
    }
   ],
   "source": [
    "givensrotation(1+1j, 2-1j)"
   ]
  },
  {
   "cell_type": "code",
   "execution_count": 45,
   "id": "bf9cfc41",
   "metadata": {},
   "outputs": [
    {
     "data": {
      "text/plain": [
       "((-0.16903085094570333-0.50709255283711j), 0.8451542547285166)"
      ]
     },
     "execution_count": 45,
     "metadata": {},
     "output_type": "execute_result"
    }
   ],
   "source": [
    "givensrotation2(1+1j, 2-1j)"
   ]
  },
  {
   "cell_type": "code",
   "execution_count": 46,
   "id": "84702d25",
   "metadata": {},
   "outputs": [
    {
     "data": {
      "text/plain": [
       "10.706808979680414"
      ]
     },
     "execution_count": 46,
     "metadata": {},
     "output_type": "execute_result"
    }
   ],
   "source": [
    "RMSE(q@r, A)"
   ]
  },
  {
   "cell_type": "code",
   "execution_count": 47,
   "id": "4129c98a",
   "metadata": {},
   "outputs": [
    {
     "data": {
      "text/plain": [
       "4.490528658142484e-16"
      ]
     },
     "execution_count": 47,
     "metadata": {},
     "output_type": "execute_result"
    }
   ],
   "source": [
    "RMSE(q2@r2, A)"
   ]
  },
  {
   "cell_type": "code",
   "execution_count": null,
   "id": "9f7b293b",
   "metadata": {},
   "outputs": [],
   "source": []
  }
 ],
 "metadata": {
  "kernelspec": {
   "display_name": "base",
   "language": "python",
   "name": "python3"
  },
  "language_info": {
   "codemirror_mode": {
    "name": "ipython",
    "version": 3
   },
   "file_extension": ".py",
   "mimetype": "text/x-python",
   "name": "python",
   "nbconvert_exporter": "python",
   "pygments_lexer": "ipython3",
   "version": "3.12.7"
  }
 },
 "nbformat": 4,
 "nbformat_minor": 5
}
