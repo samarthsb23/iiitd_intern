{
 "cells": [
  {
   "cell_type": "code",
   "execution_count": 1,
   "id": "c8f14336",
   "metadata": {},
   "outputs": [],
   "source": [
    "import numpy as np"
   ]
  },
  {
   "cell_type": "code",
   "execution_count": 6,
   "id": "8ae2d5b9",
   "metadata": {},
   "outputs": [],
   "source": [
    "def qr_eigen(A, max_iter=100, tol=1e-12):\n",
    "    n = A.shape[0]\n",
    "    A_k = A.copy().astype(complex)\n",
    "    Q_total = np.eye(n, dtype=complex)\n",
    "\n",
    "    for _ in range(max_iter):\n",
    "        Q, R = np.linalg.qr(A_k)\n",
    "        A_k_new = R @ Q\n",
    "        Q_total = Q_total @ Q\n",
    "\n",
    "        if np.linalg.norm(A_k_new - A_k) < tol:\n",
    "            break\n",
    "        A_k = A_k_new\n",
    "\n",
    "    eigvals = np.real(np.diag(A_k))\n",
    "    return np.array(eigvals), Q_total\n",
    "\n"
   ]
  },
  {
   "cell_type": "code",
   "execution_count": null,
   "id": "d972fcf6",
   "metadata": {},
   "outputs": [],
   "source": [
    "def compute_svd(A):\n",
    "    m, n = A.shape\n",
    "    AAt = A @ A.conj().T\n",
    "\n",
    "    eigvals, U = qr_eigen(AAt)\n",
    "    idx = np.argsort(-eigvals)\n",
    "    eigvals = eigvals[idx]\n",
    "    U = U[:, idx]\n",
    "\n",
    "    sigma = np.sqrt(np.clip(eigvals[:min(m, n)], 0, None))\n",
    "    Sigma = np.zeros((m, n), dtype=complex)\n",
    "    np.fill_diagonal(Sigma, sigma)\n",
    "\n",
    "\n",
    "    V = np.zeros((n, n), dtype=complex)\n",
    "    for i in range(min(m, n)):\n",
    "        if sigma[i] > 1e-12:\n",
    "            V[:, i] = (A.conj().T @ U[:, i]) / sigma[i]\n",
    "            V[:, i] /= np.linalg.norm(V[:, i])  # Normalize\n",
    "        else:\n",
    "            V[:, i] = 0\n",
    "\n",
    "    Vh = V.conj().T\n",
    "    return U, Sigma, Vh\n"
   ]
  },
  {
   "cell_type": "code",
   "execution_count": null,
   "id": "d30aaad0",
   "metadata": {},
   "outputs": [],
   "source": []
  },
  {
   "cell_type": "code",
   "execution_count": 33,
   "id": "11d341a9",
   "metadata": {},
   "outputs": [],
   "source": [
    "def RMSE(A, U, S, Vh):\n",
    "    A_hat = U @ S @ Vh\n",
    "    return np.sqrt(np.mean(np.abs(A - A_hat)**2))\n"
   ]
  },
  {
   "cell_type": "code",
   "execution_count": 34,
   "id": "d850130f",
   "metadata": {},
   "outputs": [
    {
     "name": "stdout",
     "output_type": "stream",
     "text": [
      "RMSE: 1.3706890733646687e-14\n"
     ]
    }
   ],
   "source": [
    "A = np.random.randn(4, 4) + 1j * np.random.randn(4, 4)\n",
    "U, S, Vh = compute_svd(A)\n",
    "error = RMSE(A, U, S, Vh)\n",
    "print(\"RMSE:\", error)\n"
   ]
  },
  {
   "cell_type": "code",
   "execution_count": 30,
   "id": "19f5c02a",
   "metadata": {},
   "outputs": [
    {
     "name": "stdout",
     "output_type": "stream",
     "text": [
      "Original A:\n",
      " [[-1.22  -0.3289j -0.1298+0.1817j  0.3109+0.1232j  0.9944+1.7279j]\n",
      " [ 0.5865-0.2827j  3.4612-0.6766j -0.8032-2.0955j  0.4351-1.1031j]\n",
      " [-0.2864-0.0031j -0.2244-0.2046j  1.248 +1.1733j  2.023 +0.3405j]\n",
      " [ 2.4848-1.6778j  0.9084-1.4392j  0.0806+2.693j   0.8702-2.5695j]]\n",
      "Reconstructed A_hat:\n",
      " [[-0.4682-0.8598j  0.435 +1.1581j  1.2688-0.1482j -0.8857+0.9099j]\n",
      " [ 1.4261+1.0485j  1.1285+0.5944j -2.3599+1.3065j  1.6977+2.0943j]\n",
      " [-0.3373-1.1274j  1.5911+0.2181j  0.3537-1.6458j -0.7156+0.0841j]\n",
      " [ 2.3684-0.0781j  2.8304-1.3148j -1.8136-0.5573j  0.0287-2.7474j]]\n",
      "Error Matrix:\n",
      " [[0.9204 1.128  0.9956 2.0504]\n",
      " [1.5739 2.6564 3.7412 3.4377]\n",
      " [1.1254 1.864  2.9576 2.7506]\n",
      " [1.604  1.926  3.7619 0.86  ]]\n",
      "Max Error: 3.7619419103497895\n",
      "RMSE: 2.303411381095242\n"
     ]
    }
   ],
   "source": [
    "A_hat = U @ S @ Vh\n",
    "\n",
    "print(\"Original A:\\n\", A)\n",
    "print(\"Reconstructed A_hat:\\n\", A_hat)\n",
    "print(\"Error Matrix:\\n\", np.abs(A - A_hat))\n",
    "print(\"Max Error:\", np.max(np.abs(A - A_hat)))\n",
    "print(\"RMSE:\", RMSE(A, U, S, Vh))\n"
   ]
  },
  {
   "cell_type": "code",
   "execution_count": 31,
   "id": "a7f195d4",
   "metadata": {},
   "outputs": [
    {
     "name": "stdout",
     "output_type": "stream",
     "text": [
      "Singular vals from AAt: [5.7667 4.3314 2.5848 0.4016]\n",
      "Singular vals from AtA: [5.7667 4.3314 2.5848 0.4016]\n"
     ]
    }
   ],
   "source": [
    "AAt = A @ A.conj().T\n",
    "AtA = A.conj().T @ A\n",
    "\n",
    "eig1, _ = qr_eigen(AAt)\n",
    "eig2, _ = qr_eigen(AtA)\n",
    "\n",
    "print(\"Singular vals from AAt:\", np.sort(np.sqrt(np.clip(eig1, 0, None)))[::-1])\n",
    "print(\"Singular vals from AtA:\", np.sort(np.sqrt(np.clip(eig2, 0, None)))[::-1])\n"
   ]
  },
  {
   "cell_type": "code",
   "execution_count": null,
   "id": "7df5c5ad",
   "metadata": {},
   "outputs": [],
   "source": []
  }
 ],
 "metadata": {
  "kernelspec": {
   "display_name": "base",
   "language": "python",
   "name": "python3"
  },
  "language_info": {
   "codemirror_mode": {
    "name": "ipython",
    "version": 3
   },
   "file_extension": ".py",
   "mimetype": "text/x-python",
   "name": "python",
   "nbconvert_exporter": "python",
   "pygments_lexer": "ipython3",
   "version": "3.12.7"
  }
 },
 "nbformat": 4,
 "nbformat_minor": 5
}
