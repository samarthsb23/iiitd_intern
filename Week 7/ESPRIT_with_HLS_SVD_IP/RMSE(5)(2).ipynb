{
 "cells": [
  {
   "cell_type": "code",
   "execution_count": 1,
   "metadata": {},
   "outputs": [],
   "source": [
    "import numpy as np\n",
    "import matplotlib.pyplot as plt"
   ]
  },
  {
   "cell_type": "code",
   "execution_count": 2,
   "metadata": {},
   "outputs": [
    {
     "name": "stdout",
     "output_type": "stream",
     "text": [
      "(array([  1,   5,   6,  10,  11,  12,  13,  14,  16,  17,  18,  19,  20,\n",
      "        22,  23,  24,  25,  26,  27,  28,  30,  31,  33,  35,  36,  37,\n",
      "        38,  39,  42,  44,  46,  48,  51,  55,  56,  58,  59,  61,  62,\n",
      "        65,  66,  67,  68,  69,  70,  72,  73,  74,  78,  80,  81,  83,\n",
      "        85,  87,  88,  90,  91,  93,  94,  95,  97,  99, 100, 103, 104,\n",
      "       105, 106, 108, 109, 112, 113, 114, 115, 116, 117, 119, 120, 122,\n",
      "       124, 125, 127, 128, 129, 131, 132, 133, 134, 135, 137, 138, 139,\n",
      "       141, 142, 145, 146, 149, 151, 152, 153, 154, 155, 156, 158, 159,\n",
      "       160, 163, 164, 165, 166, 167, 168, 169, 170, 171, 172, 175, 176,\n",
      "       177, 178, 180, 182, 183, 185, 187, 191, 192, 193, 194, 195, 196,\n",
      "       197]),)\n",
      "(array([  1,   5,   6,  10,  11,  12,  13,  14,  16,  17,  18,  19,  20,\n",
      "        23,  24,  25,  26,  27,  28,  30,  31,  33,  36,  37,  38,  39,\n",
      "        42,  46,  48,  51,  55,  56,  58,  59,  61,  62,  66,  67,  68,\n",
      "        69,  70,  72,  73,  74,  78,  80,  81,  83,  85,  87,  88,  90,\n",
      "        91,  93,  94,  95,  97,  99, 100, 103, 105, 106, 108, 109, 112,\n",
      "       113, 114, 115, 116, 117, 119, 120, 122, 124, 125, 127, 128, 129,\n",
      "       131, 132, 133, 134, 135, 137, 138, 139, 141, 142, 145, 146, 148,\n",
      "       149, 151, 152, 154, 155, 156, 158, 159, 160, 163, 164, 165, 166,\n",
      "       167, 168, 169, 170, 171, 172, 175, 176, 177, 178, 180, 182, 183,\n",
      "       185, 187, 191, 192, 193, 194, 195, 196, 197]),)\n",
      "(array([  1,   5,   6,  10,  11,  12,  13,  14,  15,  16,  17,  18,  19,\n",
      "        20,  23,  24,  25,  26,  27,  28,  30,  31,  33,  36,  37,  38,\n",
      "        39,  42,  46,  48,  51,  55,  56,  58,  59,  61,  62,  63,  65,\n",
      "        66,  67,  68,  69,  70,  71,  72,  73,  74,  78,  79,  80,  81,\n",
      "        83,  85,  86,  87,  88,  90,  91,  93,  94,  95,  97,  99, 100,\n",
      "       103, 104, 105, 106, 108, 109, 112, 113, 114, 115, 116, 117, 119,\n",
      "       120, 122, 123, 124, 125, 127, 128, 129, 131, 132, 133, 134, 135,\n",
      "       137, 138, 139, 141, 142, 145, 146, 149, 151, 152, 154, 155, 156,\n",
      "       158, 159, 160, 163, 164, 165, 166, 167, 168, 169, 170, 171, 172,\n",
      "       175, 176, 177, 178, 180, 182, 183, 185, 187, 191, 192, 193, 194,\n",
      "       195, 196, 197]),)\n",
      "(array([  1,   5,   6,  10,  12,  13,  14,  16,  17,  18,  19,  20,  23,\n",
      "        24,  25,  26,  27,  28,  30,  31,  33,  35,  36,  37,  38,  39,\n",
      "        42,  43,  46,  48,  51,  55,  56,  58,  59,  61,  62,  63,  65,\n",
      "        66,  67,  68,  69,  70,  71,  72,  73,  74,  77,  78,  79,  80,\n",
      "        81,  83,  85,  87,  88,  90,  91,  93,  94,  95,  97,  99, 100,\n",
      "       101, 103, 104, 105, 106, 108, 109, 112, 113, 114, 115, 116, 117,\n",
      "       120, 121, 122, 123, 125, 127, 128, 129, 130, 132, 133, 134, 135,\n",
      "       137, 138, 139, 142, 145, 146, 148, 149, 150, 151, 152, 154, 155,\n",
      "       156, 158, 159, 160, 163, 164, 165, 166, 167, 168, 169, 170, 171,\n",
      "       172, 175, 176, 177, 178, 180, 182, 183, 185, 187, 188, 191, 192,\n",
      "       193, 194, 195, 196, 197]),)\n",
      "(array([  4,   5,   6,  12,  13,  14,  16,  17,  18,  19,  20,  21,  23,\n",
      "        24,  25,  26,  27,  28,  30,  31,  35,  36,  37,  38,  39,  40,\n",
      "        42,  43,  46,  48,  49,  50,  51,  54,  55,  56,  58,  59,  60,\n",
      "        61,  62,  66,  67,  68,  69,  70,  71,  72,  73,  74,  77,  78,\n",
      "        79,  80,  81,  85,  87,  88,  90,  91,  92,  93,  94,  95,  97,\n",
      "        99, 100, 103, 105, 106, 108, 109, 110, 112, 113, 114, 115, 116,\n",
      "       117, 120, 121, 122, 125, 126, 127, 128, 129, 130, 132, 133, 134,\n",
      "       138, 142, 144, 145, 146, 147, 149, 152, 154, 155, 156, 158, 159,\n",
      "       160, 163, 164, 165, 167, 168, 169, 170, 171, 172, 175, 176, 177,\n",
      "       178, 179, 180, 182, 183, 184, 185, 187, 188, 189, 191, 192, 193,\n",
      "       195, 197]),)\n",
      "(array([  2,   3,   4,   5,   6,   8,  13,  14,  16,  17,  18,  19,  20,\n",
      "        23,  24,  25,  26,  27,  30,  31,  33,  35,  36,  37,  39,  40,\n",
      "        41,  42,  46,  48,  49,  50,  51,  52,  54,  55,  56,  58,  59,\n",
      "        61,  62,  66,  67,  68,  69,  70,  71,  72,  73,  74,  75,  76,\n",
      "        78,  81,  84,  85,  88,  89,  90,  91,  93,  94,  95,  97,  99,\n",
      "       102, 103, 105, 106, 107, 108, 110, 112, 113, 115, 116, 117, 118,\n",
      "       120, 122, 125, 126, 127, 128, 132, 133, 136, 138, 142, 144, 145,\n",
      "       147, 149, 150, 152, 154, 155, 156, 157, 158, 159, 160, 162, 163,\n",
      "       164, 165, 166, 167, 168, 169, 170, 171, 172, 175, 176, 182, 183,\n",
      "       185, 186, 187, 188, 189, 190, 192, 193, 195, 197, 198]),)\n",
      "(array([  2,   3,   5,   6,   8,  14,  16,  17,  18,  19,  20,  24,  25,\n",
      "        26,  27,  30,  31,  36,  37,  42,  48,  49,  51,  52,  55,  56,\n",
      "        58,  59,  61,  62,  64,  66,  68,  69,  70,  73,  76,  89,  91,\n",
      "        93,  95,  96,  97,  99, 105, 108, 110, 115, 116, 117, 118, 120,\n",
      "       122, 125, 127, 128, 134, 140, 142, 152, 154, 156, 158, 159, 162,\n",
      "       163, 164, 165, 167, 168, 169, 170, 171, 173, 175, 176, 189, 193,\n",
      "       197, 198]),)\n",
      "(array([ 14,  16,  18,  25,  42,  51,  55,  64,  66,  68,  73,  75,  91,\n",
      "        93,  95,  96, 112, 115, 116, 136, 138, 154, 158, 164, 167, 169,\n",
      "       170, 171, 175, 176, 181, 190, 197, 198]),)\n",
      "(array([], dtype=int64),)\n",
      "(array([], dtype=int64),)\n",
      "(array([], dtype=int64),)\n",
      "(array([], dtype=int64),)\n"
     ]
    }
   ],
   "source": [
    "ex1 = []\n",
    "ex2 = []\n",
    "snr_axis = [-15, -10, -5, 0, 5,10,15,20,25,30,35,40]\n",
    "#snr_axis = [-15]\n",
    "for snr in snr_axis:\n",
    "    #matrix = np.loadtxt(\"./DPFL/Results_FX/P200_Vd2_snr_\"+str(snr)+\".dat\")\n",
    "    matrix = np.loadtxt(\"./Results/P200_Vd2_snr_\"+str(snr)+\".dat\")\n",
    "    #matrix = np.loadtxt(\"./Results_DPFL/P200_Vd2_snr_\"+str(snr)+\".dat\")\n",
    "    matrix = np.transpose(matrix)\n",
    "    ind1 = np.where(matrix[2] == 30)\n",
    "    diff1 = matrix[0] - matrix[2]\n",
    "    diff2 = matrix[1] - matrix[3]\n",
    "    diff1[ind1] = 0\n",
    "    diff2[ind1] = 0\n",
    "    e1 = np.sum((diff1) ** 2)\n",
    "    e2 = np.sum((diff2) ** 2)\n",
    "    \n",
    "    rmse1 = np.sqrt(e1/len(matrix[0]))\n",
    "    rmse2 = np.sqrt(e2/len(matrix[0]))\n",
    "    print(np.where(np.abs(diff1)>1))\n",
    "    ex1.append(float(rmse1))\n",
    "    ex2.append(float(rmse2))\n"
   ]
  },
  {
   "cell_type": "code",
   "execution_count": 3,
   "metadata": {},
   "outputs": [
    {
     "name": "stdout",
     "output_type": "stream",
     "text": [
      "(array([  1,   3,   4,   5,   6,  10,  12,  13,  14,  16,  17,  18,  19,\n",
      "        20,  21,  23,  24,  25,  26,  27,  28,  30,  31,  33,  35,  36,\n",
      "        37,  38,  39,  42,  46,  48,  49,  51,  54,  55,  56,  58,  59,\n",
      "        61,  62,  63,  65,  66,  67,  68,  69,  70,  71,  72,  73,  74,\n",
      "        77,  78,  79,  80,  81,  83,  85,  86,  87,  88,  90,  91,  93,\n",
      "        94,  95,  97,  99, 101, 103, 104, 105, 106, 108, 109, 110, 112,\n",
      "       113, 114, 115, 116, 117, 119, 120, 122, 123, 124, 125, 127, 128,\n",
      "       129, 132, 133, 134, 135, 136, 138, 139, 142, 145, 146, 147, 148,\n",
      "       149, 150, 151, 152, 154, 155, 156, 158, 159, 160, 162, 163, 164,\n",
      "       165, 166, 167, 168, 169, 170, 171, 172, 175, 176, 177, 178, 180,\n",
      "       182, 183, 184, 185, 187, 188, 191, 192, 193, 195, 196, 197, 198]),)\n",
      "(array([  1,   3,   4,   5,   6,   8,  12,  13,  14,  16,  17,  18,  19,\n",
      "        20,  21,  23,  24,  25,  26,  30,  31,  35,  36,  37,  39,  42,\n",
      "        43,  46,  48,  49,  51,  54,  55,  56,  58,  59,  61,  62,  63,\n",
      "        66,  67,  68,  69,  70,  71,  72,  73,  76,  78,  80,  81,  83,\n",
      "        85,  87,  88,  90,  91,  93,  94,  95,  96,  97,  99, 100, 102,\n",
      "       103, 104, 105, 106, 108, 112, 113, 114, 115, 116, 117, 120, 122,\n",
      "       123, 125, 127, 128, 129, 132, 133, 134, 135, 137, 138, 142, 145,\n",
      "       147, 148, 149, 150, 152, 154, 155, 156, 158, 159, 160, 162, 163,\n",
      "       164, 165, 166, 167, 168, 169, 170, 171, 172, 175, 176, 178, 180,\n",
      "       182, 183, 184, 185, 187, 188, 191, 192, 193, 194, 195, 196, 197,\n",
      "       198]),)\n",
      "(array([  4,   5,   6,   8,  12,  14,  16,  17,  18,  19,  20,  21,  23,\n",
      "        25,  26,  27,  30,  31,  33,  35,  36,  37,  39,  41,  42,  46,\n",
      "        48,  49,  51,  52,  54,  55,  56,  58,  59,  61,  62,  66,  67,\n",
      "        68,  69,  70,  71,  72,  73,  74,  77,  78,  81,  85,  88,  90,\n",
      "        93,  95,  97,  99, 100, 101, 103, 105, 106, 108, 109, 112, 113,\n",
      "       115, 116, 117, 118, 120, 121, 122, 125, 127, 132, 133, 134, 138,\n",
      "       142, 145, 147, 149, 150, 152, 154, 156, 158, 159, 162, 163, 164,\n",
      "       165, 166, 167, 169, 170, 171, 175, 176, 177, 182, 183, 185, 187,\n",
      "       191, 192, 193, 195, 197, 198]),)\n",
      "(array([  3,   5,   6,  14,  16,  17,  18,  19,  20,  24,  25,  26,  27,\n",
      "        30,  31,  35,  36,  37,  39,  42,  46,  48,  49,  54,  56,  58,\n",
      "        59,  61,  64,  66,  67,  68,  69,  70,  73,  90,  93,  94,  95,\n",
      "        97,  99, 105, 108, 113, 115, 116, 120, 122, 125, 126, 127, 128,\n",
      "       132, 134, 138, 142, 145, 149, 152, 154, 155, 156, 158, 160, 163,\n",
      "       164, 165, 166, 167, 168, 169, 170, 171, 172, 175, 176, 182, 185,\n",
      "       187, 189, 191, 192, 195, 197, 198]),)\n",
      "(array([  5,  14,  16,  19,  20,  25,  30,  36,  51,  56,  61,  62,  66,\n",
      "        75,  85,  91,  93,  95,  96, 105, 108, 110, 112, 116, 120, 125,\n",
      "       132, 138, 142, 149, 152, 154, 162, 164, 165, 166, 167, 169, 171,\n",
      "       175, 176, 193, 197, 198]),)\n",
      "(array([ 16,  55,  93, 116, 175]),)\n",
      "(array([], dtype=int64),)\n",
      "(array([], dtype=int64),)\n",
      "(array([], dtype=int64),)\n",
      "(array([], dtype=int64),)\n",
      "(array([], dtype=int64),)\n",
      "(array([], dtype=int64),)\n",
      "[4.494677257592323, 5.147271774879239, 7.661464244520919, 2.280467295281915, 0.768478345483403, 0.3915317179891504, 0.12742635337197328, 0.07379208935033574, 0.06889185023218888, 0.06888987757883071, 0.0691165116917088, 0.06960151149623324]\n",
      "[2.406126864370256, 2.5441918105435057, 3.4289610865591222, 3.0419401355950324, 0.8747811472190453, 0.4327736845967273, 0.15748510311419653, 0.09267587123009335, 0.07984247814026656, 0.07713422396774051, 0.07649232216003805, 0.07554260213439751]\n"
     ]
    }
   ],
   "source": [
    "ex3 = []\n",
    "ex4 = []\n",
    "snr_axis = [-15, -10, -5, 0, 5,10,15,20,25,30,35,40]\n",
    "#snr_axis = [0]\n",
    "for snr in snr_axis:\n",
    "    #matrix = np.loadtxt(\"./Results_DPFL/P200_Vd2_snr_\"+str(snr)+\".dat\")\n",
    "    matrix = np.loadtxt(\"./Results/P200_Vd2_snr_\"+str(snr)+\".dat\")\n",
    "    matrix = np.transpose(matrix)\n",
    "    ind1 = np.where(matrix[4] == 30)\n",
    "    diff4 = matrix[0] - matrix[4]\n",
    "    diff5 = matrix[1] - matrix[5]\n",
    "    diff4[ind1] = 0\n",
    "    diff5[ind1] = 0\n",
    "    e1 = np.sum((diff4) ** 2)\n",
    "    e2 = np.sum((diff5) ** 2)\n",
    "    print(np.where(np.abs(diff4)>1))\n",
    "    rmse4 = np.sqrt(e1/len(matrix[0]))\n",
    "    rmse5 = np.sqrt(e2/len(matrix[0]))\n",
    "    \n",
    "    ex3.append(float(rmse4))\n",
    "    ex4.append(float(rmse5))\n",
    "    #ex6.append(float(rmse6))\n",
    "print(ex3)\n",
    "print(ex4)\n",
    "\n"
   ]
  },
  {
   "cell_type": "code",
   "execution_count": 4,
   "metadata": {},
   "outputs": [
    {
     "data": {
      "image/png": "[encoded data removed]",
      "text/plain": [
       "<Figure size 432x288 with 1 Axes>"
      ]
     },
     "metadata": {
      "needs_background": "light"
     },
     "output_type": "display_data"
    }
   ],
   "source": [
    "plt.title(\"N= 200 Prec.= 0.3 m/s Vdiff= 12 m/s PRI= 2 us  ESPRIT_SPFL \")\n",
    "\n",
    "plt.plot(snr_axis, ex1,label = \"Target 1 (PS)\",color = \"blue\", linestyle = \"-\")\n",
    "plt.plot(snr_axis, ex2,label = \"Target 2 (PS)\",color = \"green\", linestyle = \"-\")\n",
    "#plt.plot(snr_axis, ex3,label = \"Target 3 (PS)\",color = \"blue\")\n",
    "plt.plot(snr_axis, ex3,label = \"Target 1 (PL)\",color = \"orange\", linestyle = \"--\")\n",
    "plt.plot(snr_axis, ex4,label = \"Target 2 (PL)\",color = \"navy\", linestyle = \"--\")\n",
    "#plt.plot(snr_axis, ex6,label = \"Target 3 (PL)\",color = \"yellow\")\n",
    "plt.xlabel(\"SNR\")\n",
    "plt.ylabel(\"RMSE\")\n",
    "\n",
    "plt.grid()\n",
    "plt.tight_layout()\n",
    "plt.legend()\n",
    "plt.show()"
   ]
  },
  {
   "cell_type": "code",
   "execution_count": 6,
   "metadata": {},
   "outputs": [
    {
     "data": {
      "image/png": "[encoded data removed]",
      "text/plain": [
       "<Figure size 432x288 with 1 Axes>"
      ]
     },
     "metadata": {
      "needs_background": "light"
     },
     "output_type": "display_data"
    }
   ],
   "source": [
    "plt.title(\"N= 200 Prec.= 0.3 m/s Vdiff= 4 m/s PRI= 2 us  ESPRIT_SPFL \")\n",
    "\n",
    "plt.plot(snr_axis, ex1, label=\"Target 1 (PS)\", color=\"blue\", linestyle=\"-\", marker=\"o\")\n",
    "plt.plot(snr_axis, ex2, label=\"Target 2 (PS)\", color=\"green\", linestyle=\"-\", marker=\"s\")\n",
    "plt.plot(snr_axis, ex3, label=\"Target 1 (PL)\", color=\"red\", linestyle=\"--\", marker=\"^\")\n",
    "plt.plot(snr_axis, ex4, label=\"Target 2 (PL)\", color=\"purple\", linestyle=\"--\", marker=\"d\")\n",
    "plt.xlabel(\"SNR\")\n",
    "plt.ylabel(\"RMSE\")\n",
    "\n",
    "plt.grid()\n",
    "plt.tight_layout()\n",
    "plt.legend()\n",
    "plt.show()"
   ]
  },
  {
   "cell_type": "code",
   "execution_count": 7,
   "metadata": {},
   "outputs": [
    {
     "data": {
      "text/plain": [
       "(array([], dtype=int64),)"
      ]
     },
     "execution_count": 7,
     "metadata": {},
     "output_type": "execute_result"
    }
   ],
   "source": [
    "np.where(np.abs(diff2)>1)"
   ]
  },
  {
   "cell_type": "code",
   "execution_count": 8,
   "metadata": {},
   "outputs": [
    {
     "data": {
      "text/plain": [
       "(array([], dtype=int64),)"
      ]
     },
     "execution_count": 8,
     "metadata": {},
     "output_type": "execute_result"
    }
   ],
   "source": [
    "np.where(np.abs(diff4)>1)"
   ]
  },
  {
   "cell_type": "code",
   "execution_count": 9,
   "metadata": {},
   "outputs": [
    {
     "data": {
      "text/plain": [
       "array([], dtype=float64)"
      ]
     },
     "execution_count": 9,
     "metadata": {},
     "output_type": "execute_result"
    }
   ],
   "source": [
    "diff4[np.abs(diff4)>0.5]"
   ]
  },
  {
   "cell_type": "code",
   "execution_count": 10,
   "metadata": {},
   "outputs": [
    {
     "data": {
      "text/plain": [
       "array([-0.3681736 , -0.04624128, -0.04369068, -0.01681471,  0.08802986,\n",
       "       -0.04550457,  0.01802826, -0.0523212 ,  0.03869629,  0.13830757,\n",
       "       -0.07581234,  0.14499092, -0.00341618, -0.04479504,  0.15285683,\n",
       "        0.06019592,  0.08303261,  0.01996768, -0.02432966,  0.08623123,\n",
       "       -0.03032875, -0.06902218, -0.02463162,  0.07837486, -0.02615499,\n",
       "       -0.0814724 , -0.0369072 ,  0.07203484,  0.01158905,  0.03931808,\n",
       "       -0.06128927, -0.09761143, -0.05137634, -0.0409286 , -0.09730744,\n",
       "       -0.04349613,  0.06220627,  0.13031197,  0.06611443,  0.14360237,\n",
       "       -0.04110366,  0.13975716,  0.06063652, -0.10338402,  0.05451393,\n",
       "       -0.07064724,  0.04395103, -0.03390694,  0.09300804,  0.04687119,\n",
       "       -0.0139823 , -0.03265429,  0.08683014,  0.02136421, -0.02849388,\n",
       "        0.05876255, -0.06700039, -0.04630661,  0.08306503, -0.06877697,\n",
       "       -0.14871192, -0.04773903,  0.06741142,  0.07111359, -0.02472782,\n",
       "        0.08572578,  0.10578918,  0.08520889,  0.12192917, -0.06854808,\n",
       "       -0.02781963,  0.14265442,  0.00085878,  0.12092781,  0.05257511,\n",
       "       -0.07724571,  0.0118618 , -0.0628109 ,  0.00897884,  0.0435791 ,\n",
       "       -0.02517796,  0.14568901, -0.1120863 , -0.02848196,  0.08411026,\n",
       "       -0.00513029, -0.01494765,  0.08618736,  0.04444885, -0.03714168,\n",
       "        0.08137894,  0.00935602,  0.00139159,  0.09475708, -0.06857109,\n",
       "       -0.03778076, -0.02230132,  0.01414442, -0.11570168,  0.02340698,\n",
       "       -0.06833935,  0.03290367,  0.084095  , -0.06335187, -0.00490713,\n",
       "        0.01522052, -0.03253031, -0.06308079,  0.07209301, -0.12970543,\n",
       "        0.0124445 , -0.00324774,  0.14474678,  0.09294319,  0.10544968,\n",
       "        0.13516426,  0.00408477,  0.04333878,  0.02875423, -0.04012311,\n",
       "       -0.03322029, -0.08038712,  0.01586723, -0.0158596 , -0.07120442,\n",
       "       -0.00353003, -0.09548187,  0.11353302,  0.07724762,  0.00518036,\n",
       "       -0.01852942,  0.08030701,  0.12100601,  0.0826664 , -0.00460649,\n",
       "       -0.02489614, -0.15970898, -0.00048637,  0.00581598,  0.05808258,\n",
       "       -0.02319956,  0.09318924,  0.04699898, -0.12605   , -0.05165195,\n",
       "       -0.03969204,  0.00238323,  0.04850388, -0.12071514, -0.09262466,\n",
       "       -0.06872177,  0.0257988 , -0.04482615, -0.09988976,  0.03122282,\n",
       "       -0.02009386, -0.02708244, -0.08666849, -0.08732224,  0.05685616,\n",
       "       -0.00435066,  0.11916542,  0.01602554,  0.04508018,  0.0120744 ,\n",
       "       -0.04427683, -0.00476313, -0.03715438, -0.07293224,  0.02691078,\n",
       "        0.12800026,  0.02154636,  0.10165596, -0.0708847 , -0.06746578,\n",
       "       -0.01428205, -0.00675488, -0.02664709, -0.09379673, -0.08940029,\n",
       "       -0.00968862, -0.12630653, -0.01670551, -0.02849865, -0.12883568,\n",
       "        0.10494041,  0.03193855, -0.04398775,  0.05303764, -0.01413175,\n",
       "       -0.13232422, -0.09757996,  0.08051872,  0.01992249, -0.0871954 ,\n",
       "        0.10618782,  0.13316727,  0.08195496,  0.12414932, -0.13682914])"
      ]
     },
     "execution_count": 10,
     "metadata": {},
     "output_type": "execute_result"
    }
   ],
   "source": [
    "diff2"
   ]
  },
  {
   "cell_type": "code",
   "execution_count": 11,
   "metadata": {},
   "outputs": [
    {
     "data": {
      "text/plain": [
       "array([-0.10631943, -0.05006409, -0.03157902, -0.048316  ,  0.09424973,\n",
       "       -0.086483  ,  0.02564335, -0.00702357,  0.01737428,  0.12124634,\n",
       "       -0.08777428,  0.13285637, -0.01341295, -0.07633877,  0.10666084,\n",
       "        0.09289169,  0.08393669, -0.02680922, -0.04273129,  0.07272816,\n",
       "       -0.047925  , -0.07904339, -0.01089764,  0.0682621 ,  0.01383448,\n",
       "       -0.09699821, -0.08211803,  0.12475967,  0.01523352,  0.03683853,\n",
       "       -0.0185256 , -0.08314133, -0.05019569, -0.02263308, -0.03039169,\n",
       "       -0.04806709,  0.04822159,  0.1292572 ,  0.07257462,  0.12685585,\n",
       "       -0.01512694,  0.13182068,  0.07503319, -0.0612278 ,  0.05803967,\n",
       "       -0.09639549,  0.06876278, -0.0565424 ,  0.06013107,  0.08643341,\n",
       "        0.02202415, -0.03617716,  0.09399796,  0.13438225,  0.007725  ,\n",
       "        0.04763222, -0.06579781,  0.04816055,  0.11322212, -0.01392889,\n",
       "       -0.00750351, -0.0703125 ,  0.09647751,  0.08748436, -0.04746056,\n",
       "        0.12092972,  0.11086273,  0.06035423,  0.12154388, -0.00973177,\n",
       "       -0.05199623,  0.13318634, -0.04867268,  0.09839439,  0.04874992,\n",
       "       -0.06435204,  0.04480362, -0.06914234,  0.03856277,  0.05933666,\n",
       "       -0.06370926,  0.13394737, -0.08337784, -0.0428009 ,  0.06137276,\n",
       "       -0.05731297, -0.03347635,  0.08416367,  0.06915474, -0.01866245,\n",
       "        0.06823635, -0.03294134, -0.02681971,  0.06154633, -0.08485794,\n",
       "       -0.06949139, -0.01316667,  0.00533915, -0.10625076,  0.01536465,\n",
       "       -0.07116032,  0.09519577,  0.12422752,  0.00163298, -0.03718948,\n",
       "       -0.02789879, -0.01080537, -0.08783722,  0.05948067, -0.10881615,\n",
       "        0.01973772, -0.00100658,  0.08283234,  0.08118916,  0.10050583,\n",
       "        0.12179947, -0.02345276,  0.06362724,  0.05699253, -0.00965285,\n",
       "       -0.0356288 , -0.09379196,  0.03617334,  0.03275204,  0.00551481,\n",
       "        0.0030055 , -0.09163284,  0.11218643,  0.07363415,  0.00487888,\n",
       "        0.01676083,  0.10229111,  0.11125565,  0.0543766 , -0.01594734,\n",
       "       -0.02575636, -0.07215118,  0.0195694 , -0.01269269,  0.10658455,\n",
       "       -0.05344582,  0.08934784,  0.03601551, -0.10011292, -0.06534576,\n",
       "       -0.02443552,  0.00739646,  0.07035542, -0.09190559, -0.08512306,\n",
       "       -0.09720039,  0.02324533, -0.01680374, -0.07756901,  0.00860763,\n",
       "       -0.0155468 ,  0.0303669 ,  0.0017818 , -0.06087303,  0.10723877,\n",
       "        0.00958967,  0.11121559,  0.02608061,  0.0668745 , -0.02154303,\n",
       "       -0.01044202, -0.01185036, -0.01442313, -0.07402134,  0.0422411 ,\n",
       "        0.10358429,  0.03178978,  0.08912277,  0.05197716, -0.05884075,\n",
       "       -0.01939201, -0.01602101, -0.03776407, -0.09044075, -0.06342697,\n",
       "       -0.02580166, -0.07598114, -0.00844693,  0.06245995, -0.08801842,\n",
       "        0.10744667,  0.07135963,  0.00304543,  0.05548096, -0.02140856,\n",
       "       -0.06252098, -0.0992775 ,  0.04782104, -0.0197866 , -0.08675385,\n",
       "        0.09753418,  0.11956596,  0.07383251,  0.12288666,  0.00298432])"
      ]
     },
     "execution_count": 11,
     "metadata": {},
     "output_type": "execute_result"
    }
   ],
   "source": [
    "diff4"
   ]
  },
  {
   "cell_type": "code",
   "execution_count": 12,
   "metadata": {},
   "outputs": [
    {
     "data": {
      "text/plain": [
       "[2.7147620638905097,\n",
       " 3.0132095452464562,\n",
       " 4.894847893436726,\n",
       " 4.396819436572259,\n",
       " 5.2354921908226775,\n",
       " 6.98018046930404,\n",
       " 6.402820411844226,\n",
       " 3.439718971380061,\n",
       " 0.11750445191998819,\n",
       " 0.08102477129737659,\n",
       " 0.07656575497835447,\n",
       " 0.08444431621615267]"
      ]
     },
     "execution_count": 12,
     "metadata": {},
     "output_type": "execute_result"
    }
   ],
   "source": [
    "ex1"
   ]
  },
  {
   "cell_type": "code",
   "execution_count": 13,
   "metadata": {},
   "outputs": [
    {
     "data": {
      "text/plain": [
       "array([-1.77991519, -2.13406223, -2.76661635,  2.11635214,  4.46701385,\n",
       "        6.58864875,  6.27539406,  3.36592688,  0.0486126 ,  0.01213489,\n",
       "        0.00744924,  0.0148428 ])"
      ]
     },
     "execution_count": 13,
     "metadata": {},
     "output_type": "execute_result"
    }
   ],
   "source": [
    "np.array(ex1) - np.array(ex3)"
   ]
  },
  {
   "cell_type": "code",
   "execution_count": 14,
   "metadata": {},
   "outputs": [
    {
     "data": {
      "text/plain": [
       "array([ 6.26400638e-02, -7.99070303e-02, -8.54287187e-01,  1.80958112e+00,\n",
       "        4.06408712e+00,  3.43643856e+00,  4.08228724e+00,  1.16725223e+00,\n",
       "        4.37288999e-02,  1.86098437e-02,  1.07660481e-02,  1.95103442e-03])"
      ]
     },
     "execution_count": 14,
     "metadata": {},
     "output_type": "execute_result"
    }
   ],
   "source": [
    "np.array(ex2) - np.array(ex4)"
   ]
  },
  {
   "cell_type": "code",
   "execution_count": 15,
   "metadata": {},
   "outputs": [
    {
     "data": {
      "text/plain": [
       "[2.7147620638905097,\n",
       " 3.0132095452464562,\n",
       " 4.894847893436726,\n",
       " 4.396819436572259,\n",
       " 5.2354921908226775,\n",
       " 6.98018046930404,\n",
       " 6.402820411844226,\n",
       " 3.439718971380061,\n",
       " 0.11750445191998819,\n",
       " 0.08102477129737659,\n",
       " 0.07656575497835447,\n",
       " 0.08444431621615267]"
      ]
     },
     "execution_count": 15,
     "metadata": {},
     "output_type": "execute_result"
    }
   ],
   "source": [
    "ex1"
   ]
  },
  {
   "cell_type": "code",
   "execution_count": 16,
   "metadata": {},
   "outputs": [
    {
     "data": {
      "text/plain": [
       "[4.494677257592323,\n",
       " 5.147271774879239,\n",
       " 7.661464244520919,\n",
       " 2.280467295281915,\n",
       " 0.768478345483403,\n",
       " 0.3915317179891504,\n",
       " 0.12742635337197328,\n",
       " 0.07379208935033574,\n",
       " 0.06889185023218888,\n",
       " 0.06888987757883071,\n",
       " 0.0691165116917088,\n",
       " 0.06960151149623324]"
      ]
     },
     "execution_count": 16,
     "metadata": {},
     "output_type": "execute_result"
    }
   ],
   "source": [
    "ex3"
   ]
  },
  {
   "cell_type": "code",
   "execution_count": null,
   "metadata": {},
   "outputs": [],
   "source": []
  },
  {
   "cell_type": "code",
   "execution_count": null,
   "metadata": {},
   "outputs": [],
   "source": []
  }
 ],
 "metadata": {
  "kernelspec": {
   "display_name": "Python 3",
   "language": "python",
   "name": "python3"
  },
  "language_info": {
   "codemirror_mode": {
    "name": "ipython",
    "version": 3
   },
   "file_extension": ".py",
   "mimetype": "text/x-python",
   "name": "python",
   "nbconvert_exporter": "python",
   "pygments_lexer": "ipython3",
   "version": "3.8.2"
  },
  "vscode": {
   "interpreter": {
    "hash": "0e5142556829b94a7c63b02feb8fd00d087c3ae6e67d27cca8dfc86e0da3a36f"
   }
  }
 },
 "nbformat": 4,
 "nbformat_minor": 4
}
