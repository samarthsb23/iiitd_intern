{
 "cells": [
  {
   "cell_type": "code",
   "execution_count": 1,
   "id": "16c2152e",
   "metadata": {},
   "outputs": [
    {
     "data": {
      "application/javascript": [
       "\n",
       "try {\n",
       "require(['notebook/js/codecell'], function(codecell) {\n",
       "  codecell.CodeCell.options_default.highlight_modes[\n",
       "      'magic_text/x-csrc'] = {'reg':[/^%%microblaze/]};\n",
       "  Jupyter.notebook.events.one('kernel_ready.Kernel', function(){\n",
       "      Jupyter.notebook.get_cells().map(function(cell){\n",
       "          if (cell.cell_type == 'code'){ cell.auto_highlight(); } }) ;\n",
       "  });\n",
       "});\n",
       "} catch (e) {};\n"
      ]
     },
     "metadata": {},
     "output_type": "display_data"
    },
    {
     "data": {
      "application/javascript": [
       "\n",
       "try {\n",
       "require(['notebook/js/codecell'], function(codecell) {\n",
       "  codecell.CodeCell.options_default.highlight_modes[\n",
       "      'magic_text/x-csrc'] = {'reg':[/^%%pybind11/]};\n",
       "  Jupyter.notebook.events.one('kernel_ready.Kernel', function(){\n",
       "      Jupyter.notebook.get_cells().map(function(cell){\n",
       "          if (cell.cell_type == 'code'){ cell.auto_highlight(); } }) ;\n",
       "  });\n",
       "});\n",
       "} catch (e) {};\n"
      ]
     },
     "metadata": {},
     "output_type": "display_data"
    }
   ],
   "source": [
    "import numpy as np\n",
    "from pynq import Overlay\n",
    "import time"
   ]
  },
  {
   "cell_type": "code",
   "execution_count": 2,
   "id": "3d1fbbf2",
   "metadata": {},
   "outputs": [],
   "source": [
    "ol = Overlay('svd.bit')"
   ]
  },
  {
   "cell_type": "code",
   "execution_count": 3,
   "id": "5397357c",
   "metadata": {},
   "outputs": [],
   "source": [
    "ol?"
   ]
  },
  {
   "cell_type": "code",
   "execution_count": 4,
   "id": "0293ff44",
   "metadata": {},
   "outputs": [],
   "source": [
    "dma_main = ol.axi_dma_0\n",
    "dma2 = ol.axi_dma_1\n",
    "dma3 = ol.axi_dma_2"
   ]
  },
  {
   "cell_type": "code",
   "execution_count": 36,
   "id": "b5831875",
   "metadata": {},
   "outputs": [],
   "source": [
    "def rmse(A, B):\n",
    "    return np.sqrt(np.mean((A - B) ** 2))"
   ]
  },
  {
   "cell_type": "code",
   "execution_count": 5,
   "id": "74f31af3",
   "metadata": {},
   "outputs": [],
   "source": [
    "dma_main?"
   ]
  },
  {
   "cell_type": "code",
   "execution_count": 6,
   "id": "3fc14ff6",
   "metadata": {},
   "outputs": [],
   "source": [
    "A_channel = dma_main.sendchannel\n",
    "S_channel = dma_main.recvchannel\n",
    "U_channel = dma2.recvchannel\n",
    "V_channel = dma3.recvchannel"
   ]
  },
  {
   "cell_type": "code",
   "execution_count": 7,
   "id": "691e203c",
   "metadata": {},
   "outputs": [],
   "source": [
    "import random"
   ]
  },
  {
   "cell_type": "code",
   "execution_count": 8,
   "id": "d5c8f403",
   "metadata": {},
   "outputs": [],
   "source": [
    "np.random.seed(1)\n",
    "data_A = np.random.uniform(low=1, high=2, size=(50, 50)).astype(np.float32)"
   ]
  },
  {
   "cell_type": "code",
   "execution_count": 9,
   "id": "9e117820",
   "metadata": {},
   "outputs": [
    {
     "data": {
      "text/plain": [
       "array([[1.417022 , 1.7203245, 1.0001143, ..., 1.2936141, 1.2877754,\n",
       "        1.1300286],\n",
       "       [1.019367 , 1.6788355, 1.2116281, ..., 1.5736794, 1.0028703,\n",
       "        1.617145 ],\n",
       "       [1.3266449, 1.5270581, 1.8859421, ..., 1.712989 , 1.5597169,\n",
       "        1.012556 ],\n",
       "       ...,\n",
       "       [1.1466087, 1.6124611, 1.2793204, ..., 1.0070467, 1.0595286,\n",
       "        1.4814005],\n",
       "       [1.9257041, 1.4055574, 1.0750326, ..., 1.1667219, 1.5208484,\n",
       "        1.7402936],\n",
       "       [1.4624745, 1.8696141, 1.660412 , ..., 1.5681397, 1.3434201,\n",
       "        1.3506172]], dtype=float32)"
      ]
     },
     "execution_count": 9,
     "metadata": {},
     "output_type": "execute_result"
    }
   ],
   "source": [
    "data_A"
   ]
  },
  {
   "cell_type": "code",
   "execution_count": 10,
   "id": "f84f0a66",
   "metadata": {},
   "outputs": [
    {
     "data": {
      "text/plain": [
       "(50, 50)"
      ]
     },
     "execution_count": 10,
     "metadata": {},
     "output_type": "execute_result"
    }
   ],
   "source": [
    "np.shape(data_A)"
   ]
  },
  {
   "cell_type": "code",
   "execution_count": 84,
   "id": "abb44782",
   "metadata": {},
   "outputs": [],
   "source": [
    "np.set_printoptions(suppress=True, precision=4)\n",
    "\n",
    "def set_lowVal_zero(X):\n",
    "    low_values_indices = abs(X) < 9e-15   # where values are low\n",
    "    X[low_values_indices] = 0             # all low values set to 0\n",
    "    return X\n",
    "\n",
    "def Householder(x, i):\n",
    "    alpha = -np.sign(x[i]) * np.linalg.norm(x)\n",
    "    e = np.zeros(len(x)); e[i] = 1.0\n",
    "    \n",
    "    v = (x - alpha * e)\n",
    "    w = v / np.linalg.norm(v)\n",
    "    P = np.eye(len(x)) - 2 * np.outer(w, w.T)\n",
    "    \n",
    "    return P\n",
    "\n",
    "def Golub_Kahan(X):\n",
    "    m, n = X.shape\n",
    "    J = X.copy()\n",
    "\n",
    "    U = np.identity(m)\n",
    "    V = np.identity(n)\n",
    "\n",
    "    for i in range(n - 2):  # n-2 steps\n",
    "        # --- Column reflector (left multiply)\n",
    "        h = np.zeros(m)\n",
    "        h[i:] = J[i:, i]\n",
    "        P = Householder(h, i)\n",
    "        J = set_lowVal_zero(P @ J)\n",
    "        U = U @ P\n",
    "\n",
    "        # --- Row reflector (right multiply)\n",
    "        h = np.zeros(n)\n",
    "        h[i+1:] = J[i, i+1:]\n",
    "        Q = Householder(h, i+1)\n",
    "        J = set_lowVal_zero(J @ Q)\n",
    "        V = V @ Q\n",
    "\n",
    "    return U, J, V\n",
    "\n",
    "\n",
    "def givensrotation_R(a, b):\n",
    "    if b == 0:\n",
    "        return 1.0, 0.0\n",
    "    r = np.hypot(a, b)\n",
    "    c = a / r\n",
    "    s = -b / r\n",
    "    return c, s\n",
    "\n",
    "def QR_givens(A):\n",
    "    m, n = A.shape\n",
    "    R = A.copy()\n",
    "    Q = np.identity(m,dtype=float)\n",
    "    for i in range(0, n - 1):\n",
    "        for j in range(i + 1, m):\n",
    "            cos, sin = givensrotation_R(R[i, i], R[j, i])\n",
    "            R[i], R[j] = (R[i]*cos) + (R[j]*(-sin)), (R[i]*sin) + (R[j] * cos)\n",
    "            Q[i], Q[j] = (Q[i]*cos) + (Q[j]*(-sin)), (Q[i]*sin) + (Q[j] * cos)\n",
    "    return np.transpose(np.conj(Q)), R\n",
    "\n",
    "def QR_iterate(A):\n",
    "    n = A.shape[0]\n",
    "    Q_total = np.eye(n)\n",
    "    A_k = A.copy()\n",
    "    for _ in range(100):\n",
    "        Q, R = QR_givens(A_k)\n",
    "        A_k = R @ Q\n",
    "        Q_total = Q_total @ Q\n",
    "    \n",
    "    \n",
    "        \n",
    "    return Q_total, A_k\n",
    "\n",
    "def eigenvalues(A):\n",
    "    \n",
    "    Q, R = QR_iterate(A)\n",
    "    eigenvals = np.diag(R)\n",
    "    eigenvecs = Q\n",
    "    return eigenvals, eigenvecs\n",
    "\n",
    "def fix_sign(v):\n",
    "    original_shape = v.shape\n",
    "    v_flat = v.flatten()\n",
    "    idx = np.argmax(np.abs(v_flat))\n",
    "    if v_flat[idx] < 0:\n",
    "        v_flat = -v_flat\n",
    "    return v_flat.reshape(original_shape)\n",
    "\n",
    "def compute_svd(A):\n",
    "    m, n = A.shape\n",
    "    AAt = A @ A.T\n",
    "    AtA = A.T @ A\n",
    "\n",
    "    vals1, vecs1 = eigenvalues(AAt)\n",
    "    vals2, vecs2 = eigenvalues(AtA)\n",
    "    #vecs1 = fix_sign(vecs1)\n",
    "    #vecs2 = fix_sign(vecs2)\n",
    "    \n",
    "    sigma = np.sqrt(np.clip(vals1, 0, None))\n",
    "    V = vecs2\n",
    "\n",
    "    U = vecs1\n",
    "\n",
    "    Sigma = np.zeros((m, n))\n",
    "    np.fill_diagonal(Sigma, sigma)\n",
    "    \n",
    "    print(vals1)\n",
    "    print(vals2)\n",
    "    \n",
    "    U[np.abs(U) < 1e-4] = 0\n",
    "    Sigma[np.abs(Sigma) < 1e-4] = 0\n",
    "    V[np.abs(V) < 1e-4] = 0\n",
    "    \n",
    "    for i in range(min(m,n)):\n",
    "        Av = A @ V[:, i]\n",
    "        sig_ui = sigma[i] * U[:, i]\n",
    "        \n",
    "        if np.dot(Av, sig_ui) < 0: \n",
    "            U[:, i] *= -1\n",
    "            #V[:, i] *= -1\n",
    "\n",
    "    return U, Sigma, V.T\n",
    "\n",
    "def pinv_from_svd(U, Sigma, Vt, tol=1e-10):\n",
    "    m, n = Sigma.shape\n",
    "    sigma_vals = np.diag(Sigma)[:min(m, n)]  \n",
    "\n",
    "    sigma_inv = np.array([1/s if s > tol else 0 for s in sigma_vals])\n",
    "    Sigma_inv = np.zeros((n, m))  \n",
    "    for i in range(len(sigma_inv)):\n",
    "        Sigma_inv[i, i] = sigma_inv[i]\n",
    "\n",
    "    # A⁺ = V @ Sigma⁺ @ U.T\n",
    "    return Vt.T @ Sigma_inv @ U.T"
   ]
  },
  {
   "cell_type": "code",
   "execution_count": 85,
   "id": "d18123c2",
   "metadata": {},
   "outputs": [],
   "source": [
    "def pinv(A):\n",
    "    u,j,v = Golub_Kahan(A)\n",
    "    print(np.allclose(A, u @ j @ v.T))\n",
    "    U, Sigma, V = compute_svd(j)\n",
    "    print(np.allclose(U@Sigma@V,j))\n",
    "    U_final = u @ U\n",
    "    V_final = v.conj().T @ V.conj().T\n",
    "    print(np.allclose(A, U_final @ Sigma @ V_final.T))\n",
    "    return pinv_from_svd(U_final, Sigma, V_final.T)"
   ]
  },
  {
   "cell_type": "code",
   "execution_count": 89,
   "id": "80ec6145",
   "metadata": {},
   "outputs": [],
   "source": [
    "def bidiagonalize_and_svd(A):\n",
    "    u,j,v = Golub_Kahan(A)\n",
    "    U, Sigma, V = compute_svd(j)\n",
    "    U_final = u @ U\n",
    "    V_final = v.conj().T @ V.conj().T\n",
    "    return U_final, Sigma, V_final"
   ]
  },
  {
   "cell_type": "code",
   "execution_count": 87,
   "id": "92c1cfd1",
   "metadata": {},
   "outputs": [],
   "source": [
    "def pinv(A):\n",
    "    u,j,v = Golub_Kahan(A)\n",
    "    print(np.allclose(A, u @ j @ v.T))\n",
    "    U, Sigma, V = compute_svd(j)\n",
    "    print(np.allclose(U@Sigma@V,j))\n",
    "    U_final = u @ U\n",
    "    V_final = v.conj().T @ V.conj().T\n",
    "    print(np.allclose(A, U_final @ Sigma @ V_final.T))\n",
    "    return pinv_from_svd(U_final, Sigma, V_final.T)"
   ]
  },
  {
   "cell_type": "code",
   "execution_count": 86,
   "id": "964c39aa",
   "metadata": {},
   "outputs": [
    {
     "name": "stdout",
     "output_type": "stream",
     "text": [
      "[5656.0152   14.603    13.6648   12.5412   11.5118   11.3287   10.7519\n",
      "    9.6317    9.146     8.3449    7.9251    7.1937    6.7256    6.4718\n",
      "    5.9689    5.7411    4.7031    4.5443    4.2428    4.0484    3.933\n",
      "    3.601     3.3937    3.1298    3.0056    3.0218    2.7998    2.2186\n",
      "    1.9852    1.7358    1.6396    1.3852    1.3008    1.0997    0.9889\n",
      "    0.878     0.6474    0.5618    0.4912    0.4504    0.4148    0.2852\n",
      "    0.1633    0.111     0.0965    0.0567    0.0463    0.0294    0.0042\n",
      "    0.0002]\n",
      "[5656.0116   14.6029   13.6648   12.5412   11.5117   11.3289   10.7518\n",
      "    9.6313    9.1464    8.3449    7.9251    7.1937    6.7256    6.4718\n",
      "    5.9688    5.7411    4.703     4.5444    4.2428    3.9352    4.0461\n",
      "    3.6009    3.3938    3.1324    3.0189    3.0059    2.7998    2.2187\n",
      "    1.9852    1.7358    1.6396    1.3852    1.3008    1.0997    0.9889\n",
      "    0.878     0.6474    0.5618    0.4912    0.4505    0.4148    0.2853\n",
      "    0.1632    0.111     0.0965    0.0568    0.0463    0.0294    0.0042\n",
      "    0.0002]\n"
     ]
    }
   ],
   "source": [
    "start = time.time()\n",
    "compute_svd(data_A)\n",
    "fin = time.time()\n",
    "pstime = fin-start\n"
   ]
  },
  {
   "cell_type": "code",
   "execution_count": 88,
   "id": "b693c6f5",
   "metadata": {},
   "outputs": [
    {
     "name": "stdout",
     "output_type": "stream",
     "text": [
      "41.07524490356445\n"
     ]
    }
   ],
   "source": [
    "print(pstime)"
   ]
  },
  {
   "cell_type": "code",
   "execution_count": 90,
   "id": "01430a0d",
   "metadata": {},
   "outputs": [
    {
     "name": "stdout",
     "output_type": "stream",
     "text": [
      "[5656.0121   14.6029   13.6648   12.5412   11.5279   10.9664   11.0982\n",
      "    9.6316    9.1461    8.3445    7.9254    7.1937    6.7094    6.4879\n",
      "    5.9557    5.7542    4.6894    4.558     4.2426    4.0034    3.9781\n",
      "    3.6009    3.3937    3.132     3.0246    2.9896    2.8109    2.2187\n",
      "    1.9852    1.6412    1.7342    1.3852    1.3008    1.0997    0.9889\n",
      "    0.878     0.6474    0.5618    0.4912    0.4503    0.415     0.2853\n",
      "    0.1633    0.111     0.0965    0.0567    0.0463    0.0294    0.0042\n",
      "    0.0002]\n",
      "[5656.0121   14.6029   13.6648   12.5412   11.5279   10.9597   11.1049\n",
      "    9.6316    9.1461    8.3445    7.9255    7.1937    6.7088    6.4885\n",
      "    5.9552    5.7546    4.6889    4.5584    4.2426    4.0026    3.9789\n",
      "    3.6009    3.3937    3.1319    3.0246    2.9889    2.8116    2.2187\n",
      "    1.9852    1.6411    1.7343    1.3852    1.3008    1.0997    0.9889\n",
      "    0.878     0.6474    0.5618    0.4912    0.4503    0.415     0.2853\n",
      "    0.1633    0.111     0.0965    0.0567    0.0463    0.0294    0.0042\n",
      "    0.0002]\n"
     ]
    }
   ],
   "source": [
    "start = time.time()\n",
    "s4,u4,v4 = bidiagonalize_and_svd(data_A)\n",
    "fin = time.time()\n",
    "ps2time = fin-start"
   ]
  },
  {
   "cell_type": "code",
   "execution_count": 91,
   "id": "eee3c9d4",
   "metadata": {},
   "outputs": [
    {
     "name": "stdout",
     "output_type": "stream",
     "text": [
      "40.867342948913574\n"
     ]
    }
   ],
   "source": [
    "print(ps2time)"
   ]
  },
  {
   "cell_type": "code",
   "execution_count": 12,
   "id": "49677bc0",
   "metadata": {},
   "outputs": [
    {
     "name": "stdout",
     "output_type": "stream",
     "text": [
      "0.016895771026611328\n"
     ]
    }
   ],
   "source": [
    "start = time.time()\n",
    "u,s,v = np.linalg.svd(data_A)\n",
    "fin = time.time()\n",
    "nptime = fin-start\n",
    "print(nptime)"
   ]
  },
  {
   "cell_type": "code",
   "execution_count": 13,
   "id": "5965f4b1",
   "metadata": {},
   "outputs": [
    {
     "data": {
      "text/plain": [
       "array([7.5206467e+01, 3.8213797e+00, 3.6965921e+00, 3.5413575e+00,\n",
       "       3.3952742e+00, 3.3634415e+00, 3.2789977e+00, 3.1034992e+00,\n",
       "       3.0242343e+00, 2.8887510e+00, 2.8151503e+00, 2.6821060e+00,\n",
       "       2.5933847e+00, 2.5439532e+00, 2.4431224e+00, 2.3960464e+00,\n",
       "       2.1686695e+00, 2.1317306e+00, 2.0598218e+00, 2.0121279e+00,\n",
       "       1.9830902e+00, 1.8976101e+00, 1.8422046e+00, 1.7700166e+00,\n",
       "       1.7396508e+00, 1.7314295e+00, 1.6732581e+00, 1.4895160e+00,\n",
       "       1.4089705e+00, 1.3174994e+00, 1.2804837e+00, 1.1769483e+00,\n",
       "       1.1405319e+00, 1.0486873e+00, 9.9442625e-01, 9.3701369e-01,\n",
       "       8.0463731e-01, 7.4955142e-01, 7.0088172e-01, 6.7114925e-01,\n",
       "       6.4408922e-01, 5.3409749e-01, 4.0408063e-01, 3.3322820e-01,\n",
       "       3.1071559e-01, 2.3818696e-01, 2.1508199e-01, 1.7145586e-01,\n",
       "       6.4537309e-02, 1.2543841e-02], dtype=float32)"
      ]
     },
     "execution_count": 13,
     "metadata": {},
     "output_type": "execute_result"
    }
   ],
   "source": [
    "s"
   ]
  },
  {
   "cell_type": "code",
   "execution_count": 14,
   "id": "4f02a423",
   "metadata": {},
   "outputs": [
    {
     "data": {
      "text/plain": [
       "(50,)"
      ]
     },
     "execution_count": 14,
     "metadata": {},
     "output_type": "execute_result"
    }
   ],
   "source": [
    "np.shape(s)"
   ]
  },
  {
   "cell_type": "code",
   "execution_count": 15,
   "id": "7ce33187",
   "metadata": {},
   "outputs": [
    {
     "data": {
      "text/plain": [
       "(50, 50)"
      ]
     },
     "execution_count": 15,
     "metadata": {},
     "output_type": "execute_result"
    }
   ],
   "source": [
    "np.shape(v)"
   ]
  },
  {
   "cell_type": "code",
   "execution_count": 16,
   "id": "265a9f0e",
   "metadata": {},
   "outputs": [],
   "source": [
    "from pynq import allocate"
   ]
  },
  {
   "cell_type": "code",
   "execution_count": 17,
   "id": "2fba7c2d",
   "metadata": {},
   "outputs": [],
   "source": [
    "input_buffer = allocate(2500, np.float32)\n",
    "out1_buff = allocate(2500, np.float32)\n",
    "out2_buff = allocate(2500,np.float32)\n",
    "out3_buff = allocate(2500,np.float32)"
   ]
  },
  {
   "cell_type": "code",
   "execution_count": 18,
   "id": "a0489cda",
   "metadata": {},
   "outputs": [],
   "source": [
    "np.copyto(input_buffer, data_A.flatten())"
   ]
  },
  {
   "cell_type": "code",
   "execution_count": 19,
   "id": "78b6d1e5",
   "metadata": {},
   "outputs": [
    {
     "data": {
      "text/plain": [
       "<pynq.lib.dma._SDMAChannel at 0xffff688bdd60>"
      ]
     },
     "execution_count": 19,
     "metadata": {},
     "output_type": "execute_result"
    }
   ],
   "source": [
    "V_channel"
   ]
  },
  {
   "cell_type": "code",
   "execution_count": 20,
   "id": "af2c3778",
   "metadata": {},
   "outputs": [
    {
     "data": {
      "text/plain": [
       "<pynq.lib.dma._SDMAChannel at 0xffff68925b50>"
      ]
     },
     "execution_count": 20,
     "metadata": {},
     "output_type": "execute_result"
    }
   ],
   "source": [
    "U_channel"
   ]
  },
  {
   "cell_type": "code",
   "execution_count": 21,
   "id": "87e0fd9d",
   "metadata": {},
   "outputs": [
    {
     "name": "stdout",
     "output_type": "stream",
     "text": [
      "0.1335747241973877\n"
     ]
    }
   ],
   "source": [
    "start_time = time.time()\n",
    "V_channel.transfer(out3_buff)\n",
    "U_channel.transfer(out2_buff)\n",
    "A_channel.transfer(input_buffer)\n",
    "S_channel.transfer(out1_buff)\n",
    "A_channel.wait()\n",
    "S_channel.wait()\n",
    "V_channel.wait()\n",
    "U_channel.wait()\n",
    "end_time = time.time()\n",
    "pltime = end_time - start_time\n",
    "print(pltime)"
   ]
  },
  {
   "cell_type": "code",
   "execution_count": 22,
   "id": "2d7444ad",
   "metadata": {},
   "outputs": [
    {
     "data": {
      "text/plain": [
       "PynqBuffer([1.2544073e-02, 0.0000000e+00, 0.0000000e+00, ...,\n",
       "            0.0000000e+00, 0.0000000e+00, 7.5206345e+01], dtype=float32)"
      ]
     },
     "execution_count": 22,
     "metadata": {},
     "output_type": "execute_result"
    }
   ],
   "source": [
    "out1_buff"
   ]
  },
  {
   "cell_type": "code",
   "execution_count": 23,
   "id": "71b3aaa1",
   "metadata": {},
   "outputs": [
    {
     "data": {
      "text/plain": [
       "PynqBuffer([ 0.17645997, -0.1605335 ,  0.05815537, ..., -0.01146385,\n",
       "            -0.10338434,  0.13784662], dtype=float32)"
      ]
     },
     "execution_count": 23,
     "metadata": {},
     "output_type": "execute_result"
    }
   ],
   "source": [
    "out2_buff"
   ]
  },
  {
   "cell_type": "code",
   "execution_count": 24,
   "id": "3ad51f8e",
   "metadata": {},
   "outputs": [
    {
     "data": {
      "text/plain": [
       "PynqBuffer([ 0.04684398, -0.03934851, -0.02325301, ..., -0.00524139,\n",
       "             0.02409708,  0.14248185], dtype=float32)"
      ]
     },
     "execution_count": 24,
     "metadata": {},
     "output_type": "execute_result"
    }
   ],
   "source": [
    "out3_buff"
   ]
  },
  {
   "cell_type": "code",
   "execution_count": 25,
   "id": "a719dd3d",
   "metadata": {},
   "outputs": [],
   "source": [
    "u,s,v = np.linalg.svd(data_A)"
   ]
  },
  {
   "cell_type": "code",
   "execution_count": 26,
   "id": "8f3f19fd",
   "metadata": {},
   "outputs": [
    {
     "data": {
      "text/plain": [
       "array([7.5206467e+01, 3.8213797e+00, 3.6965921e+00, 3.5413575e+00,\n",
       "       3.3952742e+00, 3.3634415e+00, 3.2789977e+00, 3.1034992e+00,\n",
       "       3.0242343e+00, 2.8887510e+00, 2.8151503e+00, 2.6821060e+00,\n",
       "       2.5933847e+00, 2.5439532e+00, 2.4431224e+00, 2.3960464e+00,\n",
       "       2.1686695e+00, 2.1317306e+00, 2.0598218e+00, 2.0121279e+00,\n",
       "       1.9830902e+00, 1.8976101e+00, 1.8422046e+00, 1.7700166e+00,\n",
       "       1.7396508e+00, 1.7314295e+00, 1.6732581e+00, 1.4895160e+00,\n",
       "       1.4089705e+00, 1.3174994e+00, 1.2804837e+00, 1.1769483e+00,\n",
       "       1.1405319e+00, 1.0486873e+00, 9.9442625e-01, 9.3701369e-01,\n",
       "       8.0463731e-01, 7.4955142e-01, 7.0088172e-01, 6.7114925e-01,\n",
       "       6.4408922e-01, 5.3409749e-01, 4.0408063e-01, 3.3322820e-01,\n",
       "       3.1071559e-01, 2.3818696e-01, 2.1508199e-01, 1.7145586e-01,\n",
       "       6.4537309e-02, 1.2543841e-02], dtype=float32)"
      ]
     },
     "execution_count": 26,
     "metadata": {},
     "output_type": "execute_result"
    }
   ],
   "source": [
    "s"
   ]
  },
  {
   "cell_type": "code",
   "execution_count": 27,
   "id": "f72a5ee4",
   "metadata": {},
   "outputs": [
    {
     "data": {
      "text/plain": [
       "PynqBuffer([1.2544073e-02, 0.0000000e+00, 0.0000000e+00, ...,\n",
       "            0.0000000e+00, 0.0000000e+00, 7.5206345e+01], dtype=float32)"
      ]
     },
     "execution_count": 27,
     "metadata": {},
     "output_type": "execute_result"
    }
   ],
   "source": [
    "out1_buff"
   ]
  },
  {
   "cell_type": "code",
   "execution_count": 34,
   "id": "bd37b361",
   "metadata": {},
   "outputs": [],
   "source": [
    "s2 = np.sort(s)"
   ]
  },
  {
   "cell_type": "code",
   "execution_count": 35,
   "id": "0f7a78be",
   "metadata": {},
   "outputs": [],
   "source": [
    "sigma = np.diag(s2)"
   ]
  },
  {
   "cell_type": "code",
   "execution_count": 38,
   "id": "f37b7568",
   "metadata": {},
   "outputs": [
    {
     "data": {
      "text/plain": [
       "PynqBuffer(2.5748286e-06, dtype=float32)"
      ]
     },
     "execution_count": 38,
     "metadata": {},
     "output_type": "execute_result"
    }
   ],
   "source": [
    "rmse(out1_buff,sigma.flatten())"
   ]
  },
  {
   "cell_type": "code",
   "execution_count": 41,
   "id": "7b7ef721",
   "metadata": {},
   "outputs": [
    {
     "data": {
      "text/plain": [
       "PynqBuffer(0.20000033, dtype=float32)"
      ]
     },
     "execution_count": 41,
     "metadata": {},
     "output_type": "execute_result"
    }
   ],
   "source": [
    "rmse(out2_buff, u.flatten())"
   ]
  },
  {
   "cell_type": "code",
   "execution_count": 59,
   "id": "c1c79fad",
   "metadata": {},
   "outputs": [],
   "source": [
    "u2_pl = np.sort(np.abs(out2_buff))"
   ]
  },
  {
   "cell_type": "code",
   "execution_count": 58,
   "id": "7c130296",
   "metadata": {},
   "outputs": [],
   "source": [
    "u2_np = np.sort(np.abs(u.flatten()))"
   ]
  },
  {
   "cell_type": "code",
   "execution_count": 60,
   "id": "ba0ce61a",
   "metadata": {},
   "outputs": [
    {
     "data": {
      "text/plain": [
       "PynqBuffer(4.3206005e-06, dtype=float32)"
      ]
     },
     "execution_count": 60,
     "metadata": {},
     "output_type": "execute_result"
    }
   ],
   "source": [
    "rmse(u2_pl,u2_np)"
   ]
  },
  {
   "cell_type": "code",
   "execution_count": 53,
   "id": "cca2eaaf",
   "metadata": {},
   "outputs": [
    {
     "data": {
      "text/plain": [
       "PynqBuffer([ 0.17645997, -0.1605335 ,  0.05815537, ..., -0.01146385,\n",
       "            -0.10338434,  0.13784662], dtype=float32)"
      ]
     },
     "execution_count": 53,
     "metadata": {},
     "output_type": "execute_result"
    }
   ],
   "source": [
    "out2_buff"
   ]
  },
  {
   "cell_type": "code",
   "execution_count": 54,
   "id": "6ada2343",
   "metadata": {},
   "outputs": [
    {
     "data": {
      "text/plain": [
       "array([-0.13811974,  0.01740287,  0.20241071, ...,  0.04568309,\n",
       "       -0.1772769 , -0.385451  ], dtype=float32)"
      ]
     },
     "execution_count": 54,
     "metadata": {},
     "output_type": "execute_result"
    }
   ],
   "source": [
    "u.flatten()"
   ]
  },
  {
   "cell_type": "code",
   "execution_count": 56,
   "id": "cb36ef4d",
   "metadata": {},
   "outputs": [
    {
     "data": {
      "text/plain": [
       "array([-0.1361321 , -0.1515666 , -0.14263709, ...,  0.06443339,\n",
       "       -0.08378325,  0.04950593], dtype=float32)"
      ]
     },
     "execution_count": 56,
     "metadata": {},
     "output_type": "execute_result"
    }
   ],
   "source": [
    "v.flatten()"
   ]
  },
  {
   "cell_type": "code",
   "execution_count": 57,
   "id": "54d0889b",
   "metadata": {},
   "outputs": [
    {
     "data": {
      "text/plain": [
       "PynqBuffer([ 0.04684398, -0.03934851, -0.02325301, ..., -0.00524139,\n",
       "             0.02409708,  0.14248185], dtype=float32)"
      ]
     },
     "execution_count": 57,
     "metadata": {},
     "output_type": "execute_result"
    }
   ],
   "source": [
    "out3_buff"
   ]
  },
  {
   "cell_type": "code",
   "execution_count": 61,
   "id": "844dcf1c",
   "metadata": {},
   "outputs": [],
   "source": [
    "v2_pl = np.sort(np.abs(out3_buff))"
   ]
  },
  {
   "cell_type": "code",
   "execution_count": 62,
   "id": "943dc794",
   "metadata": {},
   "outputs": [],
   "source": [
    "v2_np = np.sort(np.abs(u.flatten()))"
   ]
  },
  {
   "cell_type": "code",
   "execution_count": 63,
   "id": "e7fcd244",
   "metadata": {},
   "outputs": [
    {
     "data": {
      "text/plain": [
       "PynqBuffer(0.0024974, dtype=float32)"
      ]
     },
     "execution_count": 63,
     "metadata": {},
     "output_type": "execute_result"
    }
   ],
   "source": [
    "rmse(v2_pl,v2_np)"
   ]
  },
  {
   "cell_type": "code",
   "execution_count": 64,
   "id": "dc7a3bcc",
   "metadata": {},
   "outputs": [
    {
     "data": {
      "text/plain": [
       "array([-0.1361321 , -0.1515666 , -0.14263709, ...,  0.06443339,\n",
       "       -0.08378325,  0.04950593], dtype=float32)"
      ]
     },
     "execution_count": 64,
     "metadata": {},
     "output_type": "execute_result"
    }
   ],
   "source": [
    "v.flatten()"
   ]
  },
  {
   "cell_type": "code",
   "execution_count": 65,
   "id": "1cddc677",
   "metadata": {},
   "outputs": [
    {
     "data": {
      "text/plain": [
       "PynqBuffer([ 0.04684398, -0.03934851, -0.02325301, ..., -0.00524139,\n",
       "             0.02409708,  0.14248185], dtype=float32)"
      ]
     },
     "execution_count": 65,
     "metadata": {},
     "output_type": "execute_result"
    }
   ],
   "source": [
    "out3_buff"
   ]
  },
  {
   "cell_type": "code",
   "execution_count": 66,
   "id": "73ab7587",
   "metadata": {},
   "outputs": [
    {
     "data": {
      "text/plain": [
       "array([-0.13811974,  0.01740287,  0.20241071, ...,  0.04568309,\n",
       "       -0.1772769 , -0.385451  ], dtype=float32)"
      ]
     },
     "execution_count": 66,
     "metadata": {},
     "output_type": "execute_result"
    }
   ],
   "source": [
    "u.flatten()"
   ]
  },
  {
   "cell_type": "code",
   "execution_count": 67,
   "id": "3c3696ef",
   "metadata": {},
   "outputs": [
    {
     "data": {
      "text/plain": [
       "PynqBuffer([ 0.17645997, -0.1605335 ,  0.05815537, ..., -0.01146385,\n",
       "            -0.10338434,  0.13784662], dtype=float32)"
      ]
     },
     "execution_count": 67,
     "metadata": {},
     "output_type": "execute_result"
    }
   ],
   "source": [
    "out2_buff"
   ]
  },
  {
   "cell_type": "code",
   "execution_count": 70,
   "id": "c57f4c1d",
   "metadata": {},
   "outputs": [],
   "source": [
    "sigma_pl = np.reshape(out1_buff, (50,50))\n",
    "u_pl = np.reshape(out2_buff, (50,50))\n",
    "v_pl = np.reshape(out3_buff, (50,50))"
   ]
  },
  {
   "cell_type": "code",
   "execution_count": 76,
   "id": "2831d536",
   "metadata": {},
   "outputs": [
    {
     "data": {
      "text/plain": [
       "PynqBuffer([[1.4170175, 1.7203207, 1.0001138, ..., 1.2936112, 1.2877737,\n",
       "             1.130027 ],\n",
       "            [1.0193673, 1.6788338, 1.2116269, ..., 1.5736783, 1.002873 ,\n",
       "             1.617142 ],\n",
       "            [1.3266394, 1.5270553, 1.8859369, ..., 1.7129837, 1.5597138,\n",
       "             1.0125535],\n",
       "            ...,\n",
       "            [1.1466067, 1.6124578, 1.2793186, ..., 1.0070466, 1.0595291,\n",
       "             1.481396 ],\n",
       "            [1.925697 , 1.4055539, 1.07503  , ..., 1.1667213, 1.5208457,\n",
       "             1.7402854],\n",
       "            [1.46247  , 1.8696091, 1.6604072, ..., 1.5681379, 1.3434174,\n",
       "             1.3506132]], dtype=float32)"
      ]
     },
     "execution_count": 76,
     "metadata": {},
     "output_type": "execute_result"
    }
   ],
   "source": [
    "u_pl @ sigma_pl @v_pl.T"
   ]
  },
  {
   "cell_type": "code",
   "execution_count": 77,
   "id": "fce77338",
   "metadata": {},
   "outputs": [
    {
     "data": {
      "text/plain": [
       "array([[1.417022 , 1.7203245, 1.0001143, ..., 1.2936141, 1.2877754,\n",
       "        1.1300286],\n",
       "       [1.019367 , 1.6788355, 1.2116281, ..., 1.5736794, 1.0028703,\n",
       "        1.617145 ],\n",
       "       [1.3266449, 1.5270581, 1.8859421, ..., 1.712989 , 1.5597169,\n",
       "        1.012556 ],\n",
       "       ...,\n",
       "       [1.1466087, 1.6124611, 1.2793204, ..., 1.0070467, 1.0595286,\n",
       "        1.4814005],\n",
       "       [1.9257041, 1.4055574, 1.0750326, ..., 1.1667219, 1.5208484,\n",
       "        1.7402936],\n",
       "       [1.4624745, 1.8696141, 1.660412 , ..., 1.5681397, 1.3434201,\n",
       "        1.3506172]], dtype=float32)"
      ]
     },
     "execution_count": 77,
     "metadata": {},
     "output_type": "execute_result"
    }
   ],
   "source": [
    "data_A"
   ]
  },
  {
   "cell_type": "code",
   "execution_count": 78,
   "id": "4b44d75c",
   "metadata": {},
   "outputs": [
    {
     "data": {
      "text/plain": [
       "PynqBuffer(4.163147e-06, dtype=float32)"
      ]
     },
     "execution_count": 78,
     "metadata": {},
     "output_type": "execute_result"
    }
   ],
   "source": [
    "rmse(u_pl @ sigma_pl @v_pl.T, data_A)"
   ]
  },
  {
   "cell_type": "code",
   "execution_count": 81,
   "id": "f8d49303",
   "metadata": {},
   "outputs": [
    {
     "data": {
      "text/plain": [
       "array([[-0.1361321 ,  0.1864823 , -0.06351586, ...,  0.02325287,\n",
       "         0.03934882,  0.04684435],\n",
       "       [-0.1515666 ,  0.1225536 , -0.13381521, ...,  0.03810025,\n",
       "         0.12809914,  0.15667093],\n",
       "       [-0.14263709,  0.04732468, -0.01970438, ..., -0.08503009,\n",
       "         0.23170668,  0.1224163 ],\n",
       "       ...,\n",
       "       [-0.14495319,  0.01055746,  0.11370312, ..., -0.187727  ,\n",
       "        -0.2131916 ,  0.06443339],\n",
       "       [-0.14391916, -0.126213  ,  0.00557159, ...,  0.19514473,\n",
       "        -0.00090396, -0.08378325],\n",
       "       [-0.14248198, -0.02410052,  0.00523833, ..., -0.13740343,\n",
       "        -0.06927516,  0.04950593]], dtype=float32)"
      ]
     },
     "execution_count": 81,
     "metadata": {},
     "output_type": "execute_result"
    }
   ],
   "source": [
    "v.T"
   ]
  },
  {
   "cell_type": "code",
   "execution_count": 83,
   "id": "b73e4790",
   "metadata": {},
   "outputs": [
    {
     "data": {
      "text/plain": [
       "PynqBuffer([[ 0.04684398, -0.03934851, -0.02325301, ...,  0.06351703,\n",
       "             -0.1864809 ,  0.136132  ],\n",
       "            [ 0.15667138, -0.12809853, -0.03810072, ...,  0.13381523,\n",
       "             -0.12255251,  0.1515666 ],\n",
       "            [ 0.12241694, -0.2317065 ,  0.08503027, ...,  0.01970365,\n",
       "             -0.04732518,  0.14263701],\n",
       "            ...,\n",
       "            [ 0.06443322,  0.21319123,  0.18772684, ..., -0.11370131,\n",
       "             -0.01055695,  0.1449532 ],\n",
       "            [-0.0837843 ,  0.00090429, -0.1951447 , ..., -0.00557078,\n",
       "              0.12621458,  0.14391923],\n",
       "            [ 0.0495059 ,  0.06927635,  0.13740216, ..., -0.00524139,\n",
       "              0.02409708,  0.14248185]], dtype=float32)"
      ]
     },
     "execution_count": 83,
     "metadata": {},
     "output_type": "execute_result"
    }
   ],
   "source": [
    "v_pl"
   ]
  },
  {
   "cell_type": "code",
   "execution_count": 103,
   "id": "efecdf12",
   "metadata": {},
   "outputs": [
    {
     "data": {
      "text/plain": [
       "PynqBuffer(0.5604, dtype=float32)"
      ]
     },
     "execution_count": 103,
     "metadata": {},
     "output_type": "execute_result"
    }
   ],
   "source": [
    "np.max(u2_pl)"
   ]
  },
  {
   "cell_type": "code",
   "execution_count": 104,
   "id": "228fdbec",
   "metadata": {},
   "outputs": [
    {
     "data": {
      "text/plain": [
       "5.1366544e-05"
      ]
     },
     "execution_count": 104,
     "metadata": {},
     "output_type": "execute_result"
    }
   ],
   "source": [
    "np.min(u2_np)"
   ]
  },
  {
   "cell_type": "code",
   "execution_count": 95,
   "id": "844873cb",
   "metadata": {},
   "outputs": [
    {
     "data": {
      "text/plain": [
       "PynqBuffer(0.502, dtype=float32)"
      ]
     },
     "execution_count": 95,
     "metadata": {},
     "output_type": "execute_result"
    }
   ],
   "source": [
    "np.max(v2_pl)"
   ]
  },
  {
   "cell_type": "code",
   "execution_count": 102,
   "id": "68093d97",
   "metadata": {},
   "outputs": [
    {
     "data": {
      "text/plain": [
       "5.1366544e-05"
      ]
     },
     "execution_count": 102,
     "metadata": {},
     "output_type": "execute_result"
    }
   ],
   "source": [
    "\n",
    "np.min(v2_np)"
   ]
  },
  {
   "cell_type": "code",
   "execution_count": 107,
   "id": "44bf3a7c",
   "metadata": {},
   "outputs": [
    {
     "data": {
      "text/plain": [
       "2.1711445e-05"
      ]
     },
     "execution_count": 107,
     "metadata": {},
     "output_type": "execute_result"
    }
   ],
   "source": [
    "min = 100\n",
    "for _ in v2_pl:\n",
    "    if(_ != 0):\n",
    "        if(_ < min):\n",
    "            min = _\n",
    "\n",
    "min"
   ]
  },
  {
   "cell_type": "code",
   "execution_count": 96,
   "id": "d8d260bd",
   "metadata": {},
   "outputs": [
    {
     "data": {
      "text/plain": [
       "75.20647"
      ]
     },
     "execution_count": 96,
     "metadata": {},
     "output_type": "execute_result"
    }
   ],
   "source": [
    "np.max(sigma)"
   ]
  },
  {
   "cell_type": "code",
   "execution_count": 99,
   "id": "7d49333a",
   "metadata": {},
   "outputs": [
    {
     "data": {
      "text/plain": [
       "0.012543841"
      ]
     },
     "execution_count": 99,
     "metadata": {},
     "output_type": "execute_result"
    }
   ],
   "source": [
    "np.min(s)"
   ]
  },
  {
   "cell_type": "code",
   "execution_count": 108,
   "id": "5ff7a1fc",
   "metadata": {},
   "outputs": [
    {
     "data": {
      "text/plain": [
       "PynqBuffer([ 0.0125,  0.    ,  0.    , ...,  0.    ,  0.    , 75.2063],\n",
       "           dtype=float32)"
      ]
     },
     "execution_count": 108,
     "metadata": {},
     "output_type": "execute_result"
    }
   ],
   "source": [
    "out1_buff"
   ]
  },
  {
   "cell_type": "code",
   "execution_count": 109,
   "id": "bdfc6749",
   "metadata": {},
   "outputs": [
    {
     "data": {
      "text/plain": [
       "array([75.2065,  3.8214,  3.6966,  3.5414,  3.3953,  3.3634,  3.279 ,\n",
       "        3.1035,  3.0242,  2.8888,  2.8152,  2.6821,  2.5934,  2.544 ,\n",
       "        2.4431,  2.396 ,  2.1687,  2.1317,  2.0598,  2.0121,  1.9831,\n",
       "        1.8976,  1.8422,  1.77  ,  1.7397,  1.7314,  1.6733,  1.4895,\n",
       "        1.409 ,  1.3175,  1.2805,  1.1769,  1.1405,  1.0487,  0.9944,\n",
       "        0.937 ,  0.8046,  0.7496,  0.7009,  0.6711,  0.6441,  0.5341,\n",
       "        0.4041,  0.3332,  0.3107,  0.2382,  0.2151,  0.1715,  0.0645,\n",
       "        0.0125], dtype=float32)"
      ]
     },
     "execution_count": 109,
     "metadata": {},
     "output_type": "execute_result"
    }
   ],
   "source": [
    "s"
   ]
  },
  {
   "cell_type": "code",
   "execution_count": 112,
   "id": "f7b7161b",
   "metadata": {},
   "outputs": [],
   "source": [
    "c = np.reshape(out2_buff, (50,50))"
   ]
  },
  {
   "cell_type": "code",
   "execution_count": 113,
   "id": "bd552c36",
   "metadata": {},
   "outputs": [
    {
     "data": {
      "text/plain": [
       "array([[-0.1381,  0.0174,  0.2024, ..., -0.0582,  0.1605,  0.1765],\n",
       "       [-0.1415, -0.0105,  0.1522, ..., -0.1542, -0.126 ,  0.0806],\n",
       "       [-0.1384,  0.3491, -0.0919, ..., -0.0639,  0.0047,  0.0868],\n",
       "       ...,\n",
       "       [-0.1315,  0.128 , -0.1518, ...,  0.3815, -0.0033,  0.0683],\n",
       "       [-0.1363, -0.0881, -0.2158, ..., -0.025 , -0.1825,  0.0397],\n",
       "       [-0.1378,  0.1034,  0.0115, ...,  0.0457, -0.1773, -0.3855]],\n",
       "      dtype=float32)"
      ]
     },
     "execution_count": 113,
     "metadata": {},
     "output_type": "execute_result"
    }
   ],
   "source": [
    "u"
   ]
  },
  {
   "cell_type": "code",
   "execution_count": 114,
   "id": "1a2e63a6",
   "metadata": {},
   "outputs": [
    {
     "data": {
      "text/plain": [
       "PynqBuffer([[ 0.1765, -0.1605,  0.0582, ..., -0.2024, -0.0174,  0.1381],\n",
       "            [ 0.0806,  0.126 ,  0.1542, ..., -0.1522,  0.0105,  0.1415],\n",
       "            [ 0.0868, -0.0047,  0.0639, ...,  0.0919, -0.3491,  0.1384],\n",
       "            ...,\n",
       "            [ 0.0683,  0.0033, -0.3815, ...,  0.1518, -0.128 ,  0.1315],\n",
       "            [ 0.0397,  0.1825,  0.025 , ...,  0.2158,  0.0881,  0.1363],\n",
       "            [-0.3855,  0.1773, -0.0457, ..., -0.0115, -0.1034,  0.1378]],\n",
       "           dtype=float32)"
      ]
     },
     "execution_count": 114,
     "metadata": {},
     "output_type": "execute_result"
    }
   ],
   "source": [
    "c"
   ]
  },
  {
   "cell_type": "code",
   "execution_count": 119,
   "id": "744fd96c",
   "metadata": {},
   "outputs": [],
   "source": [
    "d = np.reshape(out3_buff, (50,50))"
   ]
  },
  {
   "cell_type": "code",
   "execution_count": 120,
   "id": "a4fc6218",
   "metadata": {},
   "outputs": [
    {
     "data": {
      "text/plain": [
       "array([[-0.1361,  0.1865, -0.0635, ...,  0.0233,  0.0393,  0.0468],\n",
       "       [-0.1516,  0.1226, -0.1338, ...,  0.0381,  0.1281,  0.1567],\n",
       "       [-0.1426,  0.0473, -0.0197, ..., -0.085 ,  0.2317,  0.1224],\n",
       "       ...,\n",
       "       [-0.145 ,  0.0106,  0.1137, ..., -0.1877, -0.2132,  0.0644],\n",
       "       [-0.1439, -0.1262,  0.0056, ...,  0.1951, -0.0009, -0.0838],\n",
       "       [-0.1425, -0.0241,  0.0052, ..., -0.1374, -0.0693,  0.0495]],\n",
       "      dtype=float32)"
      ]
     },
     "execution_count": 120,
     "metadata": {},
     "output_type": "execute_result"
    }
   ],
   "source": [
    "v.T"
   ]
  },
  {
   "cell_type": "code",
   "execution_count": 121,
   "id": "0be59050",
   "metadata": {},
   "outputs": [
    {
     "data": {
      "text/plain": [
       "PynqBuffer([[ 0.0468, -0.0393, -0.0233, ...,  0.0635, -0.1865,  0.1361],\n",
       "            [ 0.1567, -0.1281, -0.0381, ...,  0.1338, -0.1226,  0.1516],\n",
       "            [ 0.1224, -0.2317,  0.085 , ...,  0.0197, -0.0473,  0.1426],\n",
       "            ...,\n",
       "            [ 0.0644,  0.2132,  0.1877, ..., -0.1137, -0.0106,  0.145 ],\n",
       "            [-0.0838,  0.0009, -0.1951, ..., -0.0056,  0.1262,  0.1439],\n",
       "            [ 0.0495,  0.0693,  0.1374, ..., -0.0052,  0.0241,  0.1425]],\n",
       "           dtype=float32)"
      ]
     },
     "execution_count": 121,
     "metadata": {},
     "output_type": "execute_result"
    }
   ],
   "source": [
    "d"
   ]
  }
 ],
 "metadata": {
  "kernelspec": {
   "display_name": "Python 3",
   "language": "python",
   "name": "python3"
  },
  "language_info": {
   "codemirror_mode": {
    "name": "ipython",
    "version": 3
   },
   "file_extension": ".py",
   "mimetype": "text/x-python",
   "name": "python",
   "nbconvert_exporter": "python",
   "pygments_lexer": "ipython3",
   "version": "3.8.2"
  }
 },
 "nbformat": 4,
 "nbformat_minor": 5
}
