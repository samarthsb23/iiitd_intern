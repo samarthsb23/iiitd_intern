{
 "cells": [
  {
   "cell_type": "code",
   "execution_count": null,
   "id": "c4dc6257",
   "metadata": {},
   "outputs": [],
   "source": [
    "\n",
    "import numpy as np\n",
    "np.set_printoptions(suppress=True, precision=4)\n",
    "\n",
    "def set_lowVal_zero(X):\n",
    "    low_values_indices = abs(X) < 9e-15   # where values are low\n",
    "    X[low_values_indices] = 0             # all low values set to 0\n",
    "    return X\n",
    "\n",
    "def Householder(x, i):\n",
    "    alpha = -np.sign(x[i]) * np.linalg.norm(x)\n",
    "    e = np.zeros(len(x)); e[i] = 1.0\n",
    "    \n",
    "    v = (x - alpha * e)\n",
    "    w = v / np.linalg.norm(v)\n",
    "    P = np.eye(len(x)) - 2 * np.outer(w, w.T)\n",
    "    \n",
    "    return P\n",
    "\n",
    "def Golub_Kahan(X):\n",
    "    m, n = X.shape\n",
    "    J = X.copy()\n",
    "\n",
    "    U = np.identity(m)\n",
    "    V = np.identity(n)\n",
    "\n",
    "    for i in range(n - 2):  # n-2 steps\n",
    "        # --- Column reflector (left multiply)\n",
    "        h = np.zeros(m)\n",
    "        h[i:] = J[i:, i]\n",
    "        P = Householder(h, i)\n",
    "        J = set_lowVal_zero(P @ J)\n",
    "        U = U @ P\n",
    "\n",
    "        # --- Row reflector (right multiply)\n",
    "        h = np.zeros(n)\n",
    "        h[i+1:] = J[i, i+1:]\n",
    "        Q = Householder(h, i+1)\n",
    "        J = set_lowVal_zero(J @ Q)\n",
    "        V = V @ Q\n",
    "\n",
    "    return U, J, V\n",
    "\n",
    "\n",
    "def givensrotation_R(a, b):\n",
    "    if b == 0:\n",
    "        return 1.0, 0.0\n",
    "    r = np.hypot(a, b)\n",
    "    c = a / r\n",
    "    s = -b / r\n",
    "    return c, s\n",
    "\n",
    "def QR_givens(A):\n",
    "    m, n = A.shape\n",
    "    R = A.copy()\n",
    "    Q = np.identity(m,dtype=float)\n",
    "    for i in range(0, n - 1):\n",
    "        for j in range(i + 1, m):\n",
    "            cos, sin = givensrotation_R(R[i, i], R[j, i])\n",
    "            R[i], R[j] = (R[i]*cos) + (R[j]*(-sin)), (R[i]*sin) + (R[j] * cos)\n",
    "            Q[i], Q[j] = (Q[i]*cos) + (Q[j]*(-sin)), (Q[i]*sin) + (Q[j] * cos)\n",
    "    return np.transpose(np.conj(Q)), R\n",
    "\n",
    "def QR_iterate(A):\n",
    "    n = A.shape[0]\n",
    "    Q_total = np.eye(n)\n",
    "    A_k = A.copy()\n",
    "    for _ in range(100):\n",
    "        Q, R = QR_givens(A_k)\n",
    "        A_k = R @ Q\n",
    "        Q_total = Q_total @ Q\n",
    "    \n",
    "    \n",
    "        \n",
    "    return Q_total, A_k\n",
    "\n",
    "def eigenvalues(A):\n",
    "    \n",
    "    Q, R = QR_iterate(A)\n",
    "    eigenvals = np.diag(R)\n",
    "    eigenvecs = Q\n",
    "    return eigenvals, eigenvecs\n",
    "\n",
    "def fix_sign(v):\n",
    "    original_shape = v.shape\n",
    "    v_flat = v.flatten()\n",
    "    idx = np.argmax(np.abs(v_flat))\n",
    "    if v_flat[idx] < 0:\n",
    "        v_flat = -v_flat\n",
    "    return v_flat.reshape(original_shape)\n",
    "\n",
    "def compute_svd(A):\n",
    "    m, n = A.shape\n",
    "    AAt = A @ A.T\n",
    "    AtA = A.T @ A\n",
    "\n",
    "    vals1, vecs1 = eigenvalues(AAt)\n",
    "    vals2, vecs2 = eigenvalues(AtA)\n",
    "    #vecs1 = fix_sign(vecs1)\n",
    "    #vecs2 = fix_sign(vecs2)\n",
    "    \n",
    "    sigma = np.sqrt(np.clip(vals1, 0, None))\n",
    "    V = vecs2\n",
    "\n",
    "    U = vecs1\n",
    "\n",
    "    Sigma = np.zeros((m, n))\n",
    "    np.fill_diagonal(Sigma, sigma)\n",
    "    \n",
    "    print(vals1)\n",
    "    print(vals2)\n",
    "    \n",
    "    U[np.abs(U) < 1e-4] = 0\n",
    "    Sigma[np.abs(Sigma) < 1e-4] = 0\n",
    "    V[np.abs(V) < 1e-4] = 0\n",
    "    \n",
    "    for i in range(min(m,n)):\n",
    "        Av = A @ V[:, i]\n",
    "        sig_ui = sigma[i] * U[:, i]\n",
    "        \n",
    "        if np.dot(Av, sig_ui) < 0: \n",
    "            U[:, i] *= -1\n",
    "            #V[:, i] *= -1\n",
    "\n",
    "    return U, Sigma, V.T\n",
    "\n",
    "def pinv_from_svd(U, Sigma, Vt, tol=1e-10):\n",
    "    m, n = Sigma.shape\n",
    "    sigma_vals = np.diag(Sigma)[:min(m, n)]  \n",
    "\n",
    "    sigma_inv = np.array([1/s if s > tol else 0 for s in sigma_vals])\n",
    "    Sigma_inv = np.zeros((n, m))  \n",
    "    for i in range(len(sigma_inv)):\n",
    "        Sigma_inv[i, i] = sigma_inv[i]\n",
    "\n",
    "    # A⁺ = V @ Sigma⁺ @ U.T\n",
    "    return Vt.T @ Sigma_inv @ U.T"
   ]
  },
  {
   "cell_type": "code",
   "execution_count": 8,
   "id": "31d1502d",
   "metadata": {},
   "outputs": [],
   "source": [
    "def pinv(A):\n",
    "    u,j,v = Golub_Kahan(A)\n",
    "    print(np.allclose(A, u @ j @ v.T))\n",
    "    U, Sigma, V = compute_svd(j)\n",
    "    print(np.allclose(U@Sigma@V,j))\n",
    "    U_final = u @ U\n",
    "    V_final = v.conj().T @ V.conj().T\n",
    "    print(np.allclose(A, U_final @ Sigma @ V_final.T))\n",
    "    return pinv_from_svd(U_final, Sigma, V_final.T)"
   ]
  },
  {
   "cell_type": "code",
   "execution_count": 21,
   "id": "6bad7a91",
   "metadata": {},
   "outputs": [],
   "source": [
    "A = np.random.randn(50,2)"
   ]
  },
  {
   "cell_type": "code",
   "execution_count": 22,
   "id": "a5d7a781",
   "metadata": {},
   "outputs": [
    {
     "data": {
      "text/plain": [
       "array([[ 1.1908,  0.4558],\n",
       "       [ 1.0411,  2.1457],\n",
       "       [ 0.577 , -0.4101],\n",
       "       [ 1.3603,  0.8675],\n",
       "       [ 1.4915, -1.2719],\n",
       "       [-0.0658,  2.7518],\n",
       "       [-0.8869,  0.5693],\n",
       "       [ 0.8156, -0.5061],\n",
       "       [-0.4606,  0.3516],\n",
       "       [ 1.2035, -0.6503],\n",
       "       [ 0.7424, -0.2699],\n",
       "       [ 1.1389, -0.0523],\n",
       "       [-0.1987, -0.1239],\n",
       "       [-0.7017, -0.5434],\n",
       "       [-0.1242,  0.8381],\n",
       "       [ 0.647 , -1.593 ],\n",
       "       [ 1.9086,  1.4331],\n",
       "       [-1.2191,  0.0995],\n",
       "       [ 0.8871, -0.4589],\n",
       "       [-1.3779,  0.2237],\n",
       "       [ 0.6181,  0.64  ],\n",
       "       [-0.653 , -2.0002],\n",
       "       [ 0.7931,  1.5508],\n",
       "       [ 0.468 ,  0.2311],\n",
       "       [ 1.7379,  0.4536],\n",
       "       [-0.1065, -0.9949],\n",
       "       [-1.073 , -1.9186],\n",
       "       [ 1.176 , -0.1564],\n",
       "       [-0.906 , -0.165 ],\n",
       "       [-0.4542,  0.3613],\n",
       "       [-1.6034,  1.8564],\n",
       "       [-0.3919, -0.6681],\n",
       "       [ 1.5289, -2.2593],\n",
       "       [-0.6949, -1.0574],\n",
       "       [-0.3288,  0.1694],\n",
       "       [-1.8627, -0.4656],\n",
       "       [ 1.5416,  0.2865],\n",
       "       [-0.9214,  0.4434],\n",
       "       [ 0.8702,  0.3129],\n",
       "       [ 0.7056, -0.2067],\n",
       "       [-1.3914,  1.0669],\n",
       "       [ 1.0055,  0.311 ],\n",
       "       [-1.0748, -0.8781],\n",
       "       [-0.1132,  0.2611],\n",
       "       [-3.7181,  0.8979],\n",
       "       [-0.9706,  1.7031],\n",
       "       [ 0.5857,  0.5649],\n",
       "       [ 0.3123, -0.1509],\n",
       "       [-0.6413,  1.0333],\n",
       "       [-0.3354,  0.1299]])"
      ]
     },
     "execution_count": 22,
     "metadata": {},
     "output_type": "execute_result"
    }
   ],
   "source": [
    "A"
   ]
  },
  {
   "cell_type": "code",
   "execution_count": 23,
   "id": "44bcea99",
   "metadata": {},
   "outputs": [
    {
     "name": "stdout",
     "output_type": "stream",
     "text": [
      "True\n",
      "[63.504  50.7647  0.     -0.     -0.     -0.      0.      0.     -0.\n",
      " -0.      0.      0.      0.     -0.     -0.      0.      0.     -0.\n",
      " -0.      0.      0.      0.     -0.     -0.      0.      0.     -0.\n",
      " -0.     -0.      0.      0.     -0.     -0.     -0.      0.      0.\n",
      " -0.     -0.      0.      0.     -0.      0.     -0.      0.      0.\n",
      " -0.      0.      0.      0.      0.    ]\n",
      "[63.504  50.7647]\n",
      "True\n",
      "True\n"
     ]
    },
    {
     "data": {
      "text/plain": [
       "array([[ 0.0197,  0.0192,  0.0088,  0.0229,  0.0226,  0.0021, -0.0136,\n",
       "         0.0126, -0.007 ,  0.0186,  0.0116,  0.0183, -0.0033, -0.0119,\n",
       "        -0.0011,  0.0086,  0.0324, -0.0195,  0.0138, -0.0219,  0.0107,\n",
       "        -0.0128,  0.0145,  0.0078,  0.0285, -0.0028, -0.0195,  0.0188,\n",
       "        -0.0148, -0.0069, -0.0237, -0.0071,  0.0221, -0.0124, -0.0051,\n",
       "        -0.0305,  0.0252, -0.0143,  0.0144,  0.0111, -0.0212,  0.0165,\n",
       "        -0.0183, -0.0015, -0.0589, -0.0137,  0.0101,  0.0049, -0.0092,\n",
       "        -0.0053],\n",
       "       [ 0.0102,  0.0427, -0.0073,  0.0183, -0.0229,  0.0532,  0.01  ,\n",
       "        -0.0089,  0.0063, -0.0112, -0.0044,  0.0003, -0.0026, -0.0113,\n",
       "         0.0161, -0.0301,  0.0299,  0.0005, -0.0079,  0.0028,  0.0131,\n",
       "        -0.0394,  0.0309,  0.005 ,  0.0107, -0.0194, -0.0383, -0.0017,\n",
       "        -0.0042,  0.0065,  0.0341, -0.0134, -0.042 , -0.0212,  0.0029,\n",
       "        -0.0111,  0.0073,  0.0075,  0.007 , -0.0032,  0.0191,  0.0072,\n",
       "        -0.0182,  0.0049,  0.0132,  0.0318,  0.0116, -0.0026,  0.0193,\n",
       "         0.0021]])"
      ]
     },
     "execution_count": 23,
     "metadata": {},
     "output_type": "execute_result"
    }
   ],
   "source": [
    "pinv(A)"
   ]
  },
  {
   "cell_type": "code",
   "execution_count": 24,
   "id": "60a4977c",
   "metadata": {},
   "outputs": [
    {
     "data": {
      "text/plain": [
       "array([[ 0.0197,  0.0192,  0.0088,  0.0229,  0.0226,  0.0021, -0.0136,\n",
       "         0.0126, -0.007 ,  0.0186,  0.0116,  0.0183, -0.0033, -0.0119,\n",
       "        -0.0011,  0.0086,  0.0324, -0.0195,  0.0138, -0.0219,  0.0107,\n",
       "        -0.0128,  0.0145,  0.0078,  0.0285, -0.0028, -0.0195,  0.0188,\n",
       "        -0.0148, -0.0069, -0.0237, -0.0071,  0.0221, -0.0124, -0.0051,\n",
       "        -0.0305,  0.0252, -0.0143,  0.0144,  0.0111, -0.0212,  0.0165,\n",
       "        -0.0183, -0.0015, -0.0589, -0.0137,  0.0101,  0.0049, -0.0092,\n",
       "        -0.0053],\n",
       "       [ 0.0102,  0.0427, -0.0073,  0.0183, -0.0229,  0.0532,  0.01  ,\n",
       "        -0.0089,  0.0063, -0.0112, -0.0044,  0.0003, -0.0026, -0.0113,\n",
       "         0.0161, -0.0301,  0.0299,  0.0005, -0.0079,  0.0028,  0.0131,\n",
       "        -0.0394,  0.0309,  0.005 ,  0.0107, -0.0194, -0.0383, -0.0017,\n",
       "        -0.0042,  0.0065,  0.0341, -0.0134, -0.042 , -0.0212,  0.0029,\n",
       "        -0.0111,  0.0073,  0.0075,  0.007 , -0.0032,  0.0191,  0.0072,\n",
       "        -0.0182,  0.0049,  0.0132,  0.0318,  0.0116, -0.0026,  0.0193,\n",
       "         0.0021]])"
      ]
     },
     "execution_count": 24,
     "metadata": {},
     "output_type": "execute_result"
    }
   ],
   "source": [
    "np.linalg.pinv(A)"
   ]
  },
  {
   "cell_type": "code",
   "execution_count": 25,
   "id": "87bcedd7",
   "metadata": {},
   "outputs": [
    {
     "name": "stdout",
     "output_type": "stream",
     "text": [
      "True\n",
      "[63.504  50.7647  0.     -0.     -0.     -0.      0.      0.     -0.\n",
      " -0.      0.      0.      0.     -0.     -0.      0.      0.     -0.\n",
      " -0.      0.      0.      0.     -0.     -0.      0.      0.     -0.\n",
      " -0.     -0.      0.      0.     -0.     -0.     -0.      0.      0.\n",
      " -0.     -0.      0.      0.     -0.      0.     -0.      0.      0.\n",
      " -0.      0.      0.      0.      0.    ]\n",
      "[63.504  50.7647]\n",
      "True\n",
      "True\n"
     ]
    },
    {
     "data": {
      "text/plain": [
       "True"
      ]
     },
     "execution_count": 25,
     "metadata": {},
     "output_type": "execute_result"
    }
   ],
   "source": [
    "np.allclose(pinv(A), np.linalg.pinv(A))  "
   ]
  },
  {
   "cell_type": "code",
   "execution_count": null,
   "id": "05d89ed4",
   "metadata": {},
   "outputs": [],
   "source": []
  }
 ],
 "metadata": {
  "kernelspec": {
   "display_name": "base",
   "language": "python",
   "name": "python3"
  },
  "language_info": {
   "codemirror_mode": {
    "name": "ipython",
    "version": 3
   },
   "file_extension": ".py",
   "mimetype": "text/x-python",
   "name": "python",
   "nbconvert_exporter": "python",
   "pygments_lexer": "ipython3",
   "version": "3.12.7"
  }
 },
 "nbformat": 4,
 "nbformat_minor": 5
}
