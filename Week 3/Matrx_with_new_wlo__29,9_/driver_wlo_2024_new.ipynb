{
 "cells": [
  {
   "cell_type": "code",
   "execution_count": 41,
   "id": "28cb770f",
   "metadata": {},
   "outputs": [],
   "source": [
    "from pynq import Overlay\n",
    "ol = Overlay('matrix.bit')"
   ]
  },
  {
   "cell_type": "code",
   "execution_count": 42,
   "id": "0fb2a014",
   "metadata": {},
   "outputs": [],
   "source": [
    "ol?"
   ]
  },
  {
   "cell_type": "code",
   "execution_count": 43,
   "id": "cbe94b22",
   "metadata": {},
   "outputs": [],
   "source": [
    "dma = ol.axi_dma_0"
   ]
  },
  {
   "cell_type": "code",
   "execution_count": 44,
   "id": "5c6199ad",
   "metadata": {},
   "outputs": [],
   "source": [
    "data_send = dma.sendchannel\n",
    "data_recv = dma.recvchannel"
   ]
  },
  {
   "cell_type": "code",
   "execution_count": 45,
   "id": "c5e5c50d",
   "metadata": {},
   "outputs": [],
   "source": [
    "import numpy as np\n",
    "import random "
   ]
  },
  {
   "cell_type": "code",
   "execution_count": 46,
   "id": "5da50a90",
   "metadata": {},
   "outputs": [],
   "source": [
    "np.random.seed(2)\n",
    "data_A = np.random.uniform(low=1, high=2, size=(100, 100)).astype(np.float32)\n",
    "data_B = np.random.uniform(low=1, high=2, size=(100, 100)).astype(np.float32)"
   ]
  },
  {
   "cell_type": "code",
   "execution_count": 47,
   "id": "4fd9d107",
   "metadata": {},
   "outputs": [
    {
     "data": {
      "text/plain": [
       "(array([[1.4359949, 1.0259262, 1.5496625, ..., 1.6614814, 1.1704772,\n",
       "         1.8816522],\n",
       "        [1.7780081, 1.1339542, 1.8689166, ..., 1.5702742, 1.9167147,\n",
       "         1.7022642],\n",
       "        [1.5012164, 1.5060868, 1.2188208, ..., 1.4366698, 1.0150561,\n",
       "         1.8929058],\n",
       "        ...,\n",
       "        [1.847501 , 1.1313586, 1.7483047, ..., 1.6138644, 1.3013813,\n",
       "         1.8357257],\n",
       "        [1.5905588, 1.2815592, 1.4710027, ..., 1.655506 , 1.2187415,\n",
       "         1.8921831],\n",
       "        [1.7206911, 1.8850913, 1.7887506, ..., 1.7341762, 1.7731632,\n",
       "         1.1732733]], dtype=float32),\n",
       " array([[1.0452094, 1.2608347, 1.8567044, ..., 1.2371148, 1.9927218,\n",
       "         1.8107768],\n",
       "        [1.1943675, 1.8347253, 1.1511418, ..., 1.9865398, 1.2742292,\n",
       "         1.3714733],\n",
       "        [1.3303086, 1.3614248, 1.1113402, ..., 1.9762256, 1.875261 ,\n",
       "         1.8830626],\n",
       "        ...,\n",
       "        [1.4594083, 1.378022 , 1.2150073, ..., 1.5419246, 1.8748583,\n",
       "         1.9212986],\n",
       "        [1.1159571, 1.1270329, 1.3810983, ..., 1.49693  , 1.3382878,\n",
       "         1.6987914],\n",
       "        [1.89287  , 1.5859146, 1.3552485, ..., 1.0081687, 1.8708602,\n",
       "         1.0389909]], dtype=float32))"
      ]
     },
     "execution_count": 47,
     "metadata": {},
     "output_type": "execute_result"
    }
   ],
   "source": [
    "data_A, data_B"
   ]
  },
  {
   "cell_type": "code",
   "execution_count": 48,
   "id": "a5869065",
   "metadata": {},
   "outputs": [],
   "source": [
    "def multiply(matrix_a, matrix_b):\n",
    "    result_matrix = np.zeros((100,100))\n",
    "    for i in range(100):\n",
    "        for j in range(100):\n",
    "            for k in range(100):\n",
    "                result_matrix[i][j] += matrix_a[i][k] * matrix_b[k][j]\n",
    "                \n",
    "    return result_matrix"
   ]
  },
  {
   "cell_type": "code",
   "execution_count": 49,
   "id": "74c9f1c8",
   "metadata": {},
   "outputs": [
    {
     "name": "stdout",
     "output_type": "stream",
     "text": [
      "7.063893556594849\n"
     ]
    }
   ],
   "source": [
    "import time\n",
    "start_time = time.time()\n",
    "ans = multiply(data_A, data_B) #software\n",
    "end_time = time.time()\n",
    "print(end_time - start_time)"
   ]
  },
  {
   "cell_type": "code",
   "execution_count": 50,
   "id": "e2d3ba34",
   "metadata": {},
   "outputs": [],
   "source": [
    "from pynq import allocate"
   ]
  },
  {
   "cell_type": "code",
   "execution_count": 51,
   "id": "ea35010e",
   "metadata": {},
   "outputs": [],
   "source": [
    "data_a_f = data_A.flatten()\n",
    "data_b_f = data_B.flatten()\n",
    "\n",
    "data_input = np.concatenate([data_a_f, data_b_f])"
   ]
  },
  {
   "cell_type": "code",
   "execution_count": 52,
   "id": "7a3e3b23",
   "metadata": {},
   "outputs": [
    {
     "data": {
      "text/plain": [
       "array([1.4359949, 1.0259262, 1.5496625, ..., 1.0081687, 1.8708602,\n",
       "       1.0389909], dtype=float32)"
      ]
     },
     "execution_count": 52,
     "metadata": {},
     "output_type": "execute_result"
    }
   ],
   "source": [
    "data_input"
   ]
  },
  {
   "cell_type": "code",
   "execution_count": 53,
   "id": "d56f88e8",
   "metadata": {},
   "outputs": [],
   "source": [
    "input_buffer = allocate(20000, np.float32)\n",
    "output_buffer = allocate((100,100), np.float32)"
   ]
  },
  {
   "cell_type": "code",
   "execution_count": 54,
   "id": "02985793",
   "metadata": {},
   "outputs": [],
   "source": [
    "np.copyto(input_buffer, data_input)"
   ]
  },
  {
   "cell_type": "code",
   "execution_count": 55,
   "id": "ce08ccd0",
   "metadata": {},
   "outputs": [
    {
     "name": "stdout",
     "output_type": "stream",
     "text": [
      "0.0014595985412597656\n"
     ]
    }
   ],
   "source": [
    "start_time = time.time()\n",
    "data_send.transfer(input_buffer)\n",
    "data_recv.transfer(output_buffer)\n",
    "data_send.wait()\n",
    "data_recv.wait()\n",
    "end_time = time.time()\n",
    "print(end_time - start_time)"
   ]
  },
  {
   "cell_type": "code",
   "execution_count": 56,
   "id": "1a86fc76",
   "metadata": {},
   "outputs": [
    {
     "data": {
      "text/plain": [
       "(PynqBuffer([[217.48277, 222.71255, 220.83287, ..., 219.4906 , 224.9741 ,\n",
       "              217.24992],\n",
       "             [220.3781 , 224.40662, 222.44363, ..., 221.762  , 224.92418,\n",
       "              220.50197],\n",
       "             [229.01155, 234.39165, 232.6488 , ..., 231.39522, 235.24248,\n",
       "              227.72006],\n",
       "             ...,\n",
       "             [220.08456, 224.69226, 223.47789, ..., 222.72943, 228.50632,\n",
       "              217.70721],\n",
       "             [221.11069, 226.11174, 224.38988, ..., 222.25142, 228.01703,\n",
       "              221.03624],\n",
       "             [227.85168, 235.06366, 231.7223 , ..., 228.84613, 233.75198,\n",
       "              228.59952]], dtype=float32),\n",
       " array([[217.48294699, 222.71273971, 220.83305275, ..., 219.49077332,\n",
       "         224.97428167, 217.25010383],\n",
       "        [220.37826884, 224.40679729, 222.44380903, ..., 221.76216829,\n",
       "         224.92434335, 220.50214183],\n",
       "        [229.01171958, 234.39184022, 232.64898372, ..., 231.39539874,\n",
       "         235.24265206, 227.72024119],\n",
       "        ...,\n",
       "        [220.08473825, 224.69243026, 223.47806537, ..., 222.72961414,\n",
       "         228.50648773, 217.70738184],\n",
       "        [221.11086345, 226.1119343 , 224.39006293, ..., 222.25160062,\n",
       "         228.01720667, 221.03642857],\n",
       "        [227.85185397, 235.06385028, 231.72248745, ..., 228.84631276,\n",
       "         233.75215447, 228.59968376]]))"
      ]
     },
     "execution_count": 56,
     "metadata": {},
     "output_type": "execute_result"
    }
   ],
   "source": [
    "output_buffer, ans"
   ]
  },
  {
   "cell_type": "code",
   "execution_count": 57,
   "id": "510e6221",
   "metadata": {},
   "outputs": [],
   "source": [
    "diff = np.dot(data_A, data_B) - output_buffer"
   ]
  },
  {
   "cell_type": "code",
   "execution_count": 58,
   "id": "a0f8132c",
   "metadata": {},
   "outputs": [],
   "source": [
    "#rms error \n",
    "rms_error = np.sqrt(np.mean(diff**2))"
   ]
  },
  {
   "cell_type": "code",
   "execution_count": 59,
   "id": "8788aabe",
   "metadata": {},
   "outputs": [
    {
     "data": {
      "text/plain": [
       "PynqBuffer([[0.00013733, 0.00019836, 0.00021362, ..., 0.00021362,\n",
       "             0.00016785, 0.00013733],\n",
       "            [0.00019836, 0.00012207, 0.00018311, ..., 0.00022888,\n",
       "             0.00021362, 0.00019836],\n",
       "            [0.00018311, 0.00019836, 0.00021362, ..., 0.00018311,\n",
       "             0.00016785, 0.00012207],\n",
       "            ...,\n",
       "            [0.00018311, 0.00015259, 0.00013733, ..., 0.00018311,\n",
       "             0.00016785, 0.00019836],\n",
       "            [0.00019836, 0.00019836, 0.00019836, ..., 0.00013733,\n",
       "             0.00015259, 0.00015259],\n",
       "            [0.00012207, 0.0002594 , 0.00019836, ..., 0.00016785,\n",
       "             0.00013733, 0.00013733]], dtype=float32)"
      ]
     },
     "execution_count": 59,
     "metadata": {},
     "output_type": "execute_result"
    }
   ],
   "source": [
    "diff"
   ]
  },
  {
   "cell_type": "code",
   "execution_count": 60,
   "id": "70230b60",
   "metadata": {},
   "outputs": [
    {
     "data": {
      "text/plain": [
       "PynqBuffer(0.00017698, dtype=float32)"
      ]
     },
     "execution_count": 60,
     "metadata": {},
     "output_type": "execute_result"
    }
   ],
   "source": [
    "rms_error"
   ]
  },
  {
   "cell_type": "code",
   "execution_count": 68,
   "id": "15070fcb",
   "metadata": {},
   "outputs": [
    {
     "name": "stdout",
     "output_type": "stream",
     "text": [
      "CPU times: user 17.5 ms, sys: 0 ns, total: 17.5 ms\n",
      "Wall time: 7.58 ms\n"
     ]
    },
    {
     "data": {
      "text/plain": [
       "array([[217.48291, 222.71275, 220.83308, ..., 219.49081, 224.97427,\n",
       "        217.25006],\n",
       "       [220.3783 , 224.40674, 222.44382, ..., 221.76222, 224.9244 ,\n",
       "        220.50217],\n",
       "       [229.01173, 234.39185, 232.64902, ..., 231.3954 , 235.24265,\n",
       "        227.72018],\n",
       "       ...,\n",
       "       [220.08475, 224.69241, 223.47803, ..., 222.72961, 228.50648,\n",
       "        217.70741],\n",
       "       [221.11089, 226.11194, 224.39008, ..., 222.25156, 228.01718,\n",
       "        221.03639],\n",
       "       [227.8518 , 235.06392, 231.7225 , ..., 228.8463 , 233.75212,\n",
       "        228.59966]], dtype=float32)"
      ]
     },
     "execution_count": 68,
     "metadata": {},
     "output_type": "execute_result"
    }
   ],
   "source": [
    "%%time\n",
    "\n",
    "np.dot(data_A, data_B)"
   ]
  },
  {
   "cell_type": "code",
   "execution_count": null,
   "id": "02b9cd7e",
   "metadata": {},
   "outputs": [],
   "source": []
  }
 ],
 "metadata": {
  "kernelspec": {
   "display_name": "Python 3",
   "language": "python",
   "name": "python3"
  },
  "language_info": {
   "codemirror_mode": {
    "name": "ipython",
    "version": 3
   },
   "file_extension": ".py",
   "mimetype": "text/x-python",
   "name": "python",
   "nbconvert_exporter": "python",
   "pygments_lexer": "ipython3",
   "version": "3.8.2"
  }
 },
 "nbformat": 4,
 "nbformat_minor": 5
}
