{
 "cells": [
  {
   "cell_type": "code",
   "execution_count": 23,
   "metadata": {},
   "outputs": [],
   "source": [
    "from pynq import Overlay\n",
    "import time\n",
    "ol = Overlay('matrix.bit')"
   ]
  },
  {
   "cell_type": "code",
   "execution_count": 3,
   "metadata": {},
   "outputs": [],
   "source": [
    "#ol?"
   ]
  },
  {
   "cell_type": "code",
   "execution_count": 24,
   "metadata": {},
   "outputs": [],
   "source": [
    "dma = ol.axi_dma_0"
   ]
  },
  {
   "cell_type": "code",
   "execution_count": 25,
   "metadata": {},
   "outputs": [],
   "source": [
    "data_send = dma.sendchannel\n",
    "data_recv = dma.recvchannel"
   ]
  },
  {
   "cell_type": "code",
   "execution_count": 26,
   "metadata": {},
   "outputs": [],
   "source": [
    "import numpy as np\n",
    "import random "
   ]
  },
  {
   "cell_type": "code",
   "execution_count": 28,
   "metadata": {},
   "outputs": [],
   "source": [
    "random.seed(2)\n",
    "data_A = np.random.uniform(low=1, high=2, size=(100, 100)).astype(float)\n",
    "data_B = np.random.uniform(low=1, high=2, size=(100, 100)).astype(float)"
   ]
  },
  {
   "cell_type": "code",
   "execution_count": 29,
   "metadata": {},
   "outputs": [
    {
     "data": {
      "text/plain": [
       "(array([[1.02758367, 1.79277347, 1.96069385, ..., 1.62360982, 1.56664345,\n",
       "         1.93705986],\n",
       "        [1.46181429, 1.3144024 , 1.65516053, ..., 1.74166442, 1.28461952,\n",
       "         1.46022058],\n",
       "        [1.93624996, 1.23573704, 1.4886385 , ..., 1.47915547, 1.492076  ,\n",
       "         1.10954058],\n",
       "        ...,\n",
       "        [1.35782461, 1.1347987 , 1.71530205, ..., 1.4761217 , 1.77429555,\n",
       "         1.29492127],\n",
       "        [1.89475049, 1.04328299, 1.15650205, ..., 1.91494901, 1.41000948,\n",
       "         1.18962187],\n",
       "        [1.5184021 , 1.59365653, 1.27262973, ..., 1.15259854, 1.91637053,\n",
       "         1.61390598]]),\n",
       " array([[1.95660197, 1.27103886, 1.49315603, ..., 1.81484665, 1.51278007,\n",
       "         1.7330087 ],\n",
       "        [1.79521075, 1.1327877 , 1.58825854, ..., 1.93624692, 1.64872299,\n",
       "         1.66518519],\n",
       "        [1.34434921, 1.67453998, 1.41544589, ..., 1.84108073, 1.0862692 ,\n",
       "         1.75905224],\n",
       "        ...,\n",
       "        [1.09095707, 1.81674104, 1.07816395, ..., 1.13886635, 1.30106798,\n",
       "         1.92094713],\n",
       "        [1.51223462, 1.3396721 , 1.8833168 , ..., 1.94642429, 1.3798746 ,\n",
       "         1.23672008],\n",
       "        [1.07143425, 1.3802351 , 1.25326043, ..., 1.82437659, 1.31844467,\n",
       "         1.36295549]]))"
      ]
     },
     "execution_count": 29,
     "metadata": {},
     "output_type": "execute_result"
    }
   ],
   "source": [
    "data_A, data_B"
   ]
  },
  {
   "cell_type": "code",
   "execution_count": 33,
   "metadata": {},
   "outputs": [],
   "source": [
    "def multiply(matrix_a, matrix_b):\n",
    "    result_matrix = np.zeros((100,100))\n",
    "    for i in range(100):\n",
    "        for j in range(100):\n",
    "            for k in range(100):\n",
    "                result_matrix[i][j] += matrix_a[i][k] * matrix_b[k][j]\n",
    "                \n",
    "    return result_matrix"
   ]
  },
  {
   "cell_type": "code",
   "execution_count": 34,
   "metadata": {},
   "outputs": [
    {
     "name": "stdout",
     "output_type": "stream",
     "text": [
      "6.23567795753479\n"
     ]
    }
   ],
   "source": [
    "start_time = time.time()\n",
    "multiply(data_A, data_B) #software\n",
    "end_time = time.time()\n",
    "print(end_time - start_time)"
   ]
  },
  {
   "cell_type": "code",
   "execution_count": 35,
   "metadata": {},
   "outputs": [],
   "source": [
    "from pynq import allocate"
   ]
  },
  {
   "cell_type": "code",
   "execution_count": 36,
   "metadata": {},
   "outputs": [],
   "source": [
    "data_a_f = data_A.flatten()\n",
    "data_b_f = data_B.flatten()\n",
    "\n",
    "data_input = np.concatenate([data_a_f, data_b_f])"
   ]
  },
  {
   "cell_type": "code",
   "execution_count": 37,
   "metadata": {},
   "outputs": [
    {
     "data": {
      "text/plain": [
       "array([1.02758367, 1.79277347, 1.96069385, ..., 1.82437659, 1.31844467,\n",
       "       1.36295549])"
      ]
     },
     "execution_count": 37,
     "metadata": {},
     "output_type": "execute_result"
    }
   ],
   "source": [
    "data_input"
   ]
  },
  {
   "cell_type": "code",
   "execution_count": 39,
   "metadata": {},
   "outputs": [],
   "source": [
    "input_buffer = allocate(100*100*2, np.float32)\n",
    "output_buffer = allocate((100,100), np.float32)"
   ]
  },
  {
   "cell_type": "code",
   "execution_count": 40,
   "metadata": {},
   "outputs": [],
   "source": [
    "np.copyto(input_buffer, data_input)"
   ]
  },
  {
   "cell_type": "code",
   "execution_count": 43,
   "metadata": {},
   "outputs": [
    {
     "name": "stdout",
     "output_type": "stream",
     "text": [
      "0.03267526626586914\n"
     ]
    }
   ],
   "source": [
    "start_time = time.time()\n",
    "data_send.transfer(input_buffer)\n",
    "data_recv.transfer(output_buffer)\n",
    "data_send.wait()\n",
    "data_recv.wait()\n",
    "end_time = time.time()\n",
    "print(end_time - start_time)"
   ]
  },
  {
   "cell_type": "code",
   "execution_count": 44,
   "metadata": {},
   "outputs": [
    {
     "data": {
      "text/plain": [
       "PynqBuffer([[229.31499, 213.26712, 217.56096, ..., 221.48009, 224.40088,\n",
       "             221.64177],\n",
       "            [232.05087, 216.6436 , 221.45345, ..., 223.39395, 226.59868,\n",
       "             224.28944],\n",
       "            [237.70296, 221.67886, 228.51883, ..., 228.56053, 231.6273 ,\n",
       "             231.04417],\n",
       "            ...,\n",
       "            [237.2951 , 223.83134, 227.9006 , ..., 229.28314, 232.39648,\n",
       "             231.5579 ],\n",
       "            [234.3505 , 217.34581, 223.46545, ..., 224.2848 , 226.56297,\n",
       "             226.15886],\n",
       "            [227.6924 , 210.71263, 217.46356, ..., 220.19905, 223.62665,\n",
       "             220.36137]], dtype=float32)"
      ]
     },
     "execution_count": 44,
     "metadata": {},
     "output_type": "execute_result"
    }
   ],
   "source": [
    "output_buffer"
   ]
  },
  {
   "cell_type": "code",
   "execution_count": 45,
   "metadata": {},
   "outputs": [],
   "source": [
    "diff = np.dot(data_A, data_B) - output_buffer"
   ]
  },
  {
   "cell_type": "code",
   "execution_count": 85,
   "metadata": {},
   "outputs": [],
   "source": [
    "rms_error = np.sqrt(np.mean(diff**2)) "
   ]
  },
  {
   "cell_type": "code",
   "execution_count": 60,
   "metadata": {},
   "outputs": [
    {
     "data": {
      "text/plain": [
       "(PynqBuffer([[-5.27744149e-06, -8.55481261e-07, -5.43558662e-06, ...,\n",
       "               2.27535870e-05, -5.37467713e-07, -3.22216125e-05],\n",
       "             [ 3.06554925e-05,  2.07101608e-05,  4.19613430e-05, ...,\n",
       "               1.57229907e-05,  3.81117650e-06,  5.39301010e-06],\n",
       "             [-4.00900539e-05,  4.63843638e-05, -1.41070602e-05, ...,\n",
       "               2.79219779e-05, -5.04511490e-06, -4.97607423e-05],\n",
       "             ...,\n",
       "             [ 8.80234245e-06, -3.35164827e-07, -2.01015380e-05, ...,\n",
       "              -4.83960164e-06,  1.97904280e-05, -1.07244557e-05],\n",
       "             [ 6.14639336e-06,  1.48122664e-05,  1.37776703e-05, ...,\n",
       "               1.08913228e-05,  2.43059203e-05, -1.00066157e-06],\n",
       "             [ 3.15006646e-05, -3.46384275e-05, -1.46249834e-05, ...,\n",
       "              -2.81820189e-05,  5.55518364e-05, -2.43192637e-05]]),\n",
       " PynqBuffer(3.1609277e-05))"
      ]
     },
     "execution_count": 60,
     "metadata": {},
     "output_type": "execute_result"
    }
   ],
   "source": [
    "diff, rms_error"
   ]
  },
  {
   "cell_type": "code",
   "execution_count": 61,
   "metadata": {},
   "outputs": [
    {
     "name": "stdout",
     "output_type": "stream",
     "text": [
      "CPU times: user 60.3 ms, sys: 0 ns, total: 60.3 ms\n",
      "Wall time: 20.1 ms\n"
     ]
    },
    {
     "data": {
      "text/plain": [
       "array([[229.31498191, 213.26711951, 217.56095343, ..., 221.48011003,\n",
       "        224.40087837, 221.64173719],\n",
       "       [232.05090346, 216.64362117, 221.4534874 , ..., 223.39396714,\n",
       "        226.5986824 , 224.28944936],\n",
       "       [237.70291706, 221.67890991, 228.51881524, ..., 228.56055954,\n",
       "        231.62729903, 231.04412443],\n",
       "       ...,\n",
       "       [237.29511378, 223.83134427, 227.90058415, ..., 229.28313725,\n",
       "        232.39650417, 231.55789638],\n",
       "       [234.35050053, 217.34582475, 223.46546788, ..., 224.28481619,\n",
       "        226.56299733, 226.15885825],\n",
       "       [227.69242957, 210.71259659, 217.46354739, ..., 220.19902272,\n",
       "        223.6267035 , 220.36134958]])"
      ]
     },
     "execution_count": 61,
     "metadata": {},
     "output_type": "execute_result"
    }
   ],
   "source": [
    "%%time\n",
    "np.dot(data_A, data_B)"
   ]
  },
  {
   "cell_type": "code",
   "execution_count": null,
   "metadata": {},
   "outputs": [],
   "source": []
  },
  {
   "cell_type": "code",
   "execution_count": 86,
   "metadata": {},
   "outputs": [
    {
     "data": {
      "text/plain": [
       "PynqBuffer(5.58996212e-06)"
      ]
     },
     "execution_count": 86,
     "metadata": {},
     "output_type": "execute_result"
    }
   ],
   "source": [
    "rms_error"
   ]
  },
  {
   "cell_type": "code",
   "execution_count": null,
   "metadata": {},
   "outputs": [],
   "source": []
  }
 ],
 "metadata": {
  "kernelspec": {
   "display_name": "Python 3",
   "language": "python",
   "name": "python3"
  },
  "language_info": {
   "codemirror_mode": {
    "name": "ipython",
    "version": 3
   },
   "file_extension": ".py",
   "mimetype": "text/x-python",
   "name": "python",
   "nbconvert_exporter": "python",
   "pygments_lexer": "ipython3",
   "version": "3.8.2"
  }
 },
 "nbformat": 4,
 "nbformat_minor": 2
}
