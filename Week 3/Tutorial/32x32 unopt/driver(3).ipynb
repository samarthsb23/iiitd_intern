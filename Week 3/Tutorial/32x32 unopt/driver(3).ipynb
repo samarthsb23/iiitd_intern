{
 "cells": [
  {
   "cell_type": "code",
   "execution_count": 70,
   "metadata": {},
   "outputs": [],
   "source": [
    "from pynq import Overlay\n",
    "import time\n",
    "ol = Overlay('matrix.bit')"
   ]
  },
  {
   "cell_type": "code",
   "execution_count": 3,
   "metadata": {},
   "outputs": [],
   "source": [
    "#ol?"
   ]
  },
  {
   "cell_type": "code",
   "execution_count": 71,
   "metadata": {},
   "outputs": [],
   "source": [
    "dma = ol.axi_dma_0"
   ]
  },
  {
   "cell_type": "code",
   "execution_count": 72,
   "metadata": {},
   "outputs": [],
   "source": [
    "data_send = dma.sendchannel\n",
    "data_recv = dma.recvchannel"
   ]
  },
  {
   "cell_type": "code",
   "execution_count": 73,
   "metadata": {},
   "outputs": [],
   "source": [
    "import numpy as np\n",
    "import random "
   ]
  },
  {
   "cell_type": "code",
   "execution_count": 74,
   "metadata": {},
   "outputs": [],
   "source": [
    "random.seed(2)\n",
    "data_A = np.random.uniform(low=1, high=2, size=(32, 32)).astype(float)\n",
    "data_B = np.random.uniform(low=1, high=2, size=(32, 32)).astype(float)"
   ]
  },
  {
   "cell_type": "code",
   "execution_count": 75,
   "metadata": {},
   "outputs": [
    {
     "data": {
      "text/plain": [
       "(array([[1.35540523, 1.9015954 , 1.72909453, ..., 1.77809696, 1.84822596,\n",
       "         1.47975513],\n",
       "        [1.93407165, 1.27019726, 1.88648091, ..., 1.5127058 , 1.20765421,\n",
       "         1.38141031],\n",
       "        [1.29582721, 1.31015558, 1.70945865, ..., 1.73287527, 1.21808493,\n",
       "         1.33790179],\n",
       "        ...,\n",
       "        [1.90172866, 1.39270347, 1.89796209, ..., 1.08439472, 1.70552319,\n",
       "         1.57903632],\n",
       "        [1.62421922, 1.62320184, 1.62491543, ..., 1.63716749, 1.1012979 ,\n",
       "         1.23947358],\n",
       "        [1.04580102, 1.67661448, 1.43576529, ..., 1.61921871, 1.59340138,\n",
       "         1.70233142]]),\n",
       " array([[1.60270689, 1.13669181, 1.75649831, ..., 1.47076429, 1.27498727,\n",
       "         1.34346027],\n",
       "        [1.68067822, 1.04254593, 1.67863652, ..., 1.80269848, 1.43131865,\n",
       "         1.90968769],\n",
       "        [1.67469241, 1.40637774, 1.47374611, ..., 1.2191692 , 1.32431405,\n",
       "         1.30568718],\n",
       "        ...,\n",
       "        [1.8910264 , 1.54537781, 1.82955803, ..., 1.80268988, 1.51744763,\n",
       "         1.42916529],\n",
       "        [1.67290161, 1.143931  , 1.32431637, ..., 1.77160364, 1.95401706,\n",
       "         1.96300733],\n",
       "        [1.82802278, 1.42365759, 1.54435711, ..., 1.79213653, 1.24404162,\n",
       "         1.09059176]]))"
      ]
     },
     "execution_count": 75,
     "metadata": {},
     "output_type": "execute_result"
    }
   ],
   "source": [
    "data_A, data_B"
   ]
  },
  {
   "cell_type": "code",
   "execution_count": 76,
   "metadata": {},
   "outputs": [],
   "source": [
    "def multiply(matrix_a, matrix_b):\n",
    "    result_matrix = np.zeros((8,8))\n",
    "    for i in range(8):\n",
    "        for j in range(8):\n",
    "            for k in range(8):\n",
    "                result_matrix[i][j] += matrix_a[i][k] * matrix_b[k][j]\n",
    "                \n",
    "    return result_matrix"
   ]
  },
  {
   "cell_type": "code",
   "execution_count": 96,
   "metadata": {},
   "outputs": [
    {
     "name": "stdout",
     "output_type": "stream",
     "text": [
      "0.00411534309387207\n"
     ]
    }
   ],
   "source": [
    "start_time = time.time()\n",
    "multiply(data_A, data_B) #software\n",
    "end_time = time.time()\n",
    "print(end_time - start_time)"
   ]
  },
  {
   "cell_type": "code",
   "execution_count": 78,
   "metadata": {},
   "outputs": [],
   "source": [
    "from pynq import allocate"
   ]
  },
  {
   "cell_type": "code",
   "execution_count": 79,
   "metadata": {},
   "outputs": [],
   "source": [
    "data_a_f = data_A.flatten()\n",
    "data_b_f = data_B.flatten()\n",
    "\n",
    "data_input = np.concatenate([data_a_f, data_b_f])"
   ]
  },
  {
   "cell_type": "code",
   "execution_count": 80,
   "metadata": {},
   "outputs": [
    {
     "data": {
      "text/plain": [
       "array([1.35540523, 1.9015954 , 1.72909453, ..., 1.79213653, 1.24404162,\n",
       "       1.09059176])"
      ]
     },
     "execution_count": 80,
     "metadata": {},
     "output_type": "execute_result"
    }
   ],
   "source": [
    "data_input"
   ]
  },
  {
   "cell_type": "code",
   "execution_count": 82,
   "metadata": {},
   "outputs": [],
   "source": [
    "input_buffer = allocate(32*32*2, np.float32)\n",
    "output_buffer = allocate((32,32), np.float32)"
   ]
  },
  {
   "cell_type": "code",
   "execution_count": 83,
   "metadata": {},
   "outputs": [],
   "source": [
    "np.copyto(input_buffer, data_input)"
   ]
  },
  {
   "cell_type": "code",
   "execution_count": 99,
   "metadata": {},
   "outputs": [
    {
     "name": "stdout",
     "output_type": "stream",
     "text": [
      "0.002302885055541992\n"
     ]
    }
   ],
   "source": [
    "start_time = time.time()\n",
    "data_send.transfer(input_buffer)\n",
    "data_recv.transfer(output_buffer)\n",
    "data_send.wait()\n",
    "data_recv.wait()\n",
    "end_time = time.time()\n",
    "print(end_time - start_time)"
   ]
  },
  {
   "cell_type": "code",
   "execution_count": 85,
   "metadata": {},
   "outputs": [
    {
     "data": {
      "text/plain": [
       "PynqBuffer([[70.61295 , 68.14172 , 77.79781 , ..., 71.09414 , 74.12363 ,\n",
       "             72.29167 ],\n",
       "            [68.80208 , 65.669945, 75.28384 , ..., 67.916565, 72.465225,\n",
       "             69.13204 ],\n",
       "            [66.40065 , 64.50014 , 73.34958 , ..., 65.51504 , 71.10686 ,\n",
       "             67.7134  ],\n",
       "            ...,\n",
       "            [68.20529 , 65.4012  , 75.181496, ..., 68.846146, 72.76851 ,\n",
       "             69.636   ],\n",
       "            [66.51105 , 64.654625, 73.1568  , ..., 65.85971 , 70.50036 ,\n",
       "             67.84411 ],\n",
       "            [69.352516, 66.99948 , 75.74866 , ..., 69.33113 , 72.94032 ,\n",
       "             69.70499 ]], dtype=float32)"
      ]
     },
     "execution_count": 85,
     "metadata": {},
     "output_type": "execute_result"
    }
   ],
   "source": [
    "output_buffer"
   ]
  },
  {
   "cell_type": "code",
   "execution_count": 86,
   "metadata": {},
   "outputs": [],
   "source": [
    "diff = np.dot(data_A, data_B) - output_buffer"
   ]
  },
  {
   "cell_type": "code",
   "execution_count": 87,
   "metadata": {},
   "outputs": [],
   "source": [
    "rms_error = np.sqrt(np.mean(diff**2))"
   ]
  },
  {
   "cell_type": "code",
   "execution_count": 88,
   "metadata": {},
   "outputs": [
    {
     "data": {
      "text/plain": [
       "(PynqBuffer([[-8.07020302e-06, -1.03570779e-05, -2.10341877e-06, ...,\n",
       "               1.54530187e-06,  1.21737603e-05,  1.06357447e-06],\n",
       "             [ 4.41643606e-06,  6.48833110e-06, -1.58808950e-05, ...,\n",
       "              -2.41963582e-06,  1.66459112e-05,  3.01677784e-06],\n",
       "             [-4.22144974e-06,  8.12530241e-06,  8.15668798e-07, ...,\n",
       "               7.74689354e-07,  3.32025955e-06, -3.14817663e-06],\n",
       "             ...,\n",
       "             [ 4.01341946e-06,  4.92637068e-06, -1.86231004e-06, ...,\n",
       "               1.61870078e-06,  1.59594947e-07,  1.61001134e-06],\n",
       "             [ 1.16749550e-06, -4.28452414e-06, -7.02538890e-06, ...,\n",
       "              -1.52816017e-06,  5.71798837e-06, -8.61427012e-07],\n",
       "             [-1.21609204e-07,  1.87833939e-06, -4.98143349e-06, ...,\n",
       "              -7.12786560e-06,  7.42221867e-06, -1.03505348e-05]]),\n",
       " PynqBuffer(6.18494001e-06))"
      ]
     },
     "execution_count": 88,
     "metadata": {},
     "output_type": "execute_result"
    }
   ],
   "source": [
    "diff, rms_error"
   ]
  },
  {
   "cell_type": "code",
   "execution_count": 94,
   "metadata": {},
   "outputs": [
    {
     "name": "stdout",
     "output_type": "stream",
     "text": [
      "CPU times: user 539 µs, sys: 0 ns, total: 539 µs\n",
      "Wall time: 444 µs\n"
     ]
    },
    {
     "data": {
      "text/plain": [
       "array([[70.61294512, 68.14171328, 77.79781131, ..., 71.09414064,\n",
       "        74.12363888, 72.29167282],\n",
       "       [68.80208266, 65.66995125, 75.28382048, ..., 67.91656252,\n",
       "        72.46524187, 69.13204495],\n",
       "       [66.4006458 , 64.50014545, 73.34957967, ..., 65.51503831,\n",
       "        71.10686062, 67.71339865],\n",
       "       ...,\n",
       "       [68.20529576, 65.40120427, 75.1814938 , ..., 68.84614725,\n",
       "        72.76850907, 69.6360032 ],\n",
       "       [66.51104853, 64.65462065, 73.15679229, ..., 65.85970917,\n",
       "        70.5003643 , 67.84410772],\n",
       "       [69.35251605, 66.99948308, 75.74865225, ..., 69.33112385,\n",
       "        72.9403303 , 69.70497622]])"
      ]
     },
     "execution_count": 94,
     "metadata": {},
     "output_type": "execute_result"
    }
   ],
   "source": [
    "%%time\n",
    "np.dot(data_A, data_B)"
   ]
  },
  {
   "cell_type": "code",
   "execution_count": 90,
   "metadata": {},
   "outputs": [
    {
     "data": {
      "text/plain": [
       "PynqBuffer(6.18494001e-06)"
      ]
     },
     "execution_count": 90,
     "metadata": {},
     "output_type": "execute_result"
    }
   ],
   "source": [
    "rms_error"
   ]
  },
  {
   "cell_type": "code",
   "execution_count": null,
   "metadata": {},
   "outputs": [],
   "source": []
  }
 ],
 "metadata": {
  "kernelspec": {
   "display_name": "Python 3",
   "language": "python",
   "name": "python3"
  },
  "language_info": {
   "codemirror_mode": {
    "name": "ipython",
    "version": 3
   },
   "file_extension": ".py",
   "mimetype": "text/x-python",
   "name": "python",
   "nbconvert_exporter": "python",
   "pygments_lexer": "ipython3",
   "version": "3.8.2"
  }
 },
 "nbformat": 4,
 "nbformat_minor": 2
}
