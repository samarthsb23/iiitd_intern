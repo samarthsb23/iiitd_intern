{
 "cells": [
  {
   "cell_type": "code",
   "execution_count": 1,
   "metadata": {},
   "outputs": [],
   "source": [
    "import numpy as np\n",
    "import matplotlib.pyplot as plt"
   ]
  },
  {
   "cell_type": "code",
   "execution_count": 3,
   "metadata": {},
   "outputs": [
    {
     "name": "stdout",
     "output_type": "stream",
     "text": [
      "(array([  1,   3,   5,   7,  10,  11,  12,  13,  14,  15,  16,  17,  18,\n",
      "        19,  20,  21,  22,  23,  24,  25,  26,  27,  28,  29,  30,  31,\n",
      "        32,  33,  34,  35,  36,  37,  39,  40,  41,  42,  43,  44,  45,\n",
      "        46,  47,  49,  50,  52,  54,  55,  56,  57,  58,  59,  60,  61,\n",
      "        62,  64,  65,  67,  68,  69,  70,  71,  72,  73,  74,  75,  76,\n",
      "        77,  78,  79,  80,  82,  83,  84,  85,  86,  87,  88,  89,  90,\n",
      "        91,  92,  93,  94,  95,  96,  97,  98,  99, 100, 101, 102, 103,\n",
      "       104, 105, 106, 109, 110, 111, 112, 113, 114, 115, 116, 118, 119,\n",
      "       120, 122, 123, 124, 125, 126, 127, 128, 129, 130, 131, 132, 133,\n",
      "       134, 135, 137, 138, 139, 140, 141, 142, 143, 144, 145, 147, 148,\n",
      "       150, 151, 152, 153, 154, 155, 156, 157, 158, 159, 160, 162, 163,\n",
      "       164, 165, 166, 167, 168, 169, 171, 172, 173, 174, 175, 176, 177,\n",
      "       178, 179, 180, 181, 182, 183, 184, 185, 186, 188, 189, 190, 191,\n",
      "       192, 193, 194, 195, 196, 197, 198, 199]),)\n",
      "(array([  1,   3,   4,   5,   7,  10,  11,  12,  13,  15,  16,  17,  18,\n",
      "        19,  20,  21,  22,  23,  24,  25,  26,  27,  28,  30,  31,  32,\n",
      "        33,  34,  35,  36,  37,  39,  41,  42,  43,  44,  45,  46,  47,\n",
      "        48,  49,  50,  52,  54,  55,  56,  57,  59,  60,  61,  62,  64,\n",
      "        65,  67,  68,  69,  71,  72,  73,  75,  76,  77,  78,  79,  80,\n",
      "        82,  83,  84,  85,  86,  87,  88,  89,  90,  91,  92,  93,  94,\n",
      "        95,  96,  97,  98,  99, 100, 101, 102, 103, 104, 105, 106, 109,\n",
      "       110, 111, 112, 113, 114, 115, 116, 117, 118, 119, 120, 122, 123,\n",
      "       124, 125, 126, 127, 128, 129, 130, 131, 132, 133, 134, 135, 137,\n",
      "       138, 139, 140, 141, 142, 143, 144, 145, 147, 148, 149, 151, 152,\n",
      "       153, 154, 155, 156, 157, 158, 159, 160, 162, 163, 164, 165, 166,\n",
      "       167, 168, 169, 171, 172, 173, 175, 176, 177, 178, 179, 180, 181,\n",
      "       182, 183, 184, 185, 186, 188, 189, 190, 191, 192, 193, 194, 195,\n",
      "       196, 197, 198, 199]),)\n",
      "(array([  1,   3,   4,   5,   7,  10,  11,  12,  13,  15,  16,  17,  18,\n",
      "        19,  20,  21,  22,  23,  24,  25,  26,  27,  28,  30,  31,  32,\n",
      "        33,  34,  35,  36,  37,  39,  41,  42,  43,  44,  45,  46,  49,\n",
      "        50,  52,  54,  55,  56,  57,  58,  59,  60,  61,  62,  64,  65,\n",
      "        67,  68,  69,  71,  72,  73,  75,  76,  77,  78,  79,  80,  82,\n",
      "        83,  84,  85,  86,  87,  88,  89,  90,  91,  92,  93,  94,  95,\n",
      "        96,  97,  98,  99, 100, 101, 102, 103, 104, 105, 106, 109, 110,\n",
      "       111, 112, 113, 114, 115, 116, 117, 118, 119, 120, 122, 123, 124,\n",
      "       125, 126, 127, 128, 129, 130, 131, 132, 133, 134, 135, 137, 138,\n",
      "       139, 140, 141, 142, 143, 144, 145, 147, 148, 149, 150, 151, 154,\n",
      "       155, 156, 157, 158, 159, 160, 162, 163, 164, 165, 166, 167, 168,\n",
      "       169, 171, 172, 173, 175, 176, 177, 178, 179, 181, 182, 183, 184,\n",
      "       185, 186, 188, 189, 190, 191, 192, 193, 194, 195, 196, 197, 198,\n",
      "       199]),)\n",
      "(array([  1,   3,   4,   5,   7,  10,  11,  12,  13,  15,  16,  17,  18,\n",
      "        19,  20,  21,  22,  23,  24,  25,  26,  27,  28,  30,  31,  32,\n",
      "        33,  34,  35,  36,  37,  39,  41,  42,  43,  44,  45,  46,  49,\n",
      "        50,  52,  54,  55,  56,  57,  59,  60,  61,  62,  64,  65,  67,\n",
      "        68,  69,  71,  72,  73,  75,  76,  77,  78,  79,  80,  83,  84,\n",
      "        85,  86,  87,  88,  89,  90,  91,  92,  93,  94,  95,  96,  97,\n",
      "        99, 100, 101, 102, 103, 104, 105, 106, 109, 110, 111, 112, 113,\n",
      "       114, 115, 116, 117, 118, 119, 120, 122, 123, 124, 125, 126, 127,\n",
      "       128, 129, 130, 131, 132, 133, 134, 135, 137, 138, 139, 140, 141,\n",
      "       142, 143, 144, 145, 147, 148, 150, 151, 154, 155, 156, 157, 158,\n",
      "       159, 160, 162, 163, 164, 165, 166, 167, 168, 169, 171, 172, 173,\n",
      "       175, 176, 177, 178, 179, 180, 181, 182, 183, 184, 185, 186, 188,\n",
      "       189, 190, 191, 192, 193, 194, 195, 196, 197, 198, 199]),)\n",
      "(array([  1,   3,   4,   5,   7,  10,  11,  12,  13,  15,  16,  17,  18,\n",
      "        19,  20,  21,  23,  24,  25,  26,  27,  28,  30,  31,  32,  33,\n",
      "        34,  35,  36,  37,  39,  41,  42,  43,  45,  46,  49,  50,  52,\n",
      "        54,  55,  56,  57,  59,  60,  61,  62,  64,  65,  67,  68,  69,\n",
      "        71,  72,  73,  75,  76,  77,  78,  79,  80,  83,  84,  85,  86,\n",
      "        87,  88,  89,  90,  91,  92,  93,  94,  95,  96,  97,  99, 100,\n",
      "       101, 102, 103, 104, 105, 106, 109, 110, 111, 112, 113, 114, 115,\n",
      "       116, 117, 118, 120, 122, 123, 125, 126, 127, 128, 129, 130, 131,\n",
      "       132, 133, 134, 135, 137, 138, 139, 140, 141, 142, 143, 144, 145,\n",
      "       147, 148, 150, 151, 154, 155, 156, 157, 158, 159, 160, 162, 163,\n",
      "       164, 165, 166, 167, 168, 169, 171, 172, 173, 175, 176, 177, 178,\n",
      "       179, 180, 181, 182, 183, 184, 185, 186, 188, 189, 190, 191, 192,\n",
      "       193, 194, 195, 196, 197, 198, 199]),)\n",
      "(array([  1,   3,   4,   5,   7,  11,  12,  13,  16,  17,  18,  19,  20,\n",
      "        21,  23,  24,  25,  26,  27,  28,  30,  31,  32,  33,  34,  35,\n",
      "        36,  37,  39,  41,  42,  43,  45,  46,  49,  50,  52,  54,  55,\n",
      "        56,  57,  59,  60,  61,  62,  64,  65,  67,  68,  69,  71,  72,\n",
      "        73,  75,  76,  77,  78,  79,  84,  85,  86,  87,  88,  89,  90,\n",
      "        91,  92,  93,  94,  95,  96,  97,  99, 101, 102, 103, 104, 105,\n",
      "       106, 109, 110, 111, 112, 113, 114, 115, 116, 118, 120, 122, 123,\n",
      "       125, 126, 127, 128, 130, 132, 133, 134, 135, 137, 138, 139, 140,\n",
      "       142, 143, 144, 145, 147, 148, 150, 151, 154, 155, 156, 157, 158,\n",
      "       159, 160, 162, 163, 164, 165, 166, 167, 168, 169, 171, 172, 173,\n",
      "       175, 176, 177, 178, 179, 180, 181, 182, 183, 184, 185, 186, 188,\n",
      "       189, 190, 191, 192, 193, 194, 195, 196, 197, 198, 199]),)\n",
      "(array([  1,   3,   4,   5,   7,  11,  12,  13,  16,  17,  18,  19,  20,\n",
      "        21,  23,  24,  25,  26,  27,  28,  30,  31,  32,  33,  34,  35,\n",
      "        36,  37,  39,  41,  42,  45,  46,  49,  50,  52,  54,  55,  56,\n",
      "        57,  59,  61,  62,  64,  65,  67,  68,  69,  71,  72,  73,  75,\n",
      "        76,  77,  78,  79,  84,  85,  89,  90,  91,  92,  93,  94,  95,\n",
      "        96,  97,  99, 101, 102, 103, 105, 106, 109, 110, 111, 112, 113,\n",
      "       114, 115, 116, 118, 120, 122, 123, 125, 126, 127, 128, 130, 132,\n",
      "       133, 134, 138, 139, 140, 142, 143, 144, 145, 147, 148, 150, 151,\n",
      "       154, 155, 156, 157, 158, 159, 160, 162, 163, 164, 165, 166, 167,\n",
      "       168, 169, 171, 172, 173, 175, 176, 177, 179, 180, 181, 182, 183,\n",
      "       185, 186, 188, 189, 190, 191, 192, 193, 195, 196, 197, 198, 199]),)\n",
      "(array([  3,   4,   5,   7,  11,  12,  16,  17,  18,  19,  20,  21,  23,\n",
      "        24,  25,  26,  30,  32,  33,  34,  35,  36,  37,  39,  41,  42,\n",
      "        45,  46,  49,  54,  55,  56,  57,  59,  61,  62,  64,  65,  67,\n",
      "        68,  72,  73,  75,  76,  78,  84,  85,  89,  90,  91,  92,  93,\n",
      "        94,  95,  96,  97,  99, 101, 102, 103, 105, 110, 111, 112, 113,\n",
      "       115, 116, 118, 120, 122, 123, 125, 126, 127, 128, 130, 132, 134,\n",
      "       138, 140, 142, 145, 147, 148, 150, 154, 155, 156, 157, 158, 159,\n",
      "       160, 162, 164, 165, 166, 167, 169, 171, 172, 173, 175, 176, 177,\n",
      "       180, 181, 182, 189, 190, 191, 192, 193, 197, 198, 199]),)\n",
      "(array([  3,   4,   5,   7,  16,  17,  18,  19,  20,  23,  24,  25,  30,\n",
      "        31,  32,  34,  39,  42,  49,  55,  56,  61,  62,  64,  67,  68,\n",
      "        72,  73,  75,  84,  89,  90,  91,  93,  94,  95,  96,  97,  99,\n",
      "       103, 105, 108, 111, 112, 113, 115, 116, 118, 122, 123, 125, 126,\n",
      "       128, 133, 138, 140, 142, 145, 147, 154, 155, 158, 159, 160, 162,\n",
      "       164, 166, 167, 169, 171, 173, 175, 176, 177, 180, 181, 182, 188,\n",
      "       191, 193, 197, 198, 199]),)\n",
      "(array([  3,   4,   5,   7,   8,  18,  20,  23,  24,  25,  32,  34,  49,\n",
      "        54,  61,  68,  72,  73,  74,  75,  89,  90,  91,  97,  99, 111,\n",
      "       115, 116, 118, 122, 125, 128, 138, 150, 158, 159, 162, 166, 175,\n",
      "       176, 181, 191, 193, 198]),)\n",
      "(array([  5,  61,  84,  89,  91,  99, 118, 122, 125, 158, 159, 162, 166,\n",
      "       181, 191, 198]),)\n",
      "(array([  3,  89, 158]),)\n",
      "[2.0599718735823003, 2.0043378198237094, 1.9994645267104556, 2.009497227514608, 1.9712842860976272, 1.9935044593077489, 1.9385250154741913, 1.8025866242098378, 1.659830370404571, 1.3429010153528957, 0.8942006139560349, 0.451810863644235]\n",
      "[2.194768312818868, 2.2206994763434578, 2.2187483297780646, 2.1606945077810695, 2.1693551246185083, 2.1177885059312795, 2.085190056769441, 1.9679629204259095, 1.7557151979010164, 1.3033580748315763, 1.0081638694555557, 0.5868379993150145]\n"
     ]
    }
   ],
   "source": [
    "ex1 = []\n",
    "ex2 = []\n",
    "snr_axis = [-15, -10, -5, 0, 5,10,15,20,25,30,35,40]\n",
    "for snr in snr_axis:\n",
    "    matrix = np.loadtxt(\"/home/xilinx/jupyter_notebooks/Aakanksha/MUSIC_Givens/DPFL/Results_FX/P200_Vd2_snr_\"+str(snr)+\".dat\")\n",
    "    #matrix = np.loadtxt(\"./Results_DPFL/P200_Vd2_snr_\"+str(snr)+\".dat\")\n",
    "    matrix = np.transpose(matrix)\n",
    "    ind1 = np.where(matrix[2] == 30)\n",
    "    diff1 = matrix[0] - matrix[2]\n",
    "    diff2 = matrix[1] - matrix[3]\n",
    "    diff1[ind1] = 0\n",
    "    diff2[ind1] = 0\n",
    "    e1 = np.sum((diff1) ** 2)\n",
    "    e2 = np.sum((diff2) ** 2)\n",
    "    \n",
    "    rmse1 = np.sqrt(e1/len(matrix[0]))\n",
    "    rmse2 = np.sqrt(e2/len(matrix[0]))\n",
    "    print(np.where(np.abs(diff1)>1))\n",
    "    ex1.append(float(rmse1))\n",
    "    ex2.append(float(rmse2))\n",
    "print(ex1)\n",
    "print(ex2)\n"
   ]
  },
  {
   "cell_type": "code",
   "execution_count": 5,
   "metadata": {},
   "outputs": [
    {
     "name": "stdout",
     "output_type": "stream",
     "text": [
      "(array([  1,   2,   3,   4,   5,   7,  10,  11,  12,  13,  15,  16,  17,\n",
      "        18,  19,  20,  21,  22,  23,  24,  25,  26,  27,  28,  29,  30,\n",
      "        31,  32,  33,  34,  35,  36,  37,  39,  40,  41,  42,  43,  44,\n",
      "        45,  46,  47,  48,  49,  50,  51,  52,  53,  54,  55,  56,  57,\n",
      "        58,  59,  60,  61,  62,  63,  64,  65,  67,  68,  69,  70,  71,\n",
      "        72,  73,  74,  75,  76,  77,  78,  79,  80,  82,  83,  84,  85,\n",
      "        86,  87,  88,  89,  90,  91,  92,  93,  94,  95,  96,  97,  98,\n",
      "        99, 100, 101, 102, 103, 104, 105, 106, 109, 110, 111, 112, 113,\n",
      "       114, 115, 116, 117, 118, 119, 120, 122, 123, 124, 125, 126, 127,\n",
      "       128, 129, 130, 131, 132, 133, 134, 135, 136, 137, 138, 139, 140,\n",
      "       141, 142, 143, 144, 145, 147, 148, 149, 150, 151, 152, 153, 154,\n",
      "       155, 156, 157, 158, 159, 160, 162, 163, 164, 165, 166, 167, 168,\n",
      "       169, 171, 172, 173, 174, 175, 176, 177, 178, 179, 180, 181, 182,\n",
      "       183, 184, 185, 186, 188, 189, 190, 191, 192, 193, 194, 195, 196,\n",
      "       197, 198, 199, 200, 201, 202, 203, 204]),)\n",
      "(array([  1,   3,   4,   5,   7,   8,  10,  11,  12,  13,  15,  16,  17,\n",
      "        18,  19,  20,  21,  22,  23,  24,  25,  26,  27,  28,  29,  30,\n",
      "        31,  32,  33,  34,  35,  36,  37,  39,  40,  41,  42,  43,  44,\n",
      "        45,  46,  48,  49,  50,  52,  54,  55,  56,  57,  58,  59,  60,\n",
      "        61,  62,  63,  64,  65,  67,  68,  69,  70,  71,  72,  73,  74,\n",
      "        75,  76,  77,  78,  79,  80,  82,  83,  84,  85,  86,  87,  88,\n",
      "        89,  90,  91,  92,  93,  94,  95,  96,  97,  98,  99, 100, 101,\n",
      "       102, 103, 104, 105, 106, 108, 109, 110, 111, 112, 113, 114, 115,\n",
      "       116, 117, 118, 119, 120, 122, 123, 124, 125, 126, 127, 128, 129,\n",
      "       130, 131, 132, 133, 134, 135, 136, 137, 138, 139, 140, 141, 142,\n",
      "       143, 144, 145, 147, 148, 149, 150, 151, 152, 153, 154, 155, 156,\n",
      "       157, 158, 159, 160, 162, 163, 164, 165, 166, 167, 168, 169, 171,\n",
      "       172, 173, 175, 176, 177, 178, 179, 180, 181, 182, 183, 184, 185,\n",
      "       186, 188, 189, 190, 191, 192, 193, 194, 195, 196, 197, 198, 199,\n",
      "       200, 201, 202, 203, 204]),)\n",
      "(array([  1,   3,   4,   5,   7,  10,  11,  12,  13,  15,  16,  17,  18,\n",
      "        19,  20,  21,  22,  23,  24,  25,  26,  27,  28,  30,  31,  32,\n",
      "        33,  34,  35,  36,  37,  39,  40,  41,  42,  43,  44,  45,  46,\n",
      "        48,  49,  50,  52,  54,  55,  56,  57,  58,  59,  60,  61,  62,\n",
      "        63,  64,  65,  67,  68,  69,  70,  71,  72,  73,  74,  75,  76,\n",
      "        77,  78,  79,  80,  82,  83,  84,  85,  86,  87,  88,  89,  90,\n",
      "        91,  92,  93,  94,  95,  96,  97,  98,  99, 100, 101, 102, 103,\n",
      "       104, 105, 106, 108, 109, 110, 111, 112, 113, 114, 115, 116, 117,\n",
      "       118, 119, 120, 122, 123, 124, 125, 126, 127, 128, 129, 130, 131,\n",
      "       132, 133, 134, 135, 136, 137, 138, 139, 140, 141, 142, 143, 144,\n",
      "       145, 147, 148, 149, 150, 151, 152, 153, 154, 155, 156, 157, 158,\n",
      "       159, 160, 162, 163, 164, 165, 166, 167, 168, 169, 171, 172, 173,\n",
      "       175, 176, 177, 178, 179, 180, 181, 182, 183, 184, 185, 186, 188,\n",
      "       189, 190, 191, 192, 193, 194, 195, 196, 197, 198, 199, 200, 201,\n",
      "       202, 203, 204]),)\n",
      "(array([  1,   3,   4,   5,   7,  10,  11,  12,  13,  15,  16,  17,  18,\n",
      "        19,  20,  21,  22,  23,  24,  25,  26,  27,  28,  30,  31,  32,\n",
      "        33,  34,  35,  36,  37,  39,  40,  41,  42,  43,  44,  45,  46,\n",
      "        48,  49,  50,  52,  54,  55,  56,  57,  58,  59,  60,  61,  62,\n",
      "        63,  64,  65,  67,  68,  69,  70,  71,  72,  73,  75,  76,  77,\n",
      "        78,  79,  80,  83,  84,  85,  86,  87,  88,  89,  90,  91,  92,\n",
      "        93,  94,  95,  96,  97,  98,  99, 100, 101, 102, 103, 104, 105,\n",
      "       106, 107, 108, 109, 110, 111, 112, 113, 114, 115, 116, 117, 118,\n",
      "       119, 120, 122, 123, 124, 125, 126, 127, 128, 129, 130, 131, 132,\n",
      "       133, 134, 135, 136, 137, 138, 139, 140, 141, 142, 143, 144, 145,\n",
      "       147, 148, 149, 150, 151, 152, 154, 155, 156, 157, 158, 159, 160,\n",
      "       162, 163, 164, 165, 166, 167, 168, 169, 171, 172, 173, 175, 176,\n",
      "       177, 178, 179, 180, 181, 182, 183, 184, 185, 186, 188, 189, 190,\n",
      "       191, 192, 193, 194, 195, 196, 197, 198, 199, 200, 201, 202, 203,\n",
      "       204]),)\n",
      "(array([  1,   3,   4,   5,   7,  10,  11,  12,  13,  15,  16,  17,  18,\n",
      "        19,  20,  21,  23,  24,  25,  26,  27,  28,  30,  31,  32,  33,\n",
      "        34,  35,  36,  37,  39,  40,  41,  42,  43,  45,  46,  48,  49,\n",
      "        50,  52,  54,  55,  56,  57,  58,  59,  60,  61,  62,  63,  64,\n",
      "        65,  67,  68,  69,  70,  71,  72,  73,  75,  76,  77,  78,  79,\n",
      "        80,  83,  84,  85,  86,  87,  88,  89,  90,  91,  92,  93,  94,\n",
      "        95,  96,  97,  98,  99, 100, 101, 102, 103, 104, 105, 106, 107,\n",
      "       108, 109, 110, 111, 112, 113, 114, 115, 116, 117, 118, 120, 122,\n",
      "       123, 125, 126, 127, 128, 129, 130, 131, 132, 133, 134, 135, 136,\n",
      "       137, 138, 139, 140, 142, 143, 144, 145, 147, 148, 149, 150, 151,\n",
      "       152, 154, 155, 156, 157, 158, 159, 160, 162, 163, 164, 165, 166,\n",
      "       167, 168, 169, 171, 172, 173, 175, 176, 177, 178, 179, 180, 181,\n",
      "       182, 183, 184, 185, 186, 188, 189, 190, 191, 192, 193, 194, 195,\n",
      "       196, 197, 198, 199, 200, 201, 202, 203, 204]),)\n",
      "(array([  1,   3,   4,   5,   7,  11,  12,  13,  16,  17,  18,  19,  20,\n",
      "        21,  23,  24,  25,  26,  27,  28,  30,  31,  32,  33,  34,  35,\n",
      "        36,  37,  39,  40,  41,  42,  43,  45,  46,  48,  49,  50,  52,\n",
      "        54,  55,  56,  57,  58,  59,  60,  61,  62,  63,  64,  65,  67,\n",
      "        68,  69,  70,  71,  72,  73,  75,  76,  77,  78,  79,  80,  83,\n",
      "        84,  85,  87,  88,  89,  90,  91,  92,  93,  94,  95,  96,  97,\n",
      "        98,  99, 100, 101, 102, 103, 104, 105, 106, 107, 108, 109, 110,\n",
      "       111, 112, 113, 114, 115, 116, 117, 118, 120, 121, 122, 123, 125,\n",
      "       126, 127, 128, 129, 130, 132, 133, 134, 135, 136, 137, 138, 139,\n",
      "       140, 142, 143, 144, 145, 147, 148, 149, 150, 151, 152, 154, 155,\n",
      "       156, 157, 158, 159, 160, 162, 163, 164, 165, 166, 167, 168, 169,\n",
      "       171, 172, 173, 175, 176, 177, 178, 179, 180, 181, 182, 183, 184,\n",
      "       185, 186, 188, 189, 190, 191, 192, 193, 195, 196, 197, 198, 199,\n",
      "       200, 201, 202, 203, 204]),)\n",
      "(array([  1,   3,   4,   5,   7,  11,  13,  16,  17,  18,  19,  20,  21,\n",
      "        23,  24,  25,  26,  27,  28,  29,  30,  31,  32,  33,  34,  35,\n",
      "        36,  37,  39,  40,  41,  42,  45,  46,  48,  49,  50,  52,  54,\n",
      "        55,  56,  57,  58,  59,  61,  62,  64,  67,  68,  69,  70,  71,\n",
      "        72,  73,  75,  76,  77,  78,  79,  80,  83,  84,  85,  87,  89,\n",
      "        90,  91,  92,  93,  94,  95,  96,  97,  99, 100, 101, 102, 103,\n",
      "       104, 105, 106, 108, 109, 110, 111, 112, 113, 114, 115, 116, 117,\n",
      "       118, 120, 122, 123, 125, 126, 127, 128, 130, 132, 133, 134, 135,\n",
      "       136, 138, 139, 140, 142, 143, 144, 145, 147, 148, 149, 150, 152,\n",
      "       154, 155, 156, 157, 158, 159, 160, 162, 163, 164, 165, 166, 167,\n",
      "       168, 169, 171, 172, 173, 175, 176, 177, 179, 180, 181, 182, 183,\n",
      "       184, 185, 186, 188, 189, 190, 191, 192, 193, 194, 195, 196, 197,\n",
      "       198, 199, 200, 201, 202, 203, 204]),)\n",
      "(array([  2,   3,   4,   5,   7,  16,  17,  18,  20,  21,  23,  24,  25,\n",
      "        26,  27,  28,  30,  31,  32,  33,  34,  35,  36,  37,  39,  40,\n",
      "        42,  45,  46,  48,  49,  52,  54,  55,  56,  57,  58,  59,  61,\n",
      "        62,  64,  67,  68,  70,  71,  72,  73,  75,  76,  78,  79,  84,\n",
      "        85,  89,  90,  91,  92,  93,  94,  95,  96,  97,  99, 101, 102,\n",
      "       103, 105, 108, 110, 111, 112, 113, 114, 115, 116, 118, 120, 122,\n",
      "       123, 125, 126, 127, 128, 130, 132, 133, 134, 136, 138, 139, 140,\n",
      "       142, 144, 145, 147, 148, 149, 150, 152, 154, 155, 156, 157, 158,\n",
      "       159, 160, 162, 163, 164, 165, 166, 167, 169, 171, 172, 173, 174,\n",
      "       175, 176, 177, 180, 181, 182, 185, 186, 188, 189, 190, 191, 192,\n",
      "       193, 195, 196, 197, 198, 199, 200, 201, 202, 203, 204]),)\n",
      "(array([  3,   4,   5,   7,  11,  16,  17,  18,  19,  20,  23,  24,  25,\n",
      "        26,  27,  30,  32,  33,  34,  36,  42,  45,  46,  48,  49,  53,\n",
      "        54,  55,  56,  57,  61,  62,  64,  68,  72,  73,  75,  78,  85,\n",
      "        89,  90,  91,  92,  93,  94,  95,  96,  97,  99, 102, 105, 108,\n",
      "       110, 111, 112, 115, 116, 118, 120, 122, 123, 125, 126, 127, 128,\n",
      "       130, 134, 136, 138, 140, 142, 144, 145, 147, 148, 149, 150, 151,\n",
      "       152, 154, 155, 156, 158, 159, 160, 162, 164, 166, 167, 169, 171,\n",
      "       172, 173, 175, 176, 177, 181, 182, 186, 189, 190, 191, 193, 197,\n",
      "       198, 199, 200, 201, 202, 203, 204]),)\n",
      "(array([  3,   4,   5,   8,  16,  17,  18,  23,  24,  25,  26,  27,  30,\n",
      "        32,  38,  45,  46,  56,  61,  62,  68,  72,  73,  75,  84,  85,\n",
      "        89,  91,  97,  99, 103, 111, 115, 116, 118, 122, 125, 128, 130,\n",
      "       136, 139, 140, 142, 147, 151, 152, 153, 158, 159, 160, 162, 164,\n",
      "       167, 173, 175, 176, 181, 182, 187, 190, 191, 193, 198, 200, 201,\n",
      "       202, 203, 204]),)\n",
      "(array([  3,   5,  18,  23,  24,  32,  53,  62,  72,  85,  89,  91,  97,\n",
      "        99, 113, 115, 118, 122, 123, 125, 158, 162, 165, 166, 181, 191,\n",
      "       194, 198, 200, 201, 202, 203, 204]),)\n",
      "(array([ 53,  89, 125, 158, 176, 191, 200, 201, 202, 203, 204]),)\n",
      "[5.709083372320986, 5.849012407146664, 5.866894037964449, 5.615878755540532, 5.609570000112945, 5.601153870389418, 5.583751917012555, 5.559072604930837, 5.524895340615417, 5.419944428267247, 5.348512912307326, 5.22259884254825]\n",
      "[5.542146977439169, 5.5435537067721405, 5.5460662637730165, 5.561095173511153, 5.536875567200882, 5.534532441988827, 5.5312915424851665, 5.517887811597698, 5.432610315398108, 5.349977809001551, 5.304948716145487, 5.246692957694549]\n"
     ]
    }
   ],
   "source": [
    "ex3 = []\n",
    "ex4 = []\n",
    "snr_axis = [-15, -10, -5, 0, 5,10,15,20,25,30,35,40]\n",
    "#snr_axis = [0]\n",
    "for snr in snr_axis:\n",
    "    #matrix = np.loadtxt(\"./Results_DPFL/P200_Vd2_snr_\"+str(snr)+\".dat\")\n",
    "    matrix = np.loadtxt(\"/home/xilinx/jupyter_notebooks/Aakanksha/MUSIC_Givens/DPFL/Results_FX/P200_Vd2_snr_\"+str(snr)+\".dat\")\n",
    "    matrix = np.transpose(matrix)\n",
    "    ind1 = np.where(matrix[4] == 30)\n",
    "    diff3 = matrix[0] - matrix[4]\n",
    "    diff4 = matrix[1] - matrix[5]\n",
    "    diff3[ind1] = 0\n",
    "    diff4[ind1] = 0\n",
    "    e1 = np.sum((diff3) ** 2)\n",
    "    e2 = np.sum((diff4) ** 2)\n",
    "    print(np.where(np.abs(diff3)>1))\n",
    "    rmse3 = np.sqrt(e1/len(matrix[0]))\n",
    "    rmse4 = np.sqrt(e2/len(matrix[0]))\n",
    "    \n",
    "    ex3.append(float(rmse3))\n",
    "    ex4.append(float(rmse4))\n",
    "print(ex3)\n",
    "print(ex4)\n",
    "\n"
   ]
  },
  {
   "cell_type": "code",
   "execution_count": 6,
   "metadata": {},
   "outputs": [
    {
     "data": {
      "image/png": "[encoded data removed]",
      "text/plain": [
       "<Figure size 432x288 with 1 Axes>"
      ]
     },
     "metadata": {
      "needs_background": "light"
     },
     "output_type": "display_data"
    }
   ],
   "source": [
    "plt.title(\"N= 200 Prec.= 0.3 m/s Vdiff= 8 m/s PRI= 2 us   \")\n",
    "\n",
    "plt.plot(snr_axis, ex1,label = \"Target 1 (PS)\",color = \"black\")\n",
    "plt.plot(snr_axis, ex2,label = \"Target 2 (PS)\",color = \"green\")\n",
    "plt.plot(snr_axis, ex3,label = \"Target 1 (PL)\",color = \"blue\")\n",
    "plt.plot(snr_axis, ex4,label = \"Target 2 (PL)\",color = \"purple\")\n",
    "plt.xlabel(\"SNR\")\n",
    "plt.ylabel(\"RMSE\")\n",
    "\n",
    "plt.grid()\n",
    "plt.tight_layout()\n",
    "plt.legend()\n",
    "plt.show()"
   ]
  },
  {
   "cell_type": "code",
   "execution_count": 7,
   "metadata": {},
   "outputs": [
    {
     "data": {
      "text/plain": [
       "(array([  3,   6,  14,  48,  51,  66, 170]),)"
      ]
     },
     "execution_count": 7,
     "metadata": {},
     "output_type": "execute_result"
    }
   ],
   "source": [
    "np.where(np.abs(diff2)>1)"
   ]
  },
  {
   "cell_type": "code",
   "execution_count": 8,
   "metadata": {},
   "outputs": [
    {
     "data": {
      "text/plain": [
       "(array([  4,  14,  57,  66,  90, 100, 112, 134, 170, 188, 200, 201, 202,\n",
       "        203, 204]),)"
      ]
     },
     "execution_count": 8,
     "metadata": {},
     "output_type": "execute_result"
    }
   ],
   "source": [
    "np.where(np.abs(diff4)>3)"
   ]
  },
  {
   "cell_type": "code",
   "execution_count": 9,
   "metadata": {},
   "outputs": [
    {
     "data": {
      "text/plain": [
       "array([-3.51256281, -3.63819095, -4.16582915, -3.78894472, -4.09045226,\n",
       "       -3.95979899, -3.91457286, -4.05527638, -3.70854271, -3.93969849,\n",
       "       43.96984925, 22.11557789, 16.10050251, 48.08040201, 22.11557789])"
      ]
     },
     "execution_count": 9,
     "metadata": {},
     "output_type": "execute_result"
    }
   ],
   "source": [
    "diff4[np.abs(diff4)>3]"
   ]
  },
  {
   "cell_type": "code",
   "execution_count": null,
   "metadata": {},
   "outputs": [],
   "source": []
  }
 ],
 "metadata": {
  "kernelspec": {
   "display_name": "Python 3",
   "language": "python",
   "name": "python3"
  },
  "language_info": {
   "codemirror_mode": {
    "name": "ipython",
    "version": 3
   },
   "file_extension": ".py",
   "mimetype": "text/x-python",
   "name": "python",
   "nbconvert_exporter": "python",
   "pygments_lexer": "ipython3",
   "version": "3.8.2"
  },
  "vscode": {
   "interpreter": {
    "hash": "0e5142556829b94a7c63b02feb8fd00d087c3ae6e67d27cca8dfc86e0da3a36f"
   }
  }
 },
 "nbformat": 4,
 "nbformat_minor": 4
}
